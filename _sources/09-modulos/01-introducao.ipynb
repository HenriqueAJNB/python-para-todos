{
 "cells": [
  {
   "cell_type": "markdown",
   "metadata": {},
   "source": [
    "# Introdução"
   ]
  },
  {
   "cell_type": "markdown",
   "metadata": {},
   "source": [
    "Até o momento trabalhamos em um arquivo único que era executado do começo ao fim. A partir de agora vamos começar a trabalhar com mais arquivos para organizar melhor nosso código e permitir aumentar a complexidade dos programas. Neste capítulo, exploraremos um dos conceitos fundamentais da programação em Python: os módulos."
   ]
  },
  {
   "cell_type": "markdown",
   "metadata": {},
   "source": [
    "## Definição"
   ]
  },
  {
   "cell_type": "markdown",
   "metadata": {},
   "source": [
    "Um módulo em Python é simplesmente um arquivo contendo definições e declarações Python. O nome do arquivo é o nome do módulo com a extensão `.py` adicionada. Os módulos permitem que você organize seu código de maneira lógica e reutilizável. Até o momento trabalhamos em um arquivo único que era executado do começo ao fim. A partir de agora vamos começar a trabalhar com mais arquivos para organizar melhor nosso código e permitir aumentar a complexidade dos programas."
   ]
  },
  {
   "cell_type": "markdown",
   "metadata": {},
   "source": [
    "## Porque usar módulos?"
   ]
  },
  {
   "cell_type": "markdown",
   "metadata": {},
   "source": [
    "Separar nosso código em módulos (vários arquivos) oferecem várias vantagens:\n",
    "\n",
    "- **Organização:** ajudam a organizar código relacionado em unidades lógicas.\n",
    "\n",
    "- **Reutilização:** permitem que você use o mesmo código em diferentes programas.\n",
    "\n",
    "- **Escopo:** fornecem um local isolado e separado para cada módulo, evitando conflitos de nomes.\n",
    "\n",
    "- **Manutenção:** facilitam a manutenção de códigos grandes e complexos."
   ]
  },
  {
   "cell_type": "markdown",
   "metadata": {},
   "source": [
    "## Módulo vs biblioteca"
   ]
  },
  {
   "cell_type": "markdown",
   "metadata": {},
   "source": [
    "Conforme avançamos na programação, é comum ouvirmos falar sobre módulos e bibliotecas. Mas qual a diferença entre eles?\n",
    "\n",
    "**Módulo:**\n",
    "\n",
    "- É um único arquivo Python `.py`.\n",
    "- Contém funções, classes e variáveis relacionadas.\n",
    "- É a unidade básica de organização de código em Python.\n",
    "- Um exemplo de módulo é: um arquivo chamado *calculadora.py* com funções matemáticas.\n",
    "\n",
    "\n",
    "**Biblioteca (pacote):**\n",
    "\n",
    "- É uma coleção de módulos (vários arquivos `.py`) relacionados.\n",
    "- Geralmente maior e mais abrangente que um único módulo.\n",
    "- Pode conter vários arquivos e até subpastas.\n",
    "- Exemplo: `numpy` é uma biblioteca para computação numérica que contém muitos módulos.\n",
    "\n",
    "Uma analogia útil é pensar em um módulo como um capítulo de um livro e uma biblioteca como o livro inteiro ou até mesmo uma série de livros sobre um tema.\n",
    "\n",
    "Muita das vezes pacote e biblioteca são usados como sinônimos e podem ser entendidos como sendo a mesma coisa.\n",
    "\n",
    "Resumindo: um módulo é uma unidade única de código, enquanto uma biblioteca (pacote) é uma coleção maior de módulos relacionados."
   ]
  },
  {
   "cell_type": "markdown",
   "metadata": {},
   "source": [
    "## Tipos de módulos"
   ]
  },
  {
   "cell_type": "markdown",
   "metadata": {},
   "source": [
    "Existe basicamente 3 tipos de módulos em Python:\n",
    "\n",
    "1. **Módulos nativos (built-in):** são como caixas de ferramentas que já vêm com o Python quando você o instala. Elas contêm funções e recursos prontos para usar, sem precisar baixar nada extra.\n",
    "\n",
    "2. **Módulos próprios:** São arquivos Python que você mesmo cria. Neles, você coloca suas próprias funções e códigos para usar em diferentes partes do seu programa, ajudando a organizar melhor o que você escreve.\n",
    "\n",
    "3. **Módulos (bibliotecas ou pacotes) de terceiros:** são extras criados por outras pessoas. Você pode baixá-los e instalá-los para adicionar novas funcionalidades ao Python, como se fossem aplicativos que você instala no seu celular para fazer coisas novas.\n",
    "\n",
    "Ao longo deste capítulo, vamos explorar cada um desses tipos de módulos e aprender o básico sobre como usá-los.\n",
    "\n",
    "```{admonition} Nota (magnitude do ecossistema Python)\n",
    ":class: note\n",
    "O ecossistema Python é enorme e dinâmico, com centenas de módulos nativos e milhares de bibliotecas de terceiros. Para ilustrar a extensão do que eu disse:\n",
    "\n",
    "1. Módulos nativos (built-in):\n",
    "   - Há centenas deles, cada um com múltiplas funções e classes.\n",
    "   - A cada versão do Python surgem novos módulos e funções e outros deixam de existir\n",
    "   - Você pode explorar a lista completa na <a href=\"https://docs.python.org/3/py-modindex.html\" target=\"_blank\">documentação oficial do Python</a>.\n",
    "\n",
    "2. Bibliotecas de terceiros:\n",
    "   - O número de projetos é ainda maior, ultrapassando meio milhão.\n",
    "   - Algumas bibliotecas são tão complexas que podem levar semanas ou até anos para serem dominadas.\n",
    "   - Existem empresas como Google, Facebook, Amazon, Microsoft e outras que desenvolvem bibliotecas de código aberto para a comunidade Python.\n",
    "   - Para ver o número atualizado de bibliotecas, visite o <a href=\"https://pypi.org/\" target=\"_blank\">Python Package Index (PyPI)</a>.\n",
    "\n",
    "A imagem abaixo imagem mostra o PyPI em 23/09/2024, ilustrando a vasta quantidade de bibliotecas disponíveis.\n",
    "Dada esta magnitude, entendam que a ideia **não é entrar em detalhes de cada um individualmente**, até porque tal tarefa seria impossível.\n",
    "\n",
    "```{image} ../img/09-01-pypi.png\n",
    ":width: 800\n",
    "```\n",
    "\n",
    "Na próxima seção, vamos começar explorando o básico de módulos, começando pelos módulos nativos. Te vejo lá!"
   ]
  }
 ],
 "metadata": {
  "language_info": {
   "name": "python"
  }
 },
 "nbformat": 4,
 "nbformat_minor": 2
}
