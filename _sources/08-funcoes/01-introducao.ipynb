{
 "cells": [
  {
   "cell_type": "markdown",
   "metadata": {},
   "source": [
    "# Introdução à funções"
   ]
  },
  {
   "cell_type": "markdown",
   "metadata": {},
   "source": [
    "Dentre todos os meus anos como instrutor, notei que funções é o primeiro tema que as pessoas começam a ter uma dificuldade maior. Por isso vou utilizar alguns recursos extras para explicar esse tema ao longo deste capítulo.  Nós já usamos várias funções ao longo do livro, e algumas delas não serão novidades para você. Vamos aprender mais sobre as funções que já vimos, outras funções nativas do Python e como criar nossas próprias funções."
   ]
  },
  {
   "cell_type": "markdown",
   "metadata": {},
   "source": [
    "## Conceito e definição"
   ]
  },
  {
   "cell_type": "markdown",
   "metadata": {},
   "source": [
    "Uma função é como uma *receita* que descreve um conjunto de instruções para realizar uma tarefa específica. Imagine que você quer ensinar alguém a fazer um bolo. Em vez de repetir todos os passos toda vez que alguém pedir a receita, você escreve a receita uma vez e a entrega para quem precisar. Uma função em Python funciona de maneira similar: você define o que precisa ser feito (escreve a receita), e depois pode usar essa função sempre que precisar executar aquela tarefa, sem precisar reescrever todo o código. É mais fácil exemplificar com algumas funções que já vimos.\n",
    "\n",
    "Por exemplo:\n",
    "\n",
    "- a função `print()` é usada para imprimir algo na tela\n",
    "- a função `len()` é usada para retornar o tamanho de uma sequencia\n",
    "- a função `range()`, que vimos [nesta seção](funcao-range) do capítulo de laço `for`, é usada para criar uma sequência de números.\n",
    "- a função `type()` é usada para retornar o tipo de um objeto. Esta vem nos acompanhando desde o início do livro, na [seção sobre a função `type`](a-funcao-type) no capítulo de tipos numéricos.\n",
    "\n",
    "Você se lembra de outras funções que vimos ao longo do livro?\n",
    "\n",
    "Todas estas funções acima fazem parte de um conjunto maior de funções que são chamadas de funções nativas do Python, cuja lista completa pode ser encontrada neste [link](https://docs.python.org/3/library/functions.html). Estas funções nativas estão prontas pra uso, bastando chamá-las no código.\n",
    "\n",
    "As funções podem ser divididas, a princípio, em dois grupos:\n",
    "\n",
    "- **Funções nativas**: são as funções que já vêm prontas no Python, como as que vimos acima.\n",
    "- **Funções definidas pelo usuário**: são funções que você mesmo cria para realizar uma tarefa específica.\n",
    "\n",
    "Vamos detalhar cada um destes grupos na sequencia."
   ]
  },
  {
   "cell_type": "markdown",
   "metadata": {},
   "source": [
    "## Funções nativas"
   ]
  },
  {
   "cell_type": "markdown",
   "metadata": {},
   "source": [
    "As funções nativas, também chamadas de *built-in*, são funções que já vêm prontas no Python e podem ser usadas diretamente. São relativamente poucas funções, porém não vou passar por cada uma delas. Lembrando que o objetivo é falar de forma genérica sobre funções, e cabe a você consultar a documentação do Python para saber mais sobre cada uma delas. Vou passar um pequeno resumo de algumas funções que considero mais importantes:\n",
    "\n",
    "```{admonition} Nota (muita calma nesta hora!)\n",
    ":class: note\n",
    "Talvez você possa se assustar com a lista enorme (que é pequena, vá por mim!) de funções novas que você vai ver, mas não se preocupe! A ideia é que você conheça a existência delas, e não que você saiba todas de cor. Afinal, você pode consultar a documentação sempre que precisar. Eu pretendo te guiar pra consultar a documentação, então **não se preocupe em decorar cada uma das funções**.\n",
    "```\n",
    "\n",
    "1. **Funções de entrada e saída**\n",
    "\n",
    "Essas funções são usadas para interagir com o usuário ou com arquivos.\n",
    "\n",
    "- `print():` Exibe informações na tela.\n",
    "- `input():` Recebe dados de entrada do usuário como uma string a partir do terminal.\n",
    "- `open():` Abre um arquivo e retorna um objeto de arquivo para leitura e/ou escrita.\n",
    "\n",
    "2. **Funções de conversão de tipos**\n",
    "\n",
    "Essas funções convertem valores de um tipo de dados para outro.\n",
    "\n",
    "- `int():` Converte um valor para um número inteiro.\n",
    "- `float():` Converte um valor para um float.\n",
    "- `str():` Converte um valor para uma string.\n",
    "- `list():` Converte uma sequência para uma lista. Também criar uma lista vazia.\n",
    "- `tuple():` Converte uma sequência para uma tupla. Também criar uma tupla vazia.\n",
    "- `set():` Converte uma sequência para um conjunto. Também criar um conjunto vazio.\n",
    "- `dict():` Converte uma coleção de pares chave-valor para um dicionário. Também criar um dicionário vazio.\n",
    "\n",
    "3. **Funções de manipulação de sequências**\n",
    "\n",
    "Essas funções são usadas para processar e manipular sequências como listas, tuplas e sets.\n",
    "\n",
    "- `len():` Retorna o comprimento (número de itens) de uma sequência.\n",
    "- `max():` Retorna o maior item de uma sequência.\n",
    "- `min():` Retorna o menor item de uma sequência.\n",
    "- `sum():` Retorna a soma de todos os itens de uma sequência.\n",
    "- `sorted():` Retorna uma nova lista ordenada a partir de uma sequência.\n",
    "- `enumerate():` Adiciona um contador a uma sequência para capturar também os índices.\n",
    "- `zip():` Combina elementos de múltiplas sequencias em tuplas.\n",
    "- `map():` Aplica uma outra função a todos os itens de uma sequência.\n",
    "- `filter():` Filtra itens em uma sequência de acordo com uma outra função passada.\n",
    "\n",
    "1. **Funções matemáticas**\n",
    "\n",
    "Essas funções realizam operações matemáticas.\n",
    "\n",
    "- `abs():` Retorna o valor absoluto (sem sinal) de um número.\n",
    "- `round():` Arredonda um float para um número especificado de dígitos nas casas decimais.\n",
    "- `divmod():` Retorna o quociente e o resto da divisão de dois números.\n",
    "- `sum():` Retorna a soma de todos os itens de uma sequência.\n",
    "\n",
    "5. **Funções de controle de fluxo e comparação**\n",
    "\n",
    "Essas funções são usadas para controle de fluxo e comparações lógicas.\n",
    "\n",
    "- `any():` Retorna `True` se qualquer elemento em uma sequência for verdadeiro.\n",
    "- `all():` Retorna `True` se todos os elementos em uma sequência forem verdadeiros.\n",
    "\n",
    "6. **Funções de inspeção de objetos**\n",
    "\n",
    "Essas funções retornam informações sobre objetos, como seu tipo ou identificador.\n",
    "\n",
    "- `type():` Retorna o tipo de um objeto.\n",
    "- `id():` Retorna o identificador único na memória do computador de um objeto.\n",
    "- `isinstance():` Verifica se um objeto é uma instância de uma classe ou tipo.\n",
    "\n",
    "Existem outras funções, mas como disse, a ideia não é ensinar cada uma delas no detalhe, e sim uma visão mais geral. Você pode consultar a documentação para saber mais sobre cada uma delas."
   ]
  },
  {
   "cell_type": "markdown",
   "metadata": {},
   "source": [
    "## Funções customizadas"
   ]
  },
  {
   "cell_type": "markdown",
   "metadata": {},
   "source": [
    "Nesta seção vamos aprender a criar nossas próprias funções. \n",
    "\n",
    "Antes de mais nada, entenda que não é necessário recriar funções que já existem. À exemplo da função `sum()`, que soma os elementos de uma sequência, não faria sentido criar uma função `soma()` que faz a mesma coisa.\n",
    "\n",
    "O ideal é que você crie funções para tarefas específicas. Um exemplo típico é a função `media()` que calcula a média de uma sequência de números. Percebam que não existe nenhuma outra função nativa que faça isso (que poderia ser chamada de `mean()` ou `avg()`), então é uma boa ideia criar uma função para este cálculo.\n",
    "\n",
    "Vamos entender a sintaxe de criação de funções com uma função mais simples, e em seguida trabalharemos com a construção da função `media()`.\n",
    "\n",
    "A sintaxe para criar uma função é a seguinte:\n",
    "\n",
    "```python\n",
    "def nome_da_funcao(parametro1, parametro2, ...):\n",
    "    # corpo da função com o código\n",
    "    # é possível ter várias linhas\n",
    "    # de instruções\n",
    "    return valor_de_retorno\n",
    "```\n",
    "\n",
    "Vamos entender cada parte na criação da função:\n",
    "\n",
    "1. Nome da função:\n",
    "\n",
    "No exemplo `def nome_da_funcao(parametro1, parametro2):`, a palavra `def` é usada para indicar ao Python que estamos criando uma função. É como dizer ao computador: *aqui está a receita que você vai seguir*. E `nome_da_funcao` é o nome que você dá para essa função. Pode ser qualquer nome, mas é bom escolher algo que descreva o que a função faz e vale a mesma [regra de nomemclatura de variáveis](regras-nomenclatura-variaveis) que vimos anteriormente.\n",
    "\n",
    "1. Parâmetros:\n",
    "\n",
    "Os parametros são como os ingredientes de uma receita. Eles são as informações que você passa para a função, para que ela possa fazer seu trabalho. Se você está fazendo um bolo, seus parâmetros podem ser os ingredientes como farinha, açúcar, e ovos. No exemplo, `parametro1` e `parametro2` são os nomes que você vai usar dentro da função. Quando você chamar essa função, você vai dizer quais valores quer usar como parâmetros. Por exemplo, `nome_da_funcao(10, 20)`, onde `parametro1` vai ser 10 e `parametro2` vai ser 20.\n",
    "\n",
    "1. Corpo da função:\n",
    "\n",
    "O corpo da função é o conjunto de instruções que dizem ao computador o que fazer com os parâmetros. No exemplo, o corpo da função está representado por linhas de código que começam logo abaixo de `def nome_da_funcao(parametro1, parametro2):`. Aqui, você pode ter várias linhas que instruem o computador sobre o que fazer. Pode ser calcular algo, modificar um valor, ou até mesmo apenas mostrar uma mensagem na tela.\n",
    "\n",
    "1. Retorno:\n",
    "\n",
    "Finalmente, temos a linha `return valor_de_retorno`. O `return` é a palavra reservada que indica o valor a ser retornado como resultado da função, como o resultado final da receita, o bolo pronto. É o que a função vai devolver depois de fazer tudo o que tinha que fazer. E `valor_de_retorno` é o resultado que a função calcula ou produz, que pode ser um número, uma string, ou qualquer outro tipo de dado.\n",
    "\n",
    "Algumas observações importantes:\n",
    "\n",
    "- A função pode ou não receber parâmetros. Se não receber, os parênteses ficariam vazios conforme trecho abaixo. Se receber, os parâmetros são separados por vírgula, conforme o exemplo acima: \n",
    "```python\n",
    "def funcao_sem_parametros():`\n",
    "    ...\n",
    "```\n",
    "- Os `:` no final da definição da função são obrigatórios. Eles indicam ao Python que o bloco de código que vem a seguir é o corpo da função.\n",
    "- O corpo da função é identado, ou seja, todas as linhas de código que fazem parte da função devem estar alinhadas com a palavra `def` indicando que todo código identado pertence à função.\n",
    "- A palavra `return` é opcional. Se você não usar, a função vai ser executada, mas não vai retornar nada para fora dela. Vamos ver mais detalhadamente a questão de retorno vs não retorno mais adiante.\n",
    "\n",
    "E o mais importante de todos: ao definirmos uma função, ela é simplesmente criada na memória do computador, mas isso não quer dizer que ela é executada no momento da definição. Para executar a função, você precisa chamá-la, como fizemos com as funções nativas. Exemplo:\n",
    "\n",
    "```python\n",
    "# Aqui estamos apenas definindo a função, nada é executado neste momento...\n",
    "def funcao_sem_parametros():`\n",
    "    ...\n",
    "    ...\n",
    "\n",
    "funcao_sem_parametros() # Aqui é onde estamos chamando a função, e o bloco de código dela será executado\n",
    "```\n",
    "\n",
    "Vamos começar com um exemplo de uma função customizada que não existe na lista de funções nativas do Python. Vamos criar uma função que calcula a média de uma sequência de números. Conceitualmente, a média aritmética simples é a soma de todos os elementos dividida pelo número de elementos. Já existe a função `sum()` que calcula a soma de uma dada sequencia e `len()` que calcula o tamanho da sequência, então podemos usar essas duas funções para calcular a média. Vamos ver como fazer isso."
   ]
  },
  {
   "cell_type": "code",
   "execution_count": null,
   "metadata": {},
   "outputs": [],
   "source": [
    "def calcula_media(valores):\n",
    "    return sum(valores) / len(valores)\n",
    "\n",
    "\n",
    "valores_exemplo = [1, 2, 3, 4, 5]\n",
    "\n",
    "media = calcula_media(valores_exemplo)\n",
    "print(media)"
   ]
  },
  {
   "cell_type": "markdown",
   "metadata": {},
   "source": [
    "Aqui definimos a função e a usamos em seguida para calcular a média da lista `valores_exemplo`. O resultado da função `calcula_media` é armazenado na variável `media` e depois é impresso na tela.\n",
    "\n",
    "É possível reaproveitar a mesma função para calcular a média de outras sequências de números, bastando passar as diferentes sequências como argumento."
   ]
  },
  {
   "cell_type": "code",
   "execution_count": null,
   "metadata": {},
   "outputs": [],
   "source": [
    "def calcula_media(valores):\n",
    "    return sum(valores) / len(valores)\n",
    "\n",
    "\n",
    "lista1 = [1, 2, 3, 4, 5]\n",
    "lista2 = [45, 74, 50, 99, 51]\n",
    "lista3 = [548, 781, 961, 473, 552]\n",
    "\n",
    "media1 = calcula_media(lista1)\n",
    "media2 = calcula_media(lista2)\n",
    "media3 = calcula_media(lista3)\n",
    "\n",
    "print(f\"As médias são, respectivamente, {media1}, {media2} e {media3}\")"
   ]
  },
  {
   "cell_type": "markdown",
   "metadata": {},
   "source": [
    "### Escopo de variáveis"
   ]
  },
  {
   "cell_type": "markdown",
   "metadata": {},
   "source": [
    "É possível criar variável dentro de funções, porém uma variável só estará disponível dentro do escopo que ela foi criada. Elas só vão existir enquanto a função for executada. É o que chamamos de escopo local. Se você tentar acessar uma variável criada dentro de uma função fora dela, você terá um erro. Vamos ver um exemplo:"
   ]
  },
  {
   "cell_type": "code",
   "execution_count": null,
   "metadata": {
    "tags": [
     "raises-exception"
    ]
   },
   "outputs": [],
   "source": [
    "def exemplo_escopo_local():\n",
    "    x = 10\n",
    "    print(f\"A variável x dentro da função é {x}\")\n",
    "\n",
    "\n",
    "print(x)"
   ]
  },
  {
   "cell_type": "markdown",
   "metadata": {},
   "source": [
    "O erro `NameError: name 'x' is not defined` ocorre porque a variável `x` foi criada dentro da função `exemplo_escopo_local`. Isso significa que `x` só existe enquanto o código está sendo executado dentro dessa função. Se você tentar acessar `x` fora da função, o Python não conseguirá encontrá-la, resultando nesse erro.\n",
    "\n",
    "O mesmo vale para os parâmetros de uma função: eles só existem no escopo interno da função e não podem ser acessados de fora.\n",
    "\n",
    "Todas as variáveis definidas no escopo principal (fora de qualquer função) são chamadas de variáveis globais. Elas podem ser acessadas de qualquer lugar do código, inclusive de dentro de funções. E sinceramente, o Python é bem confuso e neste ponto, pois ele dá abertura para algumas más práticas de programação que tornanm o código dificil de entender, apesar do código funcionar. Vejamos um exemplo:"
   ]
  },
  {
   "cell_type": "code",
   "execution_count": null,
   "metadata": {},
   "outputs": [],
   "source": [
    "x = 20  # variável definida no escopo global\n",
    "\n",
    "\n",
    "def exemplo_escopo_global():\n",
    "    x = 10  # variável definida no escopo local da função\n",
    "    print(f\"A variável x dentro da função é {x}\")\n",
    "\n",
    "\n",
    "exemplo_escopo_global()\n",
    "print(f\"A variável x fora da função é {x}\")"
   ]
  },
  {
   "cell_type": "markdown",
   "metadata": {},
   "source": [
    "Percebam como fica confuso! Temos um `x` global e um `x` local, e o Python não reclama disso. Isso é um problema, pois se você não tomar cuidado, você pode acabar entendendo errado e fazendo confusão com os valores.\n",
    "\n",
    "```{admonition} Dica profissional (variáveis globais e locais)\n",
    ":class: tip\n",
    "Não use variáveis globais e locais com o mesmo nome pois dá margem para confusão e erros! Busque sempre usar nomes diferentes para variáveis globais e locais. \n",
    "```\n",
    "\n",
    "Existe ainda uma palavra reservada chamada `global` para permitir o uso de variáveis globais dentro de funções, e o entendimento do código pode ficar pior ainda! Por isso nem gosto de ensinar esta abordagem por ser considerada uma má prática. \n",
    "\n",
    "```{admonition} Perigo (variáveis globais)\n",
    ":class: danger\n",
    "Evite ao máximo usar variáveis globais dentro de funções! Se você precisar de um valor de fora da função, passe esse valor como parâmetro. Isso torna o código mais legível e menos propenso a erros.\n",
    "```"
   ]
  },
  {
   "cell_type": "markdown",
   "metadata": {},
   "source": [
    "### Dicas de tipo (type hints)"
   ]
  },
  {
   "cell_type": "markdown",
   "metadata": {},
   "source": [
    "Notem que, na função acima `calcula_media` que criamos anteriormente, é difícil dizer quais são os tipos de dados que a função espera como argumento e qual é o tipo de dado que ela retorna. Isso pode ser um problema se você estiver trabalhando em um projeto grande e complexo, ou se você estiver trabalhando em equipe. Para resolver isso, o Python permite que você adicione dicas de tipo, chamadas de *type hints*, para indicar quais são os tipos de dados esperados e retornados pela função.\n",
    "\n",
    "Infelizmente *type hints* são apenas dicas mesmo, e o Python não vai reclamar se você passar um tipo de dado diferente do esperado. Mas, ainda sim, é uma boa prática adicionar essas dicas para ajudar a entender o código. Vamos ver como fazer isso:"
   ]
  },
  {
   "cell_type": "code",
   "execution_count": null,
   "metadata": {},
   "outputs": [],
   "source": [
    "def calcula_media(valores: list[int | float]) -> float:\n",
    "    return sum(valores) / len(valores)"
   ]
  },
  {
   "cell_type": "markdown",
   "metadata": {},
   "source": [
    "A função acima indica o tipo do parâmetro `valores` como uma lista de números inteiros ou floats através da notação `: list[int | float]` logo na sequencia do nome do parâmetro. Já a notação `-> float` indica que a função retorna um número float (o que faz sentido pois a média pode ser um número quebrado). \n",
    "\n",
    "Porém, como disse anteriormente, o Python não vai reclamar se você passar um tipo de dado diferente do esperado. Essa função fica um pouco mais claro em termos de tipos de dados (desde que informados corretamente) e pode ajudar a entender melhor o código.\n",
    "\n",
    "Podemos anotar qualquer parâmetro da função, bem como seu(s) retorno(s). As notações a princípio seguem os tipos básicos que vimos até agora:\n",
    "\n",
    "- `int`: número inteiro\n",
    "- `float`: número de ponto flutuante\n",
    "- `str`: string\n",
    "- `list`: lista\n",
    "- `tuple`: tupla\n",
    "- `dict`: dicionário\n",
    "- `set`: conjuntos\n",
    "\n",
    "Para as sequências como `list`, `tuple` e `set`, é possível indicar o tipo de dado que a sequência contém, como fizemos no exemplo acima, usando `list[int | float]` para indicar que a lista contém números inteiros ou floats. No caso de diciários, é possível indicar o tipo de dado da chave e do valor, como `dict[str, int]` para indicar um dicionário onde a chave é uma string e o valor é um inteiro."
   ]
  }
 ],
 "metadata": {
  "kernelspec": {
   "display_name": ".venv",
   "language": "python",
   "name": "python3"
  },
  "language_info": {
   "codemirror_mode": {
    "name": "ipython",
    "version": 3
   },
   "file_extension": ".py",
   "mimetype": "text/x-python",
   "name": "python",
   "nbconvert_exporter": "python",
   "pygments_lexer": "ipython3",
   "version": "3.12.2"
  }
 },
 "nbformat": 4,
 "nbformat_minor": 2
}
