{
 "cells": [
  {
   "cell_type": "markdown",
   "metadata": {},
   "source": [
    "# Introdução à funções"
   ]
  },
  {
   "cell_type": "markdown",
   "metadata": {},
   "source": [
    "Dentre todos os meus anos como instrutor, notei que funções é o primeiro tema que as pessoas começam a ter uma dificuldade maior. Por isso vou utilizar alguns recursos extras para explicar esse tema ao longo deste capítulo.  Nós já usamos várias funções ao longo do livro, e algumas delas não serão novidades para você. Vamos aprender mais sobre as funções que já vimos, outras funções nativas do Python e como criar nossas próprias funções."
   ]
  },
  {
   "cell_type": "markdown",
   "metadata": {},
   "source": [
    "## Conceito e definição"
   ]
  },
  {
   "cell_type": "markdown",
   "metadata": {},
   "source": [
    "Uma função é como uma *receita* que descreve um conjunto de instruções para realizar uma tarefa específica. Imagine que você quer ensinar alguém a fazer um bolo. Em vez de repetir todos os passos toda vez que alguém pedir a receita, você escreve a receita uma vez e a entrega para quem precisar. Uma função em Python funciona de maneira similar: você define o que precisa ser feito (escreve a receita), e depois pode usar essa função sempre que precisar executar aquela tarefa, sem precisar reescrever todo o código. É mais fácil exemplificar com algumas funções que já vimos.\n",
    "\n",
    "Por exemplo:\n",
    "\n",
    "- a função `print()` é usada para imprimir algo na tela\n",
    "- a função `len()` é usada para retornar o tamanho de uma sequencia\n",
    "- a função `range()`, que vimos [nesta seção](funcao-range) do capítulo de laço `for`, é usada para criar uma sequência de números.\n",
    "- a função `type()` é usada para retornar o tipo de um objeto. Esta vem nos acompanhando desde o início do livro, na [seção sobre a função `type`](a-funcao-type) no capítulo de tipos numéricos.\n",
    "\n",
    "Você se lembra de outras funções que vimos ao longo do livro?\n",
    "\n",
    "Todas estas funções acima fazem parte de um conjunto maior de funções que são chamadas de funções nativas do Python, cuja lista completa pode ser encontrada neste [link](https://docs.python.org/3/library/functions.html). Estas funções nativas estão prontas pra uso, bastando chamá-las no código.\n",
    "\n",
    "As funções podem ser divididas, a princípio, em dois grupos:\n",
    "\n",
    "- **Funções nativas**: são as funções que já vêm prontas no Python, como as que vimos acima.\n",
    "- **Funções definidas pelo usuário**: são funções que você mesmo cria para realizar uma tarefa específica.\n",
    "\n",
    "Vamos detalhar cada um destes grupos na sequencia."
   ]
  },
  {
   "cell_type": "markdown",
   "metadata": {},
   "source": [
    "## Funções nativas"
   ]
  },
  {
   "cell_type": "markdown",
   "metadata": {},
   "source": [
    "As funções nativas, também chamadas de *built-in*, são funções que já vêm prontas no Python e podem ser usadas diretamente. São relativamente poucas funções, porém não vou passar por cada uma delas. Lembrando que o objetivo é falar de forma genérica sobre funções, e cabe a você consultar a documentação do Python para saber mais sobre cada uma delas. Vou passar um pequeno resumo de algumas funções que considero mais importantes:\n",
    "\n",
    "```{admonition} Nota (muita calma nesta hora!)\n",
    ":class: note\n",
    "Talvez você possa se assustar com a lista enorme (que é pequena, vá por mim!) de funções novas que você vai ver, mas não se preocupe! A ideia é que você conheça a existência delas, e não que você saiba todas de cor. Afinal, você pode consultar a documentação sempre que precisar. Eu pretendo te guiar pra consultar a documentação, então **não se preocupe em decorar cada uma das funções**.\n",
    "```\n",
    "\n",
    "1. **Funções de entrada e saída**\n",
    "\n",
    "Essas funções são usadas para interagir com o usuário ou com arquivos.\n",
    "\n",
    "- `print():` Exibe informações na tela.\n",
    "- `input():` Recebe dados de entrada do usuário como uma string a partir do terminal.\n",
    "- `open():` Abre um arquivo e retorna um objeto de arquivo para leitura e/ou escrita.\n",
    "\n",
    "2. **Funções de conversão de tipos**\n",
    "\n",
    "Essas funções convertem valores de um tipo de dados para outro.\n",
    "\n",
    "- `int():` Converte um valor para um número inteiro.\n",
    "- `float():` Converte um valor para um float.\n",
    "- `str():` Converte um valor para uma string.\n",
    "- `list():` Converte uma sequência para uma lista. Também criar uma lista vazia.\n",
    "- `tuple():` Converte uma sequência para uma tupla. Também criar uma tupla vazia.\n",
    "- `set():` Converte uma sequência para um conjunto. Também criar um conjunto vazio.\n",
    "- `dict():` Converte uma coleção de pares chave-valor para um dicionário. Também criar um dicionário vazio.\n",
    "\n",
    "3. **Funções de manipulação de sequências**\n",
    "\n",
    "Essas funções são usadas para processar e manipular sequências como listas, tuplas e sets.\n",
    "\n",
    "- `len():` Retorna o comprimento (número de itens) de uma sequência.\n",
    "- `max():` Retorna o maior item de uma sequência.\n",
    "- `min():` Retorna o menor item de uma sequência.\n",
    "- `sum():` Retorna a soma de todos os itens de uma sequência.\n",
    "- `sorted():` Retorna uma nova lista ordenada a partir de uma sequência.\n",
    "- `enumerate():` Adiciona um contador a uma sequência para capturar também os índices.\n",
    "- `zip():` Combina elementos de múltiplas sequencias em tuplas.\n",
    "- `map():` Aplica uma outra função a todos os itens de uma sequência.\n",
    "- `filter():` Filtra itens em uma sequência de acordo com uma outra função passada.\n",
    "\n",
    "1. **Funções matemáticas**\n",
    "\n",
    "Essas funções realizam operações matemáticas.\n",
    "\n",
    "- `abs():` Retorna o valor absoluto (sem sinal) de um número.\n",
    "- `round():` Arredonda um float para um número especificado de dígitos nas casas decimais.\n",
    "- `divmod():` Retorna o quociente e o resto da divisão de dois números.\n",
    "\n",
    "5. **Funções de controle de fluxo e comparação**\n",
    "\n",
    "Essas funções são usadas para controle de fluxo e comparações lógicas.\n",
    "\n",
    "- `any():` Retorna `True` se qualquer elemento em uma sequência for verdadeiro.\n",
    "- `all():` Retorna `True` se todos os elementos em uma sequência forem verdadeiros.\n",
    "\n",
    "6. **Funções de Inspeção de Objetos**\n",
    "\n",
    "Essas funções retornam informações sobre objetos, como seu tipo ou identificador.\n",
    "\n",
    "- `type():` Retorna o tipo de um objeto.\n",
    "- `id():` Retorna o identificador único na memória do computador de um objeto.\n",
    "- `isinstance():` Verifica se um objeto é uma instância de uma classe ou tipo.\n",
    "\n",
    "Existem outras funções, mas como disse, a ideia não é ensinar cada uma delas no detalhe, e sim uma visão mais geral. Você pode consultar a documentação para saber mais sobre cada uma delas."
   ]
  },
  {
   "cell_type": "markdown",
   "metadata": {},
   "source": [
    "### Parâmetros e argumentos"
   ]
  },
  {
   "cell_type": "markdown",
   "metadata": {},
   "source": []
  }
 ],
 "metadata": {
  "kernelspec": {
   "display_name": ".venv",
   "language": "python",
   "name": "python3"
  },
  "language_info": {
   "name": "python",
   "version": "3.12.2"
  }
 },
 "nbformat": 4,
 "nbformat_minor": 2
}
