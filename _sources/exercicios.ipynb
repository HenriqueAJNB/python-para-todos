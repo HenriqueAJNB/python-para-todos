{
 "cells": [
  {
   "cell_type": "markdown",
   "metadata": {},
   "source": [
    "# Lista de exercícios\n",
    "\n",
    "## Como funciona\n",
    "\n",
    "Cada exercício terá um enunciado, e uma sugestão de solução feita por mim, que a princípio, ficará oculta. Basta clicar no botão para expandir a solução. \n",
    "\n",
    "Minha recomendação é que você **tente fazer sozinho** e **use a sugestão de solução somente para fins de consulta**!\n",
    "\n",
    "Os exercícios a princípio tem fim didático para estimular desenvolvimento do raciocínio lógico. No futuro terão desafios mais complexos envolvendo problemas mais próximos do mundo real."
   ]
  },
  {
   "cell_type": "markdown",
   "metadata": {},
   "source": [
    "(exercício-1)=\n",
    "### Exercício 1\n",
    "\n",
    "Faça um programa que escreva o seu nome completo."
   ]
  },
  {
   "cell_type": "code",
   "execution_count": null,
   "metadata": {
    "tags": [
     "hide-cell"
    ]
   },
   "outputs": [],
   "source": [
    "print(\"Escreva aqui seu nome completo\")"
   ]
  },
  {
   "cell_type": "markdown",
   "metadata": {},
   "source": [
    "(exercício-2)=\n",
    "### Exercício 2\n",
    "\n",
    "Qual é o tipo de dado (`int` ou `float`) do resultado de cada uma das operações matemáticas abaixo?\n",
    "\n",
    "```{admonition} Dica\n",
    ":class: tip\n",
    "Busque pensar, refletir e responder (pode até ser mentalmente) antes de verificar a saída dos tipos no código. O importante é a **reflexão**, que leva ao desenvolvimento do raciocínio lógico, **e não só a execução do código.**\n",
    "```\n",
    "\n",
    "Exp 1 -> 8 ÷ 4 + 2 × 3\n",
    "\n",
    "Exp 2 -> 15 - 4 × 2 + 10\n",
    "\n",
    "Exp 3 -> (10 - 3) × (5 + 2)\n",
    "\n",
    "Exp 4 -> 100 ÷ (5 + 5)\n",
    "\n",
    "Exp 5 -> 2<sup>3</sup> + 4 \n",
    "\n",
    "Exp 6 -> 7 + 3 × (10 ÷ 2)\n",
    "\n",
    "Exp 7 -> (8 + 2) × 3 - 5\n",
    "\n",
    "Exp 8 -> 50 ÷ 5 + √16\n",
    "\n",
    "Exp 9 -> 5 + √25 × 2 - 3\n",
    "\n",
    "Exp 10 -> 20 - 4 × (√9 + 1)"
   ]
  },
  {
   "cell_type": "code",
   "execution_count": 1,
   "metadata": {
    "tags": [
     "hide-cell"
    ]
   },
   "outputs": [
    {
     "name": "stdout",
     "output_type": "stream",
     "text": [
      "<class 'float'>\n",
      "<class 'int'>\n",
      "<class 'int'>\n",
      "<class 'float'>\n",
      "<class 'int'>\n",
      "<class 'float'>\n",
      "<class 'int'>\n",
      "<class 'float'>\n",
      "<class 'float'>\n",
      "<class 'float'>\n"
     ]
    }
   ],
   "source": [
    "print(type(8 / 4 + 2 * 3))\n",
    "print(type(15 - 4 * 2 + 10))\n",
    "print(type((10 - 3) * (5 + 2)))\n",
    "print(type(100 / (5 + 5)))\n",
    "print(type(2 ** 3 + 4))\n",
    "print(type(7 + 3 * (10 / 2)))\n",
    "print(type((8 + 2) * 3 - 5))\n",
    "print(type(50 / 5 + 16**(1/2)))\n",
    "print(type(5 + 25**(1/2) * 2 - 3))\n",
    "print(type(20 - 4 * (9**(1/2) + 1)))"
   ]
  },
  {
   "cell_type": "markdown",
   "metadata": {},
   "source": [
    "(exercício-3)=\n",
    "### Exercício 3\n",
    "\n",
    "Qual é o resultado das expressões do [exercício 2](exercício-2) quando executadas no Python? \n",
    "\n",
    "Faça na mão primeiro, e confira o resultado no código depois.\n",
    "\n",
    "```{admonition} Dica\n",
    ":class: tip\n",
    "Lembre-se da [tabela de precedência de operadores](https://docs.python.org/pt-br/3/reference/expressions.html#operator-precedence)!\n",
    "```"
   ]
  },
  {
   "cell_type": "code",
   "execution_count": 1,
   "metadata": {
    "tags": [
     "hide-cell"
    ]
   },
   "outputs": [
    {
     "name": "stdout",
     "output_type": "stream",
     "text": [
      "8.0\n",
      "17\n",
      "49\n",
      "10.0\n",
      "12\n",
      "22.0\n",
      "25\n",
      "14.0\n",
      "12.0\n",
      "4.0\n"
     ]
    }
   ],
   "source": [
    "print(8 / 4 + 2 * 3)\n",
    "print(15 - 4 * 2 + 10)\n",
    "print((10 - 3) * (5 + 2))\n",
    "print(100 / (5 + 5))\n",
    "print(2 ** 3 + 4)\n",
    "print(7 + 3 * (10 / 2))\n",
    "print((8 + 2) * 3 - 5)\n",
    "print(50 / 5 + 16**(1/2))\n",
    "print(5 + 25**(1/2) * 2 - 3)\n",
    "print(20 - 4 * (9**(1/2) + 1))"
   ]
  },
  {
   "cell_type": "markdown",
   "metadata": {},
   "source": [
    "(exercicio-4)=\n",
    "### Exercício 4\n",
    "\n",
    "1. Crie três variáveis para armazenar as seguintes informações: seu nome, sua idade e seu hobby favorito.\n",
    "2. Use f-strings para criar uma mensagem que inclua as três variáveis e imprima a mensagem no console."
   ]
  },
  {
   "cell_type": "code",
   "execution_count": null,
   "metadata": {
    "tags": [
     "hide-cell"
    ]
   },
   "outputs": [],
   "source": [
    "nome = \"Ana\"\n",
    "idade = 22\n",
    "hobby = \"leitura\"\n",
    "\n",
    "mensagem = f\"Meu nome é {nome}, tenho {idade} anos e meu hobby favorito é {hobby}.\"\n",
    "print(mensagem)"
   ]
  },
  {
   "cell_type": "markdown",
   "metadata": {},
   "source": [
    "(exercicio-5)=\n",
    "### Exercício 5\n",
    "\n",
    "Você está trabalhando em um sistema para calcular o salário de um funcionário baseado em algumas variáveis, como o salário base, o bônus e os descontos. O código foi feito por outra pessoa e está apresentando um erro. Execute o código, identifique o erro e corrija-o. Justifique a sua correçao com um comentário `#` acima do que foi corrigido.\n",
    "\n",
    "```{admonition} Dica\n",
    ":class: tip\n",
    "Diante de mensagens de erro, **leia a mensagem com calma**! Vai te ajudar muito a identificá-lo e corrigir o problema.\n",
    "```\n",
    "\n",
    "```python\n",
    "salario_base = 3500.00\n",
    "bonus = 500.00\n",
    "Descontos = 300.00\n",
    "\n",
    "salario_liquido = salario_base + bonus - descontos\n",
    "print(f\"O salário líquido é {salario_liquido}.\")\n",
    "```"
   ]
  },
  {
   "cell_type": "code",
   "execution_count": 2,
   "metadata": {
    "tags": [
     "hide-cell"
    ]
   },
   "outputs": [
    {
     "name": "stdout",
     "output_type": "stream",
     "text": [
      "O salário líquido é 3700.0.\n"
     ]
    }
   ],
   "source": [
    "salario_base = 3500.00\n",
    "bonus = 500.00\n",
    "# Como Python é case-sensitive, `Descontos` é diferente de `descontos`\n",
    "# A correção é renomear a variável `Descontos` para `descontos` na linha abaixo.\n",
    "descontos = 300.00\n",
    "\n",
    "salario_liquido = salario_base + bonus - descontos\n",
    "print(f\"O salário líquido é {salario_liquido}.\")"
   ]
  }
 ],
 "metadata": {
  "kernelspec": {
   "display_name": ".venv",
   "language": "python",
   "name": "python3"
  },
  "language_info": {
   "codemirror_mode": {
    "name": "ipython",
    "version": 3
   },
   "file_extension": ".py",
   "mimetype": "text/x-python",
   "name": "python",
   "nbconvert_exporter": "python",
   "pygments_lexer": "ipython3",
   "version": "3.12.2"
  }
 },
 "nbformat": 4,
 "nbformat_minor": 2
}
