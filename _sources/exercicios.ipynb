{
 "cells": [
  {
   "cell_type": "markdown",
   "metadata": {},
   "source": [
    "# Lista de exercícios\n",
    "\n",
    "## Como funciona\n",
    "\n",
    "Cada exercício terá um enunciado, e uma sugestão de solução feita por mim, que a princípio, ficará oculta. Basta clicar no botão para expandir a solução. \n",
    "\n",
    "Minha recomendação é que você **tente fazer sozinho** e **use a sugestão de solução somente para fins de consulta**!\n",
    "\n",
    "Os exercícios a princípio tem fim didático para estimular desenvolvimento do raciocínio lógico. No futuro terão desafios mais complexos envolvendo problemas mais próximos do mundo real."
   ]
  },
  {
   "cell_type": "markdown",
   "metadata": {},
   "source": [
    "(exercício-1)=\n",
    "### Exercício 1\n",
    "\n",
    "Faça um programa que escreva o seu nome completo."
   ]
  },
  {
   "cell_type": "code",
   "execution_count": null,
   "metadata": {
    "tags": [
     "hide-cell"
    ]
   },
   "outputs": [],
   "source": [
    "print(\"Escreva aqui seu nome completo\")"
   ]
  },
  {
   "cell_type": "markdown",
   "metadata": {},
   "source": [
    "(exercício-2)=\n",
    "### Exercício 2\n",
    "\n",
    "Qual é o tipo de dado (`int` ou `float`) do resultado de cada uma das operações matemáticas abaixo?\n",
    "\n",
    "```{admonition} Dica\n",
    ":class: tip\n",
    "Busque pensar, refletir e responder (pode até ser mentalmente) antes de verificar a saída dos tipos no código. O importante é a **reflexão**, que leva ao desenvolvimento do raciocínio lógico, **e não só a execução do código.**\n",
    "```\n",
    "\n",
    "Exp 1 -> 8 ÷ 4 + 2 × 3\n",
    "\n",
    "Exp 2 -> 15 - 4 × 2 + 10\n",
    "\n",
    "Exp 3 -> (10 - 3) × (5 + 2)\n",
    "\n",
    "Exp 4 -> 100 ÷ (5 + 5)\n",
    "\n",
    "Exp 5 -> 2<sup>3</sup> + 4 \n",
    "\n",
    "Exp 6 -> 7 + 3 × (10 ÷ 2)\n",
    "\n",
    "Exp 7 -> (8 + 2) × 3 - 5\n",
    "\n",
    "Exp 8 -> 50 ÷ 5 + √16\n",
    "\n",
    "Exp 9 -> 5 + √25 × 2 - 3\n",
    "\n",
    "Exp 10 -> 20 - 4 × (√9 + 1)"
   ]
  },
  {
   "cell_type": "code",
   "execution_count": 1,
   "metadata": {
    "tags": [
     "hide-cell"
    ]
   },
   "outputs": [
    {
     "name": "stdout",
     "output_type": "stream",
     "text": [
      "<class 'float'>\n",
      "<class 'int'>\n",
      "<class 'int'>\n",
      "<class 'float'>\n",
      "<class 'int'>\n",
      "<class 'float'>\n",
      "<class 'int'>\n",
      "<class 'float'>\n",
      "<class 'float'>\n",
      "<class 'float'>\n"
     ]
    }
   ],
   "source": [
    "# Resposta:\n",
    "# 1 -> float\n",
    "# 2 -> int\n",
    "# 3 -> int\n",
    "# 4 -> float\n",
    "# 5 -> int\n",
    "# 6 -> float\n",
    "# 7 -> int\n",
    "# 8 -> float\n",
    "# 9 -> float\n",
    "# 10 -> float\n",
    "\n",
    "# Código\n",
    "print(type(8 / 4 + 2 * 3))\n",
    "print(type(15 - 4 * 2 + 10))\n",
    "print(type((10 - 3) * (5 + 2)))\n",
    "print(type(100 / (5 + 5)))\n",
    "print(type(2 ** 3 + 4))\n",
    "print(type(7 + 3 * (10 / 2)))\n",
    "print(type((8 + 2) * 3 - 5))\n",
    "print(type(50 / 5 + 16**(1/2)))\n",
    "print(type(5 + 25**(1/2) * 2 - 3))\n",
    "print(type(20 - 4 * (9**(1/2) + 1)))"
   ]
  },
  {
   "cell_type": "markdown",
   "metadata": {},
   "source": [
    "(exercício-3)=\n",
    "### Exercício 3\n",
    "\n",
    "Qual é o resultado das expressões do [exercício 2](exercício-2) quando executadas no Python? \n",
    "\n",
    "Faça na mão primeiro, e confira o resultado no código depois.\n",
    "\n",
    "```{admonition} Dica\n",
    ":class: tip\n",
    "Lembre-se da [tabela de precedência de operadores](https://docs.python.org/pt-br/3/reference/expressions.html#operator-precedence)!\n",
    "```"
   ]
  },
  {
   "cell_type": "code",
   "execution_count": 1,
   "metadata": {    "tags": [
    "hide-cell"
   ]},
   "outputs": [
    {
     "name": "stdout",
     "output_type": "stream",
     "text": [
      "8.0\n",
      "17\n",
      "49\n",
      "10.0\n",
      "12\n",
      "22.0\n",
      "25\n",
      "14.0\n",
      "12.0\n",
      "4.0\n"
     ]
    }
   ],
   "source": [
    "# Resposta:\n",
    "# 1 -> 8.0\n",
    "# 2 -> 17\n",
    "# 3 -> 49\n",
    "# 4 -> 10.0\n",
    "# 5 -> 12\n",
    "# 6 -> 22.0\n",
    "# 7 -> 25\n",
    "# 8 -> 14.0\n",
    "# 9 -> 12.0\n",
    "# 10 -> 4.0\n",
    "\n",
    "# Código\n",
    "print(8 / 4 + 2 * 3)\n",
    "print(15 - 4 * 2 + 10)\n",
    "print((10 - 3) * (5 + 2))\n",
    "print(100 / (5 + 5))\n",
    "print(2 ** 3 + 4)\n",
    "print(7 + 3 * (10 / 2))\n",
    "print((8 + 2) * 3 - 5)\n",
    "print(50 / 5 + 16**(1/2))\n",
    "print(5 + 25**(1/2) * 2 - 3)\n",
    "print(20 - 4 * (9**(1/2) + 1))"
   ]
  }
 ],
 "metadata": {
  "kernelspec": {
   "display_name": ".venv",
   "language": "python",
   "name": "python3"
  },
  "language_info": {
   "codemirror_mode": {
    "name": "ipython",
    "version": 3
   },
   "file_extension": ".py",
   "mimetype": "text/x-python",
   "name": "python",
   "nbconvert_exporter": "python",
   "pygments_lexer": "ipython3",
   "version": "3.12.2"
  }
 },
 "nbformat": 4,
 "nbformat_minor": 2
}
