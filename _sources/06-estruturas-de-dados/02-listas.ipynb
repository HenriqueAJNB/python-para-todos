{
 "cells": [
  {
   "cell_type": "markdown",
   "metadata": {},
   "source": [
    "# Listas"
   ]
  },
  {
   "cell_type": "markdown",
   "metadata": {},
   "source": [
    "Ao longo do capítulo anterior, surgiu uma outra estrutura de dados básica: listas. Vamos entrar mais em detalhes nesta estrutura ao longo deste capítulo."
   ]
  },
  {
   "cell_type": "markdown",
   "metadata": {},
   "source": [
    "## Definição"
   ]
  },
  {
   "cell_type": "markdown",
   "metadata": {},
   "source": [
    "Listas são um dos tipos de dados mais fundamentais e versáteis em Python. Uma lista é uma sequência ordenada de elementos que pode conter uma variedade de tipos de dados, como números, strings, outras listas, objetos, e mais. As listas em Python são mutáveis, o que significa que seus elementos podem ser alterados após a sua criação.\n",
    "\n",
    "As listas possuem as seguintes caracterísicas:\n",
    "\n",
    "- **Ordenadas:** As listas mantêm a ordem dos elementos conforme são adicionados. \n",
    "- **Mutáveis:** Diferente de alguns outros tipos de coleções que vamos ver na sequência, como tuplas, as listas podem ser modificadas após a sua criação. Você pode adicionar, remover ou alterar seus elementos.\n",
    "- **Permite duplicatas:** Listas podem conter elementos duplicados. Cada elemento na lista mantém sua própria posição e pode ser acessado individualmente.\n",
    "- **Heterogêneas:** Uma lista pode conter elementos de diferentes tipos de dados. Por exemplo, você pode ter uma lista que contém números, strings e até mesmo outras listas."
   ]
  },
  {
   "cell_type": "markdown",
   "metadata": {},
   "source": [
    "## Sintaxe básica"
   ]
  },
  {
   "cell_type": "markdown",
   "metadata": {},
   "source": [
    "O exemplo mais simples é uma lista de inteiros, conforme vimos no capítulo anterior, no terceiro exemplo da seção [reforço prático - métodos vs funções](reforco-pratico-metodos-vs-funcoes)."
   ]
  },
  {
   "cell_type": "code",
   "execution_count": 14,
   "metadata": {},
   "outputs": [
    {
     "name": "stdout",
     "output_type": "stream",
     "text": [
      "[10, 50, 40, 65, 90, 70, 30, 156]\n"
     ]
    }
   ],
   "source": [
    "lista_de_numeros = [10, 50, 40, 65, 90, 70, 30, 156]\n",
    "print(lista_de_numeros)"
   ]
  },
  {
   "cell_type": "markdown",
   "metadata": {},
   "source": [
    "Uma lista é criada com colchetes (`[ ]`), cada elemento é separado por vírgula (`,`) e não necessariamente todos os elementos precisam ser do mesmo tipo."
   ]
  },
  {
   "cell_type": "code",
   "execution_count": 15,
   "metadata": {},
   "outputs": [
    {
     "name": "stdout",
     "output_type": "stream",
     "text": [
      "[10, 25.1, 'um texto qualquer', True]\n"
     ]
    }
   ],
   "source": [
    "lista_heterogenea = [10, 25.1, \"um texto qualquer\", True]\n",
    "print(lista_heterogenea)"
   ]
  },
  {
   "cell_type": "markdown",
   "metadata": {},
   "source": [
    "## Acessando elementos"
   ]
  },
  {
   "cell_type": "markdown",
   "metadata": {},
   "source": [
    "Cada elemento tem uma posição (ou índice) na lista começando do índice 0 para o primeiro elemento. "
   ]
  },
  {
   "cell_type": "code",
   "execution_count": 16,
   "metadata": {},
   "outputs": [
    {
     "name": "stdout",
     "output_type": "stream",
     "text": [
      "1\n",
      "Olá\n"
     ]
    }
   ],
   "source": [
    "lista_acesso_elementos = [1, \"Olá\", 3.14, True]\n",
    "\n",
    "# Acessando elementos da lista\n",
    "print(lista_acesso_elementos[0])\n",
    "print(lista_acesso_elementos[1])"
   ]
  },
  {
   "cell_type": "markdown",
   "metadata": {},
   "source": [
    "Vimos fatiamento de sequencias no capítulo sobre strings, na seção [indexação de strings](indexacao-strings), lembra? É possível usar o fatiamento em listas da mesma forma. Podemos usar exatamente a mesma sintaxe `variavel[start:stop:step]`, com exatamente as mesmas características. Caso queira relembrar o conteúdo, retorne ao capítulo sobre [fatiamento de strings](fatiamento).\n",
    "\n",
    "Aqui vamos abordar apenas o caso que é diferente de strings, no qual temos uma lista de listas."
   ]
  },
  {
   "cell_type": "code",
   "execution_count": 17,
   "metadata": {},
   "outputs": [],
   "source": [
    "lista_de_listas = [[1], [2, 3], [4, 5, 6], [7, 8, 9, 10]]"
   ]
  },
  {
   "cell_type": "markdown",
   "metadata": {},
   "source": [
    "Vamos começar com uma pergunta:\n",
    "\n",
    "```{dropdown} Quandos elementos tem a lista acima? Pense primeiro e clique para ver a resposta...\n",
    "Resposta correta: 4 elementos. Execute o código abaixo para conferir.\n",
    "\n",
    "```python\n",
    "lista_de_listas = [[1], [2, 3], [4, 5, 6], [7, 8, 9, 10]]\n",
    "print(len(lista_de_listas))\n",
    "```\n",
    "\n",
    "Porque? Se você contou apenas **os números de 1 a 10**, talvez você não tenha entendido o conceito de listas. Vamos detalhar mais.\n",
    "\n",
    "Reparem que a variável acima começa com `[[` e termina com `]]`. A lista mais externa contém outras listas internas. Listas de listas também são chamadas de listas aninhadas. É como se tivéssemos vários \"níveis\" de listas, indo por camadas."
   ]
  },
  {
   "cell_type": "code",
   "execution_count": 18,
   "metadata": {},
   "outputs": [
    {
     "name": "stdout",
     "output_type": "stream",
     "text": [
      "Primeiro elemento da lista: [1]\n",
      "Segundo elemento da lista: [2, 3]\n",
      "Terceiro elemento da lista: [4, 5, 6]\n",
      "Quarto elemento da lista: [7, 8, 9, 10]\n"
     ]
    }
   ],
   "source": [
    "lista_de_listas = [[1], [2, 3], [4, 5, 6], [7, 8, 9, 10]]\n",
    "print(f\"Primeiro elemento da lista: {lista_de_listas[0]}\")\n",
    "print(f\"Segundo elemento da lista: {lista_de_listas[1]}\")\n",
    "print(f\"Terceiro elemento da lista: {lista_de_listas[2]}\")\n",
    "print(f\"Quarto elemento da lista: {lista_de_listas[3]}\")"
   ]
  },
  {
   "cell_type": "markdown",
   "metadata": {},
   "source": [
    "O caso mais simples que consigo trazer pra representar listas aninhadas é `lista = [primeiro_elemento, segundo_elemento, terceiro_elemento, quarto_elemento]` onde cada `_elemento` é também uma lista! Pode parecer confuso, mas creio que este exemplo ajude a esclarecer."
   ]
  },
  {
   "cell_type": "markdown",
   "metadata": {},
   "source": [
    "## Métodos de listas"
   ]
  },
  {
   "cell_type": "markdown",
   "metadata": {},
   "source": [
    "Diferentemente de string, listas tem relativamente poucos métodos, 11 no total, conforme consta na [documentação oficial dos métodos de lista](https://docs.python.org/3/tutorial/datastructures.html#more-on-lists). Por este motivo, é possível cobrí-los todos aqui."
   ]
  },
  {
   "cell_type": "markdown",
   "metadata": {},
   "source": [
    "### Adição de elementos"
   ]
  },
  {
   "cell_type": "markdown",
   "metadata": {},
   "source": [
    "Existem 3 métodos para trabalhar com adição de elementos à uma lista:\n",
    "\n",
    "- `append( )`: Adiciona um item ao final da lista.\n",
    "- `extend( )`: Adiciona todos os itens de uma outra sequencia ao final da lista.\n",
    "- `insert( )`: Insere um item em uma posição específica.\n",
    "\n",
    "Vamos ver em detalhes cada um deles."
   ]
  },
  {
   "cell_type": "markdown",
   "metadata": {},
   "source": [
    "#### Append"
   ]
  },
  {
   "cell_type": "markdown",
   "metadata": {},
   "source": [
    "O método `append(x)` adiciona um dado objeto `x` ao final da lista."
   ]
  },
  {
   "cell_type": "code",
   "execution_count": 19,
   "metadata": {},
   "outputs": [
    {
     "name": "stdout",
     "output_type": "stream",
     "text": [
      "['maçã', 'banana', 'laranja', 'uva']\n"
     ]
    }
   ],
   "source": [
    "frutas = [\"maçã\", \"banana\", \"laranja\"]\n",
    "frutas.append(\"uva\")\n",
    "print(frutas)"
   ]
  },
  {
   "cell_type": "markdown",
   "metadata": {},
   "source": [
    "Notem que o objeto como um todo, no caso a string `uva`, foi adicionada como um objeto único (uma única string) ao final da lista."
   ]
  },
  {
   "cell_type": "markdown",
   "metadata": {},
   "source": [
    "#### Extend"
   ]
  },
  {
   "cell_type": "markdown",
   "metadata": {},
   "source": [
    "O método `extend(x)` estende a lista adicionando todos os itens, um a um, de uma outra sequencia. Ele funciona diferente do método `append(x)` que adiciona o objeto inteiro."
   ]
  },
  {
   "cell_type": "code",
   "execution_count": 20,
   "metadata": {},
   "outputs": [
    {
     "name": "stdout",
     "output_type": "stream",
     "text": [
      "['maçã', 'banana', 'laranja', 'uva']\n"
     ]
    }
   ],
   "source": [
    "frutas = [\"maçã\", \"banana\"]\n",
    "outras_frutas = [\"laranja\", \"uva\"]\n",
    "frutas.extend(outras_frutas)\n",
    "print(frutas)"
   ]
  },
  {
   "cell_type": "markdown",
   "metadata": {},
   "source": [
    "No exemplo, `outras_frutas` é uma segunda lista, e os elementos desta listas, `laranja` e `uva`, são adicionados à lista `frutas`. O `extend` meio que varre uma dada sequencia, e adiciona os elementos um a um na lista. \n",
    "\n",
    "Vamos entender melhor com mais um exemplo. Se no exemplo do `append()` nós só trocássemos pelo `extend()`, veja o que aconteceria:"
   ]
  },
  {
   "cell_type": "code",
   "execution_count": 21,
   "metadata": {},
   "outputs": [
    {
     "name": "stdout",
     "output_type": "stream",
     "text": [
      "['maçã', 'banana', 'laranja', 'u', 'v', 'a']\n"
     ]
    }
   ],
   "source": [
    "frutas = [\"maçã\", \"banana\", \"laranja\"]\n",
    "frutas.extend(\"uva\")\n",
    "print(frutas)"
   ]
  },
  {
   "cell_type": "markdown",
   "metadata": {},
   "source": [
    "Relembrando que uma string é uma sequencia também, só que de caracteres. Quando passamos a string `uva` para o `extend` em `frutas.extend(\"uva\")`, o que estamos dizendo é: pegue cada elemento (caracter) da string `uva` e adicione um a um à lista `frutas`. \n",
    "\n",
    "É diferente do método `append` que em `frutas.append(\"uva\")` nós estamos dizendo: adicione a string inteira `uva` como um objeto único ao final da lista.\n",
    "\n",
    "Conseguiram compreender tal diferença?\n",
    "\n",
    "Como o `extend` necessariamente varre uma sequência, não é possível estender uma lista a partir de algo que não seja uma sequência, gerando o erro abaixo"
   ]
  },
  {
   "cell_type": "code",
   "execution_count": 22,
   "metadata": {
    "tags": [
     "raises-exception"
    ]
   },
   "outputs": [
    {
     "ename": "TypeError",
     "evalue": "'int' object is not iterable",
     "output_type": "error",
     "traceback": [
      "\u001b[1;31m---------------------------------------------------------------------------\u001b[0m",
      "\u001b[1;31mTypeError\u001b[0m                                 Traceback (most recent call last)",
      "Cell \u001b[1;32mIn[22], line 2\u001b[0m\n\u001b[0;32m      1\u001b[0m lista_de_numeros \u001b[38;5;241m=\u001b[39m [\u001b[38;5;241m1\u001b[39m, \u001b[38;5;241m2\u001b[39m, \u001b[38;5;241m3\u001b[39m, \u001b[38;5;241m4\u001b[39m, \u001b[38;5;241m5\u001b[39m]\n\u001b[1;32m----> 2\u001b[0m \u001b[43mlista_de_numeros\u001b[49m\u001b[38;5;241;43m.\u001b[39;49m\u001b[43mextend\u001b[49m\u001b[43m(\u001b[49m\u001b[38;5;241;43m6\u001b[39;49m\u001b[43m)\u001b[49m\n\u001b[0;32m      3\u001b[0m \u001b[38;5;28mprint\u001b[39m(lista_de_numeros)\n",
      "\u001b[1;31mTypeError\u001b[0m: 'int' object is not iterable"
     ]
    }
   ],
   "source": [
    "lista_de_numeros = [1, 2, 3, 4, 5]\n",
    "lista_de_numeros.extend(6)\n",
    "print(lista_de_numeros)"
   ]
  },
  {
   "cell_type": "markdown",
   "metadata": {},
   "source": [
    "O erro `TypeError: 'int' object is not iterable` informa justamente que o tipo `int` proveniente do `6` passado para o `extend` não é uma sequência.\n",
    "\n",
    "Já o `append` não precisa necessariamente receber uma sequência, pois ele adiciona o objeto em si, e não os elementos de uma dada sequência."
   ]
  },
  {
   "cell_type": "code",
   "execution_count": 23,
   "metadata": {},
   "outputs": [
    {
     "name": "stdout",
     "output_type": "stream",
     "text": [
      "[1, 2, 3, 4, 5, 6]\n"
     ]
    }
   ],
   "source": [
    "lista_de_numeros = [1, 2, 3, 4, 5]\n",
    "lista_de_numeros.append(6)\n",
    "print(lista_de_numeros)"
   ]
  },
  {
   "cell_type": "markdown",
   "metadata": {},
   "source": [
    "Para finalizar, um último exemplo mostrando adição de uma lista à outra lista com `append` e `extend`."
   ]
  },
  {
   "cell_type": "code",
   "execution_count": 24,
   "metadata": {},
   "outputs": [
    {
     "name": "stdout",
     "output_type": "stream",
     "text": [
      "[1, 2, 3, 4, 5, [6, 7, 8, 9]]\n"
     ]
    }
   ],
   "source": [
    "lista_de_numeros = [1, 2, 3, 4, 5]\n",
    "lista_de_numeros.append([6, 7, 8, 9])\n",
    "print(lista_de_numeros)"
   ]
  },
  {
   "cell_type": "code",
   "execution_count": 25,
   "metadata": {},
   "outputs": [
    {
     "name": "stdout",
     "output_type": "stream",
     "text": [
      "[1, 2, 3, 4, 5, 6, 7, 8, 9]\n"
     ]
    }
   ],
   "source": [
    "lista_de_numeros = [1, 2, 3, 4, 5]\n",
    "lista_de_numeros.extend([6, 7, 8, 9])\n",
    "print(lista_de_numeros)"
   ]
  },
  {
   "cell_type": "markdown",
   "metadata": {},
   "source": [
    "Conforme exemplificados acima, o `append` adiciona a lista `[6, 7, 8, 9]` como um objeto único, um elemento a mais na lista inicial, obtendo como resultado uma lista aninhada. O tamanho da lista final é o tamanho da lista inicial + 1 elemento.\n",
    "\n",
    "No caso do `extend`, os elementos da lista `[6, 7, 8, 9]` são adicionados um a um à lista inicial. O tamanho da lista final é é o total de elementos da lista inicial + o total de elementos da lista estendida."
   ]
  },
  {
   "cell_type": "markdown",
   "metadata": {},
   "source": [
    "#### Insert"
   ]
  },
  {
   "cell_type": "markdown",
   "metadata": {},
   "source": [
    "Tanto o `append` quanto o `extend` só adicionam/estendem elementos ao final da lista. O `insert` tem o mesmo comportamento do `append`, sendo possível especificar o índice na qual o elemento será inserido.\n",
    "\n",
    "Nesta altura do livro, espero que você tenha entendido e se lembre que **a indexação em Python começa por 0!**"
   ]
  },
  {
   "cell_type": "code",
   "execution_count": 26,
   "metadata": {},
   "outputs": [
    {
     "name": "stdout",
     "output_type": "stream",
     "text": [
      "['maçã', 'morango', 'banana', 'laranja']\n"
     ]
    }
   ],
   "source": [
    "frutas = [\"maçã\", \"banana\", \"laranja\"]\n",
    "frutas.insert(1, \"morango\")\n",
    "print(frutas)"
   ]
  },
  {
   "cell_type": "markdown",
   "metadata": {},
   "source": [
    "### Remoção de elementos"
   ]
  },
  {
   "cell_type": "markdown",
   "metadata": {},
   "source": [
    "Para remoção de elementos, também temos 3 métodos:\n",
    "\n",
    "- `remove( )`: Remove a primeira ocorrência de um item da lista.\n",
    "- `pop( )`: Remove e retorna o item em uma posição específica.\n",
    "- `clear( )`: Remove todos os itens da lista."
   ]
  },
  {
   "cell_type": "markdown",
   "metadata": {},
   "source": [
    "#### Remove"
   ]
  },
  {
   "cell_type": "markdown",
   "metadata": {},
   "source": [
    "O método `remove` apaga **a primeira ocorrência da esquerda para direita** de um item da lista."
   ]
  },
  {
   "cell_type": "code",
   "execution_count": 27,
   "metadata": {},
   "outputs": [
    {
     "name": "stdout",
     "output_type": "stream",
     "text": [
      "['maçã', 'laranja', 'banana']\n"
     ]
    }
   ],
   "source": [
    "frutas = [\"maçã\", \"banana\", \"laranja\", \"banana\"]\n",
    "frutas.remove(\"banana\")\n",
    "print(frutas)"
   ]
  },
  {
   "cell_type": "markdown",
   "metadata": {},
   "source": [
    "Observem que tínhamos 2 ocorrências de `banana` na lista inicial, nos índices 1 e 3 da lista. A primeira aplicação de `frutas.remove('banana')` removeu apenas `banana` do índice 1."
   ]
  },
  {
   "cell_type": "code",
   "execution_count": 28,
   "metadata": {
    "tags": [
     "raises-exception"
    ]
   },
   "outputs": [
    {
     "ename": "ValueError",
     "evalue": "list.remove(x): x not in list",
     "output_type": "error",
     "traceback": [
      "\u001b[1;31m---------------------------------------------------------------------------\u001b[0m",
      "\u001b[1;31mValueError\u001b[0m                                Traceback (most recent call last)",
      "Cell \u001b[1;32mIn[28], line 2\u001b[0m\n\u001b[0;32m      1\u001b[0m frutas \u001b[38;5;241m=\u001b[39m [\u001b[38;5;124m'\u001b[39m\u001b[38;5;124mmaçã\u001b[39m\u001b[38;5;124m'\u001b[39m, \u001b[38;5;124m'\u001b[39m\u001b[38;5;124mbanana\u001b[39m\u001b[38;5;124m'\u001b[39m, \u001b[38;5;124m'\u001b[39m\u001b[38;5;124mlaranja\u001b[39m\u001b[38;5;124m'\u001b[39m, \u001b[38;5;124m'\u001b[39m\u001b[38;5;124mbanana\u001b[39m\u001b[38;5;124m'\u001b[39m]\n\u001b[1;32m----> 2\u001b[0m \u001b[43mfrutas\u001b[49m\u001b[38;5;241;43m.\u001b[39;49m\u001b[43mremove\u001b[49m\u001b[43m(\u001b[49m\u001b[38;5;124;43m'\u001b[39;49m\u001b[38;5;124;43mfruta inexistente\u001b[39;49m\u001b[38;5;124;43m'\u001b[39;49m\u001b[43m)\u001b[49m\n\u001b[0;32m      3\u001b[0m \u001b[38;5;28mprint\u001b[39m(frutas)\n",
      "\u001b[1;31mValueError\u001b[0m: list.remove(x): x not in list"
     ]
    }
   ],
   "source": [
    "frutas = [\"maçã\", \"banana\", \"laranja\", \"banana\"]\n",
    "frutas.remove(\"fruta inexistente\")\n",
    "print(frutas)"
   ]
  },
  {
   "cell_type": "markdown",
   "metadata": {},
   "source": [
    "Caso o elemento não seja encontrado, o nosso código vai apresentar o erro com a mensagem `ValueError: list.remove(x): x not in list`, informando que o elemento passado não está na lista"
   ]
  },
  {
   "cell_type": "markdown",
   "metadata": {},
   "source": [
    "#### Pop"
   ]
  },
  {
   "cell_type": "markdown",
   "metadata": {},
   "source": [
    "O método `pop` **remove** e **retorna** o item em um índice específico.\n",
    "\n",
    "O `pop` atua diferente do `remove`. No `remove` passamos o elemento em si, e no `pop` passamos a posição do elemento que será removido, e não o elemento em si."
   ]
  },
  {
   "cell_type": "code",
   "execution_count": 30,
   "metadata": {},
   "outputs": [
    {
     "name": "stdout",
     "output_type": "stream",
     "text": [
      "['banana', 'laranja']\n"
     ]
    }
   ],
   "source": [
    "frutas = [\"maçã\", \"banana\", \"laranja\"]\n",
    "frutas.pop(0)\n",
    "print(frutas)"
   ]
  },
  {
   "cell_type": "markdown",
   "metadata": {},
   "source": [
    "Além disso, há outra diferença. No caso do `remove`, não conseguimos salvar o elemento removido em uma variável, pois ele não é retornado. Já no `pop`, o elemento removido é retornado, sendo possível salvá-lo em uma variável para uso posterior. Vejamos exemplos:\n",
    "\n",
    "Quando salvamos o resultado de `frutas.remove(\"banana\")` na variável `fruta_removida`, ela não recebe nenhum valor, e acaba representanda pelo valor nulo `None` em Python."
   ]
  },
  {
   "cell_type": "code",
   "execution_count": 32,
   "metadata": {},
   "outputs": [
    {
     "name": "stdout",
     "output_type": "stream",
     "text": [
      "None\n"
     ]
    }
   ],
   "source": [
    "frutas = [\"maçã\", \"banana\", \"laranja\", \"banana\"]\n",
    "fruta_removida = frutas.remove(\"banana\")\n",
    "print(fruta_removida)"
   ]
  },
  {
   "cell_type": "markdown",
   "metadata": {},
   "source": [
    "Porém, quando salvamos o resultado de `frutas.pop(0)` na variável `fruta_removida`, ela recebe o valor do elemento removido. Por isso frisei a funcionalidade do `pop` como remove **e retorna** o item pela posição. "
   ]
  },
  {
   "cell_type": "code",
   "execution_count": 35,
   "metadata": {},
   "outputs": [
    {
     "name": "stdout",
     "output_type": "stream",
     "text": [
      "maçã\n",
      "['banana', 'laranja', 'banana']\n"
     ]
    }
   ],
   "source": [
    "frutas = [\"maçã\", \"banana\", \"laranja\", \"banana\"]\n",
    "fruta_removida = frutas.pop(0)\n",
    "print(fruta_removida)\n",
    "print(frutas)"
   ]
  },
  {
   "cell_type": "markdown",
   "metadata": {},
   "source": [
    "Quando nenhum índice é passado para o `pop`, ele remove e retorna o último elemento da lista por padrão."
   ]
  },
  {
   "cell_type": "code",
   "execution_count": 37,
   "metadata": {},
   "outputs": [
    {
     "name": "stdout",
     "output_type": "stream",
     "text": [
      "banana\n",
      "['maçã', 'banana', 'laranja']\n"
     ]
    }
   ],
   "source": [
    "frutas = [\"maçã\", \"banana\", \"laranja\", \"banana\"]\n",
    "fruta_removida = frutas.pop()\n",
    "print(fruta_removida)\n",
    "print(frutas)"
   ]
  },
  {
   "cell_type": "markdown",
   "metadata": {},
   "source": [
    "#### Informações sobre a lista"
   ]
  },
  {
   "cell_type": "markdown",
   "metadata": {},
   "source": [
    "Aqui temos 2 métodos:\n",
    "\n",
    "- `index()`: Retorna o índice da primeira ocorrência de um item.\n",
    "- `count()`: Retorna o número de ocorrências de um item na lista."
   ]
  },
  {
   "cell_type": "markdown",
   "metadata": {},
   "source": [
    "#### Index"
   ]
  },
  {
   "cell_type": "markdown",
   "metadata": {},
   "source": [
    "O método `index` é bem simples e serve para buscar pelo menor índice de um dado elemento, sendo muito útil em localizar a posição de itens em uma lista. No exemplo abaixo, o primeiro índice encontrado para `banana` é o índice 1."
   ]
  },
  {
   "cell_type": "code",
   "execution_count": 39,
   "metadata": {},
   "outputs": [
    {
     "name": "stdout",
     "output_type": "stream",
     "text": [
      "Menor índice encontrado: 1\n"
     ]
    }
   ],
   "source": [
    "frutas = [\"maçã\", \"banana\", \"laranja\", \"banana\"]\n",
    "indice = frutas.index(\"banana\")\n",
    "print(\"Menor índice encontrado:\", indice)"
   ]
  },
  {
   "cell_type": "markdown",
   "metadata": {},
   "source": [
    "Caso o elemento não seja encontrado, o erro `ValueError` equivalente ao `remove` aparecerá."
   ]
  },
  {
   "cell_type": "code",
   "execution_count": null,
   "metadata": {"tags": [
    "raises-exception"
   ]},
   "outputs": [],
   "source": [
    "frutas = [\"maçã\", \"banana\", \"laranja\", \"banana\"]\n",
    "indice = frutas.index(\"banana\")\n",
    "print(\"Menor índice encontrado:\", indice)"
   ]
  }
 ],
 "metadata": {
  "kernelspec": {
   "display_name": ".venv",
   "language": "python",
   "name": "python3"
  },
  "language_info": {
   "codemirror_mode": {
    "name": "ipython",
    "version": 3
   },
   "file_extension": ".py",
   "mimetype": "text/x-python",
   "name": "python",
   "nbconvert_exporter": "python",
   "pygments_lexer": "ipython3",
   "version": "3.12.2"
  }
 },
 "nbformat": 4,
 "nbformat_minor": 2
}
