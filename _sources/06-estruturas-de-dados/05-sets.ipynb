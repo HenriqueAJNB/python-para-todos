{
 "cells": [
  {
   "cell_type": "markdown",
   "metadata": {},
   "source": [
    "# Sets"
   ]
  },
  {
   "cell_type": "markdown",
   "metadata": {},
   "source": [
    "Sets é uma estrutura de dados um tanto quanto interessante (e pouco falada, na minha visão). Trata-se de uma sequencia também, assim como lista e tuplas, mas com algumas características bem distintas:\n",
    "\n",
    "- **Elementos únicos:** Um set não permite que elementos duplicados sejam armazenados. Se você tentar adicionar o mesmo elemento mais de uma vez, ele será armazenado apenas uma vez.\n",
    "\n",
    "- **Sem ordem definida:** Os elementos em um set não têm uma ordem específica. Diferente de listas ou tuplas, onde a ordem dos elementos é importante, em sets a posição dos elementos não é garantida e pode variar.\n",
    "\n",
    "- **Operações matemáticas:** Sets suportam operações matemáticas como união, interseção, diferença e diferença simétrica, que são úteis para comparar e combinar conjuntos de dados.\n",
    "\n",
    "\n",
    "Vamos aprofundar mais neste capítulo. Sugiro fortemente que você leia a documntação oficial sobre sets [aqui](https://docs.python.org/3/library/stdtypes.html#set), ela é a base deste capítulo todo."
   ]
  },
  {
   "cell_type": "markdown",
   "metadata": {},
   "source": [
    "## Sintaxe básica"
   ]
  },
  {
   "cell_type": "markdown",
   "metadata": {},
   "source": [
    "a sintaxe básica para criar um set envolve colocar os elementos entre chaves `{}`. Por exemplo, `conjunto = {1, 2, 3, 3}` cria um set contendo os números 1, 2 e 3 (o 3 aparece apenas uma vez, pois o set elimina duplicatas de forma automática)."
   ]
  },
  {
   "cell_type": "code",
   "execution_count": 1,
   "metadata": {},
   "outputs": [
    {
     "name": "stdout",
     "output_type": "stream",
     "text": [
      "{1, 2, 3}\n"
     ]
    }
   ],
   "source": [
    "conjunto = {1, 2, 3, 3}\n",
    "print(conjunto)"
   ]
  },
  {
   "cell_type": "markdown",
   "metadata": {},
   "source": [
    "A diferença entre a sintaxe de um set e a de um dicionário está no formato e no propósito de cada estrutura, apesar de ambos se iniciarem com `{}`.\n",
    "\n",
    "```{admonition} Nota (type)\n",
    ":class: note\n",
    "Lembra da função `type`? Se quiser de fato conferir se uma variável que começa e termina com `{}` é um set ou dicionário, é possível verificar com a função `type`.\n",
    "```\n",
    "\n",
    "Um set é uma coleção de elementos únicos, sem nenhuma relação de chave e valor, e os elementos são separados por vírgulas dentro das chaves. Já um dicionário também é criado com chaves `{}`, mas ele armazena pares de chave e valor, como `pessoa = {\"nome\": \"João\", \"idade\": 30}`. No dicionário, cada chave é associada a um valor específico, enquanto no set, você apenas tem valores sem uma chave correspondente.\n",
    "\n",
    "Portanto, a principal diferença na sintaxe é que em um set, você apenas lista os elementos, enquanto em um dicionário, você precisa especificar chaves e valores, separados por dois pontos `:`."
   ]
  },
  {
   "cell_type": "markdown",
   "metadata": {},
   "source": [
    "## Caso de uso real"
   ]
  },
  {
   "cell_type": "markdown",
   "metadata": {},
   "source": [
    "Supondo que uma pessoa A tenha uma carteira de investimento com os seguintes fundos imobiliários: BPFF11, BTLG11, CSHG11, FEXC11, FIIB11, HFOF11, HGLG11 e HGRE11.\n",
    "\n",
    "Uma outra pessoa B também tem uma outra carteira de fundos imobiliários com os seguintes fundos: BCFF11, FIIJ11, GGRC11, HFOF11,  HGLG11, HGLG11,  HGPO11 e HGRU11.\n",
    "\n",
    "Com sets podemos rapidamente responder às seguintes perguntas:"
   ]
  },
  {
   "cell_type": "code",
   "execution_count": 2,
   "metadata": {},
   "outputs": [
    {
     "name": "stdout",
     "output_type": "stream",
     "text": [
      "{'HFOF11', 'HGLG11'}\n"
     ]
    }
   ],
   "source": [
    "investimentos_pessoa_a = {\"BPFF11\", \"BTLG11\", \"CSHG11\", \"FEXC11\", \"FIIB11\", \"HFOF11\", \"HGLG11\", \"HGRE11\"}\n",
    "investimentos_pessoa_b = {\"BCFF11\",\"FIIJ11\",\"GGRC11\",\"HFOF11\", \"HGLG11\",\"HGLG11\", \"HGPO11\",\"HGRU11\"}\n",
    "\n",
    "# Quais são os ativos em comum entre as pessoas A e B?\n",
    "investimentos_em_comum = investimentos_pessoa_a.intersection(investimentos_pessoa_b)\n",
    "print(investimentos_em_comum)"
   ]
  },
  {
   "cell_type": "code",
   "execution_count": 3,
   "metadata": {},
   "outputs": [
    {
     "name": "stdout",
     "output_type": "stream",
     "text": [
      "{'GGRC11', 'HGLG11', 'BTLG11', 'HGPO11', 'BPFF11', 'FIIB11', 'HGRU11', 'HFOF11', 'CSHG11', 'FIIJ11', 'FEXC11', 'BCFF11', 'HGRE11'}\n"
     ]
    }
   ],
   "source": [
    "investimentos_pessoa_a = {\"BPFF11\", \"BTLG11\", \"CSHG11\", \"FEXC11\", \"FIIB11\", \"HFOF11\", \"HGLG11\", \"HGRE11\"}\n",
    "investimentos_pessoa_b = {\"BCFF11\",\"FIIJ11\",\"GGRC11\",\"HFOF11\", \"HGLG11\",\"HGLG11\", \"HGPO11\",\"HGRU11\"}\n",
    "\n",
    "# Quais são os ativos das carteiras de ambas as pessoas (A, B ou ambas)?\n",
    "todos_os_ativos = investimentos_pessoa_a.union(investimentos_pessoa_b)\n",
    "print(todos_os_ativos)"
   ]
  },
  {
   "cell_type": "code",
   "execution_count": 4,
   "metadata": {},
   "outputs": [
    {
     "name": "stdout",
     "output_type": "stream",
     "text": [
      "{'BTLG11', 'BPFF11', 'FIIB11', 'CSHG11', 'FEXC11', 'HGRE11'}\n"
     ]
    }
   ],
   "source": [
    "investimentos_pessoa_a = {\"BPFF11\", \"BTLG11\", \"CSHG11\", \"FEXC11\", \"FIIB11\", \"HFOF11\", \"HGLG11\", \"HGRE11\"}\n",
    "investimentos_pessoa_b = {\"BCFF11\",\"FIIJ11\",\"GGRC11\",\"HFOF11\", \"HGLG11\",\"HGLG11\", \"HGPO11\",\"HGRU11\"}\n",
    "\n",
    "# Quais são os ativos que somente a pessoa A tem em carteira?\n",
    "investimentos_exclusivos_pessoa_a = investimentos_pessoa_a - investimentos_pessoa_b\n",
    "print(investimentos_exclusivos_pessoa_a)"
   ]
  },
  {
   "cell_type": "code",
   "execution_count": 5,
   "metadata": {},
   "outputs": [
    {
     "name": "stdout",
     "output_type": "stream",
     "text": [
      "{'GGRC11', 'HGPO11', 'HGRU11', 'BCFF11', 'FIIJ11'}\n"
     ]
    }
   ],
   "source": [
    "investimentos_pessoa_a = {\"BPFF11\", \"BTLG11\", \"CSHG11\", \"FEXC11\", \"FIIB11\", \"HFOF11\", \"HGLG11\", \"HGRE11\"}\n",
    "investimentos_pessoa_b = {\"BCFF11\",\"FIIJ11\",\"GGRC11\",\"HFOF11\", \"HGLG11\",\"HGLG11\", \"HGPO11\",\"HGRU11\"}\n",
    "\n",
    "# Quais são os ativos que somente a pessoa B tem em carteira?\n",
    "investimentos_exclusivos_pessoa_b = investimentos_pessoa_b - investimentos_pessoa_a\n",
    "print(investimentos_exclusivos_pessoa_b)"
   ]
  },
  {
   "cell_type": "markdown",
   "metadata": {},
   "source": [
    "## Teoria dos conjuntos"
   ]
  },
  {
   "cell_type": "markdown",
   "metadata": {},
   "source": [
    "Sets são a estrutura ideal para trabalharmos pensando em teoria dos conjuntos.Na teoria dos conjuntos, trabalhamos com operações que nos ajudam a combinar, comparar e manipular coleções de elementos. Em Python, a estrutura de dados set (conjunto) oferece uma maneira eficiente de realizar essas operações. Vamos explorar as principais operações entre conjuntos.\n",
    "\n",
    "```{image} ../img/06-05-sets-theory.png\n",
    ":name: sets-theory\n",
    "```\n",
    "*<p style=\"text-align: center;\">Teoria dos conjuntos (fonte: autoria própria)</p>*"
   ]
  },
  {
   "cell_type": "markdown",
   "metadata": {},
   "source": [
    "### União (Union)"
   ]
  },
  {
   "cell_type": "markdown",
   "metadata": {},
   "source": [
    "A união de dois conjuntos A e B resulta em um novo conjunto que contém todos os elementos de A e B, sem duplicatas. Em Python, usamos o operador `|` ou o método `.union()` para realizar a união."
   ]
  },
  {
   "cell_type": "code",
   "execution_count": 6,
   "metadata": {},
   "outputs": [
    {
     "name": "stdout",
     "output_type": "stream",
     "text": [
      "{1, 2, 3, 4, 5}\n"
     ]
    }
   ],
   "source": [
    "conjunto_a = {1, 2, 3}\n",
    "conjunto_b = {3, 4, 5}\n",
    "\n",
    "# Operador |\n",
    "uniao = conjunto_a | conjunto_b\n",
    "print(uniao)\n",
    "\n",
    "uniao = conjunto_a.union(conjunto_b)"
   ]
  },
  {
   "cell_type": "code",
   "execution_count": 7,
   "metadata": {},
   "outputs": [
    {
     "name": "stdout",
     "output_type": "stream",
     "text": [
      "{1, 2, 3, 4, 5}\n"
     ]
    }
   ],
   "source": [
    "conjunto_a = {1, 2, 3}\n",
    "conjunto_b = {3, 4, 5}\n",
    "\n",
    "# Método .union()\n",
    "uniao = conjunto_a.union(conjunto_b)\n",
    "print(uniao)"
   ]
  },
  {
   "cell_type": "markdown",
   "metadata": {},
   "source": [
    "### Intersecção (Intersection)"
   ]
  },
  {
   "cell_type": "markdown",
   "metadata": {},
   "source": [
    "A intersecção de dois conjuntos A e B resulta em um novo conjunto que contém apenas os elementos que estão em ambos os conjuntos. Em Python, usamos o operador `&` ou o método `.intersection()`."
   ]
  },
  {
   "cell_type": "code",
   "execution_count": 8,
   "metadata": {},
   "outputs": [
    {
     "name": "stdout",
     "output_type": "stream",
     "text": [
      "{3}\n"
     ]
    }
   ],
   "source": [
    "conjunto_a = {1, 2, 3}\n",
    "conjunto_b = {3, 4, 5}\n",
    "\n",
    "interseccao = conjunto_a & conjunto_b\n",
    "print(interseccao)"
   ]
  },
  {
   "cell_type": "code",
   "execution_count": 9,
   "metadata": {},
   "outputs": [
    {
     "name": "stdout",
     "output_type": "stream",
     "text": [
      "{3}\n"
     ]
    }
   ],
   "source": [
    "conjunto_a = {1, 2, 3}\n",
    "conjunto_b = {3, 4, 5}\n",
    "\n",
    "interseccao = conjunto_a.intersection(conjunto_b)\n",
    "print(interseccao)"
   ]
  },
  {
   "cell_type": "markdown",
   "metadata": {},
   "source": [
    "### Diferença (Difference)"
   ]
  },
  {
   "cell_type": "markdown",
   "metadata": {},
   "source": [
    "A diferença entre dois conjuntos A e B resulta em um novo conjunto que contém os elementos que estão em A, mas não em B. Usamos o operador de menos `-` ou o método `.difference()`."
   ]
  },
  {
   "cell_type": "code",
   "execution_count": 10,
   "metadata": {},
   "outputs": [
    {
     "name": "stdout",
     "output_type": "stream",
     "text": [
      "{1, 2}\n"
     ]
    }
   ],
   "source": [
    "conjunto_a = {1, 2, 3}\n",
    "conjunto_b = {3, 4, 5}\n",
    "\n",
    "diferenca = conjunto_a - conjunto_b\n",
    "print(diferenca)"
   ]
  },
  {
   "cell_type": "code",
   "execution_count": 11,
   "metadata": {},
   "outputs": [
    {
     "name": "stdout",
     "output_type": "stream",
     "text": [
      "{1, 2}\n"
     ]
    }
   ],
   "source": [
    "conjunto_a = {1, 2, 3}\n",
    "conjunto_b = {3, 4, 5}\n",
    "\n",
    "diferenca = conjunto_a.difference(conjunto_b)\n",
    "print(diferenca)"
   ]
  },
  {
   "cell_type": "markdown",
   "metadata": {},
   "source": [
    "### Diferença simétrica (symmetric difference)"
   ]
  },
  {
   "cell_type": "markdown",
   "metadata": {},
   "source": [
    "A diferença simétrica entre dois conjuntos A e B resulta em um novo conjunto que contém os elementos que estão em A ou B, mas não em ambos. Usamos o operador `^` ou o método `.symmetric_difference().`"
   ]
  },
  {
   "cell_type": "code",
   "execution_count": 12,
   "metadata": {},
   "outputs": [
    {
     "name": "stdout",
     "output_type": "stream",
     "text": [
      "{1, 2, 4, 5}\n"
     ]
    }
   ],
   "source": [
    "conjunto_a = {1, 2, 3}\n",
    "conjunto_b = {3, 4, 5}\n",
    "\n",
    "diferenca_simetrica = conjunto_a.symmetric_difference(conjunto_b)\n",
    "print(diferenca_simetrica)"
   ]
  },
  {
   "cell_type": "code",
   "execution_count": 13,
   "metadata": {},
   "outputs": [
    {
     "name": "stdout",
     "output_type": "stream",
     "text": [
      "{1, 2, 4, 5}\n"
     ]
    }
   ],
   "source": [
    "conjunto_a = {1, 2, 3}\n",
    "conjunto_b = {3, 4, 5}\n",
    "\n",
    "diferenca_simetrica = conjunto_a ^ conjunto_b\n",
    "print(diferenca_simetrica)"
   ]
  },
  {
   "cell_type": "markdown",
   "metadata": {},
   "source": [
    "### Verificação de continência (subset e superset)"
   ]
  },
  {
   "cell_type": "markdown",
   "metadata": {},
   "source": [
    "- **Subconjunto (subset):** Verifica se todos os elementos de um conjunto estão presentes em outro conjunto. Usamos o operador `<=` ou o método `.issubset()`.\n",
    "\n",
    "- **Superconjunto (superset):** Verifica se todos os elementos de um conjunto estão presentes em outro conjunto. Usamos o operador `>=` ou o método `.issuperset()`."
   ]
  },
  {
   "cell_type": "code",
   "execution_count": 19,
   "metadata": {},
   "outputs": [
    {
     "name": "stdout",
     "output_type": "stream",
     "text": [
      "Subconjunto\n",
      "O conjunto C é um subconjunto de A? Usando o operador <= : True\n",
      "O conjunto C é um subconjunto de A? Usando o método .issubset() : True\n",
      "\n",
      "Superconjunto\n",
      "O conjunto B é um superconjunto de C? Usando o operador >= : False\n",
      "O conjunto B é um superconjunto de C? Usando o método .issuperset() : False\n"
     ]
    }
   ],
   "source": [
    "conjunto_a = {1, 2, 3}\n",
    "conjunto_b = {3, 4, 5}\n",
    "\n",
    "conjunto_c = {1, 2}\n",
    "\n",
    "print(\"Subconjunto\")\n",
    "print(f\"O conjunto C é um subconjunto de A? Usando o operador <= : {conjunto_c <= conjunto_a}\")\n",
    "print(f\"O conjunto C é um subconjunto de A? Usando o método .issubset() : {conjunto_c.issubset(conjunto_a)}\\n\")\n",
    "\n",
    "print(\"Superconjunto\")\n",
    "print(f\"O conjunto B é um superconjunto de C? Usando o operador >= : {conjunto_b >= conjunto_c}\")\n",
    "print(f\"O conjunto B é um superconjunto de C? Usando o método .issuperset() : {conjunto_b.issuperset(conjunto_c)}\")"
   ]
  },
  {
   "cell_type": "markdown",
   "metadata": {},
   "source": [
    "### Pertencimento"
   ]
  },
  {
   "cell_type": "markdown",
   "metadata": {},
   "source": [
    "Podemos verificar se um elemento pertence a um conjunto usando o operador `in` ou `not in`."
   ]
  },
  {
   "cell_type": "code",
   "execution_count": 20,
   "metadata": {},
   "outputs": [
    {
     "name": "stdout",
     "output_type": "stream",
     "text": [
      "True\n",
      "True\n"
     ]
    }
   ],
   "source": [
    "conjunto_a = {1, 2, 3}\n",
    "\n",
    "# Pertence\n",
    "print(2 in conjunto_a)\n",
    "\n",
    "# Não pertence\n",
    "print(6 not in conjunto_a)"
   ]
  },
  {
   "cell_type": "markdown",
   "metadata": {},
   "source": [
    "## Prática"
   ]
  },
  {
   "cell_type": "markdown",
   "metadata": {},
   "source": [
    "Sugiro o [exercício 11](exercicio-11) da lista para você praticar a estrutura de sets."
   ]
  },
  {
   "cell_type": "markdown",
   "metadata": {},
   "source": [
    "## Conclusão"
   ]
  },
  {
   "cell_type": "markdown",
   "metadata": {},
   "source": [
    "Neste capítulo, exploramos em detalhes os sets em Python, uma estrutura de dados fundamental para lidar com teoria dos conjuntos. Aprendemos que sets são coleções não ordenadas de elementos únicos, o que os torna extremamente úteis para tarefas como remoção de duplicatas, testes de pertinência e operações entre conjuntos.\n",
    "\n",
    "Vimos como criar sets, adicionar e remover elementos, e realizar operações comuns, como união, interseção e diferença. Exploramos as principais propriedades dos sets, como a impossibilidade de duplicatas e a natureza desordenada dos elementos. Isso os torna uma escolha ideal quando a ordem dos elementos não é relevante, mas a unicidade é essencial.\n",
    "\n",
    "Além disso, discutimos o uso prático de sets em situações do mundo real, como verificação de ações exclusivas em carteiras de investimentos, identificação de amigos em comum em redes sociais e muito mais. Demonstramos como os sets podem simplificar significativamente muitos problemas comuns, tornando-os uma ferramenta essencial no arsenal do desenvolvedor Python.\n",
    "\n",
    "À medida que você continuar a explorar a linguagem Python, recomendo manter os sets em mente e considerar seu uso sempre que precisar trabalhar com coleções de elementos únicos. Sua eficiência e sua sintaxe concisa os tornam uma opção poderosa para uma ampla gama de tarefas de programação.\n",
    "\n",
    "Com o domínio das estruturas de dados básicas, como strings, listas, tuplas, dicionários e sets, agora estamos prontos para avançar para o próximo tópico: fluxos de controle. Lá, aprenderemos a criar estruturas de decisão, os famosos `if-else-elif` e de repetição, `for` e `while`, que nos permitirão escrever códigos cada vez mais sofisticados e adaptáveis."
   ]
  },
  {
   "cell_type": "markdown",
   "metadata": {},
   "source": []
  }
 ],
 "metadata": {
  "kernelspec": {
   "display_name": ".venv",
   "language": "python",
   "name": "python3"
  },
  "language_info": {
   "codemirror_mode": {
    "name": "ipython",
    "version": 3
   },
   "file_extension": ".py",
   "mimetype": "text/x-python",
   "name": "python",
   "nbconvert_exporter": "python",
   "pygments_lexer": "ipython3",
   "version": "3.12.2"
  }
 },
 "nbformat": 4,
 "nbformat_minor": 2
}
