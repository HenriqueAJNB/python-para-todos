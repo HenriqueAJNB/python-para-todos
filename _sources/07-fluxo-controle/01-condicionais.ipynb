{
 "cells": [
  {
   "cell_type": "markdown",
   "metadata": {},
   "source": [
    "# Estrutura de decisão"
   ]
  },
  {
   "cell_type": "markdown",
   "metadata": {},
   "source": [
    "Imagine que você está planejando um piquenique. Antes de sair de casa, você provavelmente verifica o tempo. Se estiver ensolarado, você vai ao parque e não leva guarda-chuvas. Se estiver chovendo, ou você vai ao parque e leva guarda-chuvas ou você fica em casa. Essa é uma estrutura de decisão simples que usamos todos os dias.\n",
    "\n",
    "Em programação, especialmente em Python, usamos estruturas semelhantes para fazer nossos programas tomarem decisões. Essas estruturas são chamadas de *estruturas de decisão* ou *estruturas condicionais*.\n",
    "\n",
    "Neste capítulo, vamos aprender como fazer o computador tomar decisões usando Python. Vamos explorar:\n",
    "\n",
    "- A estrutura básica `if` (se)\n",
    "- Como adicionar alternativas com `else` (senão)\n",
    "- Múltiplas condições com `elif` (senão se)\n",
    "\n",
    "Não se preocupe se esses termos parecerem estranhos agora. Vamos explicar cada um deles com exemplos simples e práticos que qualquer pessoa pode entender, mesmo sem experiência prévia com esse tipo de estrutura em programação."
   ]
  },
  {
   "cell_type": "markdown",
   "metadata": {},
   "source": [
    "## O que é uma condição?"
   ]
  },
  {
   "cell_type": "markdown",
   "metadata": {},
   "source": [
    "Antes de irmos direto para o código, é importante entendermos o conceito de **condição** em programação.\n",
    "\n",
    "Imagine que você está em uma loja de sorvetes. Antes de fazer seu pedido, você provavelmente se pergunta: \"tenho dinheiro suficiente?\". A resposta a essa pergunta só pode ser *sim* ou *não*. Em programação, chamamos esse tipo de pergunta de *condição*, na qual só há duas possíveis respostas, sejam elas quais forem (0 ou 1, sim ou não, contém e não contém, possui e não possui, vai ou não vai, etc.).\n",
    "\n",
    "Uma condição em Python é qualquer coisa, literalmente, que pode ser avaliada como verdadeira (`True`) ou falsa (`False`). Essas duas únicas opções de resposta são chamadas de valores booleanos.\n",
    "\n",
    "Ao longo do livro já vimos alguns métodos, funções e operações que retornam valores booleanos. Vamos recordar algumas?\n",
    "\n",
    "Há vários métodos e operações de strings que podem ser usados como condicional. Qualquer método que de string de verificação que comece por `str.is...()` é uma condicional:"
   ]
  },
  {
   "cell_type": "code",
   "execution_count": 2,
   "metadata": {},
   "outputs": [
    {
     "name": "stdout",
     "output_type": "stream",
     "text": [
      "False\n",
      "False\n",
      "False\n",
      "True\n"
     ]
    }
   ],
   "source": [
    "nome = \"Henrique\"\n",
    "\n",
    "print(nome.isupper())\n",
    "print(nome.islower())\n",
    "print(nome.isdigit())\n",
    "print(nome.istitle())"
   ]
  },
  {
   "cell_type": "markdown",
   "metadata": {},
   "source": [
    "Qualquer operação de continência com `in` ou `not in`, seja em strings, listas, sets ou dicionário, também podem ser condicionais:"
   ]
  },
  {
   "cell_type": "code",
   "execution_count": 6,
   "metadata": {},
   "outputs": [
    {
     "name": "stdout",
     "output_type": "stream",
     "text": [
      "True\n",
      "True\n",
      "True\n"
     ]
    }
   ],
   "source": [
    "nome = \"Henrique\"\n",
    "print(\"H\" in nome)\n",
    "\n",
    "salarios = [5000, 5500, 6000, 6300]\n",
    "print(5600 not in salarios)\n",
    "\n",
    "preco_produtos = {\"A\": 200, \"B\": 300, \"C\": 500, \"D\": 50}\n",
    "print(\"D\" in preco_produtos)\n"
   ]
  },
  {
   "cell_type": "markdown",
   "metadata": {},
   "source": [
    "Todas as comparações (igualdade, maior, menor, diferente) também são condicionais:\n",
    "\n",
    "```{admonition} Nota (operadores de comparação)\n",
    ":class: note\n",
    "Os operadores de comparação são maior (`>`), maior-igual (`>=`), menor (`<`), menor-igual (`<=), diferente (`!=`), igual (`==`). Reparem que o operador de comparação de igualdade (`==`) são *dois sinais de igual*. Não confundir com o operador de atribuição de valores (`=`).\n",
    "\n",
    "Repetindo: dois sinais de igual (`==`) é comparação; um sinal de igual (`=`) é atribuição.\n",
    "```"
   ]
  },
  {
   "cell_type": "code",
   "execution_count": null,
   "metadata": {},
   "outputs": [],
   "source": [
    "idade = 18\n",
    "\n",
    "print(idade > 18)\n",
    "print(idade != 18)\n",
    "print(idade == 18)"
   ]
  },
  {
   "cell_type": "markdown",
   "metadata": {},
   "source": [
    "Mantenha isso em mente: qualquer coisa (métodos, funções, variáveis, classes, operações) que retornem `True` ou `False` são considerados condicionais.\n",
    "\n",
    "Agora que entendemos o conceito do que é uma condição, vamos aprender mais sobre as estruturas condicionais."
   ]
  },
  {
   "cell_type": "markdown",
   "metadata": {},
   "source": [
    "## Sintáxe básica da estrutura condicional"
   ]
  },
  {
   "cell_type": "markdown",
   "metadata": {},
   "source": []
  }
 ],
 "metadata": {
  "kernelspec": {
   "display_name": ".venv",
   "language": "python",
   "name": "python3"
  },
  "language_info": {
   "codemirror_mode": {
    "name": "ipython",
    "version": 3
   },
   "file_extension": ".py",
   "mimetype": "text/x-python",
   "name": "python",
   "nbconvert_exporter": "python",
   "pygments_lexer": "ipython3",
   "version": "3.12.2"
  }
 },
 "nbformat": 4,
 "nbformat_minor": 2
}
