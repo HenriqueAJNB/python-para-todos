{
 "cells": [
  {
   "cell_type": "markdown",
   "metadata": {},
   "source": [
    "# Estrutura condicional"
   ]
  },
  {
   "cell_type": "markdown",
   "metadata": {},
   "source": [
    "Imagine que você está planejando um piquenique. Antes de sair de casa, você provavelmente verifica o tempo. Se estiver ensolarado, você vai ao parque e não leva guarda-chuvas. Se estiver chovendo, ou você vai ao parque e leva guarda-chuvas ou você fica em casa. Essa é uma estrutura de decisão simples que usamos todos os dias.\n",
    "\n",
    "Em programação, especialmente em Python, usamos estruturas semelhantes para fazer nossos programas tomarem decisões. Essas estruturas são chamadas de *estruturas de decisão* ou *estruturas condicionais*.\n",
    "\n",
    "Neste capítulo, vamos aprender como fazer o computador tomar decisões usando Python. Vamos explorar:\n",
    "\n",
    "- A estrutura básica `if` (se)\n",
    "- Como adicionar alternativas com `else` (senão)\n",
    "- Múltiplas condições com `elif` (senão se)\n",
    "\n",
    "Não se preocupe se esses termos parecerem estranhos agora. Vamos explicar cada um deles com exemplos simples e práticos que qualquer pessoa pode entender, mesmo sem experiência prévia com esse tipo de estrutura em programação."
   ]
  },
  {
   "cell_type": "markdown",
   "metadata": {},
   "source": [
    "## O que é uma condição?"
   ]
  },
  {
   "cell_type": "markdown",
   "metadata": {},
   "source": [
    "Antes de irmos direto para o código, é importante entendermos o conceito de **condição** em programação.\n",
    "\n",
    "Imagine que você está em uma loja de sorvetes. Antes de fazer seu pedido, você provavelmente se pergunta: \"tenho dinheiro suficiente?\". A resposta a essa pergunta só pode ser *sim* ou *não*. Em programação, chamamos esse tipo de pergunta de *condição*, na qual só há duas possíveis respostas, sejam elas quais forem (0 ou 1, sim ou não, contém e não contém, possui e não possui, vai ou não vai, etc.).\n",
    "\n",
    "Uma condição em Python é qualquer coisa, literalmente, que pode ser avaliada como verdadeira (`True`) ou falsa (`False`). Essas duas únicas opções de resposta são chamadas de valores booleanos.\n",
    "\n",
    "Ao longo do livro já vimos alguns métodos, funções e operações que retornam valores booleanos. Vamos recordar algumas?\n",
    "\n",
    "Há vários métodos e operações de strings que podem ser usados como condicional. Qualquer método que de string de verificação que comece por `str.is...()` é uma condicional:"
   ]
  },
  {
   "cell_type": "code",
   "execution_count": 1,
   "metadata": {},
   "outputs": [
    {
     "name": "stdout",
     "output_type": "stream",
     "text": [
      "False\n",
      "False\n",
      "False\n",
      "True\n"
     ]
    }
   ],
   "source": [
    "nome = \"Henrique\"\n",
    "\n",
    "print(nome.isupper())\n",
    "print(nome.islower())\n",
    "print(nome.isdigit())\n",
    "print(nome.istitle())"
   ]
  },
  {
   "cell_type": "markdown",
   "metadata": {},
   "source": [
    "Qualquer operação de continência com `in` ou `not in`, seja em strings, listas, sets ou dicionário, também podem ser condicionais:"
   ]
  },
  {
   "cell_type": "code",
   "execution_count": 2,
   "metadata": {},
   "outputs": [
    {
     "name": "stdout",
     "output_type": "stream",
     "text": [
      "True\n",
      "True\n",
      "True\n"
     ]
    }
   ],
   "source": [
    "nome = \"Henrique\"\n",
    "print(\"H\" in nome)\n",
    "\n",
    "salarios = [5000, 5500, 6000, 6300]\n",
    "print(5600 not in salarios)\n",
    "\n",
    "preco_produtos = {\"A\": 200, \"B\": 300, \"C\": 500, \"D\": 50}\n",
    "print(\"D\" in preco_produtos)\n"
   ]
  },
  {
   "cell_type": "markdown",
   "metadata": {},
   "source": [
    "Todas as comparações (igualdade, maior, menor, diferente) também são condicionais:\n",
    "\n",
    "```{admonition} Nota (operadores de comparação)\n",
    ":class: note\n",
    "Os operadores de comparação são maior (`>`), maior-igual (`>=`), menor (`<`), menor-igual (`<=), diferente (`!=`), igual (`==`). Reparem que o operador de comparação de igualdade (`==`) são *dois sinais de igual*. Não confundir com o operador de atribuição de valores (`=`).\n",
    "\n",
    "Repetindo: dois sinais de igual (`==`) é comparação; um sinal de igual (`=`) é atribuição.\n",
    "```"
   ]
  },
  {
   "cell_type": "code",
   "execution_count": 3,
   "metadata": {},
   "outputs": [
    {
     "name": "stdout",
     "output_type": "stream",
     "text": [
      "False\n",
      "False\n",
      "True\n"
     ]
    }
   ],
   "source": [
    "idade = 18\n",
    "\n",
    "print(idade > 18)\n",
    "print(idade != 18)\n",
    "print(idade == 18)"
   ]
  },
  {
   "cell_type": "markdown",
   "metadata": {},
   "source": [
    "Mantenha isso em mente: qualquer coisa (métodos, funções, variáveis, classes, operações) que retorne `True` ou `False` são considerados condicionais.\n",
    "\n",
    "Agora que entendemos o conceito do que é uma condição, vamos aprender mais sobre as estruturas condicionais."
   ]
  },
  {
   "cell_type": "markdown",
   "metadata": {},
   "source": [
    "## Sintáxe básica da estrutura condicional"
   ]
  },
  {
   "cell_type": "markdown",
   "metadata": {},
   "source": [
    "A estrutura condicional mais simples em Python é a instrução `if`. Podemos imaginá-la como uma forma de dar ao programa a capacidade de tomar decisões: \"se uma determinada condição for verdadeira, execute um bloco de código; caso contrário, siga em frente sem fazer nada.\"\n",
    "\n",
    "A sintaxe básica de uma estrutura condicional `if` em Python é simples e direta:"
   ]
  },
  {
   "cell_type": "code",
   "execution_count": 4,
   "metadata": {},
   "outputs": [
    {
     "name": "stdout",
     "output_type": "stream",
     "text": [
      "Você é maior de idade.\n"
     ]
    }
   ],
   "source": [
    "idade = 18\n",
    "\n",
    "if idade >= 18:\n",
    "    print(\"Você é maior de idade.\")"
   ]
  },
  {
   "cell_type": "markdown",
   "metadata": {},
   "source": [
    "No exemplo acima, a condição `idade >= 18` é uma expressão que o Python avalia como `True` (verdadeira) ou `False` (falsa). Aqui, estamos comparando a variável `idade` com o valor 18 usando o operador de comparação `>=` (maior ou igual). Se a expressão for avaliada como `True`, o bloco de código indentado abaixo da instrução `if` será executado, e a mensagem \"Você é maior de idade.\" será impressa na tela. Se a expressão for avaliada como `False`, o programa simplesmente ignorará o bloco de código do `if` e continuará a execução."
   ]
  },
  {
   "cell_type": "markdown",
   "metadata": {},
   "source": [
    "### Identação"
   ]
  },
  {
   "cell_type": "markdown",
   "metadata": {},
   "source": [
    "Quando escrevemos código dentro de um `if`, por exemplo, precisamos adicionar alguns espaços extras no começo da linha (geralmente 4 espaços). Isso é chamado de identação. Esses espaços mostram ao Python que o código indentado deve ser executado se a condição do `if` for verdadeira. Vejamos no exemplo abaixo:"
   ]
  },
  {
   "cell_type": "code",
   "execution_count": 5,
   "metadata": {},
   "outputs": [],
   "source": [
    "temperatura = 12\n",
    "\n",
    "if temperatura > 30:\n",
    "    print(\"Está muito quente hoje!\")\n",
    "    print(\"Lembre-se de beber água.\")"
   ]
  },
  {
   "cell_type": "markdown",
   "metadata": {},
   "source": [
    "As duas linhas com `print` estão indentadas, o que significa que elas pertencem ao bloco `if`. Se a condição `temperatura > 30` for verdadeira, o Python executará essas duas linhas. Se não usarmos a identação correta, o Python não vai entender o que fazer e dará um erro `IdentationError` justamente porque depois do `if` o Python espera que exista uma identação. Veja o erro mostrado abaixo:"
   ]
  },
  {
   "cell_type": "code",
   "execution_count": 6,
   "metadata": {
    "tags": [
     "raises-exception"
    ]
   },
   "outputs": [
    {
     "ename": "IndentationError",
     "evalue": "expected an indented block after 'if' statement on line 3 (2080134820.py, line 4)",
     "output_type": "error",
     "traceback": [
      "\u001b[1;36m  Cell \u001b[1;32mIn[6], line 4\u001b[1;36m\u001b[0m\n\u001b[1;33m    print(\"Está muito quente hoje!\")\u001b[0m\n\u001b[1;37m    ^\u001b[0m\n\u001b[1;31mIndentationError\u001b[0m\u001b[1;31m:\u001b[0m expected an indented block after 'if' statement on line 3\n"
     ]
    }
   ],
   "source": [
    "temperatura = 12\n",
    "\n",
    "if temperatura > 30:\n",
    "print(\"Está muito quente hoje!\")\n",
    "print(\"Lembre-se de beber água.\")"
   ]
  },
  {
   "cell_type": "markdown",
   "metadata": {},
   "source": [
    "## Adicionando uma segunda alternativa de com `else`"
   ]
  },
  {
   "cell_type": "markdown",
   "metadata": {},
   "source": [
    "E se quisermos que o programa faça algo diferente caso a condição não seja atendida? É aí que entra a instrução `else`. Vamos trazer outro exemplo:"
   ]
  },
  {
   "cell_type": "code",
   "execution_count": 23,
   "metadata": {},
   "outputs": [
    {
     "name": "stdout",
     "output_type": "stream",
     "text": [
      "Saldo insuficiente. Compra não aprovada.\n"
     ]
    }
   ],
   "source": [
    "preco_produto = 100\n",
    "saldo_cliente = 80\n",
    "\n",
    "if saldo_cliente >= preco_produto:\n",
    "    print(\"Compra aprovada. Processando pedido...\")\n",
    "    # Aqui viria o código para processar o pedido\n",
    "else:\n",
    "    print(\"Saldo insuficiente. Compra não aprovada.\")\n",
    "    # Aqui poderia haver código para sugerir opções ao cliente"
   ]
  },
  {
   "cell_type": "markdown",
   "metadata": {},
   "source": [
    "Para compreender melhor o código, vamos analisar a condição `saldo_cliente >= preco_produto`. Nesse exemplo, onde `preco_produto = 100` e `saldo_cliente = 80`, a condição resulta na comparação entre esses valores: `80 >= 100`. Como 80 não é maior ou igual a 100, a condição retorna `False`. Por conta disso, o bloco de código dentro do `if` é ignorado, e o código avança para o bloco `else`, que imprime a mensagem *Saldo insuficiente. Compra não aprovada.*.\n",
    "\n",
    "No gif abaixo, as linhas amarelas indicam a execução do código passo a passo, com a linha sendo executada destacada em amarelo. Observe que, ao avaliar a condição na linha 4 como `False`, o código avança para a linha 8, ignorando todas as instruções do bloco `if` e executando as do bloco `else`. Essa estrutura é conhecida como fluxo de controle de estruturas condicionais, pois nos permite controlar, com base em uma ou mais condições, quais partes do código serão executadas ou ignoradas. Em palavras mais simples, nosso código ganha, a partir de agora, a capacidade de decidir o fluxo do programa com base em uma ou mais condições condições.\n",
    "\n",
    "```{image} ../gifs/07-01-fluxo-condicional.gif\n",
    ":name: fluxo-condicional\n",
    "```"
   ]
  },
  {
   "cell_type": "markdown",
   "metadata": {},
   "source": [
    "## Trabalhando com mais que 2 condições"
   ]
  },
  {
   "cell_type": "markdown",
   "metadata": {},
   "source": [
    "Muita das vezes precisamos por vários motivos trabalhar com várias condições, e não apenas duas como no exemplo anterior. Para inserir mais condições na nossa árvore de decisões, podemos usar o `elif`. A sintaxe básica do `if-elif-else` é a seguinte:\n",
    "\n",
    "```python\n",
    "if condicao1:\n",
    "    # Código a ser executado caso a condição 1 seja True\n",
    "elif condicao2:\n",
    "    # Código a ser executado caso a condição 2 seja True\n",
    "elif condicao3:\n",
    "    # Código a ser executado caso a condição 3 seja True\n",
    "else:\n",
    "    # Código a ser executado caso nenhuma das condições acima seja True\n",
    "```\n",
    "\n",
    "O `elif` é uma abreviação de *else if*, que significa *senão, se*. Ele permite adicionar mais condições ao nosso código, além da condição inicial do `if`. Cada `elif` precisa necessariamenter ser seguido de uma condição, que será avaliada pelo Python. Se a condição for verdadeira, o bloco de código indentado abaixo do `elif` será executado. Se a condição for falsa, o Python passará para o próximo `elif` ou, se não houver mais `elif`, para o bloco `else`.\n",
    "\n",
    "Vamos ver um exemplo prático para entender melhor como funciona o bloco `if-elif-else`:\n",
    "\n",
    "```{admonition} Nota (separador de milhar)\n",
    ":class: note\n",
    "No exemplo abaixo, você vai notar um `1_000`. Esse `_` pode ser usado como símbolo de separador de milhar em números muito grandes com objetivo simplesmente de facilitar a leitura, puramente uma questão visual mesmo. É mais fácil ler um bilhão desta forma, `1_000_000_000`, do que desta outra forma, `1000000000`. \n",
    "\n",
    "Em termos de execução não muda nada, pois `1_000_000_000` continua sendo inteiro.\n",
    "```"
   ]
  },
  {
   "cell_type": "code",
   "execution_count": 24,
   "metadata": {},
   "outputs": [
    {
     "name": "stdout",
     "output_type": "stream",
     "text": [
      "Valor da compra: R$ 850.00\n",
      "Desconto aplicado: 10%\n",
      "Valor final a pagar: R$ 765.00\n"
     ]
    }
   ],
   "source": [
    "valor_compra = 850.00\n",
    "\n",
    "if valor_compra > 1_000:\n",
    "    desconto = 0.15  # 15% de desconto para compras acima de 1000\n",
    "elif valor_compra > 500:\n",
    "    desconto = 0.10  # 10% de desconto para compras entre 500 e 1000\n",
    "elif valor_compra > 100:\n",
    "    desconto = 0.05  # 5% de desconto para compras entre 100 e 500\n",
    "else:\n",
    "    desconto = 0.0  # Sem desconto para compras abaixo de 100\n",
    "\n",
    "valor_final = valor_compra - (valor_compra * desconto)\n",
    "\n",
    "print(f\"Valor da compra: R$ {valor_compra:.2f}\")\n",
    "print(f\"Desconto aplicado: {desconto * 100:.0f}%\")\n",
    "print(f\"Valor final a pagar: R$ {valor_final:.2f}\")"
   ]
  },
  {
   "cell_type": "markdown",
   "metadata": {},
   "source": [
    "No exemplo de uso de `if-elif-else`, é importante lembrar duas coisas:\n",
    "\n",
    "1. **A ordem das condições importa.** O Python avalia cada condição na ordem em que elas são escritas. Se a primeira condição for verdadeira, o bloco de código correspondente será executado, e o programa sairá do `if-elif-else`. Se a primeira condição for falsa, o Python avaliará a próxima condição, e assim por diante, até encontrar uma condição verdadeira ou chegar ao bloco `else`, que é executado se nenhuma das condições anteriores for verdadeira.\n",
    "\n",
    "2. **Apenas uma condição será executada.** No exemplo, apenas um dos descontos será aplicado: 15%, 10%, 5% ou nenhum. Explicando de outra forma: caso a condição do `if` seja `True`, nenhuma das condições no `elif` e `else` é avaliada; caso a condição do `if` seja `False`, o Python avalia a primeira condição do `elif` e, se for `True`, executa o bloco de código correspondente e ignora as demais condições; caso a primeira condição do `elif` seja `False`, o Python avalia a próxima condição, e assim por diante, até encontrar uma condição verdadeira ou chegar ao bloco `else`."
   ]
  },
  {
   "cell_type": "markdown",
   "metadata": {},
   "source": [
    "## Uma dúvida que sempre surge"
   ]
  },
  {
   "cell_type": "markdown",
   "metadata": {},
   "source": [
    "Quando estou explicando sobre esse tema, sempre surge a seguinte dúvida do exemplo acima.\n",
    "\n",
    "🤔 *Por que não usar vários `if` em vez de `if-elif-else`* ❓ \n",
    "\n",
    "Vamos mostrar um exemplo para entender melhor essa questão:"
   ]
  },
  {
   "cell_type": "code",
   "execution_count": 25,
   "metadata": {},
   "outputs": [],
   "source": [
    "valor_compra = 1_500.00\n",
    "\n",
    "if valor_compra > 1_000:\n",
    "    desconto = 0.15\n",
    "if valor_compra > 500:\n",
    "    desconto = 0.10\n",
    "if valor_compra > 100:\n",
    "    desconto = 0.05\n",
    "else:\n",
    "    desconto = 0.0\n",
    "\n",
    "valor_final = valor_compra - (valor_compra * desconto)"
   ]
  },
  {
   "cell_type": "markdown",
   "metadata": {},
   "source": [
    "No exemplo anterior, alterei o valor de `valor_compra` para `1_500.00` e substituí os `elif` por `if`. Agora, pense: qual seria o valor do desconto nesse caso? Tente analisar o código e prever a resposta antes de executá-lo e conferir a explicação a seguir.\n",
    "\n",
    "```{dropdown} Resposta\n",
    "Se você pensou que seria 15%, você errou! Dê um `print` na variável `desconto` e vai ver que ela terá o valor `0.05` (5%). O código executa sem erro, o problema está na lógica como ele foi feito!\n",
    "```\n",
    "\n",
    "Vamos entender o que está acontecendo:\n",
    "\n",
    "Quando o valor da compra é 1500, a primeira condição `if` verifica se o valor é maior que 1000, o que é verdadeiro, então o desconto é definido como 15%. Em um código bem estruturado com `if-elif-else`, o Python pararia por aqui, pois uma condição já foi satisfeita. No entanto, como usamos apenas `if` isolados, o Python continua a avaliar as demais condições. A segunda condição `if` verifica se o valor é maior que 500, o que também é verdadeiro, e redefine o desconto para 10%, sobrepondo o valor anterior. O problema se intensifica aqui, pois o Python deveria ignorar essa verificação se usássemos `elif`. A terceira condição `if` avalia se o valor é maior que 100, e, novamente, como é verdadeiro, o desconto é redefinido novamente para 5%.\n",
    "\n",
    "Além disso, o `else` final está associado apenas ao último `if`, e por isso não será executado, já que a condição do último `if` é verdadeira. Dessa forma, o desconto final aplicado será sempre 0% ou 5%, independentemente das condições anteriores.\n",
    "\n",
    "Portanto, é interessante usar `if-elif-else` quando desejamos que apenas uma condição seja executada. Se utilizarmos vários `if` independentes, o Python avaliará todas as condições de forma separada, o que pode levar a resultados inesperados e incorretos em alguns casos.\n",
    "\n",
    "```{admonition} Dica profissional (código que funciona, mas com erro lógico)\n",
    ":class: tip\n",
    "Nem sempre um código que roda sem erros está certo. Aqui acabamos de ver um exemplo de código que roda sem erros, mas que não está correto do ponto de vista de lógica de programação. Imagine só se esse código fosse parte de um sistema de pagamento de uma loja online e o cliente recebesse um desconto de 5% em vez de 15%? O cliente não ficaria nada feliz, não é mesmo? Por isso é tão fundamental conhecer os conceitos de lógica de programação e aplicá-los corretamente.\n",
    "```"
   ]
  },
  {
   "cell_type": "markdown",
   "metadata": {},
   "source": [
    "## Uso de `if-elif-else` aninhados"
   ]
  },
  {
   "cell_type": "markdown",
   "metadata": {},
   "source": [
    "Agora que você já compreendeu como funcionam as estruturas condicionais básicas em Python, vamos avançar um pouco mais e aprender o uso de `if-elif-else` aninhados. Aninhados quer dizer uma estrutura dentro da outra. Este conceito permite criar estruturas de decisão mais complexas, nas quais uma condição é avaliada dentro de outra.\n",
    "\n",
    "Vamos imaginar um cenário simples onde precisamos avaliar múltiplas condições sequencialmente. Suponha que estamos desenvolvendo um sistema que classifica a idade de uma pessoa em três categorias: criança, adolescente ou adulto. O sistema deve primeiro verificar se a pessoa é uma criança (menor de 12 anos). Se não for, o sistema verifica se a pessoa é um adolescente (entre 12 e 17 anos). Se não for nenhum dos dois, então será classificada como adulta."
   ]
  },
  {
   "cell_type": "code",
   "execution_count": 26,
   "metadata": {},
   "outputs": [
    {
     "name": "stdout",
     "output_type": "stream",
     "text": [
      "Adolescente\n"
     ]
    }
   ],
   "source": [
    "idade = 15\n",
    "\n",
    "if idade < 12:\n",
    "    print(\"Criança\")\n",
    "else:\n",
    "    if idade < 18:\n",
    "        print(\"Adolescente\")\n",
    "    else:\n",
    "        print(\"Adulto\")"
   ]
  },
  {
   "cell_type": "markdown",
   "metadata": {},
   "source": [
    "Neste exemplo, o primeiro `if` verifica se a idade é menor que 12. Caso contrário, a estrutura condicional entra no bloco `else` e então verifica uma segunda condição dentro de um novo bloco `if`, conferindo se a idade é menor que 18. Se ambas as condições forem falsas, a última instrução `else` será executada, categorizando a pessoa como adulta.\n",
    "\n",
    "Os `if` aninhados são úteis quando há múltiplas condições a serem verificadas que dependem de resultados prévios. Isso é comum em situações onde a lógica de decisão precisa ser refinada em etapas, em vez de avaliar todas as condições em uma única expressão `if-elif-else`.\n",
    "\n",
    "No entanto, é importante usar `if` aninhados com cuidado para evitar criar código difícil de ler e manter. Quase sempre, estruturas de `if` aninhados podem ser simplificadas usando operadores lógicos como `and`, `or` (próxima seção deste capítulo) ou mesmo utilizando estruturas `elif` para evitar blocos de código muito aninhados."
   ]
  },
  {
   "cell_type": "code",
   "execution_count": 27,
   "metadata": {},
   "outputs": [
    {
     "name": "stdout",
     "output_type": "stream",
     "text": [
      "Adolescente\n"
     ]
    }
   ],
   "source": [
    "idade = 15\n",
    "\n",
    "if idade < 12:\n",
    "    print(\"Criança\")\n",
    "elif idade < 18:\n",
    "    print(\"Adolescente\")\n",
    "else:\n",
    "    print(\"Adulto\")"
   ]
  },
  {
   "cell_type": "markdown",
   "metadata": {},
   "source": [
    "No exemplo refeito acima, o uso do `elif` substitui a necessidade de aninhar um segundo `if` dentro do bloco `else`, tornando o código mais limpo e direto.\n",
    "\n",
    "```{admonition} Perigo (código hadouken)\n",
    ":class: danger\n",
    "Não há limites para quantos `if` aninhados você pode usar. Pode ir fundo e criar quantos níveis forem necessários para resolver o seu problema. Mas, sejamos sinceros: quanto mais camadas, mais seu código começa a se parecer com um labirinto. E quem for ler o seu código, será que vai entender? Minha dica é simples: tente manter o aninhamento de `if` em até 2 ou 3 níveis, no máximo. Além disso, seu código pode começar a se transformar em um verdadeiro \"Hadouken\" de complexidade — e ninguém quer ter que decifrar um código que parece ter saído direto de um jogo de luta dos anos 90! 🤣\n",
    "\n",
    "```{image} ../img/07-01-codigo-hadouken.jpg\n",
    "```"
   ]
  },
  {
   "cell_type": "markdown",
   "metadata": {},
   "source": [
    "## Operadores lógicos"
   ]
  },
  {
   "cell_type": "markdown",
   "metadata": {},
   "source": [
    "Quando usamos `if-elif-else`, estamos avaliando uma única condição por vez. Mas e se precisarmos avaliar duas ou mais condições simultaneamente? Para isso, podemos usar operadores lógicos, que nos permitem combinar múltiplas condições em uma única expressão final. \n",
    "\n",
    "Os operadores lógicos em Python são `and`, `or` e `not`.\n",
    "\n",
    "- `and`: Retorna `True` se todas as condições forem verdadeiras, e `False` caso ao menos uma das condições seja `False`.\n",
    "- `or`: Retorna `True` se pelo menos uma das expressões for verdadeira, e `False` caso todas as expressões sejam `False`.\n",
    "- `not`: Inverte o valor lógico da condição, ou seja, se a condição for `True`, o `not` a transforma em `False`, e vice-versa.\n",
    "\n",
    "Vamos ver como cada um deles funciona mais no detalhe."
   ]
  },
  {
   "cell_type": "markdown",
   "metadata": {},
   "source": [
    "### Operador `and`"
   ]
  },
  {
   "cell_type": "markdown",
   "metadata": {},
   "source": [
    "A forma mais fácil de ilustrar o operador é através de imagem.\n",
    "\n",
    "```{image} ../img/07-01-operador-logico-and-true.png\n",
    "```\n",
    "\n",
    "Nesta imagem, temos três \"condições\" representadas por pontes, e uma linha tracejada que indica o caminho a ser feito pela pessoa. Para que o caminho seja possível (ou seja, para que o resultado do operador `and` seja `True`), todas as condições devem ser verdadeiras.\n",
    "\n",
    "- Condição 1 é verdadeira (representada por um check verde)\n",
    "- Condição 2 é verdadeira (representada por um check verde)\n",
    "- Condição 3 é verdadeira (representada por um check verde)\n",
    "\n",
    "Como todas as condições são verdadeiras, o caminho é completo, e o resultado do operador `and` é `True`. Vamos ver como isso funciona em Python:"
   ]
  },
  {
   "cell_type": "code",
   "execution_count": 28,
   "metadata": {},
   "outputs": [
    {
     "name": "stdout",
     "output_type": "stream",
     "text": [
      "True\n"
     ]
    }
   ],
   "source": [
    "condicao1 = True\n",
    "condicao2 = True\n",
    "condicao3 = True\n",
    "\n",
    "resultado = condicao1 and condicao2 and condicao3\n",
    "print(resultado)"
   ]
  },
  {
   "cell_type": "markdown",
   "metadata": {},
   "source": [
    "```{image} ../img/07-01-operador-logico-and-false.png\n",
    "```\n",
    "\n",
    "Nesta outra imagem, temos o mesmo cenário, mas desta vez, uma das condições é `False`, pois uma das pontes está levantada. Como uma das condições é `False`, o caminho completo não pode ser seguido, e o resultado final do operador `and` é `False`. Novamente, vamos ver como isso funciona aplicado à linguagem Python:"
   ]
  },
  {
   "cell_type": "code",
   "execution_count": 29,
   "metadata": {},
   "outputs": [
    {
     "name": "stdout",
     "output_type": "stream",
     "text": [
      "False\n"
     ]
    }
   ],
   "source": [
    "condicao1 = True\n",
    "condicao2 = False\n",
    "condicao3 = True\n",
    "\n",
    "resultado = condicao1 and condicao2 and condicao3\n",
    "print(resultado)"
   ]
  },
  {
   "cell_type": "markdown",
   "metadata": {},
   "source": [
    "É possível demonstrar o comportamento do `and` com todas as possibilidades através de uma tabela.\n",
    "\n",
    "| Condição 1 | Condição 2 | Condição 3 | Resultado |\n",
    "|:----------:|:----------:|:----------:|:---------:|\n",
    "|    True    |    True    |    True    |   True    |\n",
    "|    True    |    True    |   False    |  False    |\n",
    "|    True    |   False    |    True    |  False    |\n",
    "|    True    |   False    |   False    |  False    |\n",
    "|   False    |    True    |    True    |  False    |\n",
    "|   False    |    True    |   False    |  False    |\n",
    "|   False    |   False    |    True    |  False    |\n",
    "|   False    |   False    |   False    |  False    |\n",
    "\n",
    "Resumindo: o operador lógico `and` retorna `True` apenas se todas as condições forem verdadeiras; caso contrário, retorna `False`. "
   ]
  },
  {
   "cell_type": "markdown",
   "metadata": {},
   "source": [
    "### Operador `or`"
   ]
  },
  {
   "cell_type": "markdown",
   "metadata": {},
   "source": [
    "Da mesma forma o operador `or` também pode ser ilustrado por imagens.\n",
    "\n",
    "```{image} ../img/07-01-operador-logico-ou-true.png\n",
    "```\n",
    "\n",
    "De forma análoga, para que o caminho seja possível (ou seja, para que o resultado do operador `or` seja `True`), ao menos uma das condições, representadas também por pontes no desenho, precisam ser `True`.\n",
    "\n",
    "- Condição 1 é falsa (representada por um X vermelho)\n",
    "- Condição 2 é verdadeira (representada por um check verde)\n",
    "- Condição 3 é falsa (representada por um X vermelho)\n",
    "\n",
    "Como pelo menos uma das condições é verdadeira, há um caminho possível, e o resultado do operador `or` é `True`. Vamos ver como isso funciona em Python:"
   ]
  },
  {
   "cell_type": "code",
   "execution_count": 30,
   "metadata": {},
   "outputs": [
    {
     "name": "stdout",
     "output_type": "stream",
     "text": [
      "True\n"
     ]
    }
   ],
   "source": [
    "condicao1 = True\n",
    "condicao2 = False\n",
    "condicao3 = False\n",
    "\n",
    "resultado = condicao1 or condicao2 or condicao3\n",
    "print(resultado)"
   ]
  },
  {
   "cell_type": "markdown",
   "metadata": {},
   "source": [
    "```{image} ../img/07-01-operador-logico-ou-false.png\n",
    "```\n",
    "\n",
    "Já neste outro caso, como todas as condições são `False`, não há caminho possível, e o resultado final do operador `or` é `False`."
   ]
  },
  {
   "cell_type": "code",
   "execution_count": 31,
   "metadata": {},
   "outputs": [
    {
     "name": "stdout",
     "output_type": "stream",
     "text": [
      "False\n"
     ]
    }
   ],
   "source": [
    "condicao1 = False\n",
    "condicao2 = False\n",
    "condicao3 = False\n",
    "\n",
    "resultado = condicao1 or condicao2 or condicao3\n",
    "print(resultado)"
   ]
  },
  {
   "cell_type": "markdown",
   "metadata": {},
   "source": [
    "Da mesma forma, podemos apresentar a tabela lógica do operador `or`:\n",
    "\n",
    "| Condição 1 | Condição 2 | Condição 3 | Resultado |\n",
    "|:----------:|:----------:|:----------:|:---------:|\n",
    "|    True    |    True    |    True    |   True    |\n",
    "|    True    |    True    |   False    |   True    |\n",
    "|    True    |   False    |    True    |   True    |\n",
    "|    True    |   False    |   False    |   True    |\n",
    "|   False    |    True    |    True    |   True    |\n",
    "|   False    |    True    |   False    |   True    |\n",
    "|   False    |   False    |    True    |   True    |\n",
    "|   False    |   False    |   False    |  False    |\n",
    "\n",
    "Resumindo: o operador lógico `or` retorna `True` se pelo menos uma das condições for verdadeira; caso contrário, retorna `False`."
   ]
  },
  {
   "cell_type": "markdown",
   "metadata": {},
   "source": [
    "### Operador `not`"
   ]
  },
  {
   "cell_type": "markdown",
   "metadata": {},
   "source": [
    "O operador `not` é o mais simples dos três. Ele simplesmente inverte o valor lógico da condição. Se a condição for `True`, o `not` a transforma em `False`, e vice-versa. Vamos ver um exemplo prático:"
   ]
  },
  {
   "cell_type": "code",
   "execution_count": 32,
   "metadata": {},
   "outputs": [
    {
     "name": "stdout",
     "output_type": "stream",
     "text": [
      "False\n"
     ]
    }
   ],
   "source": [
    "condicao1 = True\n",
    "print(not condicao1)"
   ]
  },
  {
   "cell_type": "markdown",
   "metadata": {},
   "source": [
    "Usando a tabela lógica:\n",
    "\n",
    "| Condição | Resultado |\n",
    "|:--------:|:---------:|\n",
    "|   True   |   False   |\n",
    "|  False   |   True    |"
   ]
  },
  {
   "cell_type": "markdown",
   "metadata": {},
   "source": [
    "### Um exemplo real de negócios"
   ]
  },
  {
   "cell_type": "markdown",
   "metadata": {},
   "source": [
    "Ao combinar operadores lógicos, podemos criar expressões complexas que avaliam múltiplas condições simultaneamente.\n",
    "\n",
    "A execução dessas expressões segue uma ordem específica, conforme a tabela de precedência de operadores, que vimos no capítulo [Precedência de operadores](precedencia-operadores). Lembram disso? No caso dos operadores lógicos, a ordem é: `not`, `and`, `or`. Isso significa que o Python avalia primeiro o `not`, depois o `and`, e, por último, o `or` na sequencia da esquerda para direita. Além disso, podemos alterar a ordem natural de avaliação usando parênteses, assim como fazemos em expressões matemáticas. Vamos explorar um exemplo prático para entender melhor como isso funciona no mundo dos negócios.\n",
    "\n",
    "Imagine uma loja de e-commerce que precisa decidir se um cliente é elegível para uma promoção de frete grátis, considerando alguns critérios específicos:\n",
    "\n",
    "1. **Compras frequentes e carrinho com valor mínimo:** Se você comprou pelo menos 5 vezes na loja no último ano e o valor total das suas compras no carrinho atual é maior que R$ 200,00, você pode receber frete grátis.\n",
    "2. **Programa de fidelidade:** Se você faz parte do programa de fidelidade da loja, você pode receber frete grátis automaticamente, não importa quantas compras fez ou o valor do carrinho.\n",
    "3. **Limite de uso da promoção:** Se você já usou essa promoção de frete grátis no mês atual, não pode usá-la novamente, mesmo que atenda às outras condições.\n",
    "\n",
    "Como você imagina a implementação desse código? Vamos ver um exemplo real!"
   ]
  },
  {
   "cell_type": "code",
   "execution_count": 33,
   "metadata": {},
   "outputs": [],
   "source": [
    "# Dados do cliente\n",
    "compras_no_ultimo_ano = 6\n",
    "valor_do_carrinho = 180.00  # em R$\n",
    "membro_programa_fidelidade = False\n",
    "frete_gratis_utilizado_no_mes = False\n",
    "\n",
    "# Regras de elegibilidade para frete grátis\n",
    "elegivel_para_frete_gratis = (\n",
    "    (compras_no_ultimo_ano >= 5 and valor_do_carrinho > 200)  # Regra 1\n",
    "    or membro_programa_fidelidade  # Regra 2\n",
    "    and not frete_gratis_utilizado_no_mes  # Regra 3\n",
    ")"
   ]
  },
  {
   "cell_type": "markdown",
   "metadata": {},
   "source": [
    "Python sempre resolve o que está dentro dos parênteses primeiro. No nosso exemplo, a parte `(compras_no_ultimo_ano >= 5 and valor_do_carrinho > 200)` será verificada antes de qualquer outra coisa. Dentro dos parênteses, `and` é resolvido. Isso significa que o Python verifica se `compras_no_ultimo_ano >= 5` (o que é `True`, pois 6 >= 5) e se `valor_do_carrinho > 200` (o que é `False`, pois 180 não é maior que 200). Como `and` precisa que ambas as condições sejam verdadeiras, o resultado dentro dos parênteses é `False`."
   ]
  },
  {
   "cell_type": "code",
   "execution_count": 34,
   "metadata": {},
   "outputs": [],
   "source": [
    "# Regras de elegibilidade para frete grátis\n",
    "elegivel_para_frete_gratis = (\n",
    "    False  # Regra 1\n",
    "    or membro_programa_fidelidade  # Regra 2\n",
    "    and not frete_gratis_utilizado_no_mes  # Regra 3\n",
    ")"
   ]
  },
  {
   "cell_type": "markdown",
   "metadata": {},
   "source": [
    "Depois, o Python olha para o `or` fora dos parênteses. Ele vai verificar a combinação da regra 1 que acabamos de resolver com `membro_programa_fidelidade` usando `or`. Como `membro_programa_fidelidade` é `False`, o resultado do `or` é `False`. Temos, portanto:"
   ]
  },
  {
   "cell_type": "code",
   "execution_count": 35,
   "metadata": {},
   "outputs": [],
   "source": [
    "# Regras de elegibilidade para frete grátis\n",
    "elegivel_para_frete_gratis = (\n",
    "    False  # Combinação da regra 1 com a regra 2\n",
    "    and not frete_gratis_utilizado_no_mes  # Regra 3\n",
    ")"
   ]
  },
  {
   "cell_type": "markdown",
   "metadata": {},
   "source": [
    "O `not` é então aplicado em `frete_gratis_utilizado_no_mes`. Como `frete_gratis_utilizado_no_mes` é `False`, o `not` inverte para `True`.\n",
    "Finalmente, o Python combina o resultado anterior (`False`) com esse `True` usando `and`. Como `and` precisa que ambas as partes sejam `True` para retornar `True`, mas uma delas é `False`, o resultado final é `False`. Vejam o exemplo completo:"
   ]
  },
  {
   "cell_type": "code",
   "execution_count": 36,
   "metadata": {},
   "outputs": [],
   "source": [
    "# Regras de elegibilidade para frete grátis\n",
    "elegivel_para_frete_gratis = False  # Combinação de todas as regras"
   ]
  },
  {
   "cell_type": "markdown",
   "metadata": {},
   "source": [
    "```{admonition} Nota (parênteses de formatação)\n",
    ":class: note\n",
    "No trecho de código acima você deve ter reparado em um parenteses extra. Os parênteses extras são usados exclusivamente para formatar o código de forma a melhorar a sua legibilidade. Sem eles, todas as condições ficariam em uma única linha, o que tornaria o código mais difícil de ler e entender. \n",
    "\n",
    "Podemos englobar toda operação entre parenteses para permitir que cada condição seja quebrada em uma linha diferente, facilitando a leitura e compreensão do código.\n",
    "\n",
    "Compare com o código abaixo, que é funcional, mas menos legível. Nesse formato, a leitura do código é mais confusa e a compreensão das regras se torna mais difícil.\n",
    "\n",
    "```python\n",
    "# Regras de elegibilidade para frete grátis\n",
    "elegivel_para_frete_gratis = (compras_no_ultimo_ano >= 5 and valor_do_carrinho > 200)  or membro_programa_fidelidade and not frete_gratis_utilizado_no_mes\n",
    "```"
   ]
  },
  {
   "cell_type": "markdown",
   "metadata": {},
   "source": [
    "Vejam o exemplo completo do código novamente, imprimindo o valor da condição final:"
   ]
  },
  {
   "cell_type": "code",
   "execution_count": 37,
   "metadata": {},
   "outputs": [
    {
     "name": "stdout",
     "output_type": "stream",
     "text": [
      "False\n"
     ]
    }
   ],
   "source": [
    "# Dados do cliente\n",
    "compras_no_ultimo_ano = 6  # Quantas vezes você comprou na loja no último ano\n",
    "valor_do_carrinho = 180.00  # Quanto você está gastando agora\n",
    "membro_programa_fidelidade = False  # Se você é parte do programa de fidelidade\n",
    "frete_gratis_utilizado_no_mes = False  # Se você já usou frete grátis este mês\n",
    "\n",
    "# Regras para receber frete grátis\n",
    "elegivel_para_frete_gratis = (\n",
    "    (compras_no_ultimo_ano >= 5 and valor_do_carrinho > 200)  # Regra 1\n",
    "    or membro_programa_fidelidade  # Regra 2\n",
    ") and not frete_gratis_utilizado_no_mes  # Regra 3\n",
    "\n",
    "print(elegivel_para_frete_gratis)"
   ]
  },
  {
   "cell_type": "markdown",
   "metadata": {},
   "source": [
    "Como a variável final `elegivel_para_frete_gratis` contém um valor booleano, podemos usá-la diretamente em uma estrutura condicional `if` para decidir se o cliente é elegível para a promoção de frete grátis."
   ]
  },
  {
   "cell_type": "code",
   "execution_count": 38,
   "metadata": {},
   "outputs": [
    {
     "name": "stdout",
     "output_type": "stream",
     "text": [
      "Cliente não é elegível para frete grátis.\n"
     ]
    }
   ],
   "source": [
    "# Dados do cliente\n",
    "compras_no_ultimo_ano = 6  # Quantas vezes você comprou na loja no último ano\n",
    "valor_do_carrinho = 180.00  # Quanto você está gastando agora\n",
    "membro_programa_fidelidade = False  # Se você é parte do programa de fidelidade\n",
    "frete_gratis_utilizado_no_mes = False  # Se você já usou frete grátis este mês\n",
    "\n",
    "# Regras para receber frete grátis\n",
    "elegivel_para_frete_gratis = (\n",
    "    (compras_no_ultimo_ano >= 5 and valor_do_carrinho > 200)  # Regra 1\n",
    "    or membro_programa_fidelidade  # Regra 2\n",
    ") and not frete_gratis_utilizado_no_mes  # Regra 3\n",
    "\n",
    "if elegivel_para_frete_gratis:\n",
    "    print(\"Cliente elegível para frete grátis.\")\n",
    "else:\n",
    "    print(\"Cliente não é elegível para frete grátis.\")"
   ]
  },
  {
   "cell_type": "markdown",
   "metadata": {},
   "source": [
    "## Prática"
   ]
  },
  {
   "cell_type": "markdown",
   "metadata": {},
   "source": [
    "Agora que você já entendeu como funcionam as estruturas condicionais em Python, vamos praticar um pouco com os exercícios 12[exercicio-12] e 13[exercicio-13]!"
   ]
  },
  {
   "cell_type": "markdown",
   "metadata": {},
   "source": [
    "## Conclusão"
   ]
  },
  {
   "cell_type": "markdown",
   "metadata": {},
   "source": [
    "Neste capítulo, você aprendeu sobre estruturas condicionais em Python. Vimos como usar `if`, `else` e `elif` para criar decisões em nossos programas, e como combinar múltiplas condições usando operadores lógicos `and`, `or` e `not`. Além disso, você aprendeu sobre a importância de manter o código limpo e legível, evitando aninhar muitos `if` e usando parênteses para melhorar a formatação do código. Também vimos um último caso de aplicação real de negócios de como combinar estruturas condicionais e operadores lógicos para decidir se um cliente é elegível para uma promoção de frete grátis.\n",
    "\n",
    "No próximo capítulo vamos aprender sobre estruturas de repetição, que nos permitem executar um bloco de código várias vezes. Vamos aprender sobre os laços `for` e `while`, e como usá-los para automatizar tarefas repetitivas em Python. Até lá!"
   ]
  }
 ],
 "metadata": {
  "kernelspec": {
   "display_name": ".venv",
   "language": "python",
   "name": "python3"
  },
  "language_info": {
   "codemirror_mode": {
    "name": "ipython",
    "version": 3
   },
   "file_extension": ".py",
   "mimetype": "text/x-python",
   "name": "python",
   "nbconvert_exporter": "python",
   "pygments_lexer": "ipython3",
   "version": "3.12.2"
  }
 },
 "nbformat": 4,
 "nbformat_minor": 2
}
