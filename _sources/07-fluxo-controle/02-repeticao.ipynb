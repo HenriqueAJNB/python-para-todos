{
 "cells": [
  {
   "cell_type": "markdown",
   "metadata": {},
   "source": [
    "# Estrutura de repetição"
   ]
  },
  {
   "cell_type": "markdown",
   "metadata": {},
   "source": [
    "<div style=\"text-align: justify\">\n",
    "\n",
    "Até agora o nosso código executa apenas uma vez, com a possibilidade de tomada de decisão através da estrutura condicional `if-else-elif`. No entanto, muitas vezes precisamos executar um bloco de código várias vezes. Para isso, utilizamos as estruturas de repetição.\n",
    "\n",
    "Em Python, temos duas estruturas de repetição, também chamadas de *laços*: `for` e `while`. A estrutura `for` é utilizada quando sabemos o número de vezes que o bloco de código deve ser executado. Já a estrutura `while` é utilizada quando não sabemos o número de vezes que o bloco de código deve ser executado, mas sabemos a condição de parada.\n",
    "\n",
    "Nesta seção, vamos aprender mais sobre estas duas estruturas.\n",
    "</div>"
   ]
  },
  {
   "cell_type": "markdown",
   "metadata": {},
   "source": [
    "## Laço `for`"
   ]
  },
  {
   "cell_type": "markdown",
   "metadata": {},
   "source": [
    "O laço `for` é usado sempre que **sabemos quantas vezes queremos executar um bloco de código**. A sintaxe básica do laço `for` é a seguinte:\n",
    "\n",
    "```python\n",
    "for variavel in sequencia:\n",
    "    # bloco de código a ser repetido\n",
    "```\n",
    "\n",
    "onde `sequencia` pode ser uma lista, tupla, string, dicionário, set ou qualquer outra sequencia, e `variavel` é uma variável temporária que assume o valor de cada elemento da sequência a cada iteração. \n",
    "\n",
    "```{admonition} Lembrete (strings e sequencia)\n",
    ":class: tip\n",
    "Lembre-se que uma string é uma sequencia de caracteres!\n",
    "```\n",
    "\n",
    "Reparem também que todo bloco de código que será repetido **deve estar identado**.\n",
    "\n",
    "Ou seja, para usarmos o laço `for`, necessariamente eu preciso ter uma sequencia que será percorrida elemento a elemento, e esta sequencia tem tamanho conhecido. Por isso que o `for` é usado quando sabemos quantas vezes queremos executar um bloco de código.\n",
    "\n",
    "Vamos ver um exemplo simples de uso do laço `for`:"
   ]
  },
  {
   "cell_type": "code",
   "execution_count": 2,
   "metadata": {},
   "outputs": [
    {
     "name": "stdout",
     "output_type": "stream",
     "text": [
      "1\n",
      "2\n",
      "3\n",
      "4\n",
      "5\n",
      "6\n",
      "7\n",
      "8\n",
      "9\n"
     ]
    }
   ],
   "source": [
    "for variavel in range(1, 10):\n",
    "    print(variavel)"
   ]
  },
  {
   "cell_type": "markdown",
   "metadata": {},
   "source": [
    "No exemplo acima, temos `variavel` que assume cada valor da sequencia. \n",
    "\n",
    "E para a sequencia, temos uma novidade: a função `range()`. A função `range()` é uma função que gera uma sequencia de números, e é muito utilizada em conjunto com o laço `for`. A função `range()` é bem simples pode receber até três argumentos: `range(inicio, fim, passo)`. Basicamente ela gera uma sequencia de números que começa em `inicio`, vai até `fim` (sem incluir o `fim`) pulando os valores através do `passo` (1 em 1, 2 em 2, etc.). Se o `passo` não for informado, o valor padrão é 1. Fique a vontade para consultar a documentação da função `range()` [aqui](https://docs.python.org/3/library/functions.html#func-range).\n",
    "\n",
    "Se isolarmos o `range(1, 10)` do exemplo acima:"
   ]
  },
  {
   "cell_type": "code",
   "execution_count": 3,
   "metadata": {},
   "outputs": [
    {
     "data": {
      "text/plain": [
       "range(1, 10)"
      ]
     },
     "execution_count": 3,
     "metadata": {},
     "output_type": "execute_result"
    }
   ],
   "source": [
    "range(1, 10)"
   ]
  },
  {
   "cell_type": "markdown",
   "metadata": {},
   "source": [
    "Vejam que ele não imprime algo muito útil. Vamos verificar o tipo do `range(1, 10)` e convertê-lo para uma lista?"
   ]
  },
  {
   "cell_type": "code",
   "execution_count": 4,
   "metadata": {},
   "outputs": [
    {
     "name": "stdout",
     "output_type": "stream",
     "text": [
      "<class 'range'>\n",
      "[1, 2, 3, 4, 5, 6, 7, 8, 9]\n"
     ]
    }
   ],
   "source": [
    "print(type(range(1, 10)))\n",
    "print(list(range(1, 10)))"
   ]
  },
  {
   "cell_type": "markdown",
   "metadata": {},
   "source": [
    "Apesar do `range()` ser um tipo de objeto até então desconhecido, ele também é uma sequencia e pode ser usado diretamente em laços `for`, sem necessariamente ser transformado em uma lista ou tupla, conforme vimos no exemplo. Quando transformado em uma lista, o `range()` nos mostra claramente a sequencia de números que ele gera, no caso, de 1 a 9 (o 10 não é incluso). \n",
    "\n",
    "E, retomando o laço `for`,  para cada iteração, `variavel` assume um valor da sequencia que é impressa na tela."
   ]
  }
 ],
 "metadata": {
  "kernelspec": {
   "display_name": ".venv",
   "language": "python",
   "name": "python3"
  },
  "language_info": {
   "codemirror_mode": {
    "name": "ipython",
    "version": 3
   },
   "file_extension": ".py",
   "mimetype": "text/x-python",
   "name": "python",
   "nbconvert_exporter": "python",
   "pygments_lexer": "ipython3",
   "version": "3.12.2"
  }
 },
 "nbformat": 4,
 "nbformat_minor": 2
}
