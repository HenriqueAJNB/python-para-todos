{
 "cells": [
  {
   "cell_type": "markdown",
   "metadata": {},
   "source": [
    "# Estrutura de repetição"
   ]
  },
  {
   "cell_type": "markdown",
   "metadata": {},
   "source": [
    "<div style=\"text-align: justify\">\n",
    "\n",
    "Até agora o nosso código executa apenas uma vez, com a possibilidade de tomada de decisão através da estrutura condicional `if-else-elif`. No entanto, muitas vezes precisamos executar um bloco de código várias vezes. Para isso, utilizamos as estruturas de repetição.\n",
    "\n",
    "Em Python, temos duas estruturas de repetição, também chamadas de *laços*: `for` e `while`. A estrutura `for` é utilizada quando sabemos o número de vezes que o bloco de código deve ser executado. Já a estrutura `while` é utilizada quando não sabemos o número de vezes que o bloco de código deve ser executado, mas sabemos a condição de parada.\n",
    "\n",
    "Nesta seção, vamos aprender mais sobre estas duas estruturas.\n",
    "</div>"
   ]
  },
  {
   "cell_type": "markdown",
   "metadata": {},
   "source": [
    "## Laço `for`"
   ]
  },
  {
   "cell_type": "markdown",
   "metadata": {},
   "source": [
    "O laço `for` é usado sempre que **sabemos quantas vezes queremos executar um bloco de código**. A sintaxe básica do laço `for` é a seguinte:\n",
    "\n",
    "```python\n",
    "for variavel in sequencia:\n",
    "    # bloco de código a ser repetido\n",
    "```\n",
    "\n",
    "onde `sequencia` pode ser uma lista, tupla, string, dicionário, set ou qualquer outra sequencia, e `variavel` é uma variável temporária que assume o valor de cada elemento da sequência a cada iteração. \n",
    "\n",
    "```{admonition} Lembrete (strings e sequencia)\n",
    ":class: tip\n",
    "Lembre-se que uma string é uma sequencia de caracteres!\n",
    "```\n",
    "\n",
    "Reparem também que todo bloco de código que será repetido **deve estar identado**.\n",
    "\n",
    "Ou seja, para usarmos o laço `for`, necessariamente eu preciso ter uma sequencia que será percorrida elemento a elemento, e esta sequencia tem tamanho conhecido. Por isso que o `for` é usado quando sabemos quantas vezes queremos executar um bloco de código.\n",
    "\n",
    "Vamos ver um exemplo simples de uso do laço `for`:"
   ]
  },
  {
   "cell_type": "code",
   "execution_count": 2,
   "metadata": {},
   "outputs": [
    {
     "name": "stdout",
     "output_type": "stream",
     "text": [
      "1\n",
      "2\n",
      "3\n",
      "4\n",
      "5\n",
      "6\n",
      "7\n",
      "8\n",
      "9\n"
     ]
    }
   ],
   "source": [
    "for variavel in range(1, 10):\n",
    "    print(variavel)"
   ]
  },
  {
   "cell_type": "markdown",
   "metadata": {},
   "source": [
    "No exemplo acima, temos `variavel` que assume cada valor da sequencia."
   ]
  },
  {
   "cell_type": "markdown",
   "metadata": {},
   "source": [
    "### A função `range`"
   ]
  },
  {
   "cell_type": "markdown",
   "metadata": {},
   "source": [
    "E para a sequencia, temos uma novidade: a função `range()`. A função `range()` é uma função que gera uma sequencia de números, e é muito utilizada em conjunto com o laço `for`. A função `range()` é bem simples pode receber até três argumentos: `range(inicio, fim, passo)`. Basicamente ela gera uma sequencia de números que começa em `inicio`, vai até `fim` (sem incluir o `fim`) pulando os valores através do `passo` (1 em 1, 2 em 2, etc.). Se o `passo` não for informado, o valor padrão é 1. Fique a vontade para consultar a documentação da função `range()` [aqui](https://docs.python.org/3/library/functions.html#func-range).\n",
    "\n",
    "Se isolarmos o `range(1, 10)` do exemplo acima:"
   ]
  },
  {
   "cell_type": "code",
   "execution_count": 3,
   "metadata": {},
   "outputs": [
    {
     "data": {
      "text/plain": [
       "range(1, 10)"
      ]
     },
     "execution_count": 3,
     "metadata": {},
     "output_type": "execute_result"
    }
   ],
   "source": [
    "range(1, 10)"
   ]
  },
  {
   "cell_type": "markdown",
   "metadata": {},
   "source": [
    "Vejam que ele não imprime algo muito útil. Vamos verificar o tipo do `range(1, 10)` e convertê-lo para uma lista?"
   ]
  },
  {
   "cell_type": "code",
   "execution_count": 4,
   "metadata": {},
   "outputs": [
    {
     "name": "stdout",
     "output_type": "stream",
     "text": [
      "<class 'range'>\n",
      "[1, 2, 3, 4, 5, 6, 7, 8, 9]\n"
     ]
    }
   ],
   "source": [
    "print(type(range(1, 10)))\n",
    "print(list(range(1, 10)))"
   ]
  },
  {
   "cell_type": "markdown",
   "metadata": {},
   "source": [
    "Apesar do `range()` ser um tipo de objeto até então desconhecido, ele também é uma sequencia e pode ser usado diretamente em laços `for`, sem necessariamente ser transformado em uma lista ou tupla, conforme vimos no exemplo. Quando transformado em uma lista, o `range()` nos mostra claramente a sequencia de números que ele gera, no caso, de 1 a 9 (o 10 não é incluso). \n",
    "\n",
    "E, retomando o laço `for`,  para cada iteração, `variavel` assume um valor da sequencia que é impressa na tela.\n",
    "\n",
    "Um ponto importante sobre a variável temporária criada dentro do laço `for` é que ela não necessariamente precisa ser usada. Se quisermos, por exemplo, imprimir a mensagem \"Olá, eu estou aprendendo Python!\" 10 vezes, ainda sim precisamos criar a sequencia com 10 elementos para percorrê-la item a item, porém sem usar os elementos da sequencia. Vejam:"
   ]
  },
  {
   "cell_type": "code",
   "execution_count": 1,
   "metadata": {},
   "outputs": [
    {
     "name": "stdout",
     "output_type": "stream",
     "text": [
      "Olá, eu estou aprendendo Python!\n",
      "Olá, eu estou aprendendo Python!\n",
      "Olá, eu estou aprendendo Python!\n",
      "Olá, eu estou aprendendo Python!\n",
      "Olá, eu estou aprendendo Python!\n",
      "Olá, eu estou aprendendo Python!\n",
      "Olá, eu estou aprendendo Python!\n",
      "Olá, eu estou aprendendo Python!\n",
      "Olá, eu estou aprendendo Python!\n",
      "Olá, eu estou aprendendo Python!\n"
     ]
    }
   ],
   "source": [
    "for variavel in range(10):\n",
    "    print(\"Olá, eu estou aprendendo Python!\")"
   ]
  },
  {
   "cell_type": "markdown",
   "metadata": {},
   "source": [
    "Em tais casos nos quais os elementos da sequencia **não são utilizados em todo o código do laço `for`**, é comum utilizar o caractere `_` para representar a variável no laço `for` indicando de forma clara que ela não será utilizada."
   ]
  },
  {
   "cell_type": "code",
   "execution_count": 2,
   "metadata": {},
   "outputs": [
    {
     "name": "stdout",
     "output_type": "stream",
     "text": [
      "Olá, eu estou aprendendo Python!\n",
      "Olá, eu estou aprendendo Python!\n",
      "Olá, eu estou aprendendo Python!\n",
      "Olá, eu estou aprendendo Python!\n",
      "Olá, eu estou aprendendo Python!\n",
      "Olá, eu estou aprendendo Python!\n",
      "Olá, eu estou aprendendo Python!\n",
      "Olá, eu estou aprendendo Python!\n",
      "Olá, eu estou aprendendo Python!\n",
      "Olá, eu estou aprendendo Python!\n"
     ]
    }
   ],
   "source": [
    "for _ in range(10):\n",
    "    print(\"Olá, eu estou aprendendo Python!\")"
   ]
  },
  {
   "cell_type": "markdown",
   "metadata": {},
   "source": [
    "Um outro caso bastante comum é quando precisamos não apenas do valor do elemento da sequencia, mas também do índice do elemento. Vejamos no exemplo abaixo:"
   ]
  },
  {
   "cell_type": "code",
   "execution_count": 6,
   "metadata": {},
   "outputs": [
    {
     "name": "stdout",
     "output_type": "stream",
     "text": [
      "Janeiro é o 1° mês do ano.\n",
      "Fevereiro é o 2° mês do ano.\n",
      "Março é o 3° mês do ano.\n",
      "Abril é o 4° mês do ano.\n",
      "Maio é o 5° mês do ano.\n",
      "Junho é o 6° mês do ano.\n",
      "Julho é o 7° mês do ano.\n",
      "Agosto é o 8° mês do ano.\n",
      "Setembro é o 9° mês do ano.\n",
      "Outubro é o 10° mês do ano.\n",
      "Novembro é o 11° mês do ano.\n",
      "Dezembro é o 12° mês do ano.\n"
     ]
    }
   ],
   "source": [
    "meses = [\n",
    "    \"Janeiro\",\n",
    "    \"Fevereiro\",\n",
    "    \"Março\",\n",
    "    \"Abril\",\n",
    "    \"Maio\",\n",
    "    \"Junho\",\n",
    "    \"Julho\",\n",
    "    \"Agosto\",\n",
    "    \"Setembro\",\n",
    "    \"Outubro\",\n",
    "    \"Novembro\",\n",
    "    \"Dezembro\",\n",
    "]\n",
    "\n",
    "for indice in range(len(meses)):\n",
    "    numero_mes = indice + 1\n",
    "    print(f\"{meses[indice]} é o {numero_mes}° mês do ano.\")"
   ]
  },
  {
   "cell_type": "markdown",
   "metadata": {},
   "source": [
    "Por qual motivo não simplesmente usamos `for mes in meses` nesse caso? O laço `for` percorre cada elemento da lista, mas não acessa o índice daquele elemento. Portanto, precisamos fazer uma outra sequencia que contenha todos os índices da nossa sequencia original. Para isso, usamos a junção das função `range(len(meses))` que trará uma sequencia de números de 0 a 11 (12 elementos). O laço `for` itera, portanto, através de uma sequencia que representam os índices da lista `meses`. Só que ainda precisamos, a partir do índice, acessar o valor do elemento da lista `meses`. Para isso, usamos a notação `meses[indice]`. E como a indexação começa por 0 em Python, ainda precisamos criar uma outra variável que representará o número do mês, que começa em 1 e vai até 12, diferente do `indice` que começa em 0 e vai até 11."
   ]
  },
  {
   "cell_type": "markdown",
   "metadata": {},
   "source": [
    "### Desempacotamento"
   ]
  },
  {
   "cell_type": "markdown",
   "metadata": {},
   "source": [
    "Antes de seguirmos com o laço `for`, vamos introduzir um conceito super importante que será usado: desempacotamento. O desempacotamento é uma técnica que permite quebrar uma sequencia em partes menores.\n",
    "\n",
    "De forma bem simples, é como se tivéssemos uma caixa com vários itens e quiséssemos separar cada item em uma variável diferente. Vejamos o exemplo abaixo:"
   ]
  },
  {
   "cell_type": "code",
   "execution_count": 1,
   "metadata": {},
   "outputs": [
    {
     "name": "stdout",
     "output_type": "stream",
     "text": [
      "1 2 3\n"
     ]
    }
   ],
   "source": [
    "lista = [1, 2, 3]\n",
    "\n",
    "# Podemos capturar cada valor da lista através da técnica de desempacotamento\n",
    "a, b, c = lista\n",
    "\n",
    "print(a, b, c)"
   ]
  },
  {
   "cell_type": "markdown",
   "metadata": {},
   "source": [
    "O desempacotamento funciona como se quebrássemos os elementos de uma dada sequencia, no exemplo acima uma lista, e atribuíssemos cada elemento a uma variável diferente. Em palavras mais simples, podemos \"desembrulhar\" os elementos da sequencia em variáveis.\n",
    "\n",
    "E porque isso está sendo explicando somente nesse capítulo de laços de repetição? Vamos ver um exemplo prático:"
   ]
  },
  {
   "cell_type": "code",
   "execution_count": 2,
   "metadata": {},
   "outputs": [
    {
     "name": "stdout",
     "output_type": "stream",
     "text": [
      "Produto: Camiseta, Quantidade: 4, Valor Total: R$100.00\n",
      "Produto: Calça Jeans, Quantidade: 2, Valor Total: R$200.00\n",
      "Produto: Tênis, Quantidade: 1, Valor Total: R$150.00\n"
     ]
    }
   ],
   "source": [
    "vendas = [(\"Camiseta\", 4, 25.00), (\"Calça Jeans\", 2, 100.00), (\"Tênis\", 1, 150.00)]"
   ]
  },
  {
   "cell_type": "markdown",
   "metadata": {},
   "source": [
    "Supondo que temos a estrutura acima, `vendas`, onde cada elemento da lista é uma tupla, e cada tupla contém 3 elementos: o nome do produto, a quantidade vendida e o preço unitário. E gostaríamos de imprimir na tela o nome de cada produto, sua respectiva quantidade vendida e valor total. Como faríamos isso? Talvez você pense em fazer da seguinte forma:"
   ]
  },
  {
   "cell_type": "code",
   "execution_count": null,
   "metadata": {},
   "outputs": [],
   "source": [
    "vendas = [(\"Camiseta\", 4, 25.00), (\"Calça Jeans\", 2, 100.00), (\"Tênis\", 1, 150.00)]\n",
    "\n",
    "for item in vendas:\n",
    "    produto = item[0]\n",
    "    quantidade = item[1]\n",
    "    preco_unitario = item[2]\n",
    "\n",
    "    valor_total = quantidade * preco_unitario\n",
    "    print(\n",
    "        f\"Produto: {produto}, quantidade: {quantidade}, valor total: R${valor_total:.2f}\"\n",
    "    )"
   ]
  },
  {
   "cell_type": "markdown",
   "metadata": {},
   "source": [
    "Esta abordagem funciona, mas percebam que precisamos quebrar cada tupla em 3 partes, e isso é exatamente o que o desempacotamento faz. No lugar da variável `item`, podemos desempacotar a variável também dentro do laço `for`. Vejamos como podemos reescrever o código acima utilizando o desempacotamento:"
   ]
  },
  {
   "cell_type": "code",
   "execution_count": null,
   "metadata": {},
   "outputs": [],
   "source": [
    "vendas = [(\"Camiseta\", 4, 25.00), (\"Calça Jeans\", 2, 100.00), (\"Tênis\", 1, 150.00)]\n",
    "\n",
    "for produto, quantidade, preco_unitario in vendas:\n",
    "    valor_total = quantidade * preco_unitario\n",
    "    print(\n",
    "        f\"Produto: {produto}, quantidade: {quantidade}, valor total: R${valor_total:.2f}\"\n",
    "    )"
   ]
  },
  {
   "cell_type": "markdown",
   "metadata": {},
   "source": [
    "Trocamos esse trecho:\n",
    "\n",
    "```python\n",
    "for item in vendas:\n",
    "    produto = item[0]\n",
    "    quantidade = item[1]\n",
    "    preco_unitario = item[2]\n",
    "```\n",
    "\n",
    "por esse:\n",
    "\n",
    "```python\n",
    "for produto, quantidade, preco_unitario in vendas:\n",
    "```\n",
    "\n",
    "O efeito deles é exatamente o mesmo, mas a segunda forma é mais limpa e mais fácil de entender. Mas observem que só é possível fazer isso porque todos as tuplas da lista tem exatamente 3 elementos. Se houvesse ao menos uma tupla com elementos a mais ou a menos, o código não funcionaria. Observem:"
   ]
  },
  {
   "cell_type": "code",
   "execution_count": 3,
   "metadata": {
    "tags": [
     "raises-exception"
    ]
   },
   "outputs": [
    {
     "name": "stdout",
     "output_type": "stream",
     "text": [
      "Produto: Camiseta, quantidade: 4, valor total: R$100.00\n",
      "Produto: Calça Jeans, quantidade: 2, valor total: R$200.00\n",
      "Produto: Tênis, quantidade: 1, valor total: R$150.00\n"
     ]
    },
    {
     "ename": "ValueError",
     "evalue": "not enough values to unpack (expected 3, got 2)",
     "output_type": "error",
     "traceback": [
      "\u001b[1;31m---------------------------------------------------------------------------\u001b[0m",
      "\u001b[1;31mValueError\u001b[0m                                Traceback (most recent call last)",
      "Cell \u001b[1;32mIn[3], line 9\u001b[0m\n\u001b[0;32m      1\u001b[0m vendas \u001b[38;5;241m=\u001b[39m [\n\u001b[0;32m      2\u001b[0m     (\u001b[38;5;124m\"\u001b[39m\u001b[38;5;124mCamiseta\u001b[39m\u001b[38;5;124m\"\u001b[39m, \u001b[38;5;241m4\u001b[39m, \u001b[38;5;241m25.00\u001b[39m),\n\u001b[0;32m      3\u001b[0m     (\u001b[38;5;124m\"\u001b[39m\u001b[38;5;124mCalça Jeans\u001b[39m\u001b[38;5;124m\"\u001b[39m, \u001b[38;5;241m2\u001b[39m, \u001b[38;5;241m100.00\u001b[39m),\n\u001b[1;32m   (...)\u001b[0m\n\u001b[0;32m      6\u001b[0m     (\u001b[38;5;124m\"\u001b[39m\u001b[38;5;124mMeias\u001b[39m\u001b[38;5;124m\"\u001b[39m, \u001b[38;5;241m5\u001b[39m),\n\u001b[0;32m      7\u001b[0m ]\n\u001b[1;32m----> 9\u001b[0m \u001b[38;5;28;01mfor\u001b[39;00m produto, quantidade, preco_unitario \u001b[38;5;129;01min\u001b[39;00m vendas:\n\u001b[0;32m     10\u001b[0m     valor_total \u001b[38;5;241m=\u001b[39m quantidade \u001b[38;5;241m*\u001b[39m preco_unitario\n\u001b[0;32m     11\u001b[0m     \u001b[38;5;28mprint\u001b[39m(\n\u001b[0;32m     12\u001b[0m         \u001b[38;5;124mf\u001b[39m\u001b[38;5;124m\"\u001b[39m\u001b[38;5;124mProduto: \u001b[39m\u001b[38;5;132;01m{\u001b[39;00mproduto\u001b[38;5;132;01m}\u001b[39;00m\u001b[38;5;124m, quantidade: \u001b[39m\u001b[38;5;132;01m{\u001b[39;00mquantidade\u001b[38;5;132;01m}\u001b[39;00m\u001b[38;5;124m, valor total: R$\u001b[39m\u001b[38;5;132;01m{\u001b[39;00mvalor_total\u001b[38;5;132;01m:\u001b[39;00m\u001b[38;5;124m.2f\u001b[39m\u001b[38;5;132;01m}\u001b[39;00m\u001b[38;5;124m\"\u001b[39m\n\u001b[0;32m     13\u001b[0m     )\n",
      "\u001b[1;31mValueError\u001b[0m: not enough values to unpack (expected 3, got 2)"
     ]
    }
   ],
   "source": [
    "vendas = [\n",
    "    (\"Camiseta\", 4, 25.00),\n",
    "    (\"Calça Jeans\", 2, 100.00),\n",
    "    (\"Tênis\", 1, 150.00),\n",
    "    # Adição de um item sem preço, somente com 2 elementos (produto e quantidade)\n",
    "    (\"Meias\", 5),\n",
    "]\n",
    "\n",
    "for produto, quantidade, preco_unitario in vendas:\n",
    "    valor_total = quantidade * preco_unitario\n",
    "    print(\n",
    "        f\"Produto: {produto}, quantidade: {quantidade}, valor total: R${valor_total:.2f}\"\n",
    "    )"
   ]
  },
  {
   "cell_type": "markdown",
   "metadata": {},
   "source": [
    "O erro `ValueError: not enough values to unpack (expected 3, got 2)` nos informa justamente que o código esperava 3 elementos para desempacotar em 3 variáveis, mas recebeu apenas 2."
   ]
  },
  {
   "cell_type": "markdown",
   "metadata": {},
   "source": [
    "### A função `enumerate`"
   ]
  },
  {
   "cell_type": "markdown",
   "metadata": {},
   "source": [
    "Dado que já sabemos sobre desempacotamento, podemos introduzir a função `enumerate`. Vamos retomar o exemplo anterior:"
   ]
  },
  {
   "cell_type": "code",
   "execution_count": 4,
   "metadata": {},
   "outputs": [
    {
     "name": "stdout",
     "output_type": "stream",
     "text": [
      "Janeiro é o 1° mês do ano.\n",
      "Fevereiro é o 2° mês do ano.\n",
      "Março é o 3° mês do ano.\n",
      "Abril é o 4° mês do ano.\n",
      "Maio é o 5° mês do ano.\n",
      "Junho é o 6° mês do ano.\n",
      "Julho é o 7° mês do ano.\n",
      "Agosto é o 8° mês do ano.\n",
      "Setembro é o 9° mês do ano.\n",
      "Outubro é o 10° mês do ano.\n",
      "Novembro é o 11° mês do ano.\n",
      "Dezembro é o 12° mês do ano.\n"
     ]
    }
   ],
   "source": [
    "meses = [\n",
    "    \"Janeiro\",\n",
    "    \"Fevereiro\",\n",
    "    \"Março\",\n",
    "    \"Abril\",\n",
    "    \"Maio\",\n",
    "    \"Junho\",\n",
    "    \"Julho\",\n",
    "    \"Agosto\",\n",
    "    \"Setembro\",\n",
    "    \"Outubro\",\n",
    "    \"Novembro\",\n",
    "    \"Dezembro\",\n",
    "]\n",
    "\n",
    "for indice in range(len(meses)):\n",
    "    numero_mes = indice + 1\n",
    "    print(f\"{meses[indice]} é o {numero_mes}° mês do ano.\")"
   ]
  },
  {
   "cell_type": "markdown",
   "metadata": {},
   "source": [
    "Quando precisamos acessar o índice e o valor de uma sequencia, a função `enumerate` é muito útil. Ela retorna uma tupla contendo o índice e o valor do elemento da sequencia. Vejamos o exemplo abaixo:"
   ]
  },
  {
   "cell_type": "code",
   "execution_count": 6,
   "metadata": {},
   "outputs": [
    {
     "name": "stdout",
     "output_type": "stream",
     "text": [
      "[(0, 'Janeiro'), (1, 'Fevereiro'), (2, 'Março'), (3, 'Abril'), (4, 'Maio'), (5, 'Junho'), (6, 'Julho'), (7, 'Agosto'), (8, 'Setembro'), (9, 'Outubro'), (10, 'Novembro'), (11, 'Dezembro')]\n"
     ]
    }
   ],
   "source": [
    "meses = [\n",
    "    \"Janeiro\",\n",
    "    \"Fevereiro\",\n",
    "    \"Março\",\n",
    "    \"Abril\",\n",
    "    \"Maio\",\n",
    "    \"Junho\",\n",
    "    \"Julho\",\n",
    "    \"Agosto\",\n",
    "    \"Setembro\",\n",
    "    \"Outubro\",\n",
    "    \"Novembro\",\n",
    "    \"Dezembro\",\n",
    "]\n",
    "\n",
    "print(list(enumerate(meses)))"
   ]
  },
  {
   "cell_type": "markdown",
   "metadata": {},
   "source": [
    "A função `enumerate` é bem simples. Ela recebe uma sequencia e retorna um objeto que contém o índice e o valor do elemento da sequencia. E, como vimos anteriormente, podemos desempacotar essa tupla diretamente no laço `for`. Ao invés de usar `for indice in range(len(meses))`, podemos usar `for indice, mes in enumerate(meses)`.\n",
    "\n",
    "```{admonition} Nota (enumerate transformado em lista)\n",
    ":class: note\n",
    "O resultado da função `enumerate` por si só já é uma sequencia. Não é necessário transformá-lo em uma lista para usá-lo em um laço `for`. O motivo de termos transformado no exemplo acima foi puramente para imprimir o resultado dele de uma forma mais visual e útil na tela. Caso contrário seria impresso algo como `<enumerate object at 0x7f8e3c7b3b40>`, que não é nada útil. Mostramos isso também na função `range` anteriormente, lembra?\n",
    "```"
   ]
  },
  {
   "cell_type": "code",
   "execution_count": 7,
   "metadata": {},
   "outputs": [
    {
     "name": "stdout",
     "output_type": "stream",
     "text": [
      "Janeiro é o 0° mês do ano.\n",
      "Fevereiro é o 1° mês do ano.\n",
      "Março é o 2° mês do ano.\n",
      "Abril é o 3° mês do ano.\n",
      "Maio é o 4° mês do ano.\n",
      "Junho é o 5° mês do ano.\n",
      "Julho é o 6° mês do ano.\n",
      "Agosto é o 7° mês do ano.\n",
      "Setembro é o 8° mês do ano.\n",
      "Outubro é o 9° mês do ano.\n",
      "Novembro é o 10° mês do ano.\n",
      "Dezembro é o 11° mês do ano.\n"
     ]
    }
   ],
   "source": [
    "meses = [\n",
    "    \"Janeiro\",\n",
    "    \"Fevereiro\",\n",
    "    \"Março\",\n",
    "    \"Abril\",\n",
    "    \"Maio\",\n",
    "    \"Junho\",\n",
    "    \"Julho\",\n",
    "    \"Agosto\",\n",
    "    \"Setembro\",\n",
    "    \"Outubro\",\n",
    "    \"Novembro\",\n",
    "    \"Dezembro\",\n",
    "]\n",
    "\n",
    "for numero_mes, mes in enumerate(meses):\n",
    "    print(f\"{mes} é o {numero_mes}° mês do ano.\")"
   ]
  },
  {
   "cell_type": "markdown",
   "metadata": {},
   "source": [
    "Só que ainda ficou algo estranho, pois a indexação em Python começa por 0. E, no caso acima, o nosso desejo é que a numeração dos meses comece no 1. Podemos usar um parâmetro da função `enumerate` para que a sequencia dos índices retornados pela função comece no 1. Vejamos:"
   ]
  },
  {
   "cell_type": "code",
   "execution_count": 8,
   "metadata": {},
   "outputs": [
    {
     "name": "stdout",
     "output_type": "stream",
     "text": [
      "Janeiro é o 1° mês do ano.\n",
      "Fevereiro é o 2° mês do ano.\n",
      "Março é o 3° mês do ano.\n",
      "Abril é o 4° mês do ano.\n",
      "Maio é o 5° mês do ano.\n",
      "Junho é o 6° mês do ano.\n",
      "Julho é o 7° mês do ano.\n",
      "Agosto é o 8° mês do ano.\n",
      "Setembro é o 9° mês do ano.\n",
      "Outubro é o 10° mês do ano.\n",
      "Novembro é o 11° mês do ano.\n",
      "Dezembro é o 12° mês do ano.\n"
     ]
    }
   ],
   "source": [
    "meses = [\n",
    "    \"Janeiro\",\n",
    "    \"Fevereiro\",\n",
    "    \"Março\",\n",
    "    \"Abril\",\n",
    "    \"Maio\",\n",
    "    \"Junho\",\n",
    "    \"Julho\",\n",
    "    \"Agosto\",\n",
    "    \"Setembro\",\n",
    "    \"Outubro\",\n",
    "    \"Novembro\",\n",
    "    \"Dezembro\",\n",
    "]\n",
    "\n",
    "for numero_mes, mes in enumerate(meses, start=1):\n",
    "    print(f\"{mes} é o {numero_mes}° mês do ano.\")"
   ]
  },
  {
   "cell_type": "markdown",
   "metadata": {},
   "source": []
  }
 ],
 "metadata": {
  "kernelspec": {
   "display_name": ".venv",
   "language": "python",
   "name": "python3"
  },
  "language_info": {
   "codemirror_mode": {
    "name": "ipython",
    "version": 3
   },
   "file_extension": ".py",
   "mimetype": "text/x-python",
   "name": "python",
   "nbconvert_exporter": "python",
   "pygments_lexer": "ipython3",
   "version": "3.12.2"
  }
 },
 "nbformat": 4,
 "nbformat_minor": 2
}
