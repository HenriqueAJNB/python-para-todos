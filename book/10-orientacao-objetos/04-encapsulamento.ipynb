{
 "cells": [
  {
   "cell_type": "markdown",
   "metadata": {},
   "source": [
    "# Encapsulamento"
   ]
  },
  {
   "cell_type": "markdown",
   "metadata": {},
   "source": [
    "## O que é encapsulamento?"
   ]
  },
  {
   "cell_type": "markdown",
   "metadata": {},
   "source": [
    "Encapsulamento é um dos quatro princípios fundamentais da programação orientada a objetos (POO). Até agora vimos apenas herança, vamos ver neste capítulo sobre encapsulamento, e os outros dois, abstração e polimorfismo veremos em capítulos seguintes.\n",
    "\n",
    "Em essência, encapsulamento é o conceito de agrupar atributos e os métodos que operam nesses dados dentro de objeto. Além disso, o encapsulamento envolve a restrição de acesso direto a alguns dos componentes do objeto, essencialmente \"escondendo\" os detalhes internos da implementação."
   ]
  },
  {
   "cell_type": "markdown",
   "metadata": {},
   "source": [
    "## Exemplo conceitual"
   ]
  },
  {
   "cell_type": "markdown",
   "metadata": {},
   "source": [
    "O melhor exemplo que consigo trazer é de uma máquina de café. Imagine que você tem uma máquina de café automática, como aquelas que encontramos em escritórios. Você sabe que, ao apertar o botão, a máquina faz café para você. No entanto, você não precisa (e nem deveria) saber todos os detalhes internos sobre como ela faz o café, como os grãos são moídos, como a água é aquecida ou como a pressão é ajustada. Tudo o que você sabe é que, ao apertar o botão, você recebe um café pronto, sem se preocupar com o que acontece dentro da máquina. Aqui vamos literalmente separar o que é público e o que é privado ao criar a nossa classe.\n",
    "\n",
    "Agora, trazendo isso para o mundo da programação:\n",
    "\n",
    "- A máquina de café é a nossa classe.\n",
    "- O botão para fazer café é um método público, ou seja, algo que você pode acessar diretamente e usar.\n",
    "- O que acontece dentro da máquina — moagem de grãos, controle da temperatura, pressão da água — são as variáveis e métodos privados, protegidos de você (o usuário) porque não é necessário que você mexa diretamente neles. Eles estão encapsulados, \"escondidos\" dentro da máquina para evitar que você cause algum problema ou quebrem o funcionamento correto.\n",
    "\n",
    "Vamos construir esse exemplo passo a passo.\n",
    "\n",
    "Primeiro, vamos criar a nossa classe."
   ]
  },
  {
   "cell_type": "markdown",
   "metadata": {},
   "source": [
    "### Atributos \"privados\""
   ]
  },
  {
   "cell_type": "code",
   "execution_count": null,
   "metadata": {},
   "outputs": [],
   "source": [
    "class MaquinaCafe:\n",
    "    def __init__(self):\n",
    "        self._agua = 1000  # Quantidade de água (privado)\n",
    "        self._graos = 500  # Quantidade de grãos (privado)"
   ]
  },
  {
   "cell_type": "markdown",
   "metadata": {},
   "source": [
    "Aqui já temos a primeira diferença. Notem que os atributos da máquina de café tem um `_` antes do nome do atributo, como acontece em `self._agua` e `self._graos`. Eles foram declarados como privados, ou seja, só devem ser acessados dentro da própria classe. Isso é uma *\"convençao de cavalheiros\"* em Python e significa que você não deveria acessar ou modificar tais atributos fora da classe.\n",
    "\n",
    "Mas porque eu disse *\"convençao de cavalheiros\"*? Na realidade, em Python, não existe atributos privados. Você pode acessar e modificar qualquer atributo de qualquer objeto em Python. Mas, por convenção, se um atributo tem um sublinhado `_` antes do nome, você não deve acessá-lo diretamente. Se você fizer isso, você está assumindo a responsabilidade de saber o que está fazendo e quebrar o código é por sua conta e risco.\n",
    "\n",
    "Vou mostrar como acessar e modificar estes atributos ainda é possível, mesmo com sublinhado `_` antes do nome."
   ]
  },
  {
   "cell_type": "code",
   "execution_count": 2,
   "metadata": {},
   "outputs": [
    {
     "name": "stdout",
     "output_type": "stream",
     "text": [
      "1000\n",
      "5000\n"
     ]
    }
   ],
   "source": [
    "class MaquinaCafe:\n",
    "    def __init__(self):\n",
    "        self._agua = 1000  # Quantidade de água (privado)\n",
    "        self._graos = 500  # Quantidade de grãos (privado)\n",
    "\n",
    "\n",
    "maquina_cafe = MaquinaCafe()\n",
    "# Aqui estamos acessando um atributo que, em teoria,\n",
    "# deveria ser privado e acessado somente pela própria classe!\n",
    "print(maquina_cafe._agua)\n",
    "\n",
    "# E aqui estamos modificando um atributo que, em teoria\n",
    "# deveria ser privado e modificado somente pela própria classe!\n",
    "maquina_cafe._agua = 5000\n",
    "\n",
    "# Mudamos algo interno da classe!\n",
    "print(maquina_cafe._agua)"
   ]
  },
  {
   "cell_type": "markdown",
   "metadata": {},
   "source": [
    "Portanto, entenda que o `_` no início do nome do atributo é uma convenção, e não uma regra rígida. O Python permite acessar e modificar qualquer atributo de qualquer objeto, mas você deve saber o que está fazendo. Como regra geral, ***siga a convenção e não acesse ou modifique atributos privados diretamente fora da classe!***"
   ]
  },
  {
   "cell_type": "markdown",
   "metadata": {},
   "source": [
    "### Métodos \"privados\""
   ]
  },
  {
   "cell_type": "markdown",
   "metadata": {},
   "source": [
    "Vamos continuar com a nossa classe. Agora vamos criar os métodos privados, que são os métodos que não devem ser acessados diretamente. Eles são métodos que fazem parte da implementação interna da classe e não devem ser chamados diretamente pelo usuário."
   ]
  },
  {
   "cell_type": "code",
   "execution_count": null,
   "metadata": {},
   "outputs": [],
   "source": [
    "class MaquinaCafe:\n",
    "    def __init__(self):\n",
    "        self._agua = 1000  # Quantidade de água (privado)\n",
    "        self._graos = 500  # Quantidade de grãos (privado)\n",
    "\n",
    "    def _moer_graos(self):  # Método privado\n",
    "        print(\"Moendo os grãos...\")\n",
    "        self._graos -= 50\n",
    "\n",
    "    def _aquecer_agua(self):  # Método privado\n",
    "        print(\"Aquecendo a água...\")\n",
    "        self._agua -= 200"
   ]
  },
  {
   "cell_type": "markdown",
   "metadata": {},
   "source": [
    "Novamente, métodos privados começam com `_` no nome, e vale a mesma ideia de convenção e não regra rígida. Você conseguiria criar uma instância e chamar o método privado diretamente, mas não é recomendado, apesar de a linguagem Python nos permitir. Novamente, ***siga a convenção e não execute métodos privados diretamente fora da classe!***"
   ]
  },
  {
   "cell_type": "markdown",
   "metadata": {},
   "source": [
    "### Métodos públicos"
   ]
  },
  {
   "cell_type": "markdown",
   "metadata": {},
   "source": [
    "Vamos agora criar um método público `fazer_cafe()`. Ele é definido normalmente, sem `_` no nome, e são métodos que em teoria deveriam ser os únicos acessados diretamente por quem usa a classe."
   ]
  },
  {
   "cell_type": "code",
   "execution_count": 1,
   "metadata": {},
   "outputs": [
    {
     "name": "stdout",
     "output_type": "stream",
     "text": [
      "Moendo os grãos...\n",
      "Aquecendo a água...\n",
      "Café pronto!\n"
     ]
    }
   ],
   "source": [
    "class MaquinaCafe:\n",
    "    def __init__(self):\n",
    "        self._agua = 1000  # Quantidade de água (privado)\n",
    "        self._graos = 500  # Quantidade de grãos (privado)\n",
    "\n",
    "    def _moer_graos(self):  # Método privado\n",
    "        print(\"Moendo os grãos...\")\n",
    "        self._graos -= 50\n",
    "\n",
    "    def _aquecer_agua(self):  # Método privado\n",
    "        print(\"Aquecendo a água...\")\n",
    "        self._agua -= 200\n",
    "\n",
    "    def fazer_cafe(self):  # Método público\n",
    "        if self._agua > 0 and self._graos > 0:\n",
    "            self._moer_graos()  # Método privados sendo acessados pela própria classe!\n",
    "            self._aquecer_agua()  # Método privados sendo acessados pela própria classe!\n",
    "            print(\"Café pronto!\")\n",
    "        else:\n",
    "            print(\"Sem água ou grãos suficientes.\")\n",
    "\n",
    "\n",
    "# Usuário (externo) da classe\n",
    "maquina = MaquinaCafe()\n",
    "maquina.fazer_cafe()  # Acesso ao método público fora da classe"
   ]
  },
  {
   "cell_type": "markdown",
   "metadata": {},
   "source": [
    "Reparem bem que os métodos privados `_moer_graos()` e `_aquecer_agua()` são chamados dentro do método público `fazer_cafe()`. Aqui é a magia do encapsulamento em ação! O usuário da classe não precisa saber como o café é feito, ele só precisa saber que ao chamar `fazer_cafe()`, ele vai receber um café pronto.\n",
    "\n",
    "Basicamente é esta a distinção mais básica do encapsulamento: o que é público e o que é privado. O usuário da classe só precisa saber o que é público, e não precisa saber o que acontece internamente.\n",
    "\n",
    "```{admonition} Atenção (definição privado vs público)\n",
    ":class: attention\n",
    "Dentro do conceito de encapsulamento, quem define quais métodos e atributos serão privados ou públicos é você, caro leitor! Você é quem decide o que é público e o que é privado, e o que o usuário da sua classe vai poder acessar diretamente. A ideia é esconder os detalhes de implementação e expor apenas o que é necessário para quem vai usar a sua classe.\n",
    "\n",
    "Portanto, é importante que você pense bem sobre o que é público e o que é privado, e que você siga a convenção de Python de usar `_` no início do nome para indicar que algo é privado. Mas lembre-se que, em Python, não existe atributos ou métodos privados de verdade, e você pode acessar e modificar qualquer coisa. A convenção é uma forma de dizer \"não faça isso\" e de indicar que algo é privado e não deve ser acessado diretamente.\n",
    "```"
   ]
  },
  {
   "cell_type": "markdown",
   "metadata": {},
   "source": [
    "## Casos de uso"
   ]
  },
  {
   "cell_type": "markdown",
   "metadata": {},
   "source": [
    "Vou trazer aqui alguns casos de uso para te ajudar a pensar e refletir sobre essa questão de público e privado.\n",
    "\n",
    "- **Saldo de conta bancária:** O saldo de uma conta bancária deve ser privado, acessível apenas por métodos autorizados, como depósito ou saque. O usuário não pode simplesmente modificar o saldo diretamente. Já pensou você aumentando seu próprio saldo no terminal do banco ou no seu celular? Não seria legal, né?\n",
    "\n",
    "- **Controle de acessos em um sistema de segurança:** Informações como senhas ou níveis de permissão dos usuários são encapsuladas, garantindo que elas não sejam acessadas ou modificadas diretamente, apenas através de métodos controlados.\n",
    "\n",
    "- **Configurações de uma máquina industrial:** Em uma máquina complexa, parâmetros como temperatura, pressão ou velocidade de operação podem ser ajustados apenas por métodos específicos, sem permitir que esses valores sejam alterados diretamente pelos usuários. Ninguém quer explodir um reator porque alguém que não deveria mexeu na temperatura, certo?\n",
    "\n",
    "- **Sistema de registro médico:** Informações sensíveis sobre pacientes, como diagnósticos e históricos médicos, devem ser protegidas. Apenas funções específicas podem acessar ou modificar esses dados, e quem usa o sistema não pode mexer diretamente nos registros. Aqui é para evitar que alguém veja ou modifique informações sensíveis sem autorização.\n",
    "\n",
    "- **Gerenciamento de inventário de estoque:** O número de itens no estoque pode ser encapsulado para evitar que o número de produtos seja alterado diretamente. Apenas funções específicas de entrada e saída de mercadorias podem atualizar o valor real.\n",
    "\n",
    "- **Configurações de conexão a um banco de dados:** As credenciais e parâmetros de conexão a um banco de dados são encapsulados para que apenas os métodos internos da classe façam a conexão, garantindo a segurança dos dados sensíveis.\n",
    "\n",
    "- **Jogo de vídeo game - pontuação do jogador:** A pontuação ou vida de um jogador em um jogo é protegida por encapsulamento, permitindo que apenas ações válidas dentro do jogo modifiquem esses valores, e não diretamente pelo usuário.\n",
    "\n",
    "Em resumo, muita das vezes quem determina o que é público e o que é privado é a lógica do seu programa ditada pela regra de negócio. Se algo não deve ser acessado diretamente, você deve encapsular e proteger esse dado ou método. Se algo pode ser acessado diretamente, você pode deixar público. A ideia é esconder os detalhes de implementação e expor apenas o que é necessário para quem for usar a classe."
   ]
  },
  {
   "cell_type": "markdown",
   "metadata": {},
   "source": [
    "## Conceito de propriedade"
   ]
  },
  {
   "cell_type": "markdown",
   "metadata": {},
   "source": [
    "Às vezes um atributo privado da classe precisa ser acessado somente como leitura. É o caso de um saldo de conta bancária, por exemplo. Você não quer que o saldo seja modificado diretamente, mas você quer que ele possa ser lido. Temos um novo conceito aqui de propriedade. Vamos entender melhor com um exemplo."
   ]
  },
  {
   "cell_type": "code",
   "execution_count": null,
   "metadata": {},
   "outputs": [],
   "source": [
    "class ContaBancaria:\n",
    "    def __init__(self):\n",
    "        self._saldo = 0\n",
    "\n",
    "    def depositar(self, valor):\n",
    "        if valor > 0:\n",
    "            self._saldo += valor\n",
    "        else:\n",
    "            print(\"Valor inválido para depósito.\")\n",
    "\n",
    "    def sacar(self, valor):\n",
    "        if 0 < valor <= self._saldo:\n",
    "            self._saldo -= valor\n",
    "        else:\n",
    "            print(\"Valor inválido para saque.\")"
   ]
  },
  {
   "cell_type": "markdown",
   "metadata": {},
   "source": [
    "Até aqui nenhuma novidade. Porém, pela convenção, sabemos que o atributo `_saldo` é privado e não deve ser acessado diretamente. Mas e se eu quisesse que um usuário da classe tivesse o acesso somente de leitura do saldo? Como eu faço? Acompanhe a seguir."
   ]
  },
  {
   "cell_type": "code",
   "execution_count": null,
   "metadata": {},
   "outputs": [],
   "source": [
    "class ContaBancaria:\n",
    "    def __init__(self):\n",
    "        self._saldo = 0\n",
    "\n",
    "    @property\n",
    "    def saldo(self):\n",
    "        return self._saldo\n",
    "\n",
    "    def depositar(self, valor):\n",
    "        if valor > 0:\n",
    "            self._saldo += valor\n",
    "        else:\n",
    "            print(\"Valor inválido para depósito.\")\n",
    "\n",
    "    def sacar(self, valor):\n",
    "        if 0 < valor <= self._saldo:\n",
    "            self._saldo -= valor\n",
    "        else:\n",
    "            print(\"Valor inválido para saque.\")"
   ]
  },
  {
   "cell_type": "markdown",
   "metadata": {},
   "source": [
    "Acrescentamos algo novo no nosso código. Temos um `@property`, e um método `saldo()` que retorna o atributo `_saldo` privado. O que está acontecendo aqui? Vamos com calma...\n",
    "\n",
    "Esse `@property` é obrigatório para definirmos uma proriedade. Ele é um decorador, que é um conceito um pouco mais avançado em Python, mas não se preocupe com tal conceito por agora. \n",
    "Entenda o que `@property` faz: ele transforma o método `saldo()` abaixo em uma propriedade `saldo` (mesmo nome do método), que tem o valor do retorno do método (`_saldo`, no caso). \n",
    "\n",
    "Uma propriedade funciona exatamente como um atributo, mas com a diferença de ser um atributo somente de leitura. Você não pode modificar o valor de uma propriedade diretamente, apenas lê-lo. Isso é muito útil para proteger atributos privados que você quer que sejam acessados somente como leitura."
   ]
  },
  {
   "cell_type": "code",
   "execution_count": 4,
   "metadata": {
    "tags":[
        "raise-exception" 
    ]
   },
   "outputs": [
    {
     "name": "stdout",
     "output_type": "stream",
     "text": [
      "1000\n"
     ]
    },
    {
     "ename": "AttributeError",
     "evalue": "property 'saldo' of 'ContaBancaria' object has no setter",
     "output_type": "error",
     "traceback": [
      "\u001b[1;31m---------------------------------------------------------------------------\u001b[0m",
      "\u001b[1;31mAttributeError\u001b[0m                            Traceback (most recent call last)",
      "Cell \u001b[1;32mIn[4], line 29\u001b[0m\n\u001b[0;32m     26\u001b[0m \u001b[38;5;28mprint\u001b[39m(conta\u001b[38;5;241m.\u001b[39msaldo)\n\u001b[0;32m     28\u001b[0m \u001b[38;5;66;03m# Mas por ser uma propriedade, não podemos modificar seu valor diretamente\u001b[39;00m\n\u001b[1;32m---> 29\u001b[0m \u001b[43mconta\u001b[49m\u001b[38;5;241;43m.\u001b[39;49m\u001b[43msaldo\u001b[49m \u001b[38;5;241m=\u001b[39m \u001b[38;5;241m5000\u001b[39m\n",
      "\u001b[1;31mAttributeError\u001b[0m: property 'saldo' of 'ContaBancaria' object has no setter"
     ]
    }
   ],
   "source": [
    "class ContaBancaria:\n",
    "    def __init__(self):\n",
    "        self._saldo = 0\n",
    "\n",
    "    @property\n",
    "    def saldo(self):\n",
    "        return self._saldo\n",
    "\n",
    "    def depositar(self, valor):\n",
    "        if valor > 0:\n",
    "            self._saldo += valor\n",
    "        else:\n",
    "            print(\"Valor inválido para depósito.\")\n",
    "\n",
    "    def sacar(self, valor):\n",
    "        if 0 < valor <= self._saldo:\n",
    "            self._saldo -= valor\n",
    "        else:\n",
    "            print(\"Valor inválido para saque.\")\n",
    "\n",
    "\n",
    "conta = ContaBancaria()\n",
    "conta.depositar(1000)\n",
    "# Aqui estamos acessando a propriedade saldo,\n",
    "# que retorna o valor do atributo privado _saldo\n",
    "print(conta.saldo)\n",
    "\n",
    "# Mas por ser uma propriedade, não podemos modificar seu valor diretamente\n",
    "conta.saldo = 5000"
   ]
  },
  {
   "cell_type": "markdown",
   "metadata": {},
   "source": [
    "Percebam como conseguimos com o uso do `@property` uma forma de garantir acesso de leitura à um determinado atributo privado, sem permitir que ele seja modificado?\n",
    "\n",
    "Mas é importante ressaltar a convenção de Python: o atributo original `_saldo` (e não a propriedade `saldo`) é privado e não deve ser acessado diretamente. O acesso deve ser pela propriedade `saldo` e é a forma correta de acessar o saldo, garantindo que ele seja somente de leitura.\n",
    "\n",
    "```{admonition} Atenção (convenção)\n",
    ":class: attention\n",
    "Mesmo com uso do `@property` ainda é possível alterar e modificar o atributo privado `_saldo`. O `@property` é uma forma de garantir que o acesso à determinado atributo seja somente de leitura, mas não impede que o atributo privado original seja modificado diretamente. Portanto, **siga a convenção de Python e não acesse ou modifique atributos privados diretamente, mesmo que você possa fazer isso!**\n",
    "```"
   ]
  },
  {
   "cell_type": "markdown",
   "metadata": {},
   "source": [
    "## O mistério com dois sublinhados"
   ]
  },
  {
   "cell_type": "markdown",
   "metadata": {},
   "source": [
    "Em uma tentativa de evitar o acesso direto aos atributos e métodos privados, existe ainda uma outra convenção, que é o uso de dois sublinhados `__` ao invés de um só `_`.\n",
    "\n",
    "Aqui é preciso entender que o uso de dois sublinhados `__` antes do nome de um atributo ou método não é apenas uma convenção, mas sim uma modificação que o Python faz por debaixo dos panos. Quando você usa dois sublinhados `__` antes do nome de um atributo ou método, o Python modifica o nome do atributo ou método, adicionando o nome da classe na frente. Esta modificação é conhecida como *name mangling*, que em português significa *embaralhamento de nomes*.\n",
    "\n",
    "Vamos usar o mesmo exemplo da máquina de café, mas agora com dois sublinhados `__` antes dos atributos e métodos privados."
   ]
  },
  {
   "cell_type": "code",
   "execution_count": 3,
   "metadata": {
    "tags": [
     "raise-exception"
    ]
   },
   "outputs": [
    {
     "ename": "AttributeError",
     "evalue": "'MaquinaCafe' object has no attribute '__agua'",
     "output_type": "error",
     "traceback": [
      "\u001b[1;31m---------------------------------------------------------------------------\u001b[0m",
      "\u001b[1;31mAttributeError\u001b[0m                            Traceback (most recent call last)",
      "Cell \u001b[1;32mIn[3], line 25\u001b[0m\n\u001b[0;32m     23\u001b[0m \u001b[38;5;66;03m# Usuário (externo) da classe\u001b[39;00m\n\u001b[0;32m     24\u001b[0m maquina \u001b[38;5;241m=\u001b[39m MaquinaCafe()\n\u001b[1;32m---> 25\u001b[0m \u001b[38;5;28mprint\u001b[39m(\u001b[43mmaquina\u001b[49m\u001b[38;5;241;43m.\u001b[39;49m\u001b[43m__agua\u001b[49m)\n",
      "\u001b[1;31mAttributeError\u001b[0m: 'MaquinaCafe' object has no attribute '__agua'"
     ]
    }
   ],
   "source": [
    "class MaquinaCafe:\n",
    "    def __init__(self):\n",
    "        self.__agua = 1000  # Quantidade de água (privado)\n",
    "        self.__graos = 500  # Quantidade de grãos (privado)\n",
    "\n",
    "    def __moer_graos(self):  # Método privado\n",
    "        print(\"Moendo os grãos...\")\n",
    "        self.__graos -= 50\n",
    "\n",
    "    def __aquecer_agua(self):  # Método privado\n",
    "        print(\"Aquecendo a água...\")\n",
    "        self.__agua -= 200\n",
    "\n",
    "    def fazer_cafe(self):  # Método público\n",
    "        if self.__agua > 0 and self.__graos > 0:\n",
    "            self.__moer_graos()  # Método privados sendo acessados pela própria classe!\n",
    "            self.__aquecer_agua()  # Método privados sendo acessados pela própria classe!\n",
    "            print(\"Café pronto!\")\n",
    "        else:\n",
    "            print(\"Sem água ou grãos suficientes.\")\n",
    "\n",
    "\n",
    "# Usuário (externo) da classe\n",
    "maquina = MaquinaCafe()\n",
    "print(maquina.__agua)"
   ]
  },
  {
   "cell_type": "markdown",
   "metadata": {},
   "source": [
    "A única diferença aqui é que estamos usando dois sublinhados `__` ao invés de um sublinhado `_` antes dos atributos e métodos privados. A impressão que temos é que o atributo deixou de existir fora da classe, e o \"ser privado\" realmente funciona.\n",
    "\n",
    "Quando usamos desta forma, o Python manipula os nomes por debaixo dos panos pra mudar os nomes dos atributos e métodos privados, colocando à frente deles o nome da classe. É só uma forma que o Python usa para tentar evitar que você acesse diretamente os atributos e métodos privados. \n",
    "\n",
    "Vamos entender como isso funciona no detalhe com um único atributo. Vamos definir a classe com um atributo público primeiro."
   ]
  },
  {
   "cell_type": "code",
   "execution_count": 7,
   "metadata": {},
   "outputs": [
    {
     "name": "stdout",
     "output_type": "stream",
     "text": [
      "['__class__', '__delattr__', '__dict__', '__dir__', '__doc__', '__eq__', '__format__', '__ge__', '__getattribute__', '__getstate__', '__gt__', '__hash__', '__init__', '__init_subclass__', '__le__', '__lt__', '__module__', '__ne__', '__new__', '__reduce__', '__reduce_ex__', '__repr__', '__setattr__', '__sizeof__', '__str__', '__subclasshook__', '__weakref__', 'agua']\n"
     ]
    }
   ],
   "source": [
    "class MaquinaCafe:\n",
    "    def __init__(self):\n",
    "        self.agua = 1000  # Quantidade de água (privado)\n",
    "\n",
    "\n",
    "maquina = MaquinaCafe()\n",
    "print(dir(maquina))"
   ]
  },
  {
   "cell_type": "markdown",
   "metadata": {},
   "source": [
    "No código acima, eu apenas usei a função `dir()` para imprimir todos os métodos e atributos da classe `MaquinaCafe`. Ignore, por enquanto, todos os outros itens da lista acima, e foque apenas no atributo `agua`, o último da lista. Quando criamos um atributo público, ele é adicionado à lista de atributos com o mesmo nome.\n",
    "\n",
    "Porém, no código abaixo, percebam que quando o atributo é criado com `__` antes do nome, o Python modifica o nome do atributo, adicionando o nome da classe na frente."
   ]
  },
  {
   "cell_type": "code",
   "execution_count": 8,
   "metadata": {},
   "outputs": [
    {
     "name": "stdout",
     "output_type": "stream",
     "text": [
      "['_MaquinaCafe__agua', '__class__', '__delattr__', '__dict__', '__dir__', '__doc__', '__eq__', '__format__', '__ge__', '__getattribute__', '__getstate__', '__gt__', '__hash__', '__init__', '__init_subclass__', '__le__', '__lt__', '__module__', '__ne__', '__new__', '__reduce__', '__reduce_ex__', '__repr__', '__setattr__', '__sizeof__', '__str__', '__subclasshook__', '__weakref__']\n"
     ]
    }
   ],
   "source": [
    "class MaquinaCafe:\n",
    "    def __init__(self):\n",
    "        self.__agua = 1000  # Quantidade de água (privado)\n",
    "\n",
    "\n",
    "maquina = MaquinaCafe()\n",
    "# print(maquina.__agua) AttributeError: 'MaquinaCafe' object has no attribute '__agua'\"\n",
    "print(dir(maquina))"
   ]
  },
  {
   "cell_type": "markdown",
   "metadata": {},
   "source": [
    "De fato o atributo `__agua` não existe, pois ele não está na lista! O que existe é o atributo `_MaquinaCafe__agua`. É isso mesmo! O Python modificou o nome do atributo, adicionando o nome da classe na frente, para tentar evitar que você acesse diretamente o atributo privado. Maaaaaaasssssssssss, ainda sim, sabendo disso que eu lhe disse, é possível acessar o atributo privado diretamente (Python de vez em quando é engraçado e nos engana!).\n",
    "\n",
    "Isso quer dizer então que eu consigo acessar o atributo privado `_MaquinaCafe__agua` diretamente? A resposta é: sim! Experimente você mesmo dar um `print(maquina._MaquinaCafe__agua)` e veja você mesmo que funciona! Mas novamente, pela milhonésima vez (de tanto eu encher o saco acho que você vai lembrar né?), ***siga a convenção de Python e não acesse ou modifique atributos privados diretamente!***\n",
    "\n",
    "A mesma coisa funciona para métodos privados. Vejam abaixo:"
   ]
  },
  {
   "cell_type": "code",
   "execution_count": 14,
   "metadata": {},
   "outputs": [
    {
     "name": "stdout",
     "output_type": "stream",
     "text": [
      "['_MaquinaCafe__agua', '_MaquinaCafe__aquecer_agua', '__class__', '__delattr__', '__dict__', '__dir__', '__doc__', '__eq__', '__format__', '__ge__', '__getattribute__', '__getstate__', '__gt__', '__hash__', '__init__', '__init_subclass__', '__le__', '__lt__', '__module__', '__ne__', '__new__', '__reduce__', '__reduce_ex__', '__repr__', '__setattr__', '__sizeof__', '__str__', '__subclasshook__', '__weakref__']\n",
      "Aquecendo a água...\n"
     ]
    }
   ],
   "source": [
    "class MaquinaCafe:\n",
    "    def __init__(self):\n",
    "        self.__agua = 1000  # Quantidade de água (privado)\n",
    "\n",
    "    def __aquecer_agua(self):  # Método privado\n",
    "        print(\"Aquecendo a água...\")\n",
    "        self.__agua -= 200\n",
    "\n",
    "\n",
    "# Usuário (externo) da classe\n",
    "maquina = MaquinaCafe()\n",
    "# print(maquina.__aquecer_agua()) AttributeError: 'MaquinaCafe' object has no attribute '__aquecer_agua'\"\n",
    "print(dir(maquina))\n",
    "\n",
    "# Sabendo que o Python modifica o nome dos atributos e métodos privados,\n",
    "# podemos acessá-los... mas não o faça!\n",
    "maquina._MaquinaCafe__aquecer_agua()"
   ]
  },
  {
   "cell_type": "markdown",
   "metadata": {},
   "source": [
    "## Conclusão"
   ]
  },
  {
   "cell_type": "markdown",
   "metadata": {},
   "source": [
    "Neste capítulo vimos o conceito de encapsulamento, que é um dos quatro princípios fundamentais da programação orientada a objetos (POO). O encapsulamento é a ideia de agrupar atributos e métodos que operam nesses dados dentro de objeto, e de restringir o acesso direto a alguns dos componentes do objeto, essencialmente \"escondendo\" os detalhes internos da implementação.\n",
    "\n",
    "Temos 3 tipos de métodos e atributos:\n",
    "\n",
    "- **Normais (públicos):** Sem convenções de nomenclatura especiais, acessíveis de fora da classe sem modificações no nome.\n",
    "- **Único sublinhado `_`:** Indica uso interno da classe e serve como uma convenção. Acessível de fora da classe sem modificações no nome.\n",
    "- **Duplo sublinhado `__`:** Introduz o embaralhamento de nome, alterando o nome para incluir o nome da classe. Acessível, mas com um nome modificado. Fornece uma maneira de restringir o acesso acidental, mas ainda é possível acessar os atributos e métodos ao usar o nome modificado.\n",
    "\n",
    "Na sequencia vamos ver o terceiro princípio da POO, que é a polimorfismo, quando um mesmo método ou função pode funcionar de maneiras diferentes, dependendo do objeto que o utiliza."
   ]
  }
 ],
 "metadata": {
  "kernelspec": {
   "display_name": ".venv",
   "language": "python",
   "name": "python3"
  },
  "language_info": {
   "codemirror_mode": {
    "name": "ipython",
    "version": 3
   },
   "file_extension": ".py",
   "mimetype": "text/x-python",
   "name": "python",
   "nbconvert_exporter": "python",
   "pygments_lexer": "ipython3",
   "version": "3.12.7"
  }
 },
 "nbformat": 4,
 "nbformat_minor": 2
}
