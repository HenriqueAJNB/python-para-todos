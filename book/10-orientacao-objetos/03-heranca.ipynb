{
 "cells": [
  {
   "cell_type": "markdown",
   "metadata": {},
   "source": [
    "# Herança"
   ]
  },
  {
   "cell_type": "markdown",
   "metadata": {},
   "source": [
    "Neste capítulo vamos falar sobre herança em POO.\n",
    "\n",
    "Herança é um dos quatro pilares da programação orientada a objetos. Os outros três são encapsulamento, polimorfismo e abstração. Veremos os outros em capítulos seguintes."
   ]
  },
  {
   "cell_type": "markdown",
   "metadata": {},
   "source": [
    "## O que é herança?"
   ]
  },
  {
   "cell_type": "markdown",
   "metadata": {},
   "source": [
    "Herança é um conceito em POO que permite a criação de uma nova classe que herda atributos e métodos de uma classe existente. A nova classe é chamada de **subclasse** ou **classe filha**, e a classe existente é chamada de **superclasse** ou classe **pai/mãe**. A subclasse usa atributos e métodos da superclasse sem precisar reescrevê-los.\n",
    "\n",
    "É importante ressaltar que a herança estabelece uma relação na qual **a subclasse é um tipo da superclasse**. Por exemplo, se temos uma classe `Animal` e uma classe `Cachorro`, podemos dizer que `Cachorro` é um tipo de `Animal`. Ou então, se tivermos uma classe `Veículo` e uma classe `Carro`, podemos dizer que `Carro` é um tipo de `Veículo`.\n",
    "\n",
    "Caso essa relação não exista, talvez a herança não seja a melhor opção. Nesse caso, podemos usar a **composição**, que é outro conceito da POO o qual veremos também mais adiante aqui no livro. Portanto, sempre que for pensar em herança, pergunte-se: **a subclasse é um tipo da superclasse?**"
   ]
  },
  {
   "cell_type": "markdown",
   "metadata": {},
   "source": [
    "## Vantagens da herança"
   ]
  },
  {
   "cell_type": "markdown",
   "metadata": {},
   "source": [
    "As principais vantagens de usar herança são:\n",
    "\n",
    "1. **Reutilização de código**: a subclasse herda atributos e métodos da superclasse, o que evita a reescrita de código.\n",
    "2. **Facilidade de manutenção**: se precisarmos alterar um método ou atributo, basta alterar na superclasse, e a mudança será refletida em todas as subclasses.\n",
    "3. **Facilidade de extensão**: podemos adicionar novos métodos e atributos na subclasse sem alterar a superclasses."
   ]
  },
  {
   "cell_type": "markdown",
   "metadata": {},
   "source": [
    "## Sintaxe de herança"
   ]
  },
  {
   "cell_type": "markdown",
   "metadata": {},
   "source": [
    "Para usar herança em Python, basta passar a superclasse entre parênteses na definição da subclasse. Veja o exemplo abaixo uma demonstração simples com a explicação na sequencia:"
   ]
  },
  {
   "cell_type": "code",
   "execution_count": 1,
   "metadata": {},
   "outputs": [
    {
     "name": "stdout",
     "output_type": "stream",
     "text": [
      "Rex está comendo.\n",
      "Rex está dormindo.\n",
      "Rex, o Labrador, está latindo!\n"
     ]
    }
   ],
   "source": [
    "# Superclasse\n",
    "class Animal:\n",
    "    def __init__(self, nome):  # 2.1\n",
    "        self.nome = nome\n",
    "\n",
    "    def comer(self):\n",
    "        print(f\"{self.nome} está comendo.\")\n",
    "\n",
    "    def dormir(self):\n",
    "        print(f\"{self.nome} está dormindo.\")\n",
    "\n",
    "\n",
    "# Subclasse\n",
    "class Cachorro(Animal):  # 1\n",
    "    def __init__(self, nome: str, raca: str):\n",
    "        super().__init__(nome)  # 2\n",
    "        self.raca = raca  # 3\n",
    "\n",
    "    def latir(self):  # 4\n",
    "        print(f\"{self.nome}, o {self.raca}, está latindo!\")\n",
    "\n",
    "\n",
    "cachorro = Cachorro(\"Rex\", \"Labrador\")  # 5\n",
    "\n",
    "cachorro.comer()  # 6\n",
    "cachorro.dormir()  # 6\n",
    "cachorro.latir()  # 7"
   ]
  },
  {
   "cell_type": "markdown",
   "metadata": {},
   "source": [
    "Temos algumas novidades no código acima, vamos entender melhor. Acompanhe pelas marcações numéricas no código:\n",
    "\n",
    "1. Na definição da classe `Cachorro`, passamos `Animal` entre parênteses. Isso indica que `Cachorro` é uma subclasse de `Animal`. Ou seja, `Cachorro` herda atributos e métodos de `Animal` sem precisar reescrevê-los.\n",
    "2. Aqui talvez seja o ponto principal. Na subclasse `Cachorro`, estamos executando o construtor da superclasse `Animal` com a linha `super().__init__(nome)`. Isso é necessário para que a subclasse tenha acesso aos atributos e métodos da superclasse. Percebam que o método construtor `__init__` da superclasse (2.1) recebe apenas `nome` como parâmetro. \n",
    "3. A subclasse `Cachorro` possui um atributo a mais que a superclasse `Animal`: `raca`.\n",
    "4. Definição de um método `latir` que só a subclasse possui.\n",
    "5. Criamos uma instância `cachorro` a partir da subclasse `Cachorro`\n",
    "6. A maravilha da herança acontecendo: percebam que o método `.comer()` e `.dormir()` não foi definido na subclasse `Cachorro`, mas mesmo assim conseguimos chamá-lo! Estamos reutilizando o método da superclasse `Animal`.\n",
    "7. E finalmente chamamos o método `.latir()` que só a subclasse possui.\n",
    "\n",
    "Agora, e se quisermos adicionar outras subclasses de `Animal`, como `Gato`, `Peixe`, ou outros animais? Basta criar novas subclasses de `Animal` e seguir a mesma lógica que fizemos com `Cachorro`."
   ]
  },
  {
   "cell_type": "code",
   "execution_count": null,
   "metadata": {},
   "outputs": [],
   "source": [
    "# Superclasse\n",
    "class Animal:\n",
    "    def __init__(self, nome):\n",
    "        self.nome = nome\n",
    "\n",
    "    def comer(self):\n",
    "        print(f\"{self.nome} está comendo.\")\n",
    "\n",
    "    def dormir(self):\n",
    "        print(f\"{self.nome} está dormindo.\")\n",
    "\n",
    "\n",
    "class Cachorro(Animal):\n",
    "    def __init__(self, nome: str, raca: str):\n",
    "        super().__init__(nome)\n",
    "        self.raca = raca\n",
    "\n",
    "    def latir(self):\n",
    "        print(f\"{self.nome}, o {self.raca}, está latindo!\")\n",
    "\n",
    "\n",
    "class Gato(Animal):\n",
    "    def __init__(self, nome: str, cor: str):\n",
    "        super().__init__(nome)\n",
    "        self.cor = cor\n",
    "\n",
    "    def miar(self):\n",
    "        print(f\"{self.nome}, o gato {self.cor}, está miando: 'Miau!'\")\n",
    "\n",
    "    def escalar(self):\n",
    "        print(f\"{self.nome}, o gato {self.cor}, está escalando uma árvore!\")\n",
    "\n",
    "\n",
    "cachorro = Cachorro(\"Rex\", \"Labrador\")\n",
    "cachorro.comer()\n",
    "cachorro.dormir()\n",
    "cachorro.latir()\n",
    "\n",
    "gato = Gato(\"Mingau\", \"tigrado\")\n",
    "gato.comer()\n",
    "gato.dormir()\n",
    "gato.miar()\n",
    "gato.escalar()"
   ]
  },
  {
   "cell_type": "markdown",
   "metadata": {},
   "source": [
    "Da mesma forma que `Cachorro`, a subclasse `Gato` herda os atributos e métodos da superclasse `Animal`, implementando apenas o atributo específico `cor` e os métodos `.miar()` e `.escalar()`.\n",
    "\n",
    "```{admonition} Atenção (relação entre subclasses e superclasse)\n",
    ":class: attention\n",
    "Só podemos usar herança no caso acima pois a relação entre as subclasses e a superclasse faz sentido. Ou seja, `Cachorro` é um tipo de `Animal`, e `Gato` é um tipo de `Animal`. Se tal relação não fizer sentido, talvez o melhor seja não usar herança!\n",
    "```\n",
    "\n",
    "Vamos ver um outro exemplo real para fixar o conceito de herança."
   ]
  },
  {
   "cell_type": "markdown",
   "metadata": {},
   "source": [
    "## Exemplo: jogo online"
   ]
  },
  {
   "cell_type": "code",
   "execution_count": 7,
   "metadata": {},
   "outputs": [
    {
     "name": "stdout",
     "output_type": "stream",
     "text": [
      "Thor atacou com 20 pontos!\n",
      "Thor está se defendendo com 10 pontos!\n",
      "Thor desferiu um golpe de espada com 70 de dano!\n",
      "Thor: Vida = 100; Poder de ataque = 20\n",
      "Gandalf atacou com 15 pontos!\n",
      "Gandalf lançou uma magia poderosa e consumiu 10 de mana!\n",
      "Gandalf não tem mana suficiente!\n",
      "Gandalf: Vida = 80; Poder de ataque = 15\n"
     ]
    }
   ],
   "source": [
    "class Personagem:\n",
    "    def __init__(self, nome: str, vida: int, ataque: int, defesa: int):\n",
    "        self.nome = nome\n",
    "        self.vida = vida\n",
    "        self.ataque = ataque\n",
    "        self.defesa = defesa\n",
    "\n",
    "    def atacar(self):\n",
    "        print(f\"{self.nome} atacou com {self.ataque} pontos!\")\n",
    "\n",
    "    def defender(self):\n",
    "        print(f\"{self.nome} está se defendendo com {self.defesa} pontos!\")\n",
    "\n",
    "    def status(self):\n",
    "        print(f\"{self.nome}: Vida = {self.vida}; Poder de ataque = {self.ataque}\")\n",
    "\n",
    "\n",
    "class Guerreiro(Personagem):\n",
    "    def __init__(self, nome, vida, ataque, defesa, forca_extra):\n",
    "        # Chamando o construtor da superclasse Personagem\n",
    "        super().__init__(nome, vida, ataque, defesa)\n",
    "        self.forca_extra = forca_extra\n",
    "\n",
    "    def golpe_espada(self):\n",
    "        dano = self.ataque + self.forca_extra\n",
    "        print(f\"{self.nome} desferiu um golpe de espada com {dano} de dano!\")\n",
    "\n",
    "\n",
    "class Mago(Personagem):\n",
    "    def __init__(self, nome, vida, ataque, defesa, mana):\n",
    "        super().__init__(nome, vida, ataque, defesa)\n",
    "        self.mana = mana\n",
    "\n",
    "    def lançar_magia(self):\n",
    "        if self.mana >= 10:\n",
    "            self.mana -= 10\n",
    "            print(f\"{self.nome} lançou uma magia poderosa e consumiu 10 de mana!\")\n",
    "        else:\n",
    "            print(f\"{self.nome} não tem mana suficiente!\")\n",
    "\n",
    "\n",
    "guerreiro = Guerreiro(nome=\"Thor\", vida=100, ataque=20, defesa=10, forca_extra=50)\n",
    "guerreiro.atacar()\n",
    "guerreiro.defender()\n",
    "guerreiro.golpe_espada()\n",
    "guerreiro.status()\n",
    "\n",
    "\n",
    "mago = Mago(\"Gandalf\", vida=80, ataque=15, defesa=2, mana=15)\n",
    "mago.atacar()\n",
    "mago.lançar_magia()\n",
    "mago.lançar_magia()\n",
    "mago.status()\n"
   ]
  },
  {
   "cell_type": "markdown",
   "metadata": {},
   "source": [
    "Observem bem como o código acima fica agradável de ler! Parece realmente uma história, ainda mais considerando bons nomes para as variáveis, classes e métodos! E aqui nem começamos a brincar com a interação entre as classes, estamos trabalhando com elas (`Mago` e `Guerreiro`) de forma isolada usando herança. \n",
    "\n",
    "Poderíamos, por exemplo, fazer as classes interagirem entre si, e quando uma atacar, a outra perde pontos de vida baseado na diferença entre ataque e defesa... enfim, as possibilidades são infinitas!\n",
    "\n",
    "Mas vamos com calma, um passo de cada vez."
   ]
  },
  {
   "cell_type": "markdown",
   "metadata": {},
   "source": [
    "## O problema da herança"
   ]
  },
  {
   "cell_type": "markdown",
   "metadata": {},
   "source": [
    "Nem tudo são flores! A herança pode trazer alguns problemas, como:\n",
    "\n",
    "1. **Acoplamento**: a subclasse fica muito dependente da superclasse, o que pode dificultar a manutenção do código. Se a superclasse mudar, todas as subclasses serão impactadas. E isso, se não for bem controlado, pode virar um cenário caótido.\n",
    "2. **Herança múltipla**: Python permite herança múltipla, ou seja, uma subclasse pode herdar de mais de uma superclasse. Eu sequer vou explicar isso aqui, pois é confuso e difícil demais pra entender (e não tem muita utilidade também). A subclasse herda atributos e métodos de várias superclasses, o que pode gerar conflitos e dores de cabeça pra entender.\n",
    "3. **Explosão de subclasses**: Se não tivermos cuidado, podemos criar subclasses em excesso, o que pode dificultar e muito a manutenção do código. Se tivermos muitas subclasses, talvez seja melhor repensar a estrutura do código. Para evitar esse tipo de problema, podemos usar uma outra estratégia chamada **composição**, que falarei mais à frente no livro.\n",
    "4. **Não respeitar a relação**: quando a relação *subclasse é um tipo da superclasse* não fizer sentido, usar herança é conceitualmente errado, e o código fica horrível de ler. Ou então inverter a relação, ou seja, a superclasse ser um tipo da subclasse. Imagine que você implemente uma classe `Cachorro` que herda de `Pessoa` (cachorro é um tipo de pessoa, oi??), ou então uma classe `AparelhoEletronico` que herda de `Televisão` (um aparelho eletrônico é um tipo de TV, não seria o contrário?)... enfim, são exemplos de relações que não fazem sentido."
   ]
  },
  {
   "cell_type": "markdown",
   "metadata": {},
   "source": [
    "## Conclusão"
   ]
  },
  {
   "cell_type": "markdown",
   "metadata": {},
   "source": [
    "Nesta seção você aprendeu sobre herança em POO. A herança é um conceito importante que permite a reutilização de código. Vimos uma sintaxe básica de implementação, com a expansão de 2 subclasses de `Animal`: `Cachorro` e `Gato`. Também vimos um exemplo mais real de herança com as classes `Mago` e `Guerreiro` em um jogo online. Ao final, discutimos os problemas da herança e quando não devemos usá-la.\n",
    "\n",
    "No próximo capítulo vamos falar sobre **encapsulamento**, que é outro pilar da programação orientada a objetos. As classes devem ser como caixas pretas, e o encapsulamento é o conceito que nos ajuda a manter essa caixa preta fechada."
   ]
  },
  {
   "cell_type": "markdown",
   "metadata": {},
   "source": [
    "## ⚒️👷 (WIP) capítulo em construção ⚒️👷"
   ]
  }
 ],
 "metadata": {
  "kernelspec": {
   "display_name": ".venv",
   "language": "python",
   "name": "python3"
  },
  "language_info": {
   "codemirror_mode": {
    "name": "ipython",
    "version": 3
   },
   "file_extension": ".py",
   "mimetype": "text/x-python",
   "name": "python",
   "nbconvert_exporter": "python",
   "pygments_lexer": "ipython3",
   "version": "3.12.6"
  }
 },
 "nbformat": 4,
 "nbformat_minor": 2
}
