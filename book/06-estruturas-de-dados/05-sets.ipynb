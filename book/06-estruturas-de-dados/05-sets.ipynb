{
 "cells": [
  {
   "cell_type": "markdown",
   "metadata": {},
   "source": [
    "# Sets"
   ]
  },
  {
   "cell_type": "markdown",
   "metadata": {},
   "source": [
    "Sets é uma estrutura de dados um tanto quanto interessante (e pouco falada, na minha visão). Trata-se de uma sequencia também, assim como lista e tuplas, mas com algumas características bem distintas:\n",
    "\n",
    "- **Elementos únicos:** Um set não permite que elementos duplicados sejam armazenados. Se você tentar adicionar o mesmo elemento mais de uma vez, ele será armazenado apenas uma vez.\n",
    "\n",
    "- **Sem ordem definida:** Os elementos em um set não têm uma ordem específica. Diferente de listas ou tuplas, onde a ordem dos elementos é importante, em sets a posição dos elementos não é garantida e pode variar.\n",
    "\n",
    "- **Operações matemáticas:** Sets suportam operações matemáticas como união, interseção, diferença e diferença simétrica, que são úteis para comparar e combinar conjuntos de dados.\n",
    "\n",
    "\n",
    "Vamos aprofundar mais neste capítulo."
   ]
  },
  {
   "cell_type": "markdown",
   "metadata": {},
   "source": [
    "## Sintaxe básica"
   ]
  },
  {
   "cell_type": "markdown",
   "metadata": {},
   "source": [
    "a sintaxe básica para criar um set envolve colocar os elementos entre chaves `{}`. Por exemplo, `conjunto = {1, 2, 3, 3}` cria um set contendo os números 1, 2 e 3 (o 3 aparece apenas uma vez, pois o set elimina duplicatas de forma automática)."
   ]
  },
  {
   "cell_type": "code",
   "execution_count": 1,
   "metadata": {},
   "outputs": [
    {
     "name": "stdout",
     "output_type": "stream",
     "text": [
      "{1, 2, 3}\n"
     ]
    }
   ],
   "source": [
    "conjunto = {1, 2, 3, 3}\n",
    "print(conjunto)"
   ]
  },
  {
   "cell_type": "markdown",
   "metadata": {},
   "source": [
    "A diferença entre a sintaxe de um set e a de um dicionário está no formato e no propósito de cada estrutura, apesar de ambos se iniciarem com `{}`.\n",
    "\n",
    "```{admonition} Nota (type)\n",
    ":class: note\n",
    "Lembra da função `type`? Se quiser de fato conferir se uma variável que começa e termina com `{}` é um set ou dicionário, é possível verificar com a função `type`.\n",
    "```\n",
    "\n",
    "Um set é uma coleção de elementos únicos, sem nenhuma relação de chave e valor, e os elementos são separados por vírgulas dentro das chaves. Já um dicionário também é criado com chaves `{}`, mas ele armazena pares de chave e valor, como `pessoa = {\"nome\": \"João\", \"idade\": 30}`. No dicionário, cada chave é associada a um valor específico, enquanto no set, você apenas tem valores sem uma chave correspondente.\n",
    "\n",
    "Portanto, a principal diferença na sintaxe é que em um set, você apenas lista os elementos, enquanto em um dicionário, você precisa especificar chaves e valores, separados por dois pontos `:`."
   ]
  },
  {
   "cell_type": "markdown",
   "metadata": {},
   "source": [
    "## Caso de uso real"
   ]
  },
  {
   "cell_type": "markdown",
   "metadata": {},
   "source": [
    "Supondo que uma pessoa A tenha uma carteira de investimento com os seguintes fundos imobiliários: BPFF11, BTLG11, CSHG11, FEXC11, FIIB11, HFOF11, HGLG11 e HGRE11.\n",
    "\n",
    "Uma outra pessoa B também tem uma outra carteira de fundos imobiliários com os seguintes fundos: BCFF11, FIIJ11, GGRC11, HFOF11,  HGLG11, HGLG11,  HGPO11 e HGRU11.\n",
    "\n",
    "Com sets podemos rapidamente responder às seguintes perguntas:"
   ]
  },
  {
   "cell_type": "code",
   "execution_count": 3,
   "metadata": {},
   "outputs": [
    {
     "name": "stdout",
     "output_type": "stream",
     "text": [
      "{'HGLG11', 'HFOF11'}\n"
     ]
    }
   ],
   "source": [
    "investimentos_pessoa_a = {\"BPFF11\", \"BTLG11\", \"CSHG11\", \"FEXC11\", \"FIIB11\", \"HFOF11\", \"HGLG11\", \"HGRE11\"}\n",
    "investimentos_pessoa_b = {\"BCFF11\",\"FIIJ11\",\"GGRC11\",\"HFOF11\", \"HGLG11\",\"HGLG11\", \"HGPO11\",\"HGRU11\"}\n",
    "\n",
    "# Quais são os ativos em comum entre as pessoas A e B?\n",
    "investimentos_em_comum = investimentos_pessoa_a.intersection(investimentos_pessoa_b)\n",
    "print(investimentos_em_comum)"
   ]
  },
  {
   "cell_type": "code",
   "execution_count": 6,
   "metadata": {},
   "outputs": [
    {
     "name": "stdout",
     "output_type": "stream",
     "text": [
      "{'HGPO11', 'GGRC11', 'FEXC11', 'HGLG11', 'HFOF11', 'HGRU11', 'BCFF11', 'FIIJ11', 'HGRE11', 'CSHG11', 'BTLG11', 'BPFF11', 'FIIB11'}\n"
     ]
    }
   ],
   "source": [
    "investimentos_pessoa_a = {\"BPFF11\", \"BTLG11\", \"CSHG11\", \"FEXC11\", \"FIIB11\", \"HFOF11\", \"HGLG11\", \"HGRE11\"}\n",
    "investimentos_pessoa_b = {\"BCFF11\",\"FIIJ11\",\"GGRC11\",\"HFOF11\", \"HGLG11\",\"HGLG11\", \"HGPO11\",\"HGRU11\"}\n",
    "\n",
    "# Quais são os ativos das carteiras de ambas as pessoas (A, B ou ambas)?\n",
    "todos_os_ativos = investimentos_pessoa_a.union(investimentos_pessoa_b)\n",
    "print(todos_os_ativos)"
   ]
  },
  {
   "cell_type": "code",
   "execution_count": 8,
   "metadata": {},
   "outputs": [
    {
     "name": "stdout",
     "output_type": "stream",
     "text": [
      "{'FEXC11', 'HGRE11', 'CSHG11', 'BTLG11', 'BPFF11', 'FIIB11'}\n"
     ]
    }
   ],
   "source": [
    "investimentos_pessoa_a = {\"BPFF11\", \"BTLG11\", \"CSHG11\", \"FEXC11\", \"FIIB11\", \"HFOF11\", \"HGLG11\", \"HGRE11\"}\n",
    "investimentos_pessoa_b = {\"BCFF11\",\"FIIJ11\",\"GGRC11\",\"HFOF11\", \"HGLG11\",\"HGLG11\", \"HGPO11\",\"HGRU11\"}\n",
    "\n",
    "# Quais são os ativos que somente a pessoa A tem em carteira?\n",
    "investimentos_exclusivos_pessoa_a = investimentos_pessoa_a - investimentos_pessoa_b\n",
    "print(investimentos_exclusivos_pessoa_a)"
   ]
  },
  {
   "cell_type": "code",
   "execution_count": 9,
   "metadata": {},
   "outputs": [
    {
     "name": "stdout",
     "output_type": "stream",
     "text": [
      "{'HGPO11', 'GGRC11', 'HGRU11', 'BCFF11', 'FIIJ11'}\n"
     ]
    }
   ],
   "source": [
    "investimentos_pessoa_a = {\"BPFF11\", \"BTLG11\", \"CSHG11\", \"FEXC11\", \"FIIB11\", \"HFOF11\", \"HGLG11\", \"HGRE11\"}\n",
    "investimentos_pessoa_b = {\"BCFF11\",\"FIIJ11\",\"GGRC11\",\"HFOF11\", \"HGLG11\",\"HGLG11\", \"HGPO11\",\"HGRU11\"}\n",
    "\n",
    "# Quais são os ativos que somente a pessoa B tem em carteira?\n",
    "investimentos_exclusivos_pessoa_b = investimentos_pessoa_b - investimentos_pessoa_a\n",
    "print(investimentos_exclusivos_pessoa_b)"
   ]
  },
  {
   "cell_type": "markdown",
   "metadata": {},
   "source": [
    "## Teoria dos conjuntos"
   ]
  },
  {
   "cell_type": "markdown",
   "metadata": {},
   "source": [
    "Sets são a estrutura ideal para trabalharmos pensando em teoria dos conjuntos.\n",
    "\n",
    "```{image} ../img/06-05-sets-theory.png\n",
    ":name: sets-theory\n",
    "```\n",
    "*<p style=\"text-align: center;\">Teoria dos conjuntos (fonte: autoria própria)</p>*"
   ]
  },
  {
   "cell_type": "markdown",
   "metadata": {},
   "source": []
  }
 ],
 "metadata": {
  "kernelspec": {
   "display_name": ".venv",
   "language": "python",
   "name": "python3"
  },
  "language_info": {
   "codemirror_mode": {
    "name": "ipython",
    "version": 3
   },
   "file_extension": ".py",
   "mimetype": "text/x-python",
   "name": "python",
   "nbconvert_exporter": "python",
   "pygments_lexer": "ipython3",
   "version": "3.12.2"
  }
 },
 "nbformat": 4,
 "nbformat_minor": 2
}
