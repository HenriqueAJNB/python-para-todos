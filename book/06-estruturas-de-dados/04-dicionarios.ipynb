{
 "cells": [
  {
   "cell_type": "markdown",
   "metadata": {},
   "source": [
    "# Dicionários"
   ]
  },
  {
   "cell_type": "markdown",
   "metadata": {},
   "source": [
    "Um dicionário em Python é uma estrutura de dados que armazena pares de chave-valor. É a primeira estrutura **não ordenada** que vamos aprender.\n",
    "\n",
    "Cada chave deve ser única e imutável (por exemplo, uma string, um número ou uma tupla), enquanto os valores podem ser de qualquer tipo, incluindo listas, listas e até mesmo outros dicionários. \n",
    "\n",
    "Os dicionários são úteis para armazenar dados que precisam ser rapidamente acessíveis por uma chave descritiva.\n",
    "\n",
    "[Aqui](https://docs.python.org/3/library/stdtypes.html#mapping-types-dict) você encontra a documentação oficial de dicionários, cobrindo todos as operações que vamos falar neste capítulo."
   ]
  },
  {
   "cell_type": "markdown",
   "metadata": {},
   "source": [
    "## Sintaxe básica"
   ]
  },
  {
   "cell_type": "markdown",
   "metadata": {},
   "source": [
    "Um dicionário é definido usando chaves `{}` e cada par de chave-valor é separado por dois pontos `:`. Os pares são separados por vírgulas `,`."
   ]
  },
  {
   "cell_type": "code",
   "execution_count": 1,
   "metadata": {},
   "outputs": [
    {
     "name": "stdout",
     "output_type": "stream",
     "text": [
      "{'nome': 'João', 'idade': 30, 'cidade': 'São Paulo'}\n"
     ]
    }
   ],
   "source": [
    "pessoa = {\n",
    "    \"nome\": \"João\",\n",
    "    \"idade\": 30,\n",
    "    \"cidade\": \"São Paulo\"\n",
    "}\n",
    "print(pessoa)"
   ]
  },
  {
   "cell_type": "markdown",
   "metadata": {},
   "source": [
    "## Operações básicas com dicionários"
   ]
  },
  {
   "cell_type": "markdown",
   "metadata": {},
   "source": [
    "### Acessando valores a partir da chave"
   ]
  },
  {
   "cell_type": "markdown",
   "metadata": {},
   "source": [
    "Lembra que com listas e tuplas podemos acessar os elementos pela índice? Pois bem, em dicionário é como se nós atribuíssemos nomes aos índices. Os índices passam a ser as nossas chaves. E ao acessarmos a chave de um dicionário o valor é retornado."
   ]
  },
  {
   "cell_type": "code",
   "execution_count": 2,
   "metadata": {},
   "outputs": [
    {
     "name": "stdout",
     "output_type": "stream",
     "text": [
      "João\n"
     ]
    }
   ],
   "source": [
    "pessoa = {\n",
    "    \"nome\": \"João\",\n",
    "    \"idade\": 30,\n",
    "    \"cidade\": \"São Paulo\"\n",
    "}\n",
    "print(pessoa[\"nome\"])"
   ]
  },
  {
   "cell_type": "markdown",
   "metadata": {},
   "source": [
    "Note que não existe mais o acesso por índices ou posições, como era em listas e tuplas. Por este motivo, os dicionários são estruturas **não ordenadas**. Não há uma ordem (primeiro, segundo, terceiro) para acessarmos os valores. Vejamos o que acontece caso busquemos pelo primeiro par de chaves e valores através de índices:"
   ]
  },
  {
   "cell_type": "code",
   "execution_count": 3,
   "metadata": {
    "tags": [
     "raises-exception"
    ]
   },
   "outputs": [
    {
     "ename": "KeyError",
     "evalue": "0",
     "output_type": "error",
     "traceback": [
      "\u001b[1;31m---------------------------------------------------------------------------\u001b[0m",
      "\u001b[1;31mKeyError\u001b[0m                                  Traceback (most recent call last)",
      "Cell \u001b[1;32mIn[3], line 6\u001b[0m\n\u001b[0;32m      1\u001b[0m pessoa \u001b[38;5;241m=\u001b[39m {\n\u001b[0;32m      2\u001b[0m     \u001b[38;5;124m\"\u001b[39m\u001b[38;5;124mnome\u001b[39m\u001b[38;5;124m\"\u001b[39m: \u001b[38;5;124m\"\u001b[39m\u001b[38;5;124mJoão\u001b[39m\u001b[38;5;124m\"\u001b[39m,\n\u001b[0;32m      3\u001b[0m     \u001b[38;5;124m\"\u001b[39m\u001b[38;5;124midade\u001b[39m\u001b[38;5;124m\"\u001b[39m: \u001b[38;5;241m30\u001b[39m,\n\u001b[0;32m      4\u001b[0m     \u001b[38;5;124m\"\u001b[39m\u001b[38;5;124mcidade\u001b[39m\u001b[38;5;124m\"\u001b[39m: \u001b[38;5;124m\"\u001b[39m\u001b[38;5;124mSão Paulo\u001b[39m\u001b[38;5;124m\"\u001b[39m\n\u001b[0;32m      5\u001b[0m }\n\u001b[1;32m----> 6\u001b[0m \u001b[38;5;28mprint\u001b[39m(\u001b[43mpessoa\u001b[49m\u001b[43m[\u001b[49m\u001b[38;5;241;43m0\u001b[39;49m\u001b[43m]\u001b[49m)\n",
      "\u001b[1;31mKeyError\u001b[0m: 0"
     ]
    }
   ],
   "source": [
    "pessoa = {\n",
    "    \"nome\": \"João\",\n",
    "    \"idade\": 30,\n",
    "    \"cidade\": \"São Paulo\"\n",
    "}\n",
    "print(pessoa[0])"
   ]
  },
  {
   "cell_type": "markdown",
   "metadata": {},
   "source": [
    "Esse erro `KeyError: 0` ocorre porque o código tentou acessar a chave 0 no dicionário, mas essa chave não existe. As únicas chaves presentes no dicionário são `nome`, `idade` e `cidade`. Em resumo, o erro significa que a chave 0 não foi encontrada."
   ]
  },
  {
   "cell_type": "markdown",
   "metadata": {},
   "source": [
    "### Modificando o dicionário"
   ]
  },
  {
   "cell_type": "markdown",
   "metadata": {},
   "source": [
    "Dicionários são mutáveis assim como listas. Ou seja, uma vez criado, eu consigo modificar seus valores, bem como acrescentar ou remover outros pares de chave e valor.\n",
    "\n",
    "Se buscarmos por uma chave, por exemplo, `profissao`, no dicionário `pessoa` criado acima através da notação `pessoa[\"profissao\"]` vamos receber a mensagem de erro `KeyError: 'profissão'`, conforme já vimos. Porém, podemos atribuir um valor a esta chave inexistente, e ela será criada."
   ]
  },
  {
   "cell_type": "code",
   "execution_count": 5,
   "metadata": {},
   "outputs": [
    {
     "name": "stdout",
     "output_type": "stream",
     "text": [
      "{'nome': 'João', 'idade': 30, 'cidade': 'São Paulo', 'profissao': 'desenvolvedor'}\n"
     ]
    }
   ],
   "source": [
    "# pessoa não possui a chave profissão\n",
    "pessoa = {\n",
    "    \"nome\": \"João\",\n",
    "    \"idade\": 30,\n",
    "    \"cidade\": \"São Paulo\"\n",
    "}\n",
    "\n",
    "# Aqui não estamos acessando a chave profissão, mas sim criando-a!\n",
    "pessoa[\"profissao\"] = \"desenvolvedor\"\n",
    "\n",
    "print(pessoa)"
   ]
  },
  {
   "cell_type": "markdown",
   "metadata": {},
   "source": [
    "```{admonition} Nota (acessar vs atribuir)\n",
    ":class: note\n",
    "\n",
    "Lembre-se que acessar é diferente de atribuir. Para acessar, a chave precisa existir. Na atribuição, se a chave não existir, ela será criada.\n",
    "```\n",
    "\n",
    "Caso uma atribuição seja feita a uma chave existente, o valor dela será substituído."
   ]
  },
  {
   "cell_type": "code",
   "execution_count": 6,
   "metadata": {},
   "outputs": [
    {
     "name": "stdout",
     "output_type": "stream",
     "text": [
      "{'nome': 'José', 'idade': 30, 'cidade': 'São Paulo'}\n"
     ]
    }
   ],
   "source": [
    "pessoa = {\n",
    "    \"nome\": \"João\",\n",
    "    \"idade\": 30,\n",
    "    \"cidade\": \"São Paulo\"\n",
    "}\n",
    "\n",
    "# O valor correspondente à chave \"nome\" é substituid por \"José\" \n",
    "pessoa[\"nome\"] = \"José\"\n",
    "\n",
    "print(pessoa)"
   ]
  },
  {
   "cell_type": "markdown",
   "metadata": {},
   "source": [
    "É possível remover pares de chave-valor de um dicionário de duas formas: usando o método `pop` de dicionários ou usando a instrução `del`. Vejamos:\n",
    "\n",
    "Usando a instrução `del`, o par é simplesmente apagado não sendo possível salvá-lo em variáveis."
   ]
  },
  {
   "cell_type": "code",
   "execution_count": 8,
   "metadata": {},
   "outputs": [
    {
     "name": "stdout",
     "output_type": "stream",
     "text": [
      "{'idade': 30, 'cidade': 'São Paulo'}\n"
     ]
    }
   ],
   "source": [
    "pessoa = {\n",
    "    \"nome\": \"João\",\n",
    "    \"idade\": 30,\n",
    "    \"cidade\": \"São Paulo\"\n",
    "}\n",
    "\n",
    "# O par de chave-valor correspondente à chave nome deixou de existir\n",
    "del pessoa[\"nome\"] \n",
    "\n",
    "print(pessoa)"
   ]
  },
  {
   "cell_type": "markdown",
   "metadata": {},
   "source": [
    "Já com o método `pop`, o par de chave-valor é removido, e o valor é salvo na variável definida."
   ]
  },
  {
   "cell_type": "code",
   "execution_count": 9,
   "metadata": {},
   "outputs": [
    {
     "name": "stdout",
     "output_type": "stream",
     "text": [
      "30\n",
      "{'nome': 'João', 'cidade': 'São Paulo'}\n"
     ]
    }
   ],
   "source": [
    "pessoa = {\n",
    "    \"nome\": \"João\",\n",
    "    \"idade\": 30,\n",
    "    \"cidade\": \"São Paulo\"\n",
    "}\n",
    "\n",
    "# O par de chave-valor correspondente à chave nome deixou de existir\n",
    "idade = pessoa.pop(\"idade\")\n",
    "\n",
    "print(idade)\n",
    "print(pessoa)"
   ]
  },
  {
   "cell_type": "markdown",
   "metadata": {},
   "source": [
    "## Métodos comuns de dicionários"
   ]
  },
  {
   "cell_type": "markdown",
   "metadata": {},
   "source": [
    "### `get`"
   ]
  },
  {
   "cell_type": "markdown",
   "metadata": {},
   "source": [
    "O método `get` é uma outra forma de acessar uma determinada chave de um dicionário. Ele retorna o valor associado à chave especificada. Porém, diferente do acesso `dict['chave']` como vimos acima, se a chave não existir, retorna None ou um valor padrão definido. Vamos ver este método com o mesmo exemplo acima:"
   ]
  },
  {
   "cell_type": "code",
   "execution_count": 3,
   "metadata": {},
   "outputs": [
    {
     "name": "stdout",
     "output_type": "stream",
     "text": [
      "None\n",
      "desenvolvedor\n"
     ]
    }
   ],
   "source": [
    "# pessoa não possui a chave profissão\n",
    "pessoa = {\n",
    "    \"nome\": \"João\",\n",
    "    \"idade\": 30,\n",
    "    \"cidade\": \"São Paulo\"\n",
    "}\n",
    "\n",
    "# Acessando uma chave inexistente com o método get()\n",
    "print(pessoa.get(\"profissao\"))\n",
    "\n",
    "# Caso a chave não exista, podemos pasar um valor padrão que será retornado\n",
    "print(pessoa.get(\"profissao\", \"desenvolvedor\"))"
   ]
  },
  {
   "cell_type": "markdown",
   "metadata": {},
   "source": [
    "O grande diferencial ao usar o método `get` é que nunca teremos o erro `KeyError` no caso de acessar uma chave inexistente. Eu, particularmente, considero até uma forma mais segura de acessar chaves de um dicionário através deste método."
   ]
  },
  {
   "cell_type": "markdown",
   "metadata": {},
   "source": [
    "### `keys`, `values` e `items`"
   ]
  },
  {
   "cell_type": "markdown",
   "metadata": {},
   "source": [
    "Estes 3 métodos são basicamente para listar as chaves (`keys`), valores (`values`) e pares de chave-valor (`items`) de um dicionário."
   ]
  },
  {
   "cell_type": "code",
   "execution_count": 4,
   "metadata": {},
   "outputs": [
    {
     "name": "stdout",
     "output_type": "stream",
     "text": [
      "dict_keys(['nome', 'idade', 'cidade'])\n",
      "dict_values(['João', 30, 'São Paulo'])\n",
      "dict_items([('nome', 'João'), ('idade', 30), ('cidade', 'São Paulo')])\n"
     ]
    }
   ],
   "source": [
    "pessoa = {\n",
    "    \"nome\": \"João\",\n",
    "    \"idade\": 30,\n",
    "    \"cidade\": \"São Paulo\"\n",
    "}\n",
    "\n",
    "# Aqui serão impressas somente as chaves do dicionário\n",
    "print(pessoa.keys())\n",
    "\n",
    "# Aqui serão impressas somente as chaves do dicionário\n",
    "print(pessoa.values())\n",
    "\n",
    "# E finalmente a combinação dos pares de chave-valor\n",
    "print(pessoa.items())"
   ]
  },
  {
   "cell_type": "markdown",
   "metadata": {},
   "source": [
    "O último método `items` em especial é bem interessante. Ele retorna algo similar à uma lista de tuplas, e cada tupla contém 2 elementos, a chave e o seu respectivo valor. Vamos retornar à este método quando formos aprender sobre laços de repetição `for`. "
   ]
  },
  {
   "cell_type": "markdown",
   "metadata": {},
   "source": [
    "## Outras operações com dicionários"
   ]
  },
  {
   "cell_type": "markdown",
   "metadata": {},
   "source": [
    "Podemos medir a quantidade de pares chave-valor através da função `len`."
   ]
  },
  {
   "cell_type": "code",
   "execution_count": 5,
   "metadata": {},
   "outputs": [
    {
     "name": "stdout",
     "output_type": "stream",
     "text": [
      "3\n"
     ]
    }
   ],
   "source": [
    "pessoa = {\n",
    "    \"nome\": \"João\",\n",
    "    \"idade\": 30,\n",
    "    \"cidade\": \"São Paulo\"\n",
    "}\n",
    "\n",
    "print(len(pessoa))"
   ]
  },
  {
   "cell_type": "markdown",
   "metadata": {},
   "source": [
    "É possível trabalhar com junções e atualizações de vários dicionários usando os operadores `|` e `|=`.\n",
    "\n",
    "```{admonition} Nota (operadores de junção/atualização)\n",
    ":class: note\n",
    "\n",
    "Ambos os operadores `|` e `|=` só estão disponíveis nas versões do Python 3.9+. Caso estes operadores sejam usados em códigos Python executados na versão 3.8 ou anterior, o código apresentará um erro!\n",
    "```\n",
    "\n",
    "O operador `|` une os pares de chave e valor de dois dicionários, criando um terceiro dicionário."
   ]
  },
  {
   "cell_type": "code",
   "execution_count": 8,
   "metadata": {},
   "outputs": [
    {
     "name": "stdout",
     "output_type": "stream",
     "text": [
      "{'nome': 'Cadeira', 'preco': 150, 'codigo': 'xyz', 'cor': 'azul', 'estoque': 20}\n"
     ]
    }
   ],
   "source": [
    "informacoes_basicas_produto = {\"nome\": \"Cadeira\", \"preco\": 150, \"codigo\":\"abc\"}\n",
    "\n",
    "informacoes_adicionais_produto = {\"cor\": \"azul\", \"estoque\": 20, \"codigo\": \"xyz\"}\n",
    "\n",
    "informacoes_produto = informacoes_basicas_produto | informacoes_adicionais_produto\n",
    "\n",
    "print(informacoes_produto)"
   ]
  },
  {
   "cell_type": "markdown",
   "metadata": {},
   "source": [
    "Se dois dicionários têm a mesma chave e você os une com `a | b`, o valor da chave no dicionário final será o do dicionário `b`, que está à direita na união. Ou seja, os valores do dicionário `b` prevalecem sobre os do dicionário `a` quando há chaves iguais. Foi o que aconteceu com a chave `codigo` no exemplo acima.\n",
    "\n",
    "Já o operador `|=` é usado para atualizar um dicionário existente, combinando-o com outro dicionário."
   ]
  },
  {
   "cell_type": "code",
   "execution_count": 9,
   "metadata": {},
   "outputs": [
    {
     "name": "stdout",
     "output_type": "stream",
     "text": [
      "{'nome': 'Maria', 'idade': 29, 'possui_conveio': True, 'email': 'maria@example.com', 'possui_convenio': False}\n"
     ]
    }
   ],
   "source": [
    "cliente = {\"nome\": \"Maria\", \"idade\": 28, \"possui_conveio\": True}\n",
    "\n",
    "novas_informacoes = {\"email\": \"maria@example.com\", \"idade\": 29, \"possui_convenio\": False}\n",
    "\n",
    "cliente |= novas_informacoes\n",
    "\n",
    "print(cliente)"
   ]
  },
  {
   "cell_type": "markdown",
   "metadata": {},
   "source": [
    "A diferença entre `|` e `|=` está na maneira como eles combinam dicionários. \n",
    "\n",
    "O operador `|` cria um novo dicionário resultante da combinação de dois dicionários, sem modificar os originais. No exemplo acima, os dicionários `informacoes_basicas_produto` e `informacoes_adicionais_produto` mantiveram-se inalterados.\n",
    "\n",
    "Já o operador `|=` atualiza diretamente o dicionário à esquerda com os pares chave-valor do dicionário à direita, modificando-o. O dicionário `cliente` no exemplo foi alterado.\n",
    "\n",
    "Portanto, podemos afirmar que `|` é uma operação imutável, e `|=` é mutável."
   ]
  },
  {
   "cell_type": "markdown",
   "metadata": {},
   "source": [
    "## Prática"
   ]
  },
  {
   "cell_type": "markdown",
   "metadata": {},
   "source": [
    "Vamos colocar a mão na massa? O [exercício 10](exercicio-10) é um mega exercício super completo que usa um contexto real de negócios!"
   ]
  },
  {
   "cell_type": "markdown",
   "metadata": {},
   "source": [
    "## Conclusão"
   ]
  },
  {
   "cell_type": "markdown",
   "metadata": {},
   "source": [
    "Neste capítulo, exploramos os dicionários, uma estrutura de dados não ordenada fundamental em Python que permite mapear chaves a valores de forma eficiente. Aprendemos como criar, acessar, modificar e remover elementos, além de métodos úteis como `get`, `keys`, `values` e `items`. Na sequência, vamos aprender sobre a última estrutura de dados básicas de Python: os sets."
   ]
  }
 ],
 "metadata": {
  "kernelspec": {
   "display_name": ".venv",
   "language": "python",
   "name": "python3"
  },
  "language_info": {
   "codemirror_mode": {
    "name": "ipython",
    "version": 3
   },
   "file_extension": ".py",
   "mimetype": "text/x-python",
   "name": "python",
   "nbconvert_exporter": "python",
   "pygments_lexer": "ipython3",
   "version": "3.12.2"
  }
 },
 "nbformat": 4,
 "nbformat_minor": 2
}
