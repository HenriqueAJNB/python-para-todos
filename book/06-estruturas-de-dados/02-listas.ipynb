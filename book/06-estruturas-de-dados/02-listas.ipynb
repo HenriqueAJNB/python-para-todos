{
 "cells": [
  {
   "cell_type": "markdown",
   "metadata": {},
   "source": [
    "# Listas"
   ]
  },
  {
   "cell_type": "markdown",
   "metadata": {},
   "source": [
    "Ao longo do capítulo anterior, surgiu uma outra estrutura de dados básica: listas. Vamos entrar mais em detalhes nesta estrutura ao longo deste capítulo."
   ]
  },
  {
   "cell_type": "markdown",
   "metadata": {},
   "source": [
    "## Definição"
   ]
  },
  {
   "cell_type": "markdown",
   "metadata": {},
   "source": [
    "Listas são um dos tipos de dados mais fundamentais e versáteis em Python. Uma lista é uma sequência ordenada de elementos que pode conter uma variedade de tipos de dados, como números, strings, outras listas, objetos, e mais. As listas em Python são mutáveis, o que significa que seus elementos podem ser alterados após a sua criação.\n",
    "\n",
    "As listas possuem as seguintes caracterísicas:\n",
    "\n",
    "- **Ordenadas:** As listas mantêm a ordem dos elementos conforme são adicionados. \n",
    "- **Mutáveis:** Diferente de alguns outros tipos de coleções que vamos ver na sequência, como tuplas, as listas podem ser modificadas após a sua criação. Você pode adicionar, remover ou alterar seus elementos.\n",
    "- **Permite duplicatas:** Listas podem conter elementos duplicados. Cada elemento na lista mantém sua própria posição e pode ser acessado individualmente.\n",
    "- **Heterogêneas:** Uma lista pode conter elementos de diferentes tipos de dados. Por exemplo, você pode ter uma lista que contém números, strings e até mesmo outras listas."
   ]
  },
  {
   "cell_type": "markdown",
   "metadata": {},
   "source": [
    "## Sintaxe básica"
   ]
  },
  {
   "cell_type": "markdown",
   "metadata": {},
   "source": [
    "O exemplo mais simples é uma lista de inteiros, conforme vimos no capítulo anterior, no terceiro exemplo da seção [reforço prático - métodos vs funções](reforco-pratico-metodos-vs-funcoes)."
   ]
  },
  {
   "cell_type": "code",
   "execution_count": 2,
   "metadata": {},
   "outputs": [
    {
     "name": "stdout",
     "output_type": "stream",
     "text": [
      "[10, 50, 40, 65, 90, 70, 30, 156]\n"
     ]
    }
   ],
   "source": [
    "lista_de_numeros = [10, 50, 40, 65, 90, 70, 30, 156]\n",
    "print(lista_de_numeros)"
   ]
  },
  {
   "cell_type": "markdown",
   "metadata": {},
   "source": [
    "Uma lista é criada com colchetes (`[ ]`), cada elemento é separado por vírgula (`,`) e não necessariamente todos os elementos precisam ser do mesmo tipo."
   ]
  },
  {
   "cell_type": "code",
   "execution_count": 5,
   "metadata": {},
   "outputs": [
    {
     "name": "stdout",
     "output_type": "stream",
     "text": [
      "[10, 25.1, 'um texto qualquer', True]\n"
     ]
    }
   ],
   "source": [
    "lista_heterogenea = [10, 25.1, \"um texto qualquer\", True]\n",
    "print(lista_heterogenea)"
   ]
  },
  {
   "cell_type": "markdown",
   "metadata": {},
   "source": [
    "## Acessando elementos"
   ]
  },
  {
   "cell_type": "markdown",
   "metadata": {},
   "source": [
    "Cada elemento tem uma posição (ou índice) na lista começando do índice 0 para o primeiro elemento. "
   ]
  },
  {
   "cell_type": "code",
   "execution_count": 7,
   "metadata": {},
   "outputs": [
    {
     "name": "stdout",
     "output_type": "stream",
     "text": [
      "1\n",
      "Olá\n"
     ]
    }
   ],
   "source": [
    "lista_acesso_elementos = [1, \"Olá\", 3.14, True]\n",
    "\n",
    "# Acessando elementos da lista\n",
    "print(lista_acesso_elementos[0])\n",
    "print(lista_acesso_elementos[1])"
   ]
  },
  {
   "cell_type": "markdown",
   "metadata": {},
   "source": [
    "Vimos fatiamento de sequencias no capítulo sobre strings, na seção [indexação de strings](indexacao-strings), lembra? É possível usar o fatiamento em listas da mesma forma. Podemos usar exatamente a mesma sintaxe `variavel[start:stop:step]`, com exatamente as mesmas características. Caso queira relembrar o conteúdo, retorne ao capítulo sobre [fatiamento de strings](fatiamento).\n",
    "\n",
    "Aqui vamos abordar apenas o caso que é diferente de strings, no qual temos uma lista de listas."
   ]
  },
  {
   "cell_type": "code",
   "execution_count": null,
   "metadata": {},
   "outputs": [],
   "source": [
    "lista_de_listas = [[1], [2, 3], [4, 5, 6], [7, 8, 9, 10]]"
   ]
  },
  {
   "cell_type": "markdown",
   "metadata": {},
   "source": [
    "Vamos começar com uma pergunta:\n",
    "\n",
    "```{dropdown} Quandos elementos tem a lista acima? Pense primeiro e clique para ver a resposta...\n",
    "Resposta correta: 4 elementos. Execute o código abaixo para conferir.\n",
    "\n",
    "```python\n",
    "lista_de_listas = [[1], [2, 3], [4, 5, 6], [7, 8, 9, 10]]\n",
    "print(len(lista_de_listas))\n",
    "```\n",
    "\n",
    "Porque? Se você contou apenas **os números de 1 a 10**, talvez você não tenha entendido o conceito de listas. Vamos detalhar mais.\n",
    "\n",
    "Reparem que a variável acima começa com `[[` e termina com `]]`. A lista mais externa contém outras listas internas. Listas de listas também são chamadas de listas aninhadas. É como se tivéssemos vários \"níveis\" de listas, indo por camadas."
   ]
  },
  {
   "cell_type": "code",
   "execution_count": 1,
   "metadata": {},
   "outputs": [
    {
     "name": "stdout",
     "output_type": "stream",
     "text": [
      "Primeira lista interna: [1]\n",
      "Segunda lista interna: [2, 3]\n",
      "Terceira lista interna: [4, 5, 6]\n",
      "Quarta lista interna: [7, 8, 9, 10]\n"
     ]
    }
   ],
   "source": [
    "lista_de_listas = [[1], [2, 3], [4, 5, 6], [7, 8, 9, 10]]\n",
    "print(f\"Primeiro elemento da lista: {lista_de_listas[0]}\")\n",
    "print(f\"Segundo elemento da lista: {lista_de_listas[1]}\")\n",
    "print(f\"Terceiro elemento da lista: {lista_de_listas[2]}\")\n",
    "print(f\"Quarto elemento da lista: {lista_de_listas[3]}\")"
   ]
  },
  {
   "cell_type": "markdown",
   "metadata": {},
   "source": [
    "O caso mais simples que consigo trazer pra representar listas aninhadas é `lista = [primeiro_elemento, segundo_elemento, terceiro_elemento, quarto_elemento]` onde cada `_elemento` é também uma lista! Pode parecer confuso, mas creio que este exemplo ajude a esclarecer."
   ]
  }
 ],
 "metadata": {
  "kernelspec": {
   "display_name": ".venv",
   "language": "python",
   "name": "python3"
  },
  "language_info": {
   "codemirror_mode": {
    "name": "ipython",
    "version": 3
   },
   "file_extension": ".py",
   "mimetype": "text/x-python",
   "name": "python",
   "nbconvert_exporter": "python",
   "pygments_lexer": "ipython3",
   "version": "3.12.2"
  }
 },
 "nbformat": 4,
 "nbformat_minor": 2
}
