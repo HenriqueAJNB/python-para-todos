{
 "cells": [
  {
   "cell_type": "markdown",
   "metadata": {},
   "source": [
    "# Strings"
   ]
  },
  {
   "cell_type": "markdown",
   "metadata": {},
   "source": [
    "<div style=\"text-align: justify\">\n",
    "\n",
    "Na seção [tipos de dados numéricos](tipos-de-dados-numericos) já começamos a ver um pouco sobre dois tipos de dados bastante comuns: `int` e `float`.\n",
    "\n",
    "Nesta seção vamos apresentar outro tipo de dado representando textos. Tal estrutura também é chamado de string ou simplesmente `str`. Elas são utilizadas para armazenar e manipular texto. Neste capítulo, vamos explorar os conceitos básicos de strings e como trabalhar com elas em Python."
   ]
  },
  {
   "cell_type": "markdown",
   "metadata": {},
   "source": [
    "## Definição"
   ]
  },
  {
   "cell_type": "markdown",
   "metadata": {},
   "source": [
    "Em Python, uma string é uma sequência de caracteres. Você pode definir uma string usando aspas simples `'Texto com aspas simples'` ou aspas duplas `\"Texto com aspas dupla\"`. \n",
    "\n",
    "Quando não há a presença de `'` ou `\"` na string, usar aspas simples ou duplas é indiferente. Agora se o seu texto contiver uma das duas, como por exemplo, o texto *Ela disse \"Olá mundo!\"*, como `\"` faz parte do texto, só é possível criar uma string com esse texto entre aspas simples `'`, conforme exemplo abaixo."
   ]
  },
  {
   "cell_type": "code",
   "execution_count": 1,
   "metadata": {},
   "outputs": [
    {
     "name": "stdout",
     "output_type": "stream",
     "text": [
      "Ela disse \"Olá mundo!\"\n"
     ]
    }
   ],
   "source": [
    "msg_aspas_dupla = 'Ela disse \"Olá mundo!\"'\n",
    "print(msg_aspas_dupla)"
   ]
  },
  {
   "cell_type": "markdown",
   "metadata": {},
   "source": [
    "Caso contrário, o Python pode confundir o que é aspas de abertura e fechamento da string com aspas do próprio texto. Observem no exemplo abaixo:"
   ]
  },
  {
   "cell_type": "code",
   "execution_count": 2,
   "metadata": {
    "tags": [
     "raises-exception"
    ]
   },
   "outputs": [
    {
     "ename": "SyntaxError",
     "evalue": "invalid syntax (1998578200.py, line 2)",
     "output_type": "error",
     "traceback": [
      "\u001b[1;36m  Cell \u001b[1;32mIn[2], line 2\u001b[1;36m\u001b[0m\n\u001b[1;33m    erro_de_sintaxe = \"Ela disse \"Olá mundo!\"\"\u001b[0m\n\u001b[1;37m                                  ^\u001b[0m\n\u001b[1;31mSyntaxError\u001b[0m\u001b[1;31m:\u001b[0m invalid syntax\n"
     ]
    }
   ],
   "source": [
    "# Erro proposital!\n",
    "erro_de_sintaxe = \"Ela disse \"Olá mundo!\"\"\n",
    "print(erro_de_sintaxe)"
   ]
  },
  {
   "cell_type": "markdown",
   "metadata": {},
   "source": [
    "De forma a evitar tal erro, como recomendação geral, sempre que seu texto contiver `'`, a string deve ser iniciar e encerrar com `\"`. Da mesma forma, se o texto contiver `\"`, a string deve iniciar e encerrar com `'`."
   ]
  },
  {
   "cell_type": "markdown",
   "metadata": {},
   "source": [
    "É possível definir também uma string com multiplas linhas usando três aspas duplas `\"\"\"` ou três aspas simples `'''`."
   ]
  },
  {
   "cell_type": "code",
   "execution_count": 3,
   "metadata": {},
   "outputs": [
    {
     "name": "stdout",
     "output_type": "stream",
     "text": [
      "Esta é uma string\n",
      "que se estende por\n",
      "várias linhas.\n"
     ]
    }
   ],
   "source": [
    "msg_varias_linhas = \"\"\"Esta é uma string\n",
    "que se estende por\n",
    "várias linhas.\"\"\"\n",
    "print(msg_varias_linhas)"
   ]
  },
  {
   "cell_type": "markdown",
   "metadata": {},
   "source": [
    "E podemos verificar que uma variável é do tipo string usando a função `type` (lembra dela, [desta seção](a-funcao-type)?)"
   ]
  },
  {
   "cell_type": "code",
   "execution_count": 4,
   "metadata": {},
   "outputs": [
    {
     "name": "stdout",
     "output_type": "stream",
     "text": [
      "<class 'str'>\n"
     ]
    }
   ],
   "source": [
    "variavel_tipo_str = 'Ela disse \"Olá mundo!\"'\n",
    "print(type(variavel_tipo_str))"
   ]
  },
  {
   "cell_type": "markdown",
   "metadata": {},
   "source": [
    "## Operações com strings"
   ]
  },
  {
   "cell_type": "markdown",
   "metadata": {},
   "source": [
    "### Concatenação com `+`"
   ]
  },
  {
   "cell_type": "markdown",
   "metadata": {},
   "source": [
    "Sabe aquela história de que `1 + 1 = 11`? Pois bem! Isso é, em partes, verdade! Vamos entender melhor.\n",
    "\n",
    "Aqui vamos fazer uma distinção clara entre operações com string de operações com `int`.\n",
    "\n",
    "Quando somamos dois inteiros, o Python realiza a operação matemática de soma, conforme já vimos anteriormente."
   ]
  },
  {
   "cell_type": "code",
   "execution_count": 5,
   "metadata": {},
   "outputs": [
    {
     "name": "stdout",
     "output_type": "stream",
     "text": [
      "2\n"
     ]
    }
   ],
   "source": [
    "print(1 + 1)"
   ]
  },
  {
   "cell_type": "markdown",
   "metadata": {},
   "source": [
    "Porém, é possível representar `1` como o caracter número um, da seguinte forma"
   ]
  },
  {
   "cell_type": "code",
   "execution_count": 6,
   "metadata": {},
   "outputs": [
    {
     "name": "stdout",
     "output_type": "stream",
     "text": [
      "11\n"
     ]
    }
   ],
   "source": [
    "print(\"1\" + \"1\")"
   ]
  },
  {
   "cell_type": "markdown",
   "metadata": {},
   "source": [
    "Percebam que são operações completamente diferentes! \n",
    "\n",
    "No primeiro caso acima, estamos somando o número inteiro `1` com outro número inteiro `1` (ambos são `int`), resultando em `2`.\n",
    "\n",
    "Já no segundo caso, estamos juntando o caracter `1` com outro caracter `1` (ambos são strings), resultando em `11`. Tal operação de juntar texto é chamada de concatenação.\n",
    "\n",
    "Agora você entende que `1 + 1` pode ser `11`? No caso em que ambos `1` forem string!\n",
    "\n"
   ]
  },
  {
   "cell_type": "markdown",
   "metadata": {},
   "source": [
    "### Concatenação com f-strings"
   ]
  },
  {
   "cell_type": "markdown",
   "metadata": {},
   "source": [
    "Além do uso do operador `+` para concatenação, tal operação também pode ser feita através de f-strings, conforme vimos no [exemplo 2](exemplo-2) no capítulo sobre variáveis. \n",
    "\n",
    "Usar f-strings para concatenação é muito mais comum em projetos reais, e elegante, do que usar `+`."
   ]
  },
  {
   "cell_type": "code",
   "execution_count": 9,
   "metadata": {},
   "outputs": [
    {
     "name": "stdout",
     "output_type": "stream",
     "text": [
      "11\n"
     ]
    }
   ],
   "source": [
    "caracter_um = \"1\"\n",
    "print(f\"{caracter_um}{caracter_um}\")"
   ]
  },
  {
   "cell_type": "markdown",
   "metadata": {},
   "source": [
    "O interessante sobre f-strings é que mesmo a variável sendo do tipo `int`, ao usá-la dentro do contexto de f-string, o Python faz a conversão automática para `str` ao usar variávels em f-strings. Vamos ver conversões entre tipos mais à frente."
   ]
  },
  {
   "cell_type": "code",
   "execution_count": 10,
   "metadata": {},
   "outputs": [
    {
     "name": "stdout",
     "output_type": "stream",
     "text": [
      "11\n"
     ]
    }
   ],
   "source": [
    "numero_um = 1\n",
    "print(f\"{caracter_um}{caracter_um}\")"
   ]
  },
  {
   "cell_type": "markdown",
   "metadata": {},
   "source": [
    "### Replicação"
   ]
  },
  {
   "cell_type": "markdown",
   "metadata": {},
   "source": [
    "Da mesma forma que podemos concatenar strings usando `+`, podemos replicar uma string várias vezes usando `*`. "
   ]
  },
  {
   "cell_type": "code",
   "execution_count": 7,
   "metadata": {},
   "outputs": [
    {
     "name": "stdout",
     "output_type": "stream",
     "text": [
      "hahahahahahahahahaha\n"
     ]
    }
   ],
   "source": [
    "risada = \"ha\" * 10\n",
    "print(risada)"
   ]
  },
  {
   "cell_type": "markdown",
   "metadata": {},
   "source": [
    "Novamente, não é multiplicação matemática pois não estamos trabalhando com valores numéricos `int` ou `float`, mas sim uma replicação de texto, uma operação diferente!"
   ]
  },
  {
   "cell_type": "markdown",
   "metadata": {},
   "source": [
    "### Métodos de strings"
   ]
  },
  {
   "cell_type": "markdown",
   "metadata": {},
   "source": [
    "Nós já aprendemos a trabalhar com algumas funções já, como as funções `print` e `type`, que neste momento do livro você já deve saber como elas funcionam.\n",
    "\n",
    "Agora vamos aprender outro conceito super importante: métodos."
   ]
  },
  {
   "cell_type": "markdown",
   "metadata": {},
   "source": [
    "#### O que são métodos?"
   ]
  },
  {
   "cell_type": "markdown",
   "metadata": {},
   "source": [
    "Antes de falarmos de métodos, vamos acrescentar um outro conceito: objeto.\n",
    "\n",
    "Nesta altura, falamos muito sobre tipos de dados (`int`, `float`, `str`). No fundo, tipos de dados são objetos. Ao invés de falar tipo de dado `str`, podemos falar objeto do tipo `str`. Absolutamente tudo em Python é um objeto que tem um tipo! Mudar a forma de falar já está o colocando em outro patamar de entendimento sobre programação.\n",
    "\n",
    "Vamos agora para definição de método. A dfinição que eu mais gosto é: métodos são funções que estão associadas a um determinado objeto e podem ser usadas para realizar operações nestes. Em termos simples, pense em métodos como ações que você pode realizar com um determinado objeto (`int`, `float`, `str`, etc.). \n",
    "\n",
    "A diferença principal entre métodos e funções é a seguinte:\n",
    "\n",
    "- **Métodos:** são funções que estão associadas a um objeto e são chamadas usando a notação de ponto `objeto.metodo()`. Eles atuam sobre o próprio objeto ou acessam seus dados internos.\n",
    "\n",
    "- **Funções:** são blocos de código independentes que realizam uma tarefa específica e podem ser chamadas em qualquer lugar do código, não estando associadas a um objeto em particular, como as funções `print` e `type`.\n",
    "\n",
    "Talvez seja mais fácil entender melhor com exemplos."
   ]
  },
  {
   "cell_type": "code",
   "execution_count": 8,
   "metadata": {},
   "outputs": [
    {
     "name": "stdout",
     "output_type": "stream",
     "text": [
      "OI, EU SOU UMA STRING!\n"
     ]
    }
   ],
   "source": [
    "mensagem = \"Oi, eu sou uma string!\"\n",
    "print(mensagem.upper())"
   ]
  },
  {
   "cell_type": "markdown",
   "metadata": {},
   "source": [
    "No código acima temos uma notação que não vimos antes, `mensagem.upper()`. Sabemos já que `mensagem` é um objeto do tipo `str` (verifique com a função `type` se tiver dúvidas!). E strings tem várias \"funções\" associadas à ela. Estas \"funções\" são chamadas de métodos. No exemplo acima, estamos usando o método `.upper()` que transforma a string toda para maiúscula.\n",
    "\n",
    "Portanto, todo método é acionado pelo `.` a partir do objeto. Veja no gif abaixo que quando você digita o `.` na variável `mensagem`, o VSCode abre uma lista de opções para você. Estas opções são todos os métodos disponíveis para `str`.\n",
    "\n",
    "```{image} ../gifs/06-01-vscode-methods-str-autocomplete.gif\n",
    ":width: 400px\n",
    "```"
   ]
  },
  {
   "cell_type": "markdown",
   "metadata": {},
   "source": [
    "#### Métodos mais usados de strings"
   ]
  },
  {
   "cell_type": "markdown",
   "metadata": {},
   "source": [
    "```{admonition} Nota (lista completa de métodos)\n",
    ":class: note\n",
    "\n",
    "Strings tem uma lista enorme de métodos disponíveis e aqui serão demonstrados apenas os mais comumente usados. Mas é de extrema importância que você saiba consultar todos os métodos disponíveis na documentação oficial. A lista completa com todos os métodos de string e suas respectivas documentações pode ser encontrada [aqui](https://docs.python.org/3/library/stdtypes.html#string-methods).\n",
    "```\n",
    "\n",
    "```{admonition} Nota (valores booleanos)\n",
    ":class: note\n",
    "\n",
    "Ao longo desta lista de métodos, vamos ver de forma indireta um outro tipo de dado chamado booleano, ou `bool`. Ele é bem simples, pois é uma estrutura de dados que contém apenas 2 valores: `True`, representando verdadeiro, e `False` representando falso. \n",
    "\n",
    "Notem que as primeiras letras **`T`** e **`F`** são **maísculas**, caso contrário o Python gera erro de sintaxe.\n",
    "```\n",
    "\n",
    "Para fins puramente didáticos, vou separar os métodos em casos de uso, trazendo exemplos de uso de cada método.\n",
    "\n",
    "1. Transformação de Case\n",
    "- `str.upper()`: Converte todos os caracteres da string para maiúsculas.\n",
    "- `str.lower()`: Converte todos os caracteres da string para minúsculas.\n",
    "- `str.capitalize()`: Converte o primeiro caractere da string para maiúscula e o restante para minúscula.\n",
    "- `str.title()`: Converte o primeiro caractere de cada palavra para maiúscula."
   ]
  },
  {
   "cell_type": "code",
   "execution_count": 11,
   "metadata": {},
   "outputs": [
    {
     "name": "stdout",
     "output_type": "stream",
     "text": [
      "HENRIQUE BRANCO\n",
      "henrique branco\n",
      "Henrique branco\n",
      "Henrique Branco\n"
     ]
    }
   ],
   "source": [
    "nome = \"Um noME QuAlQuEr\"\n",
    "print(nome.upper())\n",
    "print(nome.lower())\n",
    "print(nome.capitalize())\n",
    "print(nome.title())"
   ]
  },
  {
   "cell_type": "markdown",
   "metadata": {},
   "source": [
    "2. Remoção de Espaços\n",
    "- `str.lstrip()`: Remove espaços em branco do início da string.\n",
    "- `str.rstrip()`: Remove espaços em branco do fim da string.\n",
    "- `str.strip()`: Remove espaços em branco do início e do fim da string.\n",
    "- \n",
    "```{admonition} Dica\n",
    ":class: tip\n",
    "\n",
    "O espaço em branco não é visível na saída. Sugiro selecionar o texto todo com o mouse para verificar os espaços em branco remanescentes.\n",
    "```"
   ]
  },
  {
   "cell_type": "code",
   "execution_count": 12,
   "metadata": {},
   "outputs": [
    {
     "name": "stdout",
     "output_type": "stream",
     "text": [
      "Henrique Branco   \n",
      "   Henrique Branco\n",
      "Henrique Branco\n"
     ]
    }
   ],
   "source": [
    "string_com_espacos = \"   Um texto qualquer com espaços em branco no começo e no final...      \"\n",
    "print(string_com_espacos.lstrip())\n",
    "print(string_com_espacos.rstrip())\n",
    "print(string_com_espacos.strip())"
   ]
  },
  {
   "cell_type": "markdown",
   "metadata": {},
   "source": [
    "3. Contagem e verificação de sufixo/prefixo\n",
    "- `str.startswith(prefix)`: Verifica se a string começa com um determinado prefixo.\n",
    "- `str.endswith(suffix)`: Verifica se a string termina com um determinado sufixo.\n",
    "- `str.count(sub)`: Conta o número de ocorrências de uma substring na string."
   ]
  },
  {
   "cell_type": "code",
   "execution_count": 15,
   "metadata": {},
   "outputs": [
    {
     "name": "stdout",
     "output_type": "stream",
     "text": [
      "True\n",
      "False\n",
      "6\n"
     ]
    }
   ],
   "source": [
    "frase = \"Olá, eu estou aprendendo a manipular textos em Python \"\n",
    "print(frase.startswith(\"Olá\"))\n",
    "print(frase.endswith(\"Python\")) # False? Está correto mesmo?\n",
    "print(frase.count(\"e\")) # A letra 'e' aparece 5 vezes na frase"
   ]
  },
  {
   "cell_type": "markdown",
   "metadata": {},
   "source": [
    "```{admonition} Atenção\n",
    ":class: warning\n",
    "\n",
    "O espaço em branco (deixado propositalmente) é super relevante na comparação de strings, por isso as strings `Python` (sem espaço em branco) e `Python ` (com espaço em branco no final) são diferentes, apesar de ser apenas por um único caracter em branco. Por esta razão tivemos `frase.endswith(\"Python\") = False`\n",
    "```"
   ]
  }
 ],
 "metadata": {
  "kernelspec": {
   "display_name": ".venv",
   "language": "python",
   "name": "python3"
  },
  "language_info": {
   "codemirror_mode": {
    "name": "ipython",
    "version": 3
   },
   "file_extension": ".py",
   "mimetype": "text/x-python",
   "name": "python",
   "nbconvert_exporter": "python",
   "pygments_lexer": "ipython3",
   "version": "3.12.2"
  }
 },
 "nbformat": 4,
 "nbformat_minor": 2
}
