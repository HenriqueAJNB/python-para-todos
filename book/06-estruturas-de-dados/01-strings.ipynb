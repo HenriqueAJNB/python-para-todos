{
 "cells": [
  {
   "cell_type": "markdown",
   "metadata": {},
   "source": [
    "# Strings"
   ]
  },
  {
   "cell_type": "markdown",
   "metadata": {},
   "source": [
    "<div style=\"text-align: justify\">\n",
    "\n",
    "Na seção [tipos de dados numéricos](tipos-de-dados-numericos) já começamos a ver um pouco sobre dois tipos de dados bastante comuns: `int` e `float`.\n",
    "\n",
    "Nesta seção vamos apresentar outro tipo de dado representando textos. Tal estrutura também é chamado de string ou simplesmente `str`. Elas são utilizadas para armazenar e manipular texto. Neste capítulo, vamos explorar os conceitos básicos de strings e como trabalhar com elas em Python."
   ]
  },
  {
   "cell_type": "markdown",
   "metadata": {},
   "source": [
    "## Definição"
   ]
  },
  {
   "cell_type": "markdown",
   "metadata": {},
   "source": [
    "Em Python, uma string é uma sequência de caracteres. Você pode definir uma string usando aspas simples `'Texto com aspas simples'` ou aspas duplas `\"Texto com aspas dupla\"`. \n",
    "\n",
    "Quando não há a presença de `'` ou `\"` na string, usar aspas simples ou duplas é indiferente. Agora se o seu texto contiver uma das duas, como por exemplo, o texto *Ela disse \"Olá mundo!\"*, como `\"` faz parte do texto, só é possível criar uma string com esse texto entre aspas simples `'`, conforme exemplo abaixo."
   ]
  },
  {
   "cell_type": "code",
   "execution_count": 7,
   "metadata": {},
   "outputs": [
    {
     "name": "stdout",
     "output_type": "stream",
     "text": [
      "Ela disse \"Olá mundo!\"\n"
     ]
    }
   ],
   "source": [
    "msg_aspas_dupla = 'Ela disse \"Olá mundo!\"'\n",
    "print(msg_aspas_dupla)"
   ]
  },
  {
   "cell_type": "markdown",
   "metadata": {},
   "source": [
    "Caso contrário, o Python pode confundir o que é aspas de abertura e fechamento da string com aspas do próprio texto. Observem no exemplo abaixo:"
   ]
  },
  {
   "cell_type": "code",
   "execution_count": 8,
   "metadata": {
    "tags": [
     "raises-exception"
    ]
   },
   "outputs": [
    {
     "ename": "SyntaxError",
     "evalue": "invalid syntax (1998578200.py, line 2)",
     "output_type": "error",
     "traceback": [
      "\u001b[1;36m  Cell \u001b[1;32mIn[8], line 2\u001b[1;36m\u001b[0m\n\u001b[1;33m    erro_de_sintaxe = \"Ela disse \"Olá mundo!\"\"\u001b[0m\n\u001b[1;37m                                  ^\u001b[0m\n\u001b[1;31mSyntaxError\u001b[0m\u001b[1;31m:\u001b[0m invalid syntax\n"
     ]
    }
   ],
   "source": [
    "# Erro proposital!\n",
    "erro_de_sintaxe = \"Ela disse \"Olá mundo!\"\"\n",
    "print(erro_de_sintaxe)"
   ]
  },
  {
   "cell_type": "markdown",
   "metadata": {},
   "source": [
    "De forma a evitar tal erro, como recomendação geral, sempre que seu texto contiver `'`, a string deve ser iniciar e encerrar com `\"`. Da mesma forma, se o texto contiver `\"`, a string deve iniciar e encerrar com `'`."
   ]
  },
  {
   "cell_type": "markdown",
   "metadata": {},
   "source": [
    "É possível definir também uma string com multiplas linhas usando três aspas duplas `\"\"\"` ou três aspas simples `'''`."
   ]
  },
  {
   "cell_type": "code",
   "execution_count": 9,
   "metadata": {},
   "outputs": [
    {
     "name": "stdout",
     "output_type": "stream",
     "text": [
      "Esta é uma string\n",
      "que se estende por\n",
      "várias linhas.\n"
     ]
    }
   ],
   "source": [
    "msg_varias_linhas = \"\"\"Esta é uma string\n",
    "que se estende por\n",
    "várias linhas.\"\"\"\n",
    "print(msg_varias_linhas)"
   ]
  },
  {
   "cell_type": "markdown",
   "metadata": {},
   "source": [
    "E podemos verificar que uma variável é do tipo string usando a função `type` (lembra dela, [desta seção](a-funcao-type)?)"
   ]
  },
  {
   "cell_type": "code",
   "execution_count": 10,
   "metadata": {},
   "outputs": [
    {
     "name": "stdout",
     "output_type": "stream",
     "text": [
      "<class 'str'>\n"
     ]
    }
   ],
   "source": [
    "variavel_tipo_str = 'Ela disse \"Olá mundo!\"'\n",
    "print(type(variavel_tipo_str))"
   ]
  },
  {
   "cell_type": "markdown",
   "metadata": {},
   "source": [
    "## Operações com strings"
   ]
  },
  {
   "cell_type": "markdown",
   "metadata": {},
   "source": [
    "### Concatenação com `+`"
   ]
  },
  {
   "cell_type": "markdown",
   "metadata": {},
   "source": [
    "Sabe aquela história de que `1 + 1 = 11`? Pois bem! Isso é, em partes, verdade! Vamos entender melhor.\n",
    "\n",
    "Aqui vamos fazer uma distinção clara entre operações com string de operações com `int`.\n",
    "\n",
    "Quando somamos dois inteiros, o Python realiza a operação matemática de soma, conforme já vimos anteriormente."
   ]
  },
  {
   "cell_type": "code",
   "execution_count": 11,
   "metadata": {},
   "outputs": [
    {
     "name": "stdout",
     "output_type": "stream",
     "text": [
      "2\n"
     ]
    }
   ],
   "source": [
    "print(1 + 1)"
   ]
  },
  {
   "cell_type": "markdown",
   "metadata": {},
   "source": [
    "Porém, é possível representar `1` como o caracter número um, da seguinte forma"
   ]
  },
  {
   "cell_type": "code",
   "execution_count": 12,
   "metadata": {},
   "outputs": [
    {
     "name": "stdout",
     "output_type": "stream",
     "text": [
      "11\n"
     ]
    }
   ],
   "source": [
    "print(\"1\" + \"1\")"
   ]
  },
  {
   "cell_type": "markdown",
   "metadata": {},
   "source": [
    "Percebam que são operações completamente diferentes! \n",
    "\n",
    "No primeiro caso acima, estamos somando o número inteiro `1` com outro número inteiro `1` (ambos são `int`), resultando em `2`.\n",
    "\n",
    "Já no segundo caso, estamos juntando o caracter `1` com outro caracter `1` (ambos são strings), resultando em `11`. Tal operação de juntar texto é chamada de concatenação.\n",
    "\n",
    "Agora você entende que `1 + 1` pode ser `11`? No caso em que ambos `1` forem string!\n",
    "\n"
   ]
  },
  {
   "cell_type": "markdown",
   "metadata": {},
   "source": [
    "### Concatenação com f-strings"
   ]
  },
  {
   "cell_type": "markdown",
   "metadata": {},
   "source": [
    "Além do uso do operador `+` para concatenação, tal operação também pode ser feita através de f-strings, conforme vimos no [exemplo 2](exemplo-2) no capítulo sobre variáveis. \n",
    "\n",
    "Usar f-strings para concatenação é muito mais comum em projetos reais, e elegante, do que usar `+`."
   ]
  },
  {
   "cell_type": "code",
   "execution_count": 13,
   "metadata": {},
   "outputs": [
    {
     "name": "stdout",
     "output_type": "stream",
     "text": [
      "11\n"
     ]
    }
   ],
   "source": [
    "caracter_um = \"1\"\n",
    "print(f\"{caracter_um}{caracter_um}\")"
   ]
  },
  {
   "cell_type": "markdown",
   "metadata": {},
   "source": [
    "O interessante sobre f-strings é que mesmo a variável sendo do tipo `int`, ao usá-la dentro do contexto de f-string, o Python faz a conversão automática para `str` ao usar variávels em f-strings. Vamos ver conversões entre tipos mais à frente."
   ]
  },
  {
   "cell_type": "code",
   "execution_count": 14,
   "metadata": {},
   "outputs": [
    {
     "name": "stdout",
     "output_type": "stream",
     "text": [
      "11\n"
     ]
    }
   ],
   "source": [
    "numero_um = 1\n",
    "print(f\"{caracter_um}{caracter_um}\")"
   ]
  },
  {
   "cell_type": "markdown",
   "metadata": {},
   "source": [
    "### Replicação"
   ]
  },
  {
   "cell_type": "markdown",
   "metadata": {},
   "source": [
    "Da mesma forma que podemos concatenar strings usando `+`, podemos replicar uma string várias vezes usando `*`. "
   ]
  },
  {
   "cell_type": "code",
   "execution_count": 15,
   "metadata": {},
   "outputs": [
    {
     "name": "stdout",
     "output_type": "stream",
     "text": [
      "hahahahahahahahahaha\n"
     ]
    }
   ],
   "source": [
    "risada = \"ha\" * 10\n",
    "print(risada)"
   ]
  },
  {
   "cell_type": "markdown",
   "metadata": {},
   "source": [
    "Novamente, não é multiplicação matemática pois não estamos trabalhando com valores numéricos `int` ou `float`, mas sim uma replicação de texto, uma operação diferente!"
   ]
  },
  {
   "cell_type": "markdown",
   "metadata": {},
   "source": [
    "### Métodos de strings"
   ]
  },
  {
   "cell_type": "markdown",
   "metadata": {},
   "source": [
    "Nós já aprendemos a trabalhar com algumas funções já, como as funções `print` e `type`, que neste momento do livro você já deve saber como elas funcionam.\n",
    "\n",
    "Agora vamos aprender outro conceito super importante: métodos."
   ]
  },
  {
   "cell_type": "markdown",
   "metadata": {},
   "source": [
    "#### O que são métodos?"
   ]
  },
  {
   "cell_type": "markdown",
   "metadata": {},
   "source": [
    "Antes de falarmos de métodos, vamos acrescentar um outro conceito: objeto.\n",
    "\n",
    "Nesta altura, falamos muito sobre tipos de dados (`int`, `float`, `str`). No fundo, tipos de dados são objetos. Ao invés de falar tipo de dado `str`, podemos falar objeto do tipo `str`. Absolutamente tudo em Python é um objeto que tem um tipo! Mudar a forma de falar já está o colocando em outro patamar de entendimento sobre programação.\n",
    "\n",
    "Vamos agora para definição de método. A definição que eu mais gosto é: métodos são funções que estão associadas a um determinado objeto e podem ser usadas para realizar operações nestes. Em termos simples, pense em métodos como ações que você pode realizar com um determinado objeto (`int`, `float`, `str`, etc.). \n",
    "\n",
    "A diferença principal entre métodos e funções é a seguinte:\n",
    "\n",
    "- **Métodos:** são funções que estão associadas a um objeto e são chamadas usando a notação de ponto `objeto.metodo()`. Eles atuam sobre o próprio objeto ou acessam seus dados internos.\n",
    "\n",
    "- **Funções:** são blocos de código independentes que realizam uma tarefa específica e podem ser chamadas em qualquer lugar do código, não estando associadas a um objeto em particular, como as funções `print` e `type`.\n",
    "\n",
    "Talvez seja mais fácil entender melhor com exemplos."
   ]
  },
  {
   "cell_type": "code",
   "execution_count": 16,
   "metadata": {},
   "outputs": [
    {
     "name": "stdout",
     "output_type": "stream",
     "text": [
      "OI, EU SOU UMA STRING!\n"
     ]
    }
   ],
   "source": [
    "mensagem = \"Oi, eu sou uma string!\"\n",
    "print(mensagem.upper())"
   ]
  },
  {
   "cell_type": "markdown",
   "metadata": {},
   "source": [
    "No código acima temos uma notação que não vimos antes, `mensagem.upper()`. Sabemos já que `mensagem` é um objeto do tipo `str` (verifique com a função `type` se tiver dúvidas!). E strings tem várias \"funções\" associadas à ela. Estas \"funções\" são chamadas de métodos. No exemplo acima, estamos usando o método `.upper()` que transforma a string toda para maiúscula.\n",
    "\n",
    "Portanto, todo método é acionado pelo `.` a partir do objeto. Veja no gif abaixo que quando você digita o `.` na variável `mensagem`, o VSCode abre uma lista de opções para você. Estas opções são todos os métodos disponíveis para `str`.\n",
    "\n",
    "```{image} ../gifs/06-01-vscode-methods-str-autocomplete.gif\n",
    ":width: 400px\n",
    "```"
   ]
  },
  {
   "cell_type": "markdown",
   "metadata": {},
   "source": [
    "#### Métodos mais usados de strings"
   ]
  },
  {
   "cell_type": "markdown",
   "metadata": {},
   "source": [
    "```{admonition} Nota (lista completa de métodos)\n",
    ":class: note\n",
    "\n",
    "Strings tem uma lista enorme de métodos disponíveis e aqui serão demonstrados apenas os mais comumente usados. Mas é de extrema importância que você saiba consultar todos os métodos disponíveis na documentação oficial. A lista completa com todos os métodos de string e suas respectivas documentações pode ser encontrada [aqui](https://docs.python.org/3/library/stdtypes.html#string-methods).\n",
    "```\n",
    "\n",
    "```{admonition} Nota (valores booleanos)\n",
    ":class: note\n",
    "\n",
    "Ao longo desta lista de métodos, vamos ver de forma indireta um outro tipo de dado chamado booleano, ou `bool`. Ele é bem simples, pois é uma estrutura de dados que contém apenas 2 valores: `True`, representando verdadeiro, e `False` representando falso. \n",
    "\n",
    "Notem que as primeiras letras **`T`** e **`F`** são **maísculas**, caso contrário o Python gera erro de sintaxe.\n",
    "```\n",
    "\n",
    "Para fins puramente didáticos, vou separar os métodos em casos de uso, trazendo exemplos de uso de cada método.\n",
    "\n",
    "1. Transformação de case\n",
    "- `str.upper()`: Converte todos os caracteres da string para maiúsculas.\n",
    "- `str.lower()`: Converte todos os caracteres da string para minúsculas.\n",
    "- `str.capitalize()`: Converte o primeiro caractere da string para maiúscula e o restante para minúscula.\n",
    "- `str.title()`: Converte o primeiro caractere de cada palavra para maiúscula."
   ]
  },
  {
   "cell_type": "code",
   "execution_count": 17,
   "metadata": {},
   "outputs": [
    {
     "name": "stdout",
     "output_type": "stream",
     "text": [
      "UM NOME QUALQUER\n",
      "um nome qualquer\n",
      "Um nome qualquer\n",
      "Um Nome Qualquer\n"
     ]
    }
   ],
   "source": [
    "nome = \"Um noME QuAlQuEr\"\n",
    "print(nome.upper())\n",
    "print(nome.lower())\n",
    "print(nome.capitalize())\n",
    "print(nome.title())"
   ]
  },
  {
   "cell_type": "markdown",
   "metadata": {},
   "source": [
    "2. Remoção de espaços\n",
    "- `str.lstrip()`: Remove espaços em branco do início da string.\n",
    "- `str.rstrip()`: Remove espaços em branco do fim da string.\n",
    "- `str.strip()`: Remove espaços em branco do início e do fim da string.\n",
    "- \n",
    "```{admonition} Dica\n",
    ":class: tip\n",
    "\n",
    "O espaço em branco não é visível na saída. Sugiro selecionar o texto todo com o mouse para verificar os espaços em branco remanescentes.\n",
    "```"
   ]
  },
  {
   "cell_type": "code",
   "execution_count": 18,
   "metadata": {},
   "outputs": [
    {
     "name": "stdout",
     "output_type": "stream",
     "text": [
      "Um texto qualquer com espaços em branco no começo e no final...      \n",
      "   Um texto qualquer com espaços em branco no começo e no final...\n",
      "Um texto qualquer com espaços em branco no começo e no final...\n"
     ]
    }
   ],
   "source": [
    "string_com_espacos = \"   Um texto qualquer com espaços em branco no começo e no final...      \"\n",
    "print(string_com_espacos.lstrip())\n",
    "print(string_com_espacos.rstrip())\n",
    "print(string_com_espacos.strip())"
   ]
  },
  {
   "cell_type": "markdown",
   "metadata": {},
   "source": [
    "3. Contagem e verificação de sufixo/prefixo\n",
    "- `str.startswith(prefix)`: Verifica se a string começa com um determinado prefixo.\n",
    "- `str.endswith(suffix)`: Verifica se a string termina com um determinado sufixo.\n",
    "- `str.count(sub)`: Conta o número de ocorrências de uma substring na string."
   ]
  },
  {
   "cell_type": "code",
   "execution_count": 19,
   "metadata": {},
   "outputs": [
    {
     "name": "stdout",
     "output_type": "stream",
     "text": [
      "True\n",
      "False\n",
      "6\n"
     ]
    }
   ],
   "source": [
    "frase = \"Olá, eu estou aprendendo a manipular textos em Python \"\n",
    "print(frase.startswith(\"Olá\"))\n",
    "print(frase.endswith(\"Python\")) # False? Está correto mesmo?\n",
    "print(frase.count(\"e\")) # A letra 'e' aparece 5 vezes na frase"
   ]
  },
  {
   "cell_type": "markdown",
   "metadata": {},
   "source": [
    "```{admonition} Atenção (espaços em branco)\n",
    ":class: warning\n",
    "\n",
    "O espaço em branco (deixado propositalmente) é super relevante na comparação de strings, por isso as strings `Python` (sem espaço em branco) e `Python ` (com espaço em branco no final) são diferentes, apesar de ser apenas por um único caracter em branco. Por esta razão tivemos `frase.endswith(\"Python\") = False`\n",
    "```"
   ]
  },
  {
   "cell_type": "markdown",
   "metadata": {},
   "source": [
    "4. Verificação de caracteres\n",
    "\n",
    "Todos estes métodos abaixo verificam se a string contém apenas:\n",
    "\n",
    "- `str.islower()`: caracteres minúsculos.\n",
    "- `str.isupper()`: caracteres maiúsculos\n",
    "- `str.isalnum()`: caracteres alfanuméricos.\n",
    "- `str.isalpha()`: caracteres alfabéticos.\n",
    "- `str.isdigit()`: dígitos.\n",
    "- `str.isspace()`: espaços em branco."
   ]
  },
  {
   "cell_type": "code",
   "execution_count": 20,
   "metadata": {},
   "outputs": [
    {
     "name": "stdout",
     "output_type": "stream",
     "text": [
      "olá é todo minúsculo? True\n",
      "MUNDO é todo maiúsculo? True\n",
      "olá123 é alfanumérico? True\n",
      "ola, eu sou um texto puramente alfabético #sqn... é alfabético? False\n",
      "12345 é dígito? True\n",
      "'   ' é espaço em branco? True\n"
     ]
    }
   ],
   "source": [
    "minusculo = \"olá\"\n",
    "print(f\"{minusculo} é todo minúsculo? {minusculo.islower()}\")\n",
    "\n",
    "maiusculo = \"MUNDO\"\n",
    "print(f\"{maiusculo} é todo maiúsculo? {maiusculo.isupper()}\")\n",
    "\n",
    "alfanumerico = \"olá123\"\n",
    "print(f\"{alfanumerico} é alfanumérico? {alfanumerico.isalnum()}\")\n",
    "\n",
    "alfabetico = \"ola, eu sou um texto puramente alfabético #sqn...\"\n",
    "print(f\"{alfabetico} é alfabético? {alfabetico.isalpha()}\")\n",
    "\n",
    "digitos = \"12345\"\n",
    "print(f\"{digitos} é dígito? {digitos.isdigit()}\")\n",
    "\n",
    "espacos = \"   \"\n",
    "print(f\"'{espacos}' é espaço em branco? {espacos.isspace()}\")"
   ]
  },
  {
   "cell_type": "markdown",
   "metadata": {},
   "source": [
    "```{admonition} Nota (caracteres alfabéticos)\n",
    ":class: note\n",
    "\n",
    "O espaço em branco ` ` não é considerado um caracter alfabético, assim como `#`, `,` e `.`. Por outro lado, caracteres com acento, como `á`, são considerados alfabéticos.\n",
    "```"
   ]
  },
  {
   "cell_type": "markdown",
   "metadata": {},
   "source": [
    "5. Divisão e junção\n",
    "\n",
    "- `str.split()`: Divide a string em uma lista, utilizando um separador especificado.\n",
    "- `str.join(lista)`: Junta uma lista de strings utilizando um separador especificado.\n",
    "\n",
    "```{admonition} Nota (listas)\n",
    ":class: note\n",
    "\n",
    "Lista é uma outra estrutura de dados, que veremos em mais detalhes logo no capítulo seguinte.\n",
    "```"
   ]
  },
  {
   "cell_type": "code",
   "execution_count": 21,
   "metadata": {},
   "outputs": [
    {
     "name": "stdout",
     "output_type": "stream",
     "text": [
      "['Lucas', 'Ferreira', 'de', 'Almeida', 'Gomes']\n",
      "Lucas-Ferreira-de-Almeida-Gomes\n"
     ]
    }
   ],
   "source": [
    "nome_completo = \"Lucas Ferreira de Almeida Gomes\"\n",
    "\n",
    "lista_de_strings = nome_completo.split()\n",
    "print(lista_de_strings)\n",
    "\n",
    "print(\"-\".join(lista_de_strings))"
   ]
  },
  {
   "cell_type": "markdown",
   "metadata": {},
   "source": [
    "Por padrão, o `split()` usa um ou mais espaços em branco para separar a string, mas é possível passar outro caracter separador. Vejamos outros exemplos:"
   ]
  },
  {
   "cell_type": "code",
   "execution_count": 23,
   "metadata": {},
   "outputs": [
    {
     "name": "stdout",
     "output_type": "stream",
     "text": [
      "['123', '456', '789-10']\n",
      "['123.456.789', '10']\n"
     ]
    }
   ],
   "source": [
    "cpf = \"123.456.789-10\"\n",
    "\n",
    "# Dividindo o CPF através do `.`\n",
    "print(cpf.split(\".\"))\n",
    "\n",
    "#Dividindo o CPF através do `-`\n",
    "print(cpf.split(\"-\"))"
   ]
  },
  {
   "cell_type": "markdown",
   "metadata": {},
   "source": [
    "### Reforço prático - métodos vs funções"
   ]
  },
  {
   "cell_type": "markdown",
   "metadata": {},
   "source": [
    "Anteriormente, abordamos a diferença entre métodos e funções de maneira teórica. Agora, vamos revisitar essa diferença com uma abordagem mais prática!\n",
    "\n",
    "Nós vimos vários métodos acima. E eu faço a seguinte pergunta agora: como calculamos o tamanho ou comprimento de uma string? Em outras palavras, quantos caracteres tem uma dada string?\n",
    "\n",
    "Bom, você pode se lembrar que não vimos todos os métodos disponíveis, e ir procurar na documentação oficial na [lista completa com todos os métodos de string](https://docs.python.org/3/library/stdtypes.html#string-methods). Lá, você vai encontrar algo com `len`, que vem de length (comprimento) do inglês. Ótimo! Este método `len` deve servir então! Vamos testar?"
   ]
  },
  {
   "cell_type": "code",
   "execution_count": 24,
   "metadata": {
    "tags": [
     "raises-exception"
    ]
   },
   "outputs": [
    {
     "ename": "AttributeError",
     "evalue": "'str' object has no attribute 'len'",
     "output_type": "error",
     "traceback": [
      "\u001b[1;31m---------------------------------------------------------------------------\u001b[0m",
      "\u001b[1;31mAttributeError\u001b[0m                            Traceback (most recent call last)",
      "Cell \u001b[1;32mIn[24], line 4\u001b[0m\n\u001b[0;32m      1\u001b[0m nome_comprido \u001b[38;5;241m=\u001b[39m \u001b[38;5;124m\"\u001b[39m\u001b[38;5;124mJoão Antônio da Silva Sauro de Souza Silva Santos\u001b[39m\u001b[38;5;124m\"\u001b[39m\n\u001b[0;32m      3\u001b[0m \u001b[38;5;66;03m# Contando a quantidade de caracteres deste nome enorme\u001b[39;00m\n\u001b[1;32m----> 4\u001b[0m \u001b[38;5;28mprint\u001b[39m(\u001b[43mnome_comprido\u001b[49m\u001b[38;5;241;43m.\u001b[39;49m\u001b[43mlen\u001b[49m()) \u001b[38;5;66;03m# ... ops!\u001b[39;00m\n",
      "\u001b[1;31mAttributeError\u001b[0m: 'str' object has no attribute 'len'"
     ]
    }
   ],
   "source": [
    "nome_comprido = \"João Antônio da Silva Sauro de Souza Silva Santos\"\n",
    "\n",
    "# Contando a quantidade de caracteres deste nome enorme\n",
    "print(nome_comprido.len()) # ... ops!"
   ]
  },
  {
   "cell_type": "markdown",
   "metadata": {},
   "source": [
    "Na verdade, de fato o `str.len()` não existe mesmo, pois ele não está na lista de métodos da documentação oficial.\n",
    "\n",
    "O que aconteceu afinal de contas? O erro é bem informativo: `AttributeError: 'str' object has no attribute 'len'`, ou seja, strings não possuem o `len`.\n",
    "\n",
    "Porém, para medirmos o comprimento de uma string, podemos fazer da seguinte forma:"
   ]
  },
  {
   "cell_type": "code",
   "execution_count": null,
   "metadata": {},
   "outputs": [],
   "source": [
    "nome_comprido = \"João Antônio da Silva Sauro de Souza Silva Santos\"\n",
    "\n",
    "# Contando a quantidade de caracteres deste nome enorme\n",
    "print(len(nome_comprido)) # ... agora sim!"
   ]
  },
  {
   "cell_type": "markdown",
   "metadata": {},
   "source": [
    "É aqui que começamos a entender a diferença entre métodos e funções. Quando estamos acessando `str.len()` estamos acessando **o método `len` de uma string**, que não existe. O que existe é a **função `len()` que recebe uma string**.\n",
    "\n",
    "Percebam que não existe `str.len()` na [lista de métodos de uma string](https://docs.python.org/3/library/stdtypes.html#string-methods), e existe a função `len()` na [lista de funções nativas do Python](https://docs.python.org/3/library/functions.html).\n",
    "\n",
    "Porque `len()` é uma função e não um método de string? De acordo com a definição que foi dada: *métodos são funções que estão associadas a um determinado objeto*. Notem agora que eu consigo medir o comprimento de outras coisas, como uma lista de itens, por exemplo."
   ]
  },
  {
   "cell_type": "code",
   "execution_count": 25,
   "metadata": {},
   "outputs": [
    {
     "name": "stdout",
     "output_type": "stream",
     "text": [
      "8\n"
     ]
    }
   ],
   "source": [
    "lista_de_numeros = [10, 50, 40, 65, 90, 70, 30, 156]\n",
    "print(len(lista_de_numeros))"
   ]
  },
  {
   "cell_type": "markdown",
   "metadata": {},
   "source": [
    "Ou seja, `len()` é uma função que mede o comprimento de uma dada sequencia qualquer. Como strings são sequencia de caracteres, eu consigo medir o comprimento de uma string unsando a função `len()`. Mas notem que **`len()` não é exclusivo de strings**. Métodos são exclusivos de um determinado tipo de objeto, como é o caso de `str.upper()` ou `str.lower()`.\n",
    "\n",
    "Conseguiram compreender agora porque usamos `len(string)` e não `string.len()`? Fez sentido?"
   ]
  },
  {
   "cell_type": "markdown",
   "metadata": {},
   "source": [
    "### Fatiamento (slicing)"
   ]
  },
  {
   "cell_type": "markdown",
   "metadata": {},
   "source": [
    "Fatiamento (slicing, em inglês) significa literalmente fatiar, pegar partes de uma string. Podemos pegar um único caracter isolado ou uma substring da nossa string principal. Para isso, usamos os colchetes `[ ]` logo após a variável para aplicar a operação de fatiamento.\n",
    "\n",
    "Antes de ir para o fatiamento em si, vamos compreender melhor os índices de uma string."
   ]
  },
  {
   "cell_type": "markdown",
   "metadata": {},
   "source": [
    "#### Indexação de strings"
   ]
  },
  {
   "cell_type": "markdown",
   "metadata": {},
   "source": [
    "O fatiamento se dá pela posição das letras, também chamada de índice.  Vamos compreender melhor através da tabela abaixo, usando a string `Python` como exemplo:\n",
    "\n",
    "| Caracter    | P | y | t | h | o | n |\n",
    "|-------------|---|---|---|---|---|---|\n",
    "| Índices (+) | 0 | 1 | 2 | 3 | 4 | 5 |\n",
    "| Índices (-) | -6| -5| -4| -3| -2| -1|\n",
    "\n",
    "```{admonition} Atenção (indexação começa por 0)\n",
    ":class: danger\n",
    "\n",
    "Chamo a atençao de vocês aqui para o fato de que **a indexação em Python começa por zero!** Ou seja, **o primeiro caracter de uma string não é o índice `1`, mas sim o índice `0`**. Esse detalhe da indexação começar por zero é a fonte origem de muitos erros comuns que percebo, portanto, fique atento!\n",
    "```\n",
    "\n",
    "Reparem também que podemos ter índices negativos, que são os caracteres na ordem inversa de leitura, da direita para esquerda."
   ]
  },
  {
   "cell_type": "markdown",
   "metadata": {},
   "source": [
    "#### Caracter isolado"
   ]
  },
  {
   "cell_type": "markdown",
   "metadata": {},
   "source": [
    "Vamos entender melhor com exemplos, primeiro buscando por um caracter isolado em uma string. Buscando uma explicação mais visual, tenha em mente a tabela abaixo:\n",
    "\n",
    "| Caracter    | L  | u  | c  | a  | s  |   | A  | l  | m  | e  | i  | d  | a  |   | M  | o  | n  | t  | e  | i  | r  | o  |\n",
    "|-------------|----|----|----|----|----|---|----|----|----|----|----|----|----|---|----|----|----|----|----|----|----|----|\n",
    "| Índices (+) | 0  | 1  | 2  | 3  | 4  | 5 | 6  | 7  | 8  | 9  | 10 | 11 | 12 | 13| 14 | 15 | 16 | 17 | 18 | 19 | 20 | 21 |\n",
    "| Índices (-) | -22| -21| -20| -19| -18| -17| -16| -15| -14| -13| -12| -11| -10| -9| -8| -7 | -6 | -5 | -4 | -3 | -2 | -1 |"
   ]
  },
  {
   "cell_type": "code",
   "execution_count": 13,
   "metadata": {},
   "outputs": [
    {
     "name": "stdout",
     "output_type": "stream",
     "text": [
      "O primeiro caracter do nome é a letra L.\n",
      "O segundo caracter do nome é a letra u.\n",
      "O terceiro caracter do nome é a letra c.\n",
      "Os caracteres de índice 5 e 13 são espaços em branco:  ,  \n"
     ]
    }
   ],
   "source": [
    "nome = \"Lucas Almeida Monteiro\"\n",
    "\n",
    "primeiro_caracter = nome[0]\n",
    "segundo_caracter = nome[1]\n",
    "terceiro_caracter = nome[2]\n",
    "\n",
    "primeir_espaco_em_branco = nome[5]\n",
    "segundo_espaco_em_branco = nome[13]\n",
    "\n",
    "print(f\"O primeiro caracter do nome é a letra {primeiro_caracter}.\")\n",
    "print(f\"O segundo caracter do nome é a letra {segundo_caracter}.\")\n",
    "print(f\"O terceiro caracter do nome é a letra {terceiro_caracter}.\")\n",
    "print(f\"Os caracteres de índice 5 e 13 são espaços em branco: {primeir_espaco_em_branco}, {segundo_espaco_em_branco}\")"
   ]
  },
  {
   "cell_type": "markdown",
   "metadata": {},
   "source": [
    "Conforme explicado, é possível usar ínndices negativos no fatiamento."
   ]
  },
  {
   "cell_type": "code",
   "execution_count": 1,
   "metadata": {},
   "outputs": [
    {
     "name": "stdout",
     "output_type": "stream",
     "text": [
      "O último caracter do nome é o.\n",
      "O penúltimo caracter do nome é r.\n",
      "O antepenúltimo caracter do nome é i.\n"
     ]
    }
   ],
   "source": [
    "nome = \"Lucas Almeida Monteiro\"\n",
    "\n",
    "ultimo_caracter = nome[-1]\n",
    "penultimo_caracter = nome[-2]\n",
    "antepenultimo_caracter = nome[-3]\n",
    "\n",
    "print(f\"O último caracter do nome é a letra {ultimo_caracter}.\")\n",
    "print(f\"O penúltimo caracter do nome é a letra {penultimo_caracter}.\")\n",
    "print(f\"O antepenúltimo caracter do nome é a letra {antepenultimo_caracter}.\")"
   ]
  },
  {
   "cell_type": "markdown",
   "metadata": {},
   "source": [
    "#### Grupo de caracteres em sequencia"
   ]
  },
  {
   "cell_type": "markdown",
   "metadata": {},
   "source": [
    "Podemos usar a mesma notação de `[ ]` para capturar não somente um único caracter mas sim um grupo de caracteres da string. Para isso, precisamos entender a forma como é feito manipulando os índices do nosso fatiamento.\n",
    "\n",
    "**`variavel[start:stop]`**: esta é a sintaxe básica de buscar por uma substring dentro de uma string. Eu preciso definir em qual caracter eu começo meu fatiamento através do `start` e em qual caracter eu termino meu fatiamento no `stop`.\n",
    "\n",
    "```{admonition} Atenção (índice final não é inclusivo)\n",
    ":class: danger\n",
    "\n",
    "O caracter do índice final não é incluído na saída do fatiamento!\n",
    "```\n",
    "\n",
    "Vejamos alguns exemplos para entender melhor como ler esta sintaxe:"
   ]
  },
  {
   "cell_type": "code",
   "execution_count": 7,
   "metadata": {},
   "outputs": [
    {
     "name": "stdout",
     "output_type": "stream",
     "text": [
      "O primeiro nome é Lucas\n"
     ]
    }
   ],
   "source": [
    "nome = \"Lucas Almeida Monteiro\"\n",
    "\n",
    "primeiro_nome = nome[0:5]\n",
    "print(f\"O primeiro nome é {primeiro_nome}\")"
   ]
  },
  {
   "cell_type": "markdown",
   "metadata": {},
   "source": [
    "**Obs:** o caracter de índice `5` no exemplo é um espaço em branco! Selecionem todo o texto da saída com o mouse e percebam que ele **não contém espaço em branco**...\n",
    "\n",
    "- O índice inicial começa no caracter de índice `0` (inclusivo)\n",
    "- O índice final finaliza no caracter de índice `5` (exclusivo)\n",
    "- Como o caracter de índice `5` é exclusivo, ele não é incluído no resultado final do fatiamento\n",
    "- Como resultado, teremos apenas os caracteres de índice `0` até `4`.\n",
    "\n",
    "Quando o caracter inicial for o `0`, podemos omití-lo."
   ]
  },
  {
   "cell_type": "code",
   "execution_count": 12,
   "metadata": {},
   "outputs": [
    {
     "name": "stdout",
     "output_type": "stream",
     "text": [
      "O primeiro nome é Lucas\n"
     ]
    }
   ],
   "source": [
    "nome = \"Lucas Almeida Monteiro\"\n",
    "\n",
    "primeiro_nome = nome[:5]\n",
    "print(f\"O primeiro nome é {primeiro_nome}\")"
   ]
  },
  {
   "cell_type": "markdown",
   "metadata": {},
   "source": [
    "Vamos isolar o sobrenome agora."
   ]
  },
  {
   "cell_type": "code",
   "execution_count": 9,
   "metadata": {},
   "outputs": [
    {
     "name": "stdout",
     "output_type": "stream",
     "text": [
      "O sobrenome é Almeida\n"
     ]
    }
   ],
   "source": [
    "nome = \"Lucas Almeida Monteiro\"\n",
    "\n",
    "ultimo_sobrenome = nome[6:13]\n",
    "print(f\"O sobrenome é {ultimo_sobrenome}\")"
   ]
  },
  {
   "cell_type": "markdown",
   "metadata": {},
   "source": [
    "- O índice inicial começa no caracter de índice `6` (inclusivo)\n",
    "- O índice final finaliza no caracter de índice `13` (exclusivo)\n",
    "- Como o caracter de índice `13` é exclusivo, ele não é incluído no resultado final do fatiamento\n",
    "- Como resultado, teremos apenas os caracteres de índice `6` até `12`."
   ]
  },
  {
   "cell_type": "markdown",
   "metadata": {},
   "source": [
    "E, finalmente, o último sobrenome:"
   ]
  },
  {
   "cell_type": "code",
   "execution_count": 10,
   "metadata": {},
   "outputs": [
    {
     "name": "stdout",
     "output_type": "stream",
     "text": [
      "O sobrenome é Monteir\n"
     ]
    }
   ],
   "source": [
    "nome = \"Lucas Almeida Monteiro\"\n",
    "\n",
    "ultimo_sobrenome = nome[14:21]\n",
    "print(f\"O sobrenome é {ultimo_sobrenome}\")"
   ]
  },
  {
   "cell_type": "markdown",
   "metadata": {},
   "source": [
    "Aqui temos algo interessante. O último índice da string é o `21`. Mas já sabemos que o índice final do fatiamento é exclusivo. Da forma como fizemos acima, teríamos que colocar um índice a mais para incluir o último caracter."
   ]
  },
  {
   "cell_type": "code",
   "execution_count": 14,
   "metadata": {},
   "outputs": [
    {
     "name": "stdout",
     "output_type": "stream",
     "text": [
      "O sobrenome é Monteiro\n"
     ]
    }
   ],
   "source": [
    "nome = \"Lucas Almeida Monteiro\"\n",
    "\n",
    "ultimo_sobrenome = nome[14:22]\n",
    "print(f\"O sobrenome é {ultimo_sobrenome}\")"
   ]
  },
  {
   "cell_type": "markdown",
   "metadata": {},
   "source": [
    "Porém, apesar de funcionar, fica estranho, dado que o último índice é `21`. Quando desejamos extrair tudo, até o final da string, com o último caracter incluso, podemos omitir o `stop`."
   ]
  },
  {
   "cell_type": "code",
   "execution_count": null,
   "metadata": {},
   "outputs": [],
   "source": [
    "nome = \"Lucas Almeida Monteiro\"\n",
    "\n",
    "# Leia-se: tudo do caracter 14 até o final da string incluindo o último caracter.\n",
    "ultimo_sobrenome = nome[14:]\n",
    "print(f\"O sobrenome é {ultimo_sobrenome}\")"
   ]
  },
  {
   "cell_type": "markdown",
   "metadata": {},
   "source": [
    "Podemos usar índices negativos também. Para uma maior clareza, vou trazer novamente a tabela com os índices:\n",
    "\n",
    "| Caracter    | L  | u  | c  | a  | s  |   | A  | l  | m  | e  | i  | d  | a  |   | M  | o  | n  | t  | e  | i  | r  | o  |\n",
    "|-------------|----|----|----|----|----|---|----|----|----|----|----|----|----|---|----|----|----|----|----|----|----|----|\n",
    "| Índices (+) | 0  | 1  | 2  | 3  | 4  | 5 | 6  | 7  | 8  | 9  | 10 | 11 | 12 | 13| 14 | 15 | 16 | 17 | 18 | 19 | 20 | 21 |\n",
    "| Índices (-) | -22| -21| -20| -19| -18| -17| -16| -15| -14| -13| -12| -11| -10| -9| -8| -7 | -6 | -5 | -4 | -3 | -2 | -1 |"
   ]
  },
  {
   "cell_type": "code",
   "execution_count": 15,
   "metadata": {},
   "outputs": [
    {
     "name": "stdout",
     "output_type": "stream",
     "text": [
      "O sobrenome é Monteiro\n"
     ]
    }
   ],
   "source": [
    "nome = \"Lucas Almeida Monteiro\"\n",
    "\n",
    "# Leia-se: tudo do caracter -8 até o final da string incluindo o último caracter.\n",
    "ultimo_sobrenome = nome[-8:]\n",
    "print(f\"O último sobrenome é {ultimo_sobrenome}\")"
   ]
  },
  {
   "cell_type": "markdown",
   "metadata": {},
   "source": [
    "Os índices negativos em Python começam a contagem a partir do final da string para o início. O índice `-1` refere-se ao último caractere, `-2` ao penúltimo, e assim por diante. No entanto, esses índices não invertem a ordem dos caracteres. Eles simplesmente fornecem uma maneira conveniente de referenciar caracteres a partir do final da string. Portanto, podemos dizer que os índices `14` e `-8` referem-se ao mesmo caracter da string, a letra `M`.\n",
    "\n",
    "Em ambos os casos, o índice especifica a posição inicial da substring e continua até o final da string, sem alterar a ordem dos caracteres. É por isso que tanto `nome[14:]` quanto `nome[-8:]` produzem a mesma substring `Monteiro`."
   ]
  },
  {
   "cell_type": "markdown",
   "metadata": {},
   "source": [
    "#### Grupo de caracteres pulando de `n` em `n`"
   ]
  },
  {
   "cell_type": "markdown",
   "metadata": {},
   "source": [
    "Vamos tentar ir devagar para não confundir a cabeça neste momento. Até agora, vimos que a sintaxe `variavel[start:stop]` traz todos os caracteres do `start` até o `stop` excluindo o caracter do `indice_final`. Certo?\n",
    "\n",
    "Podemos acrescentar algo nesta sintaxe para trazer os caracteres pulando os índices de 2 em 2, por exemplo. É o que chamamos de `step`, ou passo. A sintaxe fica, então `variavel[start:stop:step]` no qual:\n",
    "\n",
    "- `start`: Índice onde a fatia começa. Se omitido, a fatia começa no início da sequência no índice `0`.\n",
    "- `stop`: Índice onde a fatia termina, mas não inclui o elemento neste índice. Se omitido, a fatia vai até o final da sequência.\n",
    "- `step`: Número que determina o intervalo entre os índices. Assume o valor padrão 1. Se for negativo, a sequência será percorrida de trás para frente.\n",
    "\n",
    "Se quisermos trazer todos os caracteres de índice par, por exemplo:"
   ]
  },
  {
   "cell_type": "code",
   "execution_count": 16,
   "metadata": {},
   "outputs": [
    {
     "name": "stdout",
     "output_type": "stream",
     "text": [
      "Somente os caracteres de índice par: LcsAmiaMner\n"
     ]
    }
   ],
   "source": [
    "nome = \"Lucas Almeida Monteiro\"\n",
    "\n",
    "caracteres_indice_par = nome[::2]\n",
    "print(f\"Somente os caracteres de índice par: {caracteres_indice_par}\")"
   ]
  },
  {
   "cell_type": "markdown",
   "metadata": {},
   "source": [
    "Da mesma forma, para trazermos todos os caracteres de índice ímpar:"
   ]
  },
  {
   "cell_type": "code",
   "execution_count": 17,
   "metadata": {},
   "outputs": [
    {
     "name": "stdout",
     "output_type": "stream",
     "text": [
      "Somente os caracteres de índice par: ua led otio\n"
     ]
    }
   ],
   "source": [
    "nome = \"Lucas Almeida Monteiro\"\n",
    "\n",
    "caracteres_indice_par = nome[1::2]\n",
    "print(f\"Somente os caracteres de índice ímpar: {caracteres_indice_par}\")"
   ]
  },
  {
   "cell_type": "markdown",
   "metadata": {},
   "source": [
    "Podemos pular os caracteres de 3 em 3:"
   ]
  },
  {
   "cell_type": "code",
   "execution_count": 20,
   "metadata": {},
   "outputs": [
    {
     "name": "stdout",
     "output_type": "stream",
     "text": [
      "Caracteres pulados de 3 em 3: LaAeaoeo\n"
     ]
    }
   ],
   "source": [
    "nome = \"Lucas Almeida Monteiro\"\n",
    "\n",
    "caracteres_3_em_3 = nome[::3]\n",
    "print(f\"Caracteres pulados de 3 em 3: {caracteres_3_em_3}\")"
   ]
  },
  {
   "cell_type": "markdown",
   "metadata": {},
   "source": [
    "O `step` também pode assumir um valor negativo, fato que inverte a ordem da string no fatiamento:"
   ]
  },
  {
   "cell_type": "code",
   "execution_count": 22,
   "metadata": {},
   "outputs": [
    {
     "name": "stdout",
     "output_type": "stream",
     "text": [
      "Nome invertido: orietnoM adiemlA sacuL\n"
     ]
    }
   ],
   "source": [
    "nome = \"Lucas Almeida Monteiro\"\n",
    "\n",
    "nome_inverso = nome[::-1]\n",
    "print(f\"Nome invertido: {nome_inverso}\")"
   ]
  },
  {
   "cell_type": "markdown",
   "metadata": {},
   "source": [
    "Trazendo os caracteres na ordem inversa pulando de 2 em 2:"
   ]
  },
  {
   "cell_type": "code",
   "execution_count": 24,
   "metadata": {},
   "outputs": [
    {
     "name": "stdout",
     "output_type": "stream",
     "text": [
      "Nome inverso de 2 em 2 caracteres: oito del au\n"
     ]
    }
   ],
   "source": [
    "nome = \"Lucas Almeida Monteiro\"\n",
    "\n",
    "nome_inverso_de_2_em_2 = nome[::-2]\n",
    "print(f\"Nome inverso de 2 em 2 caracteres: {nome_inverso_de_2_em_2}\")"
   ]
  }
 ],
 "metadata": {
  "kernelspec": {
   "display_name": ".venv",
   "language": "python",
   "name": "python3"
  },
  "language_info": {
   "codemirror_mode": {
    "name": "ipython",
    "version": 3
   },
   "file_extension": ".py",
   "mimetype": "text/x-python",
   "name": "python",
   "nbconvert_exporter": "python",
   "pygments_lexer": "ipython3",
   "version": "3.12.2"
  }
 },
 "nbformat": 4,
 "nbformat_minor": 2
}
