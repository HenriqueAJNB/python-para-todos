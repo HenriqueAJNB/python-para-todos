{
 "cells": [
  {
   "cell_type": "markdown",
   "metadata": {},
   "source": [
    "# Estrutura de repetição"
   ]
  },
  {
   "cell_type": "markdown",
   "metadata": {},
   "source": [
    "<div style=\"text-align: justify\">\n",
    "\n",
    "Até agora o nosso código executa apenas uma vez, com a possibilidade de tomada de decisão através da estrutura condicional `if-else-elif`. No entanto, muitas vezes precisamos executar um bloco de código várias vezes. Para isso, utilizamos as estruturas de repetição.\n",
    "\n",
    "Em Python, temos duas estruturas de repetição, também chamadas de *laços*: `for` e `while`. A estrutura `for` é utilizada quando sabemos o número de vezes que o bloco de código deve ser executado. Já a estrutura `while` é utilizada quando não sabemos o número de vezes que o bloco de código deve ser executado, mas sabemos a condição de parada.\n",
    "\n",
    "Nesta seção, vamos aprender mais sobre estas duas estruturas.\n",
    "</div>"
   ]
  },
  {
   "cell_type": "markdown",
   "metadata": {},
   "source": [
    "## Laço `for`"
   ]
  },
  {
   "cell_type": "markdown",
   "metadata": {},
   "source": [
    "O laço `for` é usado sempre que **sabemos quantas vezes queremos executar um bloco de código**. A sintaxe básica do laço `for` é a seguinte:\n",
    "\n",
    "```python\n",
    "for variavel in sequencia:\n",
    "    # bloco de código a ser repetido\n",
    "```\n",
    "\n",
    "onde `sequencia` pode ser uma lista, tupla, string, dicionário, set ou qualquer outra sequencia, e `variavel` é uma variável temporária que assume o valor de cada elemento da sequência a cada iteração. \n",
    "\n",
    "```{admonition} Lembrete (strings e sequencia)\n",
    ":class: tip\n",
    "Lembre-se que uma string é uma sequencia de caracteres!\n",
    "```\n",
    "\n",
    "Reparem também que todo bloco de código que será repetido **deve estar identado**.\n",
    "\n",
    "Ou seja, para usarmos o laço `for`, necessariamente eu preciso ter uma sequencia que será percorrida elemento a elemento, e esta sequencia tem tamanho conhecido. Por isso que o `for` é usado quando sabemos quantas vezes queremos executar um bloco de código.\n",
    "\n",
    "Vamos ver um exemplo simples de uso do laço `for`:"
   ]
  },
  {
   "cell_type": "code",
   "execution_count": null,
   "metadata": {},
   "outputs": [],
   "source": [
    "for variavel in range(1, 10):\n",
    "    print(variavel)"
   ]
  },
  {
   "cell_type": "markdown",
   "metadata": {},
   "source": [
    "No exemplo acima, temos `variavel` que assume cada valor da sequencia."
   ]
  },
  {
   "cell_type": "markdown",
   "metadata": {},
   "source": [
    "### A função `range`"
   ]
  },
  {
   "cell_type": "markdown",
   "metadata": {},
   "source": [
    "E para a sequencia, temos uma novidade: a função `range()`. A função `range()` é uma função que gera uma sequencia de números, e é muito utilizada em conjunto com o laço `for`. A função `range()` é bem simples pode receber até três argumentos: `range(inicio, fim, passo)`. Basicamente ela gera uma sequencia de números que começa em `inicio`, vai até `fim` (sem incluir o `fim`) pulando os valores através do `passo` (1 em 1, 2 em 2, etc.). Se o `passo` não for informado, o valor padrão é 1. Fique a vontade para consultar a documentação da função `range()` [aqui](https://docs.python.org/3/library/functions.html#func-range).\n",
    "\n",
    "Se isolarmos o `range(1, 10)` do exemplo acima:"
   ]
  },
  {
   "cell_type": "code",
   "execution_count": null,
   "metadata": {},
   "outputs": [],
   "source": [
    "range(1, 10)"
   ]
  },
  {
   "cell_type": "markdown",
   "metadata": {},
   "source": [
    "Vejam que ele não imprime algo muito útil. Vamos verificar o tipo do `range(1, 10)` e convertê-lo para uma lista?"
   ]
  },
  {
   "cell_type": "code",
   "execution_count": null,
   "metadata": {},
   "outputs": [],
   "source": [
    "print(type(range(1, 10)))\n",
    "print(list(range(1, 10)))"
   ]
  },
  {
   "cell_type": "markdown",
   "metadata": {},
   "source": [
    "Apesar do `range()` ser um tipo de objeto até então desconhecido, ele também é uma sequencia e pode ser usado diretamente em laços `for`, sem necessariamente ser transformado em uma lista ou tupla, conforme vimos no exemplo. Quando transformado em uma lista, o `range()` nos mostra claramente a sequencia de números que ele gera, no caso, de 1 a 9 (o 10 não é incluso). \n",
    "\n",
    "E, retomando o laço `for`,  para cada iteração, `variavel` assume um valor da sequencia que é impressa na tela.\n",
    "\n",
    "Um ponto importante sobre a variável temporária criada dentro do laço `for` é que ela não necessariamente precisa ser usada. Se quisermos, por exemplo, imprimir a mensagem \"Olá, eu estou aprendendo Python!\" 10 vezes, ainda sim precisamos criar a sequencia com 10 elementos para percorrê-la item a item, porém sem usar os elementos da sequencia. Vejam:"
   ]
  },
  {
   "cell_type": "code",
   "execution_count": null,
   "metadata": {},
   "outputs": [],
   "source": [
    "for variavel in range(10):\n",
    "    print(\"Olá, eu estou aprendendo Python!\")"
   ]
  },
  {
   "cell_type": "markdown",
   "metadata": {},
   "source": [
    "Em tais casos nos quais os elementos da sequencia **não são utilizados em todo o código do laço `for`**, é comum utilizar o caractere `_` para representar a variável no laço `for` indicando de forma clara que ela não será utilizada."
   ]
  },
  {
   "cell_type": "code",
   "execution_count": null,
   "metadata": {},
   "outputs": [],
   "source": [
    "for _ in range(10):\n",
    "    print(\"Olá, eu estou aprendendo Python!\")"
   ]
  },
  {
   "cell_type": "markdown",
   "metadata": {},
   "source": [
    "Um outro caso bastante comum é quando precisamos não apenas do valor do elemento da sequencia, mas também do índice do elemento. Vejamos no exemplo abaixo:"
   ]
  },
  {
   "cell_type": "code",
   "execution_count": null,
   "metadata": {},
   "outputs": [],
   "source": [
    "meses = [\n",
    "    \"Janeiro\",\n",
    "    \"Fevereiro\",\n",
    "    \"Março\",\n",
    "    \"Abril\",\n",
    "    \"Maio\",\n",
    "    \"Junho\",\n",
    "    \"Julho\",\n",
    "    \"Agosto\",\n",
    "    \"Setembro\",\n",
    "    \"Outubro\",\n",
    "    \"Novembro\",\n",
    "    \"Dezembro\",\n",
    "]\n",
    "\n",
    "for indice in range(len(meses)):\n",
    "    numero_mes = indice + 1\n",
    "    print(f\"{meses[indice]} é o {numero_mes}° mês do ano.\")"
   ]
  },
  {
   "cell_type": "markdown",
   "metadata": {},
   "source": [
    "Por qual motivo não simplesmente usamos `for mes in meses` nesse caso? O laço `for` percorre cada elemento da lista, mas não acessa o índice daquele elemento. Portanto, precisamos fazer uma outra sequencia que contenha todos os índices da nossa sequencia original. Para isso, usamos a junção das função `range(len(meses))` que trará uma sequencia de números de 0 a 11 (12 elementos). O laço `for` itera, portanto, através de uma sequencia que representam os índices da lista `meses`. Só que ainda precisamos, a partir do índice, acessar o valor do elemento da lista `meses`. Para isso, usamos a notação `meses[indice]`. E como a indexação começa por 0 em Python, ainda precisamos criar uma outra variável que representará o número do mês, que começa em 1 e vai até 12, diferente do `indice` que começa em 0 e vai até 11."
   ]
  },
  {
   "cell_type": "markdown",
   "metadata": {},
   "source": [
    "### Desempacotamento"
   ]
  },
  {
   "cell_type": "markdown",
   "metadata": {},
   "source": [
    "Antes de seguirmos com o laço `for`, vamos introduzir um conceito super importante que será usado: desempacotamento. O desempacotamento é uma técnica que permite quebrar uma sequencia em partes menores.\n",
    "\n",
    "De forma bem simples, é como se tivéssemos uma caixa com vários itens e quiséssemos separar cada item em uma variável diferente. Vejamos o exemplo abaixo:"
   ]
  },
  {
   "cell_type": "code",
   "execution_count": null,
   "metadata": {},
   "outputs": [],
   "source": [
    "lista = [1, 2, 3]\n",
    "\n",
    "# Podemos capturar cada valor da lista através da técnica de desempacotamento\n",
    "a, b, c = lista\n",
    "\n",
    "print(a, b, c)"
   ]
  },
  {
   "cell_type": "markdown",
   "metadata": {},
   "source": [
    "O desempacotamento funciona como se quebrássemos os elementos de uma dada sequencia, no exemplo acima uma lista, e atribuíssemos cada elemento a uma variável diferente. Em palavras mais simples, podemos \"desembrulhar\" os elementos da sequencia em variáveis.\n",
    "\n",
    "E porque isso está sendo explicando somente nesse capítulo de laços de repetição? Vamos ver um exemplo prático:"
   ]
  },
  {
   "cell_type": "code",
   "execution_count": null,
   "metadata": {},
   "outputs": [],
   "source": [
    "vendas = [(\"Camiseta\", 4, 25.00), (\"Calça Jeans\", 2, 100.00), (\"Tênis\", 1, 150.00)]"
   ]
  },
  {
   "cell_type": "markdown",
   "metadata": {},
   "source": [
    "Supondo que temos a estrutura acima, `vendas`, onde cada elemento da lista é uma tupla, e cada tupla contém 3 elementos: o nome do produto, a quantidade vendida e o preço unitário. E gostaríamos de imprimir na tela o nome de cada produto, sua respectiva quantidade vendida e valor total. Como faríamos isso? Talvez você pense em fazer da seguinte forma:"
   ]
  },
  {
   "cell_type": "code",
   "execution_count": null,
   "metadata": {},
   "outputs": [],
   "source": [
    "vendas = [(\"Camiseta\", 4, 25.00), (\"Calça Jeans\", 2, 100.00), (\"Tênis\", 1, 150.00)]\n",
    "\n",
    "for item in vendas:\n",
    "    produto = item[0]\n",
    "    quantidade = item[1]\n",
    "    preco_unitario = item[2]\n",
    "\n",
    "    valor_total = quantidade * preco_unitario\n",
    "    print(\n",
    "        f\"Produto: {produto}, quantidade: {quantidade}, valor total: R${valor_total:.2f}\"\n",
    "    )"
   ]
  },
  {
   "cell_type": "markdown",
   "metadata": {},
   "source": [
    "Esta abordagem funciona, mas percebam que precisamos quebrar cada tupla em 3 partes, e isso é exatamente o que o desempacotamento faz. No lugar da variável `item`, podemos desempacotar a variável também dentro do laço `for`. Vejamos como podemos reescrever o código acima utilizando o desempacotamento:"
   ]
  },
  {
   "cell_type": "code",
   "execution_count": null,
   "metadata": {},
   "outputs": [],
   "source": [
    "vendas = [(\"Camiseta\", 4, 25.00), (\"Calça Jeans\", 2, 100.00), (\"Tênis\", 1, 150.00)]\n",
    "\n",
    "for produto, quantidade, preco_unitario in vendas:\n",
    "    valor_total = quantidade * preco_unitario\n",
    "    print(\n",
    "        f\"Produto: {produto}, quantidade: {quantidade}, valor total: R${valor_total:.2f}\"\n",
    "    )"
   ]
  },
  {
   "cell_type": "markdown",
   "metadata": {},
   "source": [
    "Trocamos esse trecho:\n",
    "\n",
    "```python\n",
    "for item in vendas:\n",
    "    produto = item[0]\n",
    "    quantidade = item[1]\n",
    "    preco_unitario = item[2]\n",
    "```\n",
    "\n",
    "por esse:\n",
    "\n",
    "```python\n",
    "for produto, quantidade, preco_unitario in vendas:\n",
    "```\n",
    "\n",
    "O efeito deles é exatamente o mesmo, mas a segunda forma é mais limpa e mais fácil de entender. Mas observem que só é possível fazer isso porque todos as tuplas da lista tem exatamente 3 elementos. Se houvesse ao menos uma tupla com elementos a mais ou a menos, o código não funcionaria. Observem:"
   ]
  },
  {
   "cell_type": "code",
   "execution_count": null,
   "metadata": {
    "tags": [
     "raises-exception"
    ]
   },
   "outputs": [],
   "source": [
    "vendas = [\n",
    "    (\"Camiseta\", 4, 25.00),\n",
    "    (\"Calça Jeans\", 2, 100.00),\n",
    "    (\"Tênis\", 1, 150.00),\n",
    "    # Adição de um item sem preço, somente com 2 elementos (produto e quantidade)\n",
    "    (\"Meias\", 5),\n",
    "]\n",
    "\n",
    "for produto, quantidade, preco_unitario in vendas:\n",
    "    valor_total = quantidade * preco_unitario\n",
    "    print(\n",
    "        f\"Produto: {produto}, quantidade: {quantidade}, valor total: R${valor_total:.2f}\"\n",
    "    )"
   ]
  },
  {
   "cell_type": "markdown",
   "metadata": {},
   "source": [
    "O erro `ValueError: not enough values to unpack (expected 3, got 2)` nos informa justamente que o código esperava 3 elementos para desempacotar em 3 variáveis, mas recebeu apenas 2."
   ]
  },
  {
   "cell_type": "markdown",
   "metadata": {},
   "source": [
    "### A função `enumerate`"
   ]
  },
  {
   "cell_type": "markdown",
   "metadata": {},
   "source": [
    "Dado que já sabemos sobre desempacotamento, podemos introduzir a função `enumerate`. Vamos retomar o exemplo anterior:"
   ]
  },
  {
   "cell_type": "code",
   "execution_count": null,
   "metadata": {},
   "outputs": [],
   "source": [
    "meses = [\n",
    "    \"Janeiro\",\n",
    "    \"Fevereiro\",\n",
    "    \"Março\",\n",
    "    \"Abril\",\n",
    "    \"Maio\",\n",
    "    \"Junho\",\n",
    "    \"Julho\",\n",
    "    \"Agosto\",\n",
    "    \"Setembro\",\n",
    "    \"Outubro\",\n",
    "    \"Novembro\",\n",
    "    \"Dezembro\",\n",
    "]\n",
    "\n",
    "for indice in range(len(meses)):\n",
    "    numero_mes = indice + 1\n",
    "    print(f\"{meses[indice]} é o {numero_mes}° mês do ano.\")"
   ]
  },
  {
   "cell_type": "markdown",
   "metadata": {},
   "source": [
    "Quando precisamos acessar o índice e o valor de uma sequencia, a função `enumerate` é muito útil. Ela retorna uma tupla contendo o índice e o valor do elemento da sequencia. Vejamos o exemplo abaixo:"
   ]
  },
  {
   "cell_type": "code",
   "execution_count": null,
   "metadata": {},
   "outputs": [],
   "source": [
    "meses = [\n",
    "    \"Janeiro\",\n",
    "    \"Fevereiro\",\n",
    "    \"Março\",\n",
    "    \"Abril\",\n",
    "    \"Maio\",\n",
    "    \"Junho\",\n",
    "    \"Julho\",\n",
    "    \"Agosto\",\n",
    "    \"Setembro\",\n",
    "    \"Outubro\",\n",
    "    \"Novembro\",\n",
    "    \"Dezembro\",\n",
    "]\n",
    "\n",
    "print(list(enumerate(meses)))"
   ]
  },
  {
   "cell_type": "markdown",
   "metadata": {},
   "source": [
    "A função `enumerate` é bem simples. Ela recebe uma sequencia e retorna um objeto que contém o índice e o valor do elemento da sequencia. E, como vimos anteriormente, podemos desempacotar essa tupla diretamente no laço `for`. Ao invés de usar `for indice in range(len(meses))`, podemos usar `for indice, mes in enumerate(meses)`.\n",
    "\n",
    "```{admonition} Nota (enumerate transformado em lista)\n",
    ":class: note\n",
    "O resultado da função `enumerate` por si só já é uma sequencia. Não é necessário transformá-lo em uma lista para usá-lo em um laço `for`. O motivo de termos transformado no exemplo acima foi puramente para imprimir o resultado dele de uma forma mais visual e útil na tela. Caso contrário seria impresso algo como `<enumerate object at 0x7f8e3c7b3b40>`, que não é nada útil. Mostramos isso também na função `range` anteriormente, lembra?\n",
    "```"
   ]
  },
  {
   "cell_type": "code",
   "execution_count": null,
   "metadata": {},
   "outputs": [],
   "source": [
    "meses = [\n",
    "    \"Janeiro\",\n",
    "    \"Fevereiro\",\n",
    "    \"Março\",\n",
    "    \"Abril\",\n",
    "    \"Maio\",\n",
    "    \"Junho\",\n",
    "    \"Julho\",\n",
    "    \"Agosto\",\n",
    "    \"Setembro\",\n",
    "    \"Outubro\",\n",
    "    \"Novembro\",\n",
    "    \"Dezembro\",\n",
    "]\n",
    "\n",
    "for numero_mes, mes in enumerate(meses):\n",
    "    print(f\"{mes} é o {numero_mes}° mês do ano.\")"
   ]
  },
  {
   "cell_type": "markdown",
   "metadata": {},
   "source": [
    "Só que ainda ficou algo estranho, pois a indexação em Python começa por 0. E, no caso acima, o nosso desejo é que a numeração dos meses comece no 1. Podemos usar um parâmetro da função `enumerate` para que a sequencia dos índices retornados pela função comece no 1. Vejamos:"
   ]
  },
  {
   "cell_type": "code",
   "execution_count": null,
   "metadata": {},
   "outputs": [],
   "source": [
    "meses = [\n",
    "    \"Janeiro\",\n",
    "    \"Fevereiro\",\n",
    "    \"Março\",\n",
    "    \"Abril\",\n",
    "    \"Maio\",\n",
    "    \"Junho\",\n",
    "    \"Julho\",\n",
    "    \"Agosto\",\n",
    "    \"Setembro\",\n",
    "    \"Outubro\",\n",
    "    \"Novembro\",\n",
    "    \"Dezembro\",\n",
    "]\n",
    "\n",
    "for numero_mes, mes in enumerate(meses, start=1):\n",
    "    print(f\"{mes} é o {numero_mes}° mês do ano.\")"
   ]
  },
  {
   "cell_type": "markdown",
   "metadata": {},
   "source": [
    "Saímos desta versão...\n",
    "\n",
    "```python\n",
    "for indice in range(len(meses)):\n",
    "    numero_mes = indice + 1\n",
    "    print(f\"{meses[indice]} é o {numero_mes}° mês do ano.\")\n",
    "```\n",
    "\n",
    "... para esta versão...\n",
    "\n",
    "```python\n",
    "for numero_mes, mes in enumerate(meses, start=1):\n",
    "    print(f\"{mes} é o {numero_mes}° mês do ano.\")\n",
    "```\n",
    "\n",
    "... simplesmente aplicando a função `enumerate` junto com o conceito de desempacotamento. \n",
    "\n",
    "Agora eu te pergunto: qual das duas versões ficou mais clara, consisa e fácil de entender?"
   ]
  },
  {
   "cell_type": "markdown",
   "metadata": {},
   "source": [
    "## O laço `while`"
   ]
  },
  {
   "cell_type": "markdown",
   "metadata": {},
   "source": [
    "Diferente do laço `for` o laço `while` é um laço de repetiçao no qual não sabemos previamente quantas vezes o código do bloco vai ser executado. Isso porque a execução do laço `while` é baseada em uma condição. Sim! É o mesmo [conceito de condição](o-que-e-uma-condicao) que vimos no capítulo sobre estrutura condicional, lembra? Em resumo, é a condição que vai determinar se o código do bloco `while` deve ser executado ou não. É A sintaxe básica do laço `while` é a seguinte:\n",
    "\n",
    "```python\n",
    "while condicao:\n",
    "    # bloco de código a ser repetido até que a condição seja falsa\n",
    "```\n",
    "\n",
    "Por ser baseado em uma condicional, existe o risco de cairmos em uma situação de loop infinito! Ou seja, o código do bloco `while` é executado indefinidamente. Por isso, é muito importante que **a condição do laço `while` seja alterada de forma que, em algum momento, ela se torne `False`**. Caso contrário, o código do bloco `while` será executado indefinidamente. Experimente executar o código abaixo na sua máquina e veja o que acontece (pressione Ctrl+C para interromper a execução):\n",
    "\n",
    "```python\n",
    "n = 0\n",
    "while n < 10:\n",
    "    print(n)\n",
    "```\n",
    "\n",
    "O pequeno exemplo acima vai imprimir 0 infinitamente. Por que isso acontece? Porque a variável `n` nunca é alterada dentro do laço `while`, e ela faz parte da condição. Portanto, a condição `n < 10` sempre será verdadeira. Para corrigir isso, precisamos incrementar a variável `n` a cada iteração. Vejamos:"
   ]
  },
  {
   "cell_type": "code",
   "execution_count": null,
   "metadata": {},
   "outputs": [],
   "source": [
    "n = 0\n",
    "while n < 10:\n",
    "    print(n)\n",
    "    # Acréscimo da alteração da condição para que ela seja False em algum momento\n",
    "    n = n + 1"
   ]
  },
  {
   "cell_type": "markdown",
   "metadata": {},
   "source": [
    "Quando `n=10` no código acima, a condição `n < 10` passa a ser `False` e o laço não é executado. Mas isso só acontece porque a cada iteração, acrescentamos uma unidade ao valor de `n` com a linha `n += 1`. Se não fizermos a atualização da condição, o código entraria em loop infinito, conforme já vimos. Essa questão da atualização da condição é tão importante que vou repetir na nota abaixo!\n",
    "\n",
    "```{admonition} Perigo (atualização da condição para evitar loop infinito)\n",
    ":class: danger\n",
    "**É muito importante que a condição do laço `while` seja atualizada para que, em algum momento, ela se torne `False`**. Caso contrário, o código do bloco `while` cairá em loop infinito!\n",
    "```"
   ]
  },
  {
   "cell_type": "markdown",
   "metadata": {},
   "source": [
    "### Exemplos reais de aplicação do `while`"
   ]
  },
  {
   "cell_type": "markdown",
   "metadata": {},
   "source": [
    "Todas as vezes que você pensar em executar o seu código repetidas vezes *até que uma dada condição seja satisfeita*, podemos pensar no laço `while`. Vamos ver alguns exemplos reais."
   ]
  },
  {
   "cell_type": "markdown",
   "metadata": {},
   "source": [
    "#### Controle de estoque em uma loja"
   ]
  },
  {
   "cell_type": "markdown",
   "metadata": {},
   "source": [
    "Imagine que você gerencia uma loja de roupas e precisa monitorar o estoque de camisetas. O objetivo é continuar vendendo camisetas enquanto o estoque for suficiente. Assim que o estoque atingir um limite mínimo (por exemplo, 5 unidades), você decide parar as vendas e encomendar mais."
   ]
  },
  {
   "cell_type": "code",
   "execution_count": null,
   "metadata": {},
   "outputs": [],
   "source": [
    "estoque_camisetas = 20  # Quantidade inicial de camisetas no estoque\n",
    "limite_minimo = 5  # Limite mínimo para parar as vendas\n",
    "\n",
    "while estoque_camisetas > limite_minimo:\n",
    "    print(f\"Vendendo uma camiseta. Estoque atual: {estoque_camisetas - 1}\")\n",
    "    estoque_camisetas -= 1\n",
    "\n",
    "print(\"Estoque baixo! Encomendar mais camisetas.\")"
   ]
  },
  {
   "cell_type": "markdown",
   "metadata": {},
   "source": [
    "#### Cobrança de pagamentos pendentes"
   ]
  },
  {
   "cell_type": "markdown",
   "metadata": {},
   "source": [
    "Uma empresa de serviços de assinatura precisa enviar lembretes de pagamento a clientes que ainda não pagaram a mensalidade. O sistema verifica continuamente a lista de clientes com pagamentos pendentes e envia lembretes até que todos os pagamentos sejam quitados."
   ]
  },
  {
   "cell_type": "code",
   "execution_count": null,
   "metadata": {},
   "outputs": [],
   "source": [
    "pagamentos_pendentes = 10  # Número inicial de clientes com pagamentos pendentes\n",
    "\n",
    "while pagamentos_pendentes > 0:\n",
    "    print(f\"Enviando lembrete de pagamento. Clientes pendentes: {pagamentos_pendentes}\")\n",
    "    pagamentos_pendentes -= 1\n",
    "\n",
    "print(\"Todos os pagamentos foram recebidos.\")"
   ]
  },
  {
   "cell_type": "markdown",
   "metadata": {},
   "source": [
    "#### Cálculo de juros compostos para atiginr um objetivo"
   ]
  },
  {
   "cell_type": "markdown",
   "metadata": {},
   "source": [
    "Uma pessoa quer investir um valor inicial e deixá-lo crescer com juros compostos até atingir um objetivo de investimento. O laço `while` calcula o valor do investimento ao final de cada período de tempo até que o valor desejado seja atingido."
   ]
  },
  {
   "cell_type": "code",
   "execution_count": null,
   "metadata": {},
   "outputs": [],
   "source": [
    "valor_inicial = 1000  # Valor inicial do investimento\n",
    "objetivo_investimento = 2000  # Valor desejado para o investimento\n",
    "taxa_juros = 0.05  # Taxa de juros compostos por período\n",
    "periodos = 0  # Contador de períodos\n",
    "\n",
    "while valor_inicial < objetivo_investimento:\n",
    "    valor_inicial += valor_inicial * taxa_juros\n",
    "    periodos += 1\n",
    "    print(f\"Após {periodos} período(s), o valor do investimento é {valor_inicial:.2f}\")\n",
    "\n",
    "print(\n",
    "    f\"Objetivo de investimento de {objetivo_investimento} alcançado após {periodos} períodos.\"\n",
    ")"
   ]
  },
  {
   "cell_type": "markdown",
   "metadata": {},
   "source": [
    "Percebam que em todos os exemplos acima, dentro do laço `while` existe uma atualização. No primeiro exemplo, a atualização é feita quando uma camiseta é vendida. No segundo exemplo, a atualização é feita quando um lembrete de pagamento é enviado. E no terceiro exemplo, a atualização é feita quando o valor do investimento é recalculado."
   ]
  },
  {
   "cell_type": "markdown",
   "metadata": {},
   "source": [
    "## Controle do fluxo de repetição"
   ]
  },
  {
   "cell_type": "markdown",
   "metadata": {},
   "source": [
    "Existem alguma intruções que podemos usar para controlar o fluxo de repetição. São elas: `break` e `continue`. Vamos entender o que cada uma delas faz."
   ]
  },
  {
   "cell_type": "markdown",
   "metadata": {},
   "source": [
    "### `break`"
   ]
  },
  {
   "cell_type": "markdown",
   "metadata": {},
   "source": [
    "A instrução `break` é usado para interromper a execução do laço `for` ou `while`. Quando o `break` é encontrado, o laço é interrompido e o código continua a execução seguindo do que vem em sequencia do bloco interrompido. O `break` é muito usado dentro de um `if` para interromper o laço quando uma condição é satisfeita.\n",
    "\n",
    "Vamos ver um exemplo de funcionamento do `break` no laço `for`.\n",
    "\n",
    "Suponha que você trabalhe no setor de RH de uma empresa e tenha uma lista de currículos para revisar. Você precisa encontrar o primeiro candidato que atenda a todos os requisitos mínimos: ter pelo menos 5 anos de experiência e um diploma universitário. Assim que encontrar um candidato que atenda a esses critérios, você quer parar a revisão, pois já encontrou uma opção adequada para prosseguir com o processo seletivo."
   ]
  },
  {
   "cell_type": "code",
   "execution_count": null,
   "metadata": {},
   "outputs": [],
   "source": [
    "# Lista de currículos, onde cada currículo é representado por um dicionário\n",
    "curriculos = [\n",
    "    {\"nome\": \"João\", \"experiencia\": 3, \"diploma\": True},\n",
    "    {\"nome\": \"Maria\", \"experiencia\": 6, \"diploma\": False},\n",
    "    {\"nome\": \"Carlos\", \"experiencia\": 5, \"diploma\": True},\n",
    "    {\"nome\": \"Ana\", \"experiencia\": 4, \"diploma\": True},\n",
    "]\n",
    "\n",
    "# Iterando sobre a lista de currículos\n",
    "for curriculo in curriculos:\n",
    "    # Verifica se o currículo atende aos critérios\n",
    "    print(f\"Candidato avaliado: {curriculo['nome']}\")\n",
    "    if curriculo[\"experiencia\"] >= 5 and curriculo[\"diploma\"]:\n",
    "        candidato_selecionado = curriculo[\"nome\"]\n",
    "        # Encerra o laço ao encontrar o primeiro candidato adequado\n",
    "        break\n",
    "\n",
    "print(f\"Candidato selecionado: {curriculo['nome']}\")"
   ]
  },
  {
   "cell_type": "markdown",
   "metadata": {},
   "source": [
    "Aqui estamos percorrendo todos os currículos na lista de dicionários. Quando determinada condição é atendida (5 anos de experiência e diploma universitário), o `break` é executado e o laço `for` é interrompido. Percebam que o último item da lista não é impresso, pois o laço `for` foi interrompido antes de chegar nele por conta do `break`.\n",
    "\n",
    "Podemos usar o `break` também no laço `while`. Vamos entender através do exemplo no qual você é um administrador de segurança de um sistema de autenticação que monitora tentativas de login para detectar possíveis ataques de força bruta. O sistema está configurado para bloquear o acesso de um endereço IP após 3 tentativas de login consecutivas falhas. Assim que a terceira tentativa falha é detectada, o sistema deve interromper o processo de verificação e bloquear o IP."
   ]
  },
  {
   "cell_type": "code",
   "execution_count": null,
   "metadata": {},
   "outputs": [],
   "source": [
    "# Dicionário para armazenar o número de tentativas de login por IP\n",
    "tentativas_login = {\"192.168.1.10\": 0, \"192.168.1.15\": 0, \"192.168.1.20\": 0}\n",
    "\n",
    "# Lista de tentativas de login simuladas, com IPs que tentam acessar o sistema\n",
    "tentativas = [\n",
    "    \"192.168.1.10\",\n",
    "    \"192.168.1.15\",\n",
    "    \"192.168.1.10\",\n",
    "    \"192.168.1.20\",\n",
    "    \"192.168.1.10\",\n",
    "    \"192.168.1.20\",\n",
    "    \"192.168.1.15\",\n",
    "    \"192.168.1.15\",\n",
    "    \"192.168.1.15\",\n",
    "]\n",
    "\n",
    "# Número máximo de tentativas antes do bloqueio\n",
    "max_tentativas = 3\n",
    "\n",
    "# Variável de índice para controlar a posição na lista de tentativas\n",
    "indice = 0\n",
    "\n",
    "# Usando um loop while para monitorar as tentativas de login\n",
    "while indice < len(tentativas):\n",
    "    ip_atual = tentativas[indice]\n",
    "\n",
    "    # Incrementa a contagem de tentativas para o IP atual\n",
    "    tentativas_login[ip_atual] += 1\n",
    "\n",
    "    # Verifica se o IP atual excedeu o número máximo de tentativas permitidas\n",
    "    if tentativas_login[ip_atual] >= max_tentativas:\n",
    "        print(\n",
    "            f\"Alerta: IP {ip_atual} bloqueado após {tentativas_login[ip_atual]} tentativas falhas!\"\n",
    "        )\n",
    "        # Encerra o loop ao detectar o IP que excedeu o limite de tentativas\n",
    "        break\n",
    "\n",
    "    # Incrementa o índice para passar para a próxima tentativa\n",
    "    indice += 1"
   ]
  },
  {
   "cell_type": "markdown",
   "metadata": {},
   "source": [
    "No exemplo acima, o laço `while` é interrompido quando o mesmo IP atinge 3 tentativas. O `break` é executado e o laço é interrompido. Percebam que o último print não é executado, pois o laço `while` foi interrompido antes de chegar nele por conta do `break`. \n",
    "\n",
    "No caso específico do `while` o break pode ser usado para interromper o fluxo e eviar cair em loop infinito."
   ]
  },
  {
   "cell_type": "markdown",
   "metadata": {},
   "source": [
    "### `continue`"
   ]
  },
  {
   "cell_type": "markdown",
   "metadata": {},
   "source": [
    "Já a instrução `continue` é usado para pular a iteração atual do laço `for` ou `while` e continuar com a próxima iteração. Ou seja, o código que vem após o `continue` não é executado, e o laço segue para a próxima iteração.\n",
    "\n",
    "Você trabalha no setor de marketing de uma empresa e é responsável por enviar e-mails promocionais para uma lista de clientes. No entanto, alguns clientes optaram por não receber e-mails de marketing, e suas informações estão marcadas em um sistema com um sinalizador de \"opt-out\". Você deseja percorrer a lista de clientes e enviar e-mails apenas para aqueles que não marcaram a opção de \"opt-out\"."
   ]
  },
  {
   "cell_type": "code",
   "execution_count": null,
   "metadata": {},
   "outputs": [],
   "source": [
    "# Lista de clientes, onde cada cliente é representado por um dicionário\n",
    "clientes = [\n",
    "    {\"nome\": \"João\", \"email\": \"joao@example.com\", \"opt_out\": False},\n",
    "    {\"nome\": \"Maria\", \"email\": \"maria@example.com\", \"opt_out\": True},\n",
    "    {\"nome\": \"Carlos\", \"email\": \"carlos@example.com\", \"opt_out\": False},\n",
    "    {\"nome\": \"Ana\", \"email\": \"ana@example.com\", \"opt_out\": True},\n",
    "    {\"nome\": \"Pedro\", \"email\": \"pedro@example.com\", \"opt_out\": False},\n",
    "]\n",
    "\n",
    "# Iterando sobre a lista de clientes\n",
    "for cliente in clientes:\n",
    "    # Verifica se o cliente optou por não receber e-mails de marketing\n",
    "    if cliente[\"opt_out\"]:\n",
    "        # Se o cliente optou por não receber, pula para o próximo cliente\n",
    "        continue\n",
    "\n",
    "    # Envia o e-mail de marketing para o cliente\n",
    "    print(f\"Enviando e-mail para: {cliente['nome']} ({cliente['email']})\")\n",
    "\n",
    "print(\"Processo de envio de e-mails concluído.\")"
   ]
  },
  {
   "cell_type": "markdown",
   "metadata": {},
   "source": [
    "Vamos ver outro exemplo usando o laço `while` agora. Você é o gerente de um armazém e precisa fazer um controle de estoque diário. A cada dia, você faz a contagem dos itens em diferentes setores do armazém. Alguns setores podem estar em manutenção, e você deseja pular esses setores durante a contagem para evitar erros. O objetivo é continuar contando os itens nos setores disponíveis e ignorar aqueles que estão em manutenção."
   ]
  },
  {
   "cell_type": "code",
   "execution_count": 10,
   "metadata": {},
   "outputs": [
    {
     "name": "stdout",
     "output_type": "stream",
     "text": [
      "Contando estoque no Setor A: 120 itens.\n",
      "Setor B está em manutenção. Pulando para o próximo setor.\n",
      "Contando estoque no Setor C: 200 itens.\n",
      "Setor D está em manutenção. Pulando para o próximo setor.\n",
      "Contando estoque no Setor E: 300 itens.\n",
      "Total de estoque contabilizado: 620 itens.\n"
     ]
    }
   ],
   "source": [
    "# Lista simulada de setores do armazém e seu status\n",
    "setores = [\n",
    "    {\"nome\": \"Setor A\", \"manutencao\": False, \"estoque\": 120},\n",
    "    {\"nome\": \"Setor B\", \"manutencao\": True, \"estoque\": 0},\n",
    "    {\"nome\": \"Setor C\", \"manutencao\": False, \"estoque\": 200},\n",
    "    {\"nome\": \"Setor D\", \"manutencao\": True, \"estoque\": 0},\n",
    "    {\"nome\": \"Setor E\", \"manutencao\": False, \"estoque\": 300},\n",
    "]\n",
    "\n",
    "# Variável de índice para controlar a posição na lista de setores\n",
    "indice = 0\n",
    "\n",
    "# Variável para armazenar o total de estoque contabilizado\n",
    "total_estoque = 0\n",
    "\n",
    "# Usando um loop while para percorrer a lista de setores e contar o estoque\n",
    "while indice < len(setores):\n",
    "    setor_atual = setores[indice]\n",
    "\n",
    "    # Verifica se o setor está em manutenção\n",
    "    if setor_atual[\"manutencao\"]:\n",
    "        # Se o setor estiver em manutenção, pula para o próximo setor\n",
    "        print(\n",
    "            f\"{setor_atual['nome']} está em manutenção. Pulando para o próximo setor.\"\n",
    "        )\n",
    "        indice += 1\n",
    "        continue\n",
    "\n",
    "    # Adiciona o estoque do setor atual ao total de estoque\n",
    "    total_estoque += setor_atual[\"estoque\"]\n",
    "    print(f\"Contando estoque no {setor_atual['nome']}: {setor_atual['estoque']} itens.\")\n",
    "\n",
    "    # Incrementa o índice para passar para o próximo setor\n",
    "    indice += 1\n",
    "\n",
    "# Resultado final\n",
    "print(f\"Total de estoque contabilizado: {total_estoque} itens.\")"
   ]
  },
  {
   "cell_type": "markdown",
   "metadata": {},
   "source": [
    "No exemplo acima, temos uma lista chamada `setores`, onde cada setor é representado por um dicionário com informações sobre o nome do setor, se está em manutenção, e a quantidade de estoque disponível. A variável `indice` é usada para percorrer a lista de setores. `total_estoque` é usada para armazenar o total de itens de estoque contabilizados durante o loop. O laço `while` continua enquanto o índice for menor que o tamanho da lista de setores. Dentro do laço, há uma verificação para saber se o setor atual está em manutenção (chave `manutencao` é `True`). Se o setor estiver em manutenção, o comando `continue` é executado, o que faz com que o loop pule para a próxima iteração sem adicionar o estoque desse setor ao total. Se o setor não estiver em manutenção, o estoque do setor é adicionado à `total_estoque`, e uma mensagem é impressa confirmando a contagem. Após o loop, uma mensagem final é impressa para indicar o total de estoque contabilizado.\n",
    "\n",
    "Resumindo: a diferença entre `break` e `continue` é que o `break` interrompe o laço e o `continue` pula para a próxima iteração. Ambos são muito usados com a estrutura condicional `if` para realizar a tomada de decisão."
   ]
  }
 ],
 "metadata": {
  "kernelspec": {
   "display_name": ".venv",
   "language": "python",
   "name": "python3"
  },
  "language_info": {
   "codemirror_mode": {
    "name": "ipython",
    "version": 3
   },
   "file_extension": ".py",
   "mimetype": "text/x-python",
   "name": "python",
   "nbconvert_exporter": "python",
   "pygments_lexer": "ipython3",
   "version": "3.12.2"
  }
 },
 "nbformat": 4,
 "nbformat_minor": 2
}
