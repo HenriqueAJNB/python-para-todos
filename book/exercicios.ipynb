{
 "cells": [
  {
   "cell_type": "markdown",
   "metadata": {},
   "source": [
    "# Lista de exercícios\n",
    "\n",
    "## Como funciona\n",
    "\n",
    "Cada exercício terá um enunciado, e uma sugestão de solução feita por mim, que a princípio, ficará oculta. Basta clicar no botão para expandir a solução. \n",
    "\n",
    "Minha recomendação é que você **tente fazer sozinho** e **use a sugestão de solução somente para fins de consulta**!\n",
    "\n",
    "Os exercícios a princípio tem fim didático para estimular desenvolvimento do raciocínio lógico. No futuro terão desafios mais complexos envolvendo problemas mais próximos do mundo real."
   ]
  },
  {
   "cell_type": "markdown",
   "metadata": {},
   "source": [
    "(exercício-1)=\n",
    "### Exercício 1 - \"Olá mundo\" personalizado\n",
    "\n",
    "Faça um programa que escreva o seu nome completo."
   ]
  },
  {
   "cell_type": "code",
   "execution_count": 1,
   "metadata": {
    "tags": [
     "hide-cell"
    ]
   },
   "outputs": [
    {
     "name": "stdout",
     "output_type": "stream",
     "text": [
      "Escreva aqui seu nome completo\n"
     ]
    }
   ],
   "source": [
    "print(\"Escreva aqui seu nome completo\")"
   ]
  },
  {
   "cell_type": "markdown",
   "metadata": {},
   "source": [
    "(exercício-2)=\n",
    "### Exercício 2 - tipos de dados\n",
    "\n",
    "Qual é o tipo de dado (`int` ou `float`) do resultado de cada uma das operações matemáticas abaixo?\n",
    "\n",
    "```{admonition} Dica\n",
    ":class: tip\n",
    "Busque pensar, refletir e responder (pode até ser mentalmente) antes de verificar a saída dos tipos no código. O importante é a **reflexão**, que leva ao desenvolvimento do raciocínio lógico, **e não só a execução do código.**\n",
    "```\n",
    "\n",
    "Exp 1 -> 8 ÷ 4 + 2 × 3\n",
    "\n",
    "Exp 2 -> 15 - 4 × 2 + 10\n",
    "\n",
    "Exp 3 -> (10 - 3) × (5 + 2)\n",
    "\n",
    "Exp 4 -> 100 ÷ (5 + 5)\n",
    "\n",
    "Exp 5 -> 2<sup>3</sup> + 4 \n",
    "\n",
    "Exp 6 -> 7 + 3 × (10 ÷ 2)\n",
    "\n",
    "Exp 7 -> (8 + 2) × 3 - 5\n",
    "\n",
    "Exp 8 -> 50 ÷ 5 + √16\n",
    "\n",
    "Exp 9 -> 5 + √25 × 2 - 3\n",
    "\n",
    "Exp 10 -> 20 - 4 × (√9 + 1)"
   ]
  },
  {
   "cell_type": "code",
   "execution_count": 2,
   "metadata": {
    "tags": [
     "hide-cell"
    ]
   },
   "outputs": [
    {
     "name": "stdout",
     "output_type": "stream",
     "text": [
      "<class 'float'>\n",
      "<class 'int'>\n",
      "<class 'int'>\n",
      "<class 'float'>\n",
      "<class 'int'>\n",
      "<class 'float'>\n",
      "<class 'int'>\n",
      "<class 'float'>\n",
      "<class 'float'>\n",
      "<class 'float'>\n"
     ]
    }
   ],
   "source": [
    "print(type(8 / 4 + 2 * 3))\n",
    "print(type(15 - 4 * 2 + 10))\n",
    "print(type((10 - 3) * (5 + 2)))\n",
    "print(type(100 / (5 + 5)))\n",
    "print(type(2**3 + 4))\n",
    "print(type(7 + 3 * (10 / 2)))\n",
    "print(type((8 + 2) * 3 - 5))\n",
    "print(type(50 / 5 + 16 ** (1 / 2)))\n",
    "print(type(5 + 25 ** (1 / 2) * 2 - 3))\n",
    "print(type(20 - 4 * (9 ** (1 / 2) + 1)))"
   ]
  },
  {
   "cell_type": "markdown",
   "metadata": {},
   "source": [
    "(exercício-3)=\n",
    "### Exercício 3 - operações matemáticas\n",
    "\n",
    "Qual é o resultado das expressões do [exercício 2](exercício-2) quando executadas no Python? \n",
    "\n",
    "Faça na mão primeiro, e confira o resultado no código depois.\n",
    "\n",
    "```{admonition} Dica\n",
    ":class: tip\n",
    "Lembre-se da [tabela de precedência de operadores](https://docs.python.org/pt-br/3/reference/expressions.html#operator-precedence)!\n",
    "```"
   ]
  },
  {
   "cell_type": "code",
   "execution_count": 3,
   "metadata": {
    "tags": [
     "hide-cell"
    ]
   },
   "outputs": [
    {
     "name": "stdout",
     "output_type": "stream",
     "text": [
      "8.0\n",
      "17\n",
      "49\n",
      "10.0\n",
      "12\n",
      "22.0\n",
      "25\n",
      "14.0\n",
      "12.0\n",
      "4.0\n"
     ]
    }
   ],
   "source": [
    "print(8 / 4 + 2 * 3)\n",
    "print(15 - 4 * 2 + 10)\n",
    "print((10 - 3) * (5 + 2))\n",
    "print(100 / (5 + 5))\n",
    "print(2**3 + 4)\n",
    "print(7 + 3 * (10 / 2))\n",
    "print((8 + 2) * 3 - 5)\n",
    "print(50 / 5 + 16 ** (1 / 2))\n",
    "print(5 + 25 ** (1 / 2) * 2 - 3)\n",
    "print(20 - 4 * (9 ** (1 / 2) + 1))"
   ]
  },
  {
   "cell_type": "markdown",
   "metadata": {},
   "source": [
    "(exercicio-4)=\n",
    "### Exercício 4 - variáveis\n",
    "\n",
    "1. Crie três variáveis para armazenar as seguintes informações: seu nome, sua idade e seu hobby favorito.\n",
    "2. Use f-strings para criar uma mensagem que inclua as três variáveis e imprima a mensagem no console."
   ]
  },
  {
   "cell_type": "code",
   "execution_count": 4,
   "metadata": {
    "tags": [
     "hide-cell"
    ]
   },
   "outputs": [
    {
     "name": "stdout",
     "output_type": "stream",
     "text": [
      "Meu nome é Ana, tenho 22 anos e meu hobby favorito é leitura.\n"
     ]
    }
   ],
   "source": [
    "nome = \"Ana\"\n",
    "idade = 22\n",
    "hobby = \"leitura\"\n",
    "\n",
    "mensagem = f\"Meu nome é {nome}, tenho {idade} anos e meu hobby favorito é {hobby}.\"\n",
    "print(mensagem)"
   ]
  },
  {
   "cell_type": "markdown",
   "metadata": {},
   "source": [
    "(exercicio-5)=\n",
    "### Exercício 5 - encontre o erro\n",
    "\n",
    "Você está trabalhando em um sistema para calcular o salário de um funcionário baseado em algumas variáveis, como o salário base, o bônus e os descontos. O código foi feito por outra pessoa e está apresentando um erro. Execute o código, identifique o erro e corrija-o. Justifique a sua correçao com um comentário `#` acima do que foi corrigido.\n",
    "\n",
    "```{admonition} Dica\n",
    ":class: tip\n",
    "Diante de mensagens de erro, **leia a mensagem com calma**! Vai te ajudar muito a identificá-lo e corrigir o problema.\n",
    "```\n",
    "\n",
    "```python\n",
    "salario_base = 3500.00\n",
    "bonus = 500.00\n",
    "Descontos = 300.00\n",
    "\n",
    "salario_liquido = salario_base + bonus - descontos\n",
    "print(f\"O salário líquido é {salario_liquido}.\")\n",
    "```"
   ]
  },
  {
   "cell_type": "code",
   "execution_count": 5,
   "metadata": {
    "tags": [
     "hide-cell"
    ]
   },
   "outputs": [
    {
     "name": "stdout",
     "output_type": "stream",
     "text": [
      "O salário líquido é 3700.0.\n"
     ]
    }
   ],
   "source": [
    "salario_base = 3500.00\n",
    "bonus = 500.00\n",
    "# Como Python é case-sensitive, `Descontos` é diferente de `descontos`\n",
    "# A correção é renomear a variável `Descontos` para `descontos` na linha abaixo.\n",
    "descontos = 300.00\n",
    "\n",
    "salario_liquido = salario_base + bonus - descontos\n",
    "print(f\"O salário líquido é {salario_liquido}.\")"
   ]
  },
  {
   "cell_type": "markdown",
   "metadata": {},
   "source": [
    "(exercicio-6)=\n",
    "### Exercício 6 - validação código produto\n",
    "\n",
    "Suponha que uma empresa tem um código de produto no formato `PROD-XXXX`, onde `XXXX` são dígitos de 0 a 9, e ela deseja verificar se os códigos segue o formato correto. Por exemplo, `PROD-1234` é válido, mas `prod-1234` e `PROD1234` não são. \n",
    "\n",
    "Faça um programa que retorne se o código prod0000 é válido ou não, justificando sua resposta."
   ]
  },
  {
   "cell_type": "code",
   "execution_count": 8,
   "metadata": {
    "tags": [
     "hide-cell"
    ]
   },
   "outputs": [
    {
     "name": "stdout",
     "output_type": "stream",
     "text": [
      "Quantos caracteres tem o código do produto? 8 caracteres.\n",
      "O código do produto começa com 'PROD-'? False\n",
      "O produto termina com 4 dígitos? True\n",
      "Conclusão: o código do produto não é válido pois não começa com PROD-\n"
     ]
    }
   ],
   "source": [
    "produto = \"prod0000\"\n",
    "\n",
    "# Contabilizando a quantidade de caracteres em cada produto\n",
    "print(f\"Quantos caracteres tem o código do produto? {len(produto)} caracteres.\")\n",
    "\n",
    "# Verificando se os produtos começam com PROD-\n",
    "print(f\"O código do produto começa com 'PROD-'? {produto.startswith('PROD-')}\")\n",
    "\n",
    "# Verificando se os produtos terminam com 4 dígitos\n",
    "print(f\"O produto termina com 4 dígitos? {produto[-4:].isdigit()}\")\n",
    "\n",
    "print(\"Conclusão: o código do produto não é válido pois não começa com PROD-\")"
   ]
  },
  {
   "cell_type": "markdown",
   "metadata": {},
   "source": [
    "(exercicio-7)=\n",
    "### Exercício 7 - placas veiculares\n",
    "\n",
    "Você trabalha para o Detran/SP e recebeu uma tarefa de separar as partes (letras e números) de uma determinada placa de veículo no modelo antigo. Faça um código que automatize essa separação. Use a placa ABC-1234 como exemplo."
   ]
  },
  {
   "cell_type": "code",
   "execution_count": 11,
   "metadata": {
    "tags": [
     "hide-cell"
    ]
   },
   "outputs": [
    {
     "name": "stdout",
     "output_type": "stream",
     "text": [
      "As letras são ABC e os números são 1234\n"
     ]
    }
   ],
   "source": [
    "placa = \"ABC-1234\"\n",
    "\n",
    "letras = placa[:3]\n",
    "numeros = placa[4:]\n",
    "\n",
    "print(f\"As letras são {letras} e os números são {numeros}\")"
   ]
  },
  {
   "cell_type": "markdown",
   "metadata": {},
   "source": [
    "(exercicio-8)=\n",
    "### Exercício 8 - um texto e um crime\n",
    "\n",
    "Você fará o papel de detetive agora, e seu papel é desvendar a motivação de um crime!\n",
    "\n",
    "Em um determinado caso de assassinato, foi deixada para trás uma pista com o motivo de tal ato. A pista é um texto misterioso que ninguém consegue decifrar. E você, como especialista em Python foi convocado para esta missão.\n",
    "\n",
    "A pista é o texto `Kg8vlk8jIU7D8nNbd0GG4F2aCa4gnb85oÇAcm9aBmc55mnbtBl39Cvbn3`.\n",
    "\n",
    "Os peritos crimininais fizeram uma investigação prévia antes da sua chegada e eles trouxeram algumas dicas. Porém, não conseguiram decifrar a motivação do crime.\n",
    "\n",
    "As dicas são:\n",
    "- A primeira letra da motivação parece estar escondida no quarto caractere da pista.\n",
    "- As outras letras estão dispersas de 5 em 5, no sentido de leitura (da esquerda para direita)\n",
    "- A motivação contém 8 caracteres.\n",
    "- Não há uma padronização de maiúsculo e minúsculo na palavra da motivação.\n",
    "\n",
    "Com estas dicas, você, como especialista em Python com foco em resolução de crimes através de manipulação de strings, consegue resolver!\n",
    "\n",
    "Qual foi a motivação do crime?"
   ]
  },
  {
   "cell_type": "code",
   "execution_count": 29,
   "metadata": {
    "tags": [
     "hide-cell"
    ]
   },
   "outputs": [
    {
     "name": "stdout",
     "output_type": "stream",
     "text": [
      "O crime foi motivado por: Vingança!\n"
     ]
    }
   ],
   "source": [
    "pista = \"Kg8vlk8jIU7D8nNbd0GG4F2aCa4gnb85oÇAcm9aBmc55mnbtBl39Cvbn3\"\n",
    "motivo = pista[3:-15:5].title()\n",
    "\n",
    "print(f\"O crime foi motivado por: {motivo}!\")"
   ]
  },
  {
   "cell_type": "markdown",
   "metadata": {},
   "source": [
    "(exercicio-9)=\n",
    "### Exercício 9 - análise de vendas\n",
    "\n",
    "Uma empresa de varejo quer analisar as vendas históricas de seus produtos para tomar decisões estratégicas. As vendas são armazenadas no seguinte formato, com nome do produto, quantidade vendida e preço unitário em R$:\n",
    "\n",
    "```python\n",
    "vendas_diarias = (\n",
    "    [\"Produto A\", 10, 100],\n",
    "    [\"Produto B\", 5, 250],\n",
    "    [\"Produto C\", 2, 150],\n",
    ")\n",
    "```\n",
    "\n",
    "**9.1** - As informações de vendas diárias são mutáveis ou imutáveis? A estrutura de dados usada é a mais adequada? Justifique sua resposta.\n",
    "\n",
    "```{dropdown} Resposta 9.1\n",
    "\n",
    "A estrutura usada para vendas diárias é uma tupla, portanto, imutável. Não é a estrutura mais adequada, pois não permite a inserção de novas vendas na estrutura.\n",
    "\n",
    "A estrutura usada para armazenar cada informação dos produtos é uma lista, portanto mutável. Também não é a estrutura mais adequada pois permite uma certa flexibilidade que pode ser indesejada, como, por exemplo, adicionar ao produto A um item a mais de categoria e os outros produtos não terem.\n",
    "\n",
    "Além disso, sendo listas, é possível não só acrescentar itens como alterá-los após a criação da estrutura de vendas. Como são dados históricos, não há motivos para tais alterações, sendo uma lista uma estrutura mutável indesejada.\n",
    "```\n",
    "\n",
    "**9.2** - As informações específicas de cada produto são mutáveis ou imutáveis? A estrutura de dados usada é a mais adequada? Justifique sua resposta.\n",
    "\n",
    "```{dropdown} Resposta 9.2\n",
    "A estrutura usada para armazenar cada informação dos produtos (nome, quantidade e preço) é uma lista, portanto mutável. Também não é a estrutura mais adequada pois permite uma certa flexibilidade que pode ser indesejada, como, por exemplo, adicionar ao produto A um item a mais de categoria e os outros produtos não terem.\n",
    "\n",
    "Além disso, sendo listas, é possível não só acrescentar itens como alterá-los após a criação da estrutura de vendas. Como são dados históricos, não há motivos para tais alterações, sendo uma lista uma estrutura mutável indesejada.\n",
    "```\n",
    "\n",
    "**9.3** - Caso as estruturas sejam inadequadas, como você sugeriria?\n",
    "\n",
    "```{dropdown} Resposta 9.3\n",
    "A estrutura externa de vendas diárias deveria ser uma lista para eventual acréscimo de mais vendas e a estrutura interna dos produtos como sendo tuplas para garantir que não haja modificações.\n",
    "\n",
    "```python\n",
    "vendas_diarias = [\n",
    "    (\"Produto A\", 10, 100),\n",
    "    (\"Produto B\", 5, 250),\n",
    "    (\"Produto C\", 2, 150),\n",
    "]\n",
    "```\n",
    "\n",
    "**9.4** - Faça um código que traga o faturamento da empresa (quantidade total de vendas em R$)"
   ]
  },
  {
   "cell_type": "code",
   "execution_count": 3,
   "metadata": {
    "tags": [
     "hide-cell"
    ]
   },
   "outputs": [
    {
     "name": "stdout",
     "output_type": "stream",
     "text": [
      "O faturamento da empresa foi de R$ 2050\n"
     ]
    }
   ],
   "source": [
    "vendas_diarias = [\n",
    "    (\"Produto A\", 10, 100),\n",
    "    (\"Produto B\", 5, 250),\n",
    "    (\"Produto C\", 2, 150),\n",
    "]\n",
    "\n",
    "total_produto_a = vendas_diarias[0][1] * vendas_diarias[0][2]\n",
    "total_produto_b = vendas_diarias[1][1] * vendas_diarias[1][2]\n",
    "total_produto_c = vendas_diarias[2][1] * vendas_diarias[2][2]\n",
    "\n",
    "faturamento = total_produto_a + total_produto_b + total_produto_c\n",
    "\n",
    "print(f\"O faturamento da empresa foi de R$ {faturamento}\")"
   ]
  },
  {
   "cell_type": "markdown",
   "metadata": {},
   "source": [
    "(exercicio-10)=\n",
    "### Exercício 10 - RH e Python\n",
    "\n",
    "Você trabalha no departamento de Recursos Humanos (RH) de uma empresa e recebeu a tarefa de analisar alguns dados de funcionários. Os dados são armazenados do seguinte formato:\n",
    "\n",
    "```python\n",
    "funcionarios = {\n",
    "    \"Alice\": {\"salario\": 5000, \"ferias_restantes\": 15, \"departamento\": \"TI\"},\n",
    "    \"Bruno\": {\"salario\": 4500, \"ferias_restantes\": 10, \"departamento\": \"Financeiro\"},\n",
    "    \"Carlos\": {\"salario\": 6000, \"ferias_restantes\": 20, \"departamento\": \"Marketing\"},\n",
    "    \"Diana\": {\"salario\": 7000, \"ferias_restantes\": 5, \"departamento\": \"Vendas\"},\n",
    "    \"Eduardo\": {\"salario\": 5500, \"ferias_restantes\": 12, \"departamento\": \"TI\"}\n",
    "}\n",
    "```\n",
    "\n",
    "Execute as seguintes manupilações, conforme descritos abaixo:\n",
    "\n",
    "**10.1** - Acesse e imprima o salário do colaborador Bruno.\n",
    "\n",
    "```{dropdown} Resposta 10.1\n",
    "```python\n",
    "print(\"Salário do Bruno:\", funcionarios[\"Bruno\"][\"salario\"])\n",
    "```\n",
    "\n",
    "**10.2** - Acesse e imprima os dias de férias restantes da colaboradora Diana.\n",
    "\n",
    "```{dropdown} Resposta 10.2\n",
    "```python\n",
    "print(\"Dias de férias restantes da Diana:\", funcionarios[\"Diana\"][\"ferias_restantes\"])\n",
    "```\n",
    "\n",
    "**10.3** - Eduardo recebeu um aumento de salário de 5%. Atualize o salário dele na estrutura para o novo salário.\n",
    "\n",
    "```{dropdown} Resposta 10.3\n",
    "```python\n",
    "funcionarios[\"Eduardo\"][\"salario\"] = funcionarios[\"Eduardo\"][\"salario\"] * 1.05\n",
    "```\n",
    "\n",
    "**10.4** - Uma nova colaboradora entrou pra equipe. Adicione-a à base usando as informações abaixo:\n",
    "- Nome: Fernanda\n",
    "- Salário: R$6.000,00\n",
    "- Férias restantes: 30 (CLT)\n",
    "- Departamento: Recursos Humanos\n",
    "\n",
    "```{dropdown} Resposta 10.4\n",
    "```python\n",
    "funcionarios[\"Fernanda\"] = {\"salario\": 6000, \"ferias_restantes\": 30, \"departamento\": \"Recursos Humanos\"}\n",
    "```\n",
    "\n",
    "**10.5** - Calcule e imprima o custo total de salários para a empresa (somatório de todos os salários).\n",
    "Considere a colaboradora recém-ingressada do item anterior.\n",
    "\n",
    "```{dropdown} Resposta 10.5\n",
    "```python\n",
    "custo_total = (\n",
    "    funcionarios[\"Bruno\"][\"salario\"] +\n",
    "    funcionarios[\"Carlos\"][\"salario\"] +\n",
    "    funcionarios[\"Diana\"][\"salario\"] +\n",
    "    funcionarios[\"Eduardo\"][\"salario\"] +\n",
    "    funcionarios[\"Fernanda\"][\"salario\"]\n",
    ")\n",
    "print(f\"Custo total com a folha de pagamento: {custo_total})\n",
    "```\n",
    "\n",
    "**10.6** - Alice pediu demissão e foi trabalhar em outra empresa. Remova-a da base de colaboradores.\n",
    "\n",
    "```{dropdown} Resposta 10.6\n",
    "```python\n",
    "del funcionarios[\"Alice\"]\n",
    "```\n",
    "\n",
    "**10.6** - O gerente gostaria de saber se há algum colaborador chamado Carlos. Verifique.\n",
    "\n",
    "```{dropdown} Resposta 10.6\n",
    "```python\n",
    "print(\"Carlos\" in funcionarios)\n",
    "```\n",
    "\n",
    "**10.7** - A estrutura de dados usada é a mais adequada? Justifique sua resposta.\n",
    "\n",
    "```{dropdown} Resposta 10.7\n",
    "Sim, a estrutura de dados é adequada porque dicionários permitem acesso direto e mutável aos dados por meio de chaves nomeadas, o que é crucial no contexto de RH, onde informações dos funcionários, como salário e férias, precisam ser atualizadas frequentemente. Além disso, a mutabilidade dos dicionários possibilita a adição ou remoção de elementos, o que reflete bem o ambiente de RH, com processos constantes de contratação e desligamento.\n",
    "\n",
    "Em comparação, listas e tuplas são menos intuitivas para esse tipo de manipulação. As listas exigem indexação numérica, o que pode ser confuso pois requerem uma ordenação prévia, e as tuplas, sendo imutáveis, dificultam qualquer alteração, tornando-as menos adequadas para um ambiente dinâmico como o de RH.\n",
    "```"
   ]
  },
  {
   "cell_type": "markdown",
   "metadata": {},
   "source": [
    "(exercicio-11)=\n",
    "### Exercício 11 - Controle de estoque de peças automotivas\n",
    "\n",
    "Uma concessionária de automóveis precisa gerenciar o estoque de peças de reposição em seus diferentes depósitos. O gerente gostaria de ter uma visão sobre o gerenciamento de controle de estoque das peças disponíveis para manutenção. Abaixo há uma lista de todos os depósitos com suas respectivas peças em estoque:\n",
    "\n",
    "**Depósito A:** junta homocinética, filtro de óleo, vela de ignição, correia dentada, pastilha de freio, amortecedor\n",
    "\n",
    "**Depósito B:** filtro de óleo, vela de ignição, pastilha de freio, disco de freio, pneu, válvula termostática\n",
    "\n",
    "**Depósito C:** correia dentada, pastilha de freio, amortecedor, bateria, filtro de óleo, alternador, vela de ignição\n",
    "\n",
    "**Depósito D:** vela de ignição, disco de freio, óleo de motor, correia alternador, sensor de oxigênio, fluido de freio\n",
    "\n",
    "**Depósito E:** pneu, amortecedor, radiador, bomba d'água, mangueira de água, rolamento de roda, filtro de óleo, vela de ignição\n",
    "\n",
    "Responda as seguintes perguntas:\n",
    "\n",
    "**11.1** - Quais peças estão disponíveis em todos os depósitos?\n",
    "\n",
    "**11.2** - Quais peças que estão faltando em cada um dos depósitos?\n",
    "\n",
    "**11.3** - Quais peças são exclusivas de cada depósito?\n",
    "\n",
    "```{admonition} Dica\n",
    ":class: tip\n",
    "Lembre-se de usar todas as estruturas de dados que você já aprendeu até aqui para representar os dados do exercício.\n",
    "```"
   ]
  },
  {
   "cell_type": "markdown",
   "metadata": {
    "tags": [
     "hide-cell"
    ]
   },
   "source": [
    "**Resposta 11.1**"
   ]
  },
  {
   "cell_type": "code",
   "execution_count": 1,
   "metadata": {
    "tags": [
     "hide-cell"
    ]
   },
   "outputs": [
    {
     "name": "stdout",
     "output_type": "stream",
     "text": [
      "Peças disponíveis em todos os depósitos: {'vela de ignição'}\n"
     ]
    }
   ],
   "source": [
    "deposito_a = {\n",
    "    \"junta homocinética\",\n",
    "    \"filtro de óleo\",\n",
    "    \"vela de ignição\",\n",
    "    \"correia dentada\",\n",
    "    \"pastilha de freio\",\n",
    "    \"amortecedor\",\n",
    "}\n",
    "deposito_b = {\n",
    "    \"filtro de óleo\",\n",
    "    \"vela de ignição\",\n",
    "    \"pastilha de freio\",\n",
    "    \"disco de freio\",\n",
    "    \"pneu\",\n",
    "    \"válvula termostática\",\n",
    "}\n",
    "deposito_c = {\n",
    "    \"correia dentada\",\n",
    "    \"pastilha de freio\",\n",
    "    \"amortecedor\",\n",
    "    \"bateria\",\n",
    "    \"filtro de óleo\",\n",
    "    \"alternador\",\n",
    "    \"vela de ignição\",\n",
    "}\n",
    "deposito_d = {\n",
    "    \"vela de ignição\",\n",
    "    \"disco de freio\",\n",
    "    \"óleo de motor\",\n",
    "    \"correia alternador\",\n",
    "    \"sensor de oxigênio\",\n",
    "    \"fluido de freio\",\n",
    "}\n",
    "deposito_e = {\n",
    "    \"pneu\",\n",
    "    \"amortecedor\",\n",
    "    \"radiador\",\n",
    "    \"bomba d'água\",\n",
    "    \"mangueira de água\",\n",
    "    \"rolamento de roda\",\n",
    "    \"filtro de óleo\",\n",
    "    \"vela de ignição\",\n",
    "}\n",
    "\n",
    "pecas_comuns_em_todos_depositos = (\n",
    "    deposito_a & deposito_b & deposito_c & deposito_d & deposito_e\n",
    ")\n",
    "print(f\"Peças disponíveis em todos os depósitos: {pecas_comuns_em_todos_depositos}\")"
   ]
  },
  {
   "cell_type": "markdown",
   "metadata": {},
   "source": [
    "**Resposta 11.2**"
   ]
  },
  {
   "cell_type": "code",
   "execution_count": 6,
   "metadata": {
    "tags": [
     "hide-cell"
    ]
   },
   "outputs": [
    {
     "name": "stdout",
     "output_type": "stream",
     "text": [
      "{'deposito_a': {'disco de freio', 'válvula termostática', 'radiador', 'mangueira de água', 'óleo de motor', 'sensor de oxigênio', 'pneu', 'bateria', 'correia alternador', 'rolamento de roda', 'fluido de freio', 'alternador', \"bomba d'água\"}, 'deposito_b': {'correia dentada', 'junta homocinética', 'radiador', 'mangueira de água', 'óleo de motor', 'sensor de oxigênio', 'bateria', 'amortecedor', 'correia alternador', 'rolamento de roda', 'fluido de freio', 'alternador', \"bomba d'água\"}, 'deposito_c': {'disco de freio', 'válvula termostática', 'junta homocinética', 'radiador', 'mangueira de água', 'óleo de motor', 'sensor de oxigênio', 'pneu', 'correia alternador', 'rolamento de roda', 'fluido de freio', \"bomba d'água\"}, 'deposito_d': {'correia dentada', 'válvula termostática', 'junta homocinética', 'filtro de óleo', 'radiador', 'pastilha de freio', 'mangueira de água', 'bateria', 'pneu', 'amortecedor', 'rolamento de roda', 'alternador', \"bomba d'água\"}, 'deposito_e': {'correia dentada', 'disco de freio', 'válvula termostática', 'junta homocinética', 'pastilha de freio', 'óleo de motor', 'sensor de oxigênio', 'correia alternador', 'fluido de freio', 'alternador', 'bateria'}}\n"
     ]
    }
   ],
   "source": [
    "deposito_a = {\n",
    "    \"junta homocinética\",\n",
    "    \"filtro de óleo\",\n",
    "    \"vela de ignição\",\n",
    "    \"correia dentada\",\n",
    "    \"pastilha de freio\",\n",
    "    \"amortecedor\",\n",
    "}\n",
    "deposito_b = {\n",
    "    \"filtro de óleo\",\n",
    "    \"vela de ignição\",\n",
    "    \"pastilha de freio\",\n",
    "    \"disco de freio\",\n",
    "    \"pneu\",\n",
    "    \"válvula termostática\",\n",
    "}\n",
    "deposito_c = {\n",
    "    \"correia dentada\",\n",
    "    \"pastilha de freio\",\n",
    "    \"amortecedor\",\n",
    "    \"bateria\",\n",
    "    \"filtro de óleo\",\n",
    "    \"alternador\",\n",
    "    \"vela de ignição\",\n",
    "}\n",
    "deposito_d = {\n",
    "    \"vela de ignição\",\n",
    "    \"disco de freio\",\n",
    "    \"óleo de motor\",\n",
    "    \"correia alternador\",\n",
    "    \"sensor de oxigênio\",\n",
    "    \"fluido de freio\",\n",
    "}\n",
    "deposito_e = {\n",
    "    \"pneu\",\n",
    "    \"amortecedor\",\n",
    "    \"radiador\",\n",
    "    \"bomba d'água\",\n",
    "    \"mangueira de água\",\n",
    "    \"rolamento de roda\",\n",
    "    \"filtro de óleo\",\n",
    "    \"vela de ignição\",\n",
    "}\n",
    "\n",
    "todas_pecas = deposito_a | deposito_b | deposito_c | deposito_d | deposito_e\n",
    "\n",
    "pecas_faltantes = {\n",
    "    \"A\": todas_pecas - deposito_a,\n",
    "    \"B\": todas_pecas - deposito_b,\n",
    "    \"C\": todas_pecas - deposito_c,\n",
    "    \"D\": todas_pecas - deposito_d,\n",
    "    \"E\": todas_pecas - deposito_e,\n",
    "}\n",
    "\n",
    "print(pecas_faltantes)"
   ]
  },
  {
   "cell_type": "markdown",
   "metadata": {},
   "source": [
    "**Resposta 11.3**"
   ]
  },
  {
   "cell_type": "code",
   "execution_count": 7,
   "metadata": {
    "tags": [
     "hide-cell"
    ]
   },
   "outputs": [
    {
     "name": "stdout",
     "output_type": "stream",
     "text": [
      "{'deposito_a': {'junta homocinética'}, 'deposito_b': {'válvula termostática'}, 'deposito_c': {'alternador', 'bateria'}, 'deposito_d': {'fluido de freio', 'óleo de motor', 'correia alternador', 'sensor de oxigênio'}, 'deposito_e': {'radiador', 'mangueira de água', \"bomba d'água\", 'rolamento de roda'}}\n"
     ]
    }
   ],
   "source": [
    "deposito_a = {\n",
    "    \"junta homocinética\",\n",
    "    \"filtro de óleo\",\n",
    "    \"vela de ignição\",\n",
    "    \"correia dentada\",\n",
    "    \"pastilha de freio\",\n",
    "    \"amortecedor\",\n",
    "}\n",
    "deposito_b = {\n",
    "    \"filtro de óleo\",\n",
    "    \"vela de ignição\",\n",
    "    \"pastilha de freio\",\n",
    "    \"disco de freio\",\n",
    "    \"pneu\",\n",
    "    \"válvula termostática\",\n",
    "}\n",
    "deposito_c = {\n",
    "    \"correia dentada\",\n",
    "    \"pastilha de freio\",\n",
    "    \"amortecedor\",\n",
    "    \"bateria\",\n",
    "    \"filtro de óleo\",\n",
    "    \"alternador\",\n",
    "    \"vela de ignição\",\n",
    "}\n",
    "deposito_d = {\n",
    "    \"vela de ignição\",\n",
    "    \"disco de freio\",\n",
    "    \"óleo de motor\",\n",
    "    \"correia alternador\",\n",
    "    \"sensor de oxigênio\",\n",
    "    \"fluido de freio\",\n",
    "}\n",
    "deposito_e = {\n",
    "    \"pneu\",\n",
    "    \"amortecedor\",\n",
    "    \"radiador\",\n",
    "    \"bomba d'água\",\n",
    "    \"mangueira de água\",\n",
    "    \"rolamento de roda\",\n",
    "    \"filtro de óleo\",\n",
    "    \"vela de ignição\",\n",
    "}\n",
    "\n",
    "pecas_exclusivas = {\n",
    "    \"A\": deposito_a - deposito_b - deposito_c - deposito_d - deposito_e,\n",
    "    \"B\": deposito_b - deposito_a - deposito_c - deposito_d - deposito_e,\n",
    "    \"C\": deposito_c - deposito_a - deposito_b - deposito_d - deposito_e,\n",
    "    \"D\": deposito_d - deposito_a - deposito_b - deposito_c - deposito_e,\n",
    "    \"E\": deposito_e - deposito_a - deposito_b - deposito_c - deposito_d,\n",
    "}\n",
    "\n",
    "print(pecas_exclusivas)"
   ]
  },
  {
   "cell_type": "markdown",
   "metadata": {},
   "source": [
    "(exercicio-12)=\n",
    "### Exercício 12 - Terremotos e escala Richter\n",
    "\n",
    "A tabela a seguir contém intervalos de magnitude de terremotos na escala Richter e a descrição do impacto de cada intervalo:\n",
    "\n",
    "| Magnitude             | Descrição       |\n",
    "|-----------------------|-----------------|\n",
    "| Menor que 2.0         | Micro           |\n",
    "| 2.0 a menor que 3.0   | Muito pequeno   |\n",
    "| 3.0 a menor que 4.0   | Pequeno         |\n",
    "| 4.0 a menor que 5.0   | Leve            |\n",
    "| 5.0 a menor que 6.0   | Moderado        |\n",
    "| 6.0 a menor que 7.0   | Forte           |\n",
    "| 7.0 a menor que 8.0   | Grande          |\n",
    "| 8.0 a menor que 10.0  | Enorme          |\n",
    "| 10.0 ou mais          | Catastrófico    |\n",
    "\n",
    "Escreva um programa que leia uma magnitude fornecida pelo usuário e exiba o descritor apropriado como parte de uma mensagem significativa. Por exemplo, se o usuário inserir 5.5, seu programa deve indicar que um terremoto de magnitude 5.5 é considerado um terremoto moderado.\n",
    "\n",
    "```{admonition} Dica (leitura de dados do usuário)\n",
    ":class: tip\n",
    "Para ler dados do usuário, você pode usar a função `input()`, cuja documentação oficial pode ser encontrada neste [link](https://docs.python.org/pt-br/3/library/functions.html#input). \n",
    "\n",
    "**Obs importante:** a função `input()` sempre retorna uma string. Caso necessário, então você precisa converter o valor do tipo string para o tipo desejado (int, float, etc.).\n",
    "```"
   ]
  },
  {
   "cell_type": "code",
   "execution_count": 6,
   "metadata": {
    "tags": [
     "hide-cell"
    ]
   },
   "outputs": [
    {
     "name": "stdout",
     "output_type": "stream",
     "text": [
      "O terremoto de magnitude 10 está na categoria Catastrófico\n"
     ]
    }
   ],
   "source": [
    "# Use esta linha para ler uma magnitude fixa\n",
    "valor_magnitude = 10\n",
    "\n",
    "# Ou descomente a linha abaixo para ler a magnitude do usuário\n",
    "# valor_magnitude = float(input(\"Digite a magnitude do terremoto: \"))\n",
    "\n",
    "if valor_magnitude < 2.0:\n",
    "    categoria_terremoto = \"Micro\"\n",
    "elif valor_magnitude < 3.0:\n",
    "    categoria_terremoto = \"Muito pequeno\"\n",
    "elif valor_magnitude < 4.0:\n",
    "    categoria_terremoto = \"Pequeno\"\n",
    "elif valor_magnitude < 5.0:\n",
    "    categoria_terremoto = \"Leve\"\n",
    "elif valor_magnitude < 6.0:\n",
    "    categoria_terremoto = \"Moderado\"\n",
    "elif valor_magnitude < 7.0:\n",
    "    categoria_terremoto = \"Forte\"\n",
    "elif valor_magnitude < 8.0:\n",
    "    categoria_terremoto = \"Grande\"\n",
    "elif valor_magnitude < 10.0:\n",
    "    categoria_terremoto = \"Enorme\"\n",
    "else:\n",
    "    categoria_terremoto = \"Catastrófico\"\n",
    "\n",
    "print(\n",
    "    f\"O terremoto de magnitude {valor_magnitude} está na categoria {categoria_terremoto}\"\n",
    ")"
   ]
  },
  {
   "cell_type": "markdown",
   "metadata": {},
   "source": [
    "(exercicio-13)=\n",
    "### Exercício 13 - Conta mensal de plano de celular\n",
    "\n",
    "Um plano de celular específico inclui 50 minutos de tempo de ligação e 50 mensagens de texto por R$100,00 por mês. Cada minuto adicional de tempo de ligação custa R$0,25, enquanto mensagens de texto adicionais custam R$0,15 cada. Todas as contas de celular incluem uma taxa adicional de R$2,00 para suportar os centros de atendimento de emergência 191, e o valor total da conta (incluindo a taxa do 911) está sujeito a um imposto de 5%.\n",
    "\n",
    "Escreva um programa que leia do usuário o número de minutos e mensagens de texto utilizados em um mês. Exiba o valor base, a cobrança por minutos adicionais (se houver), a cobrança por mensagens de texto adicionais (se houver), a taxa do 191, o imposto e o valor total da conta. Exiba as cobranças por minutos e mensagens de texto adicionais apenas se o usuário tiver incorrido em custos nessas categorias. Certifique-se de que todos os valores sejam exibidos com 2 casas decimais.\n",
    "\n",
    "```{admonition} Dica (casas decimais)\n",
    ":class: tip\n",
    "Para imprimir os valores com 2 casas decimais, use f-strings para formatar a saída conforme o exemplo abaixo:\n",
    "\n",
    "```python\n",
    "x = 10\n",
    "print(f\"x = {x:.2f}\")\n",
    "```"
   ]
  },
  {
   "cell_type": "code",
   "execution_count": 7,
   "metadata": {
    "tags": [
     "hide-cell"
    ]
   },
   "outputs": [
    {
     "name": "stdout",
     "output_type": "stream",
     "text": [
      "O valor base da conta é R$ 100.00\n",
      "O valor da taxa de emergência é R$ 2.00\n",
      "O valor do imposto (5%) é R$ 5.10\n",
      "O valor total da conta é R$ 107.10\n"
     ]
    }
   ],
   "source": [
    "# Use esta linha para ler a quantidade de mensagens e minutos fixos no código\n",
    "minutos = 10\n",
    "mensagens = 20\n",
    "\n",
    "# Ou descomente a linha abaixo para ler as informações do usuário\n",
    "# minutos = int(input(\"Digite a quantidade de minutos utilizada: \"))\n",
    "# mensagens = int(input(\"Digite a quantidade de mensagens enviadas: \"))\n",
    "\n",
    "\n",
    "valor_base = 100\n",
    "print(f\"O valor base da conta é R$ {valor_base:.2f}\")\n",
    "\n",
    "# Condição para verificar se houveram minutos adicionais\n",
    "teve_minutos_adicionais = 50 < minutos\n",
    "\n",
    "# Condição para verificar se houveram mensagens adicionais\n",
    "teve_mensagens_adicionais = 50 < mensagens\n",
    "\n",
    "if teve_minutos_adicionais:\n",
    "    minutos_adicionais = minutos - 50\n",
    "    cobranca_minutos_adicionais = 0.25 * minutos_adicionais\n",
    "    valor_base = valor_base + cobranca_minutos_adicionais\n",
    "\n",
    "    print(\n",
    "        f\"O valor da cobrança por minutos adicionais foi de R$ {cobranca_minutos_adicionais:.2f}\"\n",
    "    )\n",
    "\n",
    "\n",
    "if teve_mensagens_adicionais:\n",
    "    mensagens_adicionais = mensagens - 50\n",
    "    cobranca_mensagens_adicionais = 0.15 * mensagens_adicionais\n",
    "    valor_base = valor_base + cobranca_mensagens_adicionais\n",
    "\n",
    "    print(\n",
    "        f\"O valor da cobrança por minutos mensagens foi de R$ {cobranca_mensagens_adicionais:.2f}\"\n",
    "    )\n",
    "\n",
    "taxa_emergencia = 2\n",
    "print(f\"O valor da taxa de emergência é R$ {taxa_emergencia:.2f}\")\n",
    "\n",
    "valor_base = valor_base + taxa_emergencia\n",
    "\n",
    "imposto = valor_base * 0.05\n",
    "print(f\"O valor do imposto (5%) é R$ {imposto:.2f}\")\n",
    "\n",
    "valor_total = valor_base + imposto\n",
    "print(f\"O valor total da conta é R$ {valor_total:.2f}\")"
   ]
  },
  {
   "cell_type": "markdown",
   "metadata": {},
   "source": [
    "(exercicio-14)=\n",
    "### Exercício 14 - Avaliação de sustentabilidade e redução de emissões de CO2\n",
    "\n",
    "Uma empresa comprometida com práticas de ESG deseja reduzir suas emissões de CO2 e promover práticas sustentáveis. Eles monitoram suas emissões mês a mês e estabelecem metas de redução de emissões para cada mês no próximo ano. A empresa quer avaliar quais meses precisam de maior atenção para atingir suas metas de sustentabilidade.\n",
    "\n",
    "**Dados:**\n",
    "\n",
    "- `emissoes_atuais`: uma lista com as emissões reais de CO2 (em toneladas) para cada mês do ano.\n",
    "- `metas_reducao`: uma lista com as metas de redução de CO2 (em toneladas) para cada mês do próximo ano.\n",
    "\n",
    "```python\n",
    "emissoes_atuais = [45, 52, 48, 53, 47, 55, 49, 51, 50, 46, 54, 48]\n",
    "metas_reducao = [40, 48, 45, 50, 42, 49, 45, 46, 45, 43, 50, 46]\n",
    "```\n",
    "\n",
    "**Tarefas:**\n",
    "\n",
    "1. Calcular o total de emissões anuais. Use um laço for para calcular o total de emissões de CO2 ao longo do ano.\n",
    "\n",
    "2. Comparar emissões com metas de redução. Para cada mês, compare as emissões reais com as metas e imprima se a empresa atingiu a meta ou não. Para os meses em que as emissões excederam as metas, imprima quanto excederam.\n",
    "\n",
    "3. Calcular a redução necessária. Se o total de emissões ultrapassar a soma das metas de redução anuais, calcule uma redução proporcional que deve ser aplicada a cada mês no próximo ano para que a empresa atinja suas metas de ESG.\n",
    "\n",
    "**Saída esperada:** O programa deve fornecer:\n",
    "\n",
    "- O total anual de emissões de CO2.\n",
    "- Um relatório mensal que mostre se a empresa atingiu ou excedeu as metas, e quanto excedeu em cada caso.\n",
    "- A sugestão de quanto a empresa deve reduzir proporcionalmente em cada mês para atingir a meta anual, se necessário.\n",
    "\n",
    "**Exemplo de saída:**\n",
    "```bash\n",
    "Total de emissões no ano: 598 toneladas\n",
    "Mês 1: Emissões de 45 toneladas, Meta atingida: Não, Excedido por 5 toneladas\n",
    "Mês 2: Emissões de 52 toneladas, Meta atingida: Não, Excedido por 4 toneladas\n",
    "...\n",
    "Total de metas de redução: 549 toneladas\n",
    "A empresa precisa reduzir 49 toneladas ao longo do ano.\n",
    "Redução sugerida em cada mês: 4.08 toneladas\n",
    "```\n",
    "\n",
    "```{admonition} Dica\n",
    ":class: tip\n",
    "- É possível também usar a função `sum()` para calcular o total de emissões e metas anuais. Neste caso, o laço `for` não é necessário.\n",
    "- Para calcular a redução proporcional, divida a diferença entre o total de emissões e o total de metas pelo número de meses do ano.\n",
    "```"
   ]
  },
  {
   "cell_type": "code",
   "execution_count": null,
   "metadata": {
    "tags": [
     "hide-cell"
    ]
   },
   "outputs": [],
   "source": [
    "# Listas de dados: emissões atuais e metas de redução de CO2 (em toneladas) para cada mês\n",
    "emissoes_atuais = [45, 52, 48, 53, 47, 55, 49, 51, 50, 46, 54, 48]\n",
    "metas_reducao = [40, 48, 45, 50, 42, 49, 45, 46, 45, 43, 50, 46]\n",
    "\n",
    "# 1. Calcular o total de emissões anuais\n",
    "total_emissoes = sum(emissoes_atuais)\n",
    "total_metas = sum(metas_reducao)\n",
    "\n",
    "# Imprimir o total de emissões no ano\n",
    "print(f\"Total de emissões no ano: {total_emissoes} toneladas\")\n",
    "print(f\"Total de metas de redução: {total_metas} toneladas\\n\")\n",
    "\n",
    "# 2. Comparar emissões com metas de redução para cada mês\n",
    "for mes, (emissao, meta) in enumerate(zip(emissoes_atuais, metas_reducao), start=1):\n",
    "    if emissao > meta:\n",
    "        excedente = emissao - meta\n",
    "        print(\n",
    "            f\"Mês {mes}: Emissões de {emissao} toneladas, Meta atingida: Não, Excedido por {excedente} toneladas\"\n",
    "        )\n",
    "    else:\n",
    "        print(f\"Mês {mes}: Emissões de {emissao} toneladas, Meta atingida: Sim\")\n",
    "\n",
    "# 3. Calcular a redução necessária para atingir a meta anual\n",
    "if total_emissoes > total_metas:\n",
    "    excesso_total = total_emissoes - total_metas\n",
    "    reducao_proporcional = excesso_total / 12\n",
    "    print(f\"\\nA empresa precisa reduzir {excesso_total} toneladas ao longo do ano.\")\n",
    "    print(f\"Redução sugerida em cada mês: {reducao_proporcional:.2f} toneladas\")\n",
    "else:\n",
    "    print(\"\\nA empresa atingiu ou ficou abaixo das metas de emissão anuais.\")"
   ]
  },
  {
   "cell_type": "markdown",
   "metadata": {},
   "source": [
    "(exercicio-15)=\n",
    "### Exercício 15 - Monitoramento de qualidade de produtos\n",
    "\n",
    "Uma fábrica de eletrônicos está monitorando a qualidade dos produtos que passam por sua linha de produção. A cada dia, um lote de produtos é inspecionado, e a empresa quer garantir que todos os produtos estejam dentro dos padrões de qualidade. Se algum produto for detectado como defeituoso, a produção é interrompida imediatamente para inspeção detalhada.\n",
    "\n",
    "**Dados:**\n",
    "\n",
    "Você tem uma lista que representa os resultados da inspeção de cada lote de produtos ao longo de vários dias. Cada lote pode ser:\n",
    "\n",
    "- `True`: Produto aprovado.\n",
    "- `False`: Produto defeituoso.\n",
    "- `None`: Lote não inspecionado.\n",
    "\n",
    "```python\n",
    "lotes = [True, True, None, True, False, True, True, None, False, True, None, False, None]\n",
    "```\n",
    "\n",
    "**Tarefas:**\n",
    "\n",
    "1. Contar produtos aprovados: Percorra a lista de lotes e conte os produtos aprovados.\n",
    "\n",
    "2. Interromper em caso de defeito: Se encontrar um produto defeituoso (`False`), interrompa a inspeção.\n",
    "\n",
    "3. Ignorar lotes não inspecionados: Se encontrar um lote não inspecionado (`None`), passae para o próximo lote sem contá-lo.\n",
    "\n",
    "**Saída esperada:** O programa deve fornecer:\n",
    "\n",
    "- Uma mensagem informando que a inspeção foi interrompida.\n",
    "- O número de produtos aprovados antes de encontrar um defeito ou até o final da inspeção.\n",
    "\n",
    "**Exemplo de saída:**\n",
    "```bash\n",
    "Produto defeituoso encontrado! Interrompendo a inspeção.\n",
    "4 produtos foram aprovados antes de encontrar um produto defeituoso.\n",
    "```"
   ]
  },
  {
   "cell_type": "code",
   "execution_count": null,
   "metadata": {
    "tags": [
     "hide-cell"
    ]
   },
   "outputs": [],
   "source": [
    "lotes = [True, True, None, True, False, True, True]\n",
    "\n",
    "# Contador de produtos aprovados\n",
    "produtos_aprovados = 0\n",
    "\n",
    "# 1. Verificar cada lote de produtos\n",
    "for lote in lotes:\n",
    "    # 2. Se encontrar um produto defeituoso, interromper a verificação\n",
    "    if not lote:\n",
    "        print(\"Produto defeituoso encontrado! Interrompendo a inspeção.\")\n",
    "        break\n",
    "    # 3. Ignorar lotes não inspecionados\n",
    "    if lote is None:\n",
    "        continue\n",
    "    # Contar produtos aprovados\n",
    "    if lote:\n",
    "        produtos_aprovados += 1\n",
    "\n",
    "# 4. Exibir o número de produtos aprovados\n",
    "print(\n",
    "    f\"{produtos_aprovados} produtos foram aprovados antes de encontrar um produto defeituoso.\"\n",
    ")"
   ]
  },
  {
   "cell_type": "markdown",
   "metadata": {},
   "source": [
    "(exercicio-16)=\n",
    "### Exercício 16 - Explorando módulos nativos\n",
    "\n",
    "Busque explorar os módulos nativos do Python para resolver os exercícios a seguir. Evite clicar na dica e resposta antes de tentar resolver o exercício por conta própria.\n",
    "\n",
    "**16.1** - Crie um programa que simula o lançamento de um dado de 6 lados. O programa deve utilizar o módulo random para gerar um número aleatório entre 1 e 6, e exibir o resultado ao usuário.\n",
    "\n",
    "```{admonition} Dica 16.1\n",
    ":class: tip, dropdown\n",
    "Use a função `randint()` do módulo `random`.\n",
    "```\n",
    "\n",
    "```{admonition} Resposta 16.1\n",
    ":class: note, dropdown\n",
    "```python\n",
    "import random\n",
    "\n",
    "# Simulação do lançamento de um dado de 6 lados\n",
    "def rolar_dado():\n",
    "    return random.randint(1, 6)\n",
    "\n",
    "# Exibindo o resultado ao usuário\n",
    "resultado = rolar_dado()\n",
    "print(resultado)\n",
    "```\n",
    "\n",
    "**16.2** - Crie um programa que exibe a data e a hora atuais no formato DD/MM/AAAA HH:MM:SS. Use o módulo datetime para obter a data e a hora.\n",
    "\n",
    "```{admonition} Dica 16.2\n",
    ":class: tip, dropdown\n",
    "Utilize o módulo `datetime`, função `datetime.now()`, para capturar a data e hora atuais. Use`strftime()` para formatar a data e hora.\n",
    "```\n",
    "\n",
    "```{admonition} Resposta 16.2\n",
    ":class: note, dropdown\n",
    "```python\n",
    "from datetime import datetime\n",
    "\n",
    "# Obtendo a data e hora atuais\n",
    "data_hora_atual = datetime.now()\n",
    "\n",
    "# Formatando a data e hora no formato DD/MM/AAAA HH:MM:SS\n",
    "data_hora_formatada = data_hora_atual.strftime(\"%d/%m/%Y %H:%M:%S\")\n",
    "\n",
    "# Exibindo o resultado\n",
    "print(data_hora_formatada)\n",
    "```\n",
    "\n",
    "**16.3** - Crie um programa que mede o tempo de execução de um loop que conta de 1 até 1.000.000. Use o módulo time para capturar o tempo antes e depois da execução do loop e exiba quanto tempo foi gasto.\n",
    "\n",
    "```{admonition} Dica 16.3\n",
    ":class: tip, dropdown\n",
    "Utilize a função `time()` do módulo `time` antes e depois do loop.\n",
    "```\n",
    "\n",
    "```{admonition} Resposta 16.3\n",
    ":class: note, dropdown\n",
    "```python\n",
    "import time\n",
    "\n",
    "# Capturando o tempo antes do loop\n",
    "tempo_inicial = time.time()\n",
    "\n",
    "# Loop que conta de 1 até 1.000.000\n",
    "for i in range(1, 1000001):\n",
    "    pass  # O loop não faz nada, apenas conta\n",
    "\n",
    "# Capturando o tempo depois do loop\n",
    "tempo_final = time.time()\n",
    "\n",
    "# Calculando o tempo gasto\n",
    "tempo_gasto = tempo_final - tempo_inicial\n",
    "print(f\"Tempo gasto: {tempo_gasto} segundos\")\n",
    "```\n",
    "\n",
    "**16.4** - Escreva um programa que cria uma nova pasta vazia chamado *exercicios* na pasta atual. Vefique se a pasta foi criada com sucesso.\n",
    "\n",
    "```{admonition} Dica 16.4\n",
    ":class: tip, dropdown\n",
    "Use as funções `os.mkdir()` e `os.path.exists()` do módulo `os` para criar a pasta e verificar sua existência.\n",
    "```\n",
    "\n",
    "```{admonition} Resposta 16.4\n",
    ":class: note, dropdown\n",
    "```python\n",
    "import os\n",
    "\n",
    "# Nome da pasta que será criada\n",
    "nome_pasta = \"exercicios\"\n",
    "\n",
    "# Criando a pasta\n",
    "os.mkdir(nome_pasta)\n",
    "\n",
    "# Verificando se a pasta foi criada com sucesso\n",
    "if os.path.exists(nome_pasta):\n",
    "    print(f\"A pasta '{nome_pasta}' foi criada com sucesso.\")\n",
    "else:\n",
    "    print(f\"Falha ao criar a pasta '{nome_pasta}'.\")\n",
    "```\n",
    "\n",
    "**16.5** - Crie um programa que gere uma senha aleatória de 12 caracteres, incluindo letras maiúsculas, minúsculas, números e símbolos.\n",
    "\n",
    "```{admonition} Dica 16.5\n",
    ":class: tip, dropdown\n",
    "Utilize funções do módulo string para ajudar na criação da senha e funções do módulo `random` pra gerar valores aleatórios.\n",
    "```\n",
    "\n",
    "```{admonition} Resposta 16.5\n",
    ":class: note, dropdown\n",
    "```python\n",
    "import string\n",
    "import random\n",
    "\n",
    "def gerar_senha(tamanho=12):\n",
    "    # Define os caracteres que podem ser usados na senha\n",
    "    letras_maiusculas = string.ascii_uppercase\n",
    "    letras_minusculas = string.ascii_lowercase\n",
    "    numeros = string.digits\n",
    "    simbolos = string.punctuation\n",
    "\n",
    "    # Combina todos os caracteres\n",
    "    todos_os_caracteres = letras_maiusculas + letras_minusculas + numeros + simbolos\n",
    "\n",
    "    # Gera a senha aleatória\n",
    "    senha = ''.join(random.choice(todos_os_caracteres) for _ in range(tamanho))\n",
    "\n",
    "    return senha\n",
    "\n",
    "# Gera e imprime a senha aleatória\n",
    "senha_gerada = gerar_senha()\n",
    "print(\"Senha gerada:\", senha_gerada)\n",
    "```\n",
    "\n",
    "**16.6** - Crie um programa que imprime a mensagem \"Tarefa agendada executada!\" após 5 segundos.\n",
    "\n",
    "```{admonition} Dica 16.5\n",
    ":class: tip, dropdown\n",
    "Utilize funções do módulo `string` para ajudar na criação da senha e funções do módulo `random` pra gerar valores aleatórios.\n",
    "```\n",
    "\n",
    "```{admonition} Resposta 16.5\n",
    ":class: note, dropdown\n",
    "```python\n",
    "import string\n",
    "import random\n",
    "\n",
    "def gerar_senha(tamanho=12):\n",
    "    # Define os caracteres que podem ser usados na senha\n",
    "    letras_maiusculas = string.ascii_uppercase\n",
    "    letras_minusculas = string.ascii_lowercase\n",
    "    numeros = string.digits\n",
    "    simbolos = string.punctuation\n",
    "\n",
    "    # Combina todos os caracteres\n",
    "    todos_os_caracteres = letras_maiusculas + letras_minusculas + numeros + simbolos\n",
    "\n",
    "    # Gera a senha aleatória\n",
    "    senha = ''.join(random.choice(todos_os_caracteres) for _ in range(tamanho))\n",
    "\n",
    "    return senha\n",
    "\n",
    "# Gera e imprime a senha aleatória\n",
    "senha_gerada = gerar_senha()\n",
    "print(\"Senha gerada:\", senha_gerada)\n",
    "```"
   ]
  },
  {
   "cell_type": "markdown",
   "metadata": {},
   "source": [
    "(exercicio-17)=\n",
    "### Exercício 17 - Fabricando um carro (literalmente)\n",
    "\n",
    "Imagine que você está dirigindo um carro. Quando você acelera, a velocidade aumenta, e quando você freia, a velocidade diminui. Se continuar freando, o carro eventualmente vai parar. Também há momentos em que você quer saber o modelo do carro, o ano de fabricação e, claro, a velocidade atual.\n",
    "\n",
    "Agora, pense nas ações que você pode realizar enquanto dirige:\n",
    "\n",
    "- **Acelerar:** A cada vez que você pressiona o acelerador, a velocidade do carro aumenta em 10 km/h.\n",
    "- **Frear:** Ao pisar no freio, a velocidade diminui em 10 km/h, mas o carro nunca pode andar com velocidade negativa.\n",
    "- **Parar:** Quando você freia até o carro parar completamente, a velocidade vai para 0 km/h.\n",
    "- **Checar informações:** Às vezes, você quer saber qual o modelo do carro, o ano de fabricação e a velocidade atual.\n",
    "\n",
    "Agora, tente pensar em como você organizaria essas funcionalidades de forma lógica. Como você armazenaria o modelo e o ano do carro? E como você controlaria as ações de acelerar e frear?\n",
    "\n",
    "Exemplo:\n",
    "\n",
    "- Você começa dirigindo um Fusca, fabricado em 1980, com uma velocidade inicial de 0 km/h.\n",
    "- Ao acelerar duas vezes, sua velocidade chega a 20 km/h.\n",
    "- Você freia uma vez e a velocidade cai para 10 km/h.\n",
    "- Se frear mais uma vez, a velocidade vai para 0 km/h, e o carro para completamente.\n",
    "\n",
    "Pense em como organizar isso de forma que você possa controlar o carro, saber suas informações e decidir quando acelerar ou frear.\n",
    "\n",
    "**Desafio:** E se você quisesse reverter a marcha do carro? Imagine que em marcha ré o fusca ande a no máximo 10 km/h. Como você implementaria isso?"
   ]
  },
  {
   "cell_type": "code",
   "execution_count": 1,
   "metadata": {
    "tags": [
     "hide-cell"
    ]
   },
   "outputs": [
    {
     "name": "stdout",
     "output_type": "stream",
     "text": [
      "Modelo: Fusca, Ano: 1980, Velocidade: 0 km/h\n",
      "Modelo: Fusca, Ano: 1980, Velocidade: 20 km/h\n",
      "Modelo: Fusca, Ano: 1980, Velocidade: 10 km/h\n",
      "Modelo: Fusca, Ano: 1980, Velocidade: 0 km/h\n",
      "O carro já está parado.\n",
      "Modelo: Fusca, Ano: 1980, Velocidade: 20 km/h\n",
      "O carro está em marcha à ré.\n",
      "Modelo: Fusca, Ano: 1980, Velocidade: 10 km/h\n",
      "O carro está em marcha à ré.\n",
      "Modelo: Fusca, Ano: 1980, Velocidade: 0 km/h\n"
     ]
    }
   ],
   "source": [
    "class Carro:\n",
    "    def __init__(self, modelo: str, ano: int):\n",
    "        # Inicialização dos atributos de instância\n",
    "        self.modelo = modelo\n",
    "        self.ano = ano\n",
    "        self.velocidade = 0  # Inicializa a velocidade como 0\n",
    "\n",
    "    def acelerar(self):\n",
    "        self.velocidade += 10\n",
    "\n",
    "    def frear(self):\n",
    "        if self.velocidade >= 10:\n",
    "            self.velocidade -= 10\n",
    "        else:\n",
    "            self.velocidade = 0\n",
    "\n",
    "    def parar(self):\n",
    "        self.velocidade = 0\n",
    "\n",
    "    def informacoes(self):\n",
    "        print(\n",
    "            f\"Modelo: {self.modelo}, Ano: {self.ano}, Velocidade: {self.velocidade} km/h\"\n",
    "        )\n",
    "\n",
    "    def reverter(self):\n",
    "        if self.velocidade > 0:\n",
    "            self.velocidade -= 10\n",
    "            print(\"O carro está em marcha à ré.\")\n",
    "        else:\n",
    "            print(\"O carro já está parado.\")\n",
    "\n",
    "\n",
    "# Criando um objeto da classe Carro\n",
    "carro = Carro(\"Fusca\", 1980)\n",
    "\n",
    "# Exibindo as informações iniciais\n",
    "carro.informacoes()  # Deve mostrar \"Modelo: Fusca, Ano: 1980, Velocidade: 0 km/h\"\n",
    "\n",
    "# Acelerando o carro\n",
    "carro.acelerar()\n",
    "carro.acelerar()\n",
    "\n",
    "# Exibindo as informações após acelerar\n",
    "carro.informacoes()  # Deve mostrar \"Modelo: Fusca, Ano: 1980, Velocidade: 20 km/h\"\n",
    "\n",
    "# Freando o carro\n",
    "carro.frear()\n",
    "\n",
    "# Exibindo as informações após frear\n",
    "carro.informacoes()  # Deve mostrar \"Modelo: Fusca, Ano: 1980, Velocidade: 10 km/h\"\n",
    "\n",
    "# Parando o carro\n",
    "carro.parar()\n",
    "\n",
    "# Exibindo as informações finais\n",
    "carro.informacoes()  # Deve mostrar \"Modelo: Fusca, Ano: 1980, Velocidade: 0 km/h\"\n",
    "\n",
    "# Tentando reverter o carro\n",
    "carro.reverter()  # Deve mostrar \"O carro já está parado.\"\n",
    "\n",
    "# Acelerando novamente para testar o reverter\n",
    "carro.acelerar()\n",
    "carro.acelerar()\n",
    "carro.informacoes()  # Velocidade: 20 km/h\n",
    "\n",
    "# Revertendo a marcha\n",
    "carro.reverter()  # Deve mostrar \"O carro está em marcha à ré.\"\n",
    "carro.informacoes()  # Velocidade: 10 km/h\n",
    "\n",
    "# Revertendo novamente\n",
    "carro.reverter()  # Deve mostrar \"O carro está em marcha à ré.\"\n",
    "carro.informacoes()  # Velocidade: 0 km/h"
   ]
  },
  {
   "cell_type": "markdown",
   "metadata": {},
   "source": [
    "(exercicio-18)=\n",
    "### Exercício 18 - Gerenciando uma biblioteca\n",
    "\n",
    "Você está criando um sistema para gerenciar uma biblioteca. Nesse sistema, você terá um conceito central de um livro. Cada livro terá algumas características importantes, como:\n",
    "- O nome do livro.\n",
    "- O nome do autor que escreveu o livro.\n",
    "- O ano em que o livro foi publicado.\n",
    "- Um status que mostra se o livro está disponível para empréstimo ou se já foi retirado.\n",
    "- Além disso, é importante ter uma contagem que rastreie quantos livros foram cadastrados na biblioteca. Essa contagem deve ser atualizado sempre que um novo livro for adicionado. \n",
    "\n",
    "Segue algumas sugestões de funcionalidades que você pode implementar no sistema:\n",
    "- Quando um usuário deseja pegar um livro emprestado, o sistema deve verificar se o livro está disponível. Se estiver, a disponibilidade deve ser alterada para refletir que o livro foi emprestado. Caso contrário, uma mensagem deve ser exibida informando que o livro não está disponível.\n",
    "- Quando o usuário retorna o livro, o sistema deve atualizar a disponibilidade do livro para indicar que ele está novamente disponível para empréstimo.\n",
    "- Para cada livro, o sistema deve ser capaz de mostrar as informações relevantes, como título, autor, ano de publicação e o status de disponibilidade.\n",
    "- Você também deve ter a capacidade de saber quantos livros estão cadastrados na biblioteca.\n",
    "\n",
    "Exemplo de uso do sistema:\n",
    "\n",
    "- Você cria um livro chamado \"1984\", escrito por George Orwell, publicado em 1949.\n",
    "- Outro livro que você adiciona é \"O Senhor dos Anéis\", de J.R.R. Tolkien, publicado em 1954.\n",
    "- Ao tentar emprestar \"1984\", o sistema deve confirmar que ele está disponível.\n",
    "- Se você tentar emprestar \"1984\" novamente, o sistema deve informar que ele não está mais disponível.\n",
    "- Ao devolver \"1984\", o sistema deve registrar que ele está novamente disponível para ser emprestado.\n",
    "- Por fim, você pode verificar quantos livros estão cadastrados na biblioteca.\n",
    "\n",
    "**Desafio:**\n",
    "Pense em como você poderia implementar uma funcionalidade que permite buscar um livro pelo título e exibir suas informações, caso ele exista na biblioteca. Além disso, considere como a contagem de livros pode ser atualizada quando um livro é removido."
   ]
  },
  {
   "cell_type": "code",
   "execution_count": 2,
   "metadata": {
    "tags": [
     "hide-cell"
    ]
   },
   "outputs": [
    {
     "name": "stdout",
     "output_type": "stream",
     "text": [
      "Título: 1984, Autor: George Orwell, Ano de Publicação: 1949, Status: disponível\n",
      "Título: O Senhor dos Anéis, Autor: J.R.R. Tolkien, Ano de Publicação: 1954, Status: disponível\n",
      "O livro '1984' foi emprestado.\n",
      "O livro '1984' não está disponível.\n",
      "O livro '1984' foi devolvido.\n",
      "Total de livros na biblioteca: 2\n"
     ]
    }
   ],
   "source": [
    "class Livro:\n",
    "    # Atributo de classe para contar o total de livros\n",
    "    total_livros = 0\n",
    "\n",
    "    def __init__(self, titulo, autor, ano_publicacao):\n",
    "        # Atributos de instância\n",
    "        self.titulo = titulo\n",
    "        self.autor = autor\n",
    "        self.ano_publicacao = ano_publicacao\n",
    "        self.disponibilidade = True  # O livro começa como disponível\n",
    "\n",
    "        # Incrementa o contador de livros ao criar um novo livro\n",
    "        Livro.total_livros += 1\n",
    "\n",
    "    def emprestar(self):\n",
    "        if self.disponibilidade:\n",
    "            self.disponibilidade = False\n",
    "            print(f\"O livro '{self.titulo}' foi emprestado.\")\n",
    "        else:\n",
    "            print(f\"O livro '{self.titulo}' não está disponível.\")\n",
    "\n",
    "    def devolver(self):\n",
    "        self.disponibilidade = True\n",
    "        print(f\"O livro '{self.titulo}' foi devolvido.\")\n",
    "\n",
    "    def exibir_informacoes(self):\n",
    "        status = \"disponível\" if self.disponibilidade else \"não disponível\"\n",
    "        print(\n",
    "            f\"Título: {self.titulo}, Autor: {self.autor}, Ano de Publicação: {self.ano_publicacao}, Status: {status}\"\n",
    "        )\n",
    "\n",
    "\n",
    "# Criando alguns objetos da classe Livro\n",
    "livro1 = Livro(\"1984\", \"George Orwell\", 1949)\n",
    "livro2 = Livro(\"O Senhor dos Anéis\", \"J.R.R. Tolkien\", 1954)\n",
    "\n",
    "# Exibindo informações dos livros\n",
    "livro1.exibir_informacoes()\n",
    "livro2.exibir_informacoes()\n",
    "\n",
    "# Emprestando um livro\n",
    "livro1.emprestar()  # Deve indicar que o livro foi emprestado\n",
    "livro1.emprestar()  # Deve indicar que o livro não está disponível\n",
    "\n",
    "# Devolvendo o livro\n",
    "livro1.devolver()  # Deve indicar que o livro foi devolvido\n",
    "\n",
    "# Exibindo total de livros na biblioteca\n",
    "print(f\"Total de livros na biblioteca: {Livro.total_livros}\")\n"
   ]
  }
 ],
 "metadata": {
  "kernelspec": {
   "display_name": ".venv",
   "language": "python",
   "name": "python3"
  },
  "language_info": {
   "codemirror_mode": {
    "name": "ipython",
    "version": 3
   },
   "file_extension": ".py",
   "mimetype": "text/x-python",
   "name": "python",
   "nbconvert_exporter": "python",
   "pygments_lexer": "ipython3",
   "version": "3.12.6"
  }
 },
 "nbformat": 4,
 "nbformat_minor": 2
}
