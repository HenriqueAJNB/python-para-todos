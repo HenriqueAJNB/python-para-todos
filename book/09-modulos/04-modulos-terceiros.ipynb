{
 "cells": [
  {
   "cell_type": "markdown",
   "metadata": {},
   "source": [
    "# Bibliotecas de terceiros"
   ]
  },
  {
   "cell_type": "markdown",
   "metadata": {},
   "source": [
    "Eu vou frisar isso ao longo deste capítulo, e já falei algumas vezes ao longo dos capítulos anteriores: existe uma infinidade de módulos (bibliotecas) de terceiros que podem ser utilizados para facilitar a nossa vida como programadores e **a ideia aqui não é ensinar cada um deles individualmente**, mas sim mostrar que eles existem e o básico para que você possa ir atrás deles e aprender a utilizá-los.\n",
    "\n",
    "Antes de falar de bibliotecas, vamos alinhar alguns conceitos básicos."
   ]
  },
  {
   "cell_type": "markdown",
   "metadata": {},
   "source": [
    "## O que é ..."
   ]
  },
  {
   "cell_type": "markdown",
   "metadata": {},
   "source": [
    "### ... biblioteca?"
   ]
  },
  {
   "cell_type": "markdown",
   "metadata": {},
   "source": [
    "Na seção anterior vimos o conceito de módulo, um arquivo `.py` isolado com várias funcionalidades. Uma biblioteca é simplesmente um conjunto de módulos (vários arquivos `.py`) que alguém escreveu para resolver um problema específico, e que você pode reutilizar esse código em seu projeto. Isso economiza tempo e esforço, já que você não precisa reescrever funcionalidades que já estão prontas. Basta instalar e usar a biblioteca em seu projeto.\n",
    "\n",
    "```{admonition} Nota (sinônimos de biblioteca)\n",
    ":class: note\n",
    "É muito comum ver outras palavras que são sinônimas de bibliotecas. As vezes você pode ouvir também pacotes ou até as palavra em inglês *library* ou *framework*. Todos esses termos se referem a mesma coisa: um conjunto de módulos que você pode reutilizar em seu projeto.\n",
    "```"
   ]
  },
  {
   "cell_type": "markdown",
   "metadata": {},
   "source": [
    "### ... PyPI?"
   ]
  },
  {
   "cell_type": "markdown",
   "metadata": {},
   "source": [
    "O <a href=\"https://pypi.org/\" target=\"_blank\">PyPI</a>, abreviação de Python Package Index, é como uma grande loja online, mas em vez de oferecer produtos, ele oferece bibliotecas Python que outras pessoas criam para serem usadas em outros projetos. Essas bibliotecas são gratuitas e desenvolvidas pela comunidade e muitas delas facilitam a vida de quem está programando ao oferecer diversas funcionalidades prontas. Ao invés de criar tudo do zero, você pode usar as bibliotecas que outras pessoas já criaram.\n",
    "\n",
    "No exato momento que eu escrevo este capítulo em 01/10/2024, são:\n",
    "- 572.948 projetos\n",
    "- 6.127.605 lançamentos\n",
    "- 12.133.846 arquivos\n",
    "- 860.618 usuários\n",
    "\n",
    "Estamos falando de **mais de meio milhão de bibliotecas**! Ou seja, é uma quantidade absurda de bibliotecas disponíveis para você utilizar. Essa quantidade imensa de bibliotecas se dá por um motivo simples: literalmente qualquer pessoa pode criar uma biblioteca e disponibilizá-la no PyPI. Existem até bibliotecas que são criadas e mantidas por grandes empresas de tecnologia como Google, Meta (antigo Facebook), Microsoft, NVidia, etc.\n",
    "\n",
    "Se você optar por comprar algum curso, não se deixe enganar pelas frases *aprenda tudo sobre Python*, *curso completo de Python*, ou outras frases do gênero, acho que você já compreendeu **que isso é impossível**, certo? Python é uma linguagem extremamente vasta e em constante evolução. O que você pode fazer é aprender o básico e ir se aprofundando aos poucos, e uma das formas de fazer isso é aprendendo a utilizar bibliotecas de terceiros."
   ]
  },
  {
   "cell_type": "markdown",
   "metadata": {},
   "source": [
    "### ... `pip`?"
   ]
  },
  {
   "cell_type": "markdown",
   "metadata": {},
   "source": [
    "Ao longo deste capítulo vamos ver como instalar bibliotecas de terceiros, e a ferramenta oficial do Python para instalar bibliotecas é o `pip`, um acrônimo do inglês para <em><strong>p</strong>ackage <strong>i</strong>nstaller for <strong>p</strong>ython</em>, que ,traduzido para português, significa *instalador de pacotes do Python*.\n",
    "\n",
    "O `pip` é um gerenciador de pacotes que vem instalado por padrão quando você instala o Python. Com ele você pode instalar, atualizar e remover bibliotecas Python. O `pip` é uma ferramenta de linha de comando, ou seja, você precisa abrir o terminal para utilizá-lo. Não se preocupe, pois vamos aprender a utilizá-lo. Quero só que você entenda o que é por agora.\n",
    "\n",
    "É possível verificar se o `pip` está instalado em seu computador executando o comando abaixo no terminal:\n",
    "\n",
    "```console\n",
    "pip --version\n",
    "pip 24.0\n",
    "```"
   ]
  },
  {
   "cell_type": "markdown",
   "metadata": {},
   "source": [
    "### ... open-source?"
   ]
  },
  {
   "cell_type": "markdown",
   "metadata": {},
   "source": [
    "*Open-source* é uma expressão em inglês muito comum na área de tecnologia e programação, que traduzida, siginifica *fonte aberta*. Significa que o código-fonte (código usado para construir um programa) de um software está disponível para qualquer pessoa ver, modificar e compartilhar. O código-fonte são as instruções que os programadores escrevem para fazer o software funcionar. Quando um software é *open-source*, qualquer pessoa pode contribuir para melhorá-lo, corrigir erros ou adaptá-lo para suas próprias necessidades. Além disso, geralmente é gratuito, e as melhorias feitas por outras pessoas podem ser compartilhadas com todos.\n",
    "\n",
    "Em resumo: *open-source* é como um projeto colaborativo, onde o código é aberto e acessível, permitindo que qualquer um participe ou use o software como quiser. Todas as bibliotecas no PyPI são *open-source*. Você pode ver e alterar o código-fonte de qualquer biblioteca que você instalar se você quiser."
   ]
  },
  {
   "cell_type": "markdown",
   "metadata": {},
   "source": [
    "## Principais bibliotecas"
   ]
  },
  {
   "cell_type": "markdown",
   "metadata": {},
   "source": [
    "Novamente, não é possível listar todas as bibliotecas disponíveis no PyPI (são mais de meio milhão de bibliotecas disponíveis), mas vou listar algumas bastante populares divididas por categorias para você entender a utilidade de cada uma delas. Abaixo as informações estarão disponíveis da seguinte forma:\n",
    "\n",
    "### Categoria (para que serve a biblioteca)\n",
    "\n",
    "- nome-da-biblioteca: descrição da biblioteca (o que ela faz)\n",
    "\n",
    "```{admonition} Nota (termos desconhecidos)\n",
    ":class: note\n",
    "A lista abaixo apresentará alguns termos que você talvez não conheça (como requisições HTTP, processamento de linguagem natural, machine learning, APIs) principalmente se você está começando agora. O que recomendo é pesquisar rapidamente o que significam os termos que você não compreendeu para que você possa entender de forma bem superficial a utilidade de cada biblioteca. Mas não se apegue a isso mesmo se você não comprrendeu exatamente o que é o termo. O objetivo é mostrar que existem bibliotecas para praticamente tudo que você imaginar.\n",
    "```\n",
    "\n",
    "```{admonition} Nota (profundidade e complexidade)\n",
    ":class: note\n",
    "Não se preocupe em entender profundamente o que cada biblioteca faz. Novamente, o objetivo é mostrar que existem bibliotecas para praticamente tudo que você imaginar. Se você se interessar por alguma delas, você pode pesquisar mais a fundo. Existem bibliotecas que são tão complexas que há livros inteiros e cursos de centenas de horas dedicados para aprender a utilizá-las.\n",
    "```"
   ]
  },
  {
   "cell_type": "markdown",
   "metadata": {},
   "source": [
    "### Manipulação de dados"
   ]
  },
  {
   "cell_type": "markdown",
   "metadata": {},
   "source": [
    "- pandas: usado para análise e manipulação de dados em tabelas.\n",
    "- numpy: ideal para trabalhar com arrays e realizar cálculos matemáticos complexos.\n",
    "- polars: alternativa ao pandas e ao numpy, mais rápida e eficiente.\n",
    "- scipy: cálculos científicos e técnicos, incluindo estatísticas, otimização e integração numérica.\n",
    "- statsmodels: biblioteca para modelagem estatística avançada."
   ]
  },
  {
   "cell_type": "markdown",
   "metadata": {},
   "source": [
    "### Visualização de dados"
   ]
  },
  {
   "cell_type": "markdown",
   "metadata": {},
   "source": [
    "- matplotlib: usado para criar gráficos e visualizações de dados.\n",
    "- seaborn: baseado no matplotlib, é mais fácil de usar e cria gráficos mais bonitos.\n",
    "- plotly: cria gráficos interativos e visualizações de dados.\n",
    "- altair: biblioteca declarativa para criação de gráficos interativos.\n",
    "- bokeh: cria gráficos interativos e visualizações de dados."
   ]
  },
  {
   "cell_type": "markdown",
   "metadata": {},
   "source": [
    "### Desenvolvimento web"
   ]
  },
  {
   "cell_type": "markdown",
   "metadata": {},
   "source": [
    "- flask: framework web minimalista para criar aplicações web.\n",
    "- django: framework web completo para criar aplicações web.\n",
    "- fastapi: framework web moderno para criar APIs web."
   ]
  },
  {
   "cell_type": "markdown",
   "metadata": {},
   "source": [
    "### Automação de tarefas"
   ]
  },
  {
   "cell_type": "markdown",
   "metadata": {},
   "source": [
    "- requests: faz requisições HTTP em Python.\n",
    "- selenium: automatiza ações em navegadores web.\n",
    "- pyautogui: automatiza ações no teclado e no mouse.\n",
    "- beautifulsoup4: extrai dados de páginas web (web scraping).\n",
    "- scrapy: framework para extração de dados de páginas web (web scraping)."
   ]
  },
  {
   "cell_type": "markdown",
   "metadata": {},
   "source": [
    "### Machine learning e inteligência artificial"
   ]
  },
  {
   "cell_type": "markdown",
   "metadata": {},
   "source": [
    "- scikit-learn: biblioteca de machine learning para Python.\n",
    "- tensorflow: biblioteca de machine learning e deep learning da Google.\n",
    "- keras: biblioteca de deep learning menos complexa que o tensorflow.\n",
    "- nltk: biblioteca para processamento de linguagem natural.\n",
    "- spacynlp: outra biblioteca para processamento de linguagem natural.\n",
    "- opencv: biblioteca com algoritmos de visão computacional."
   ]
  },
  {
   "cell_type": "markdown",
   "metadata": {},
   "source": [
    "### Desenvolvimento de jogos"
   ]
  },
  {
   "cell_type": "markdown",
   "metadata": {},
   "source": [
    "- pygame:  foco criar jogos 2D em Python, com suporte para gráficos, som e entrada do usuário.\n",
    "- arcade:  foco em criar jogos 2D com uma API fácil de usar e foco em simplicidade.\n",
    "- pyglet:  voltada para jogos e multimídia que permite criar aplicativos com gráficos e som, sem dependências externas.\n",
    "- cocos2d: desenvolvimento de jogos 2D, com suporte para sprites, efeitos e física.\n",
    "- panda3d: motor de jogo 3D poderoso e flexível, adequado para a criação de jogos e simulações complexas."
   ]
  },
  {
   "cell_type": "markdown",
   "metadata": {},
   "source": [
    "### Outras"
   ]
  },
  {
   "cell_type": "markdown",
   "metadata": {},
   "source": [
    "- openpyxl: manipula planilhas Excel.\n",
    "- pillow: manipula imagens.\n",
    "- pyqt5: cria interfaces gráficas.\n",
    "- pyinstaller: transforma programas Python em executáveis.\n",
    "- pytest: framework para testes em Python.\n",
    "- poetry: gerenciador de dependências de projetos Python.\n",
    "\n",
    "... e a lista não pára por aí."
   ]
  },
  {
   "cell_type": "markdown",
   "metadata": {},
   "source": [
    "## Manipulando bibliotecas"
   ]
  },
  {
   "cell_type": "markdown",
   "metadata": {},
   "source": [
    "Um ponto diferente de módulos nativos do Python é que você precisa instalar as bibliotecas de terceiros antes de utilizá-las. Para isso, você vai utilizar o `pip`, o gerenciador de pacotes do Python, conforme já mencionado anteriormente.\n",
    "\n",
    "Para instalar uma biblioteca, você precisa executar o comando abaixo no terminal:\n",
    "\n",
    "```bash\n",
    "pip install nome-da-biblioteca\n",
    "```\n",
    "\n",
    "Por exemplo, para instalar a biblioteca `pandas`, você deve executar o comando \n",
    "\n",
    "```bash\n",
    "pip install pandas\n",
    "```"
   ]
  },
  {
   "cell_type": "markdown",
   "metadata": {},
   "source": [
    "### Sobre versões de bibliotecas"
   ]
  },
  {
   "cell_type": "markdown",
   "metadata": {},
   "source": [
    "Já não basta o Python ter suas versões (lembra que vimos nesta seção sobre [versões do Python?](python-version)), ter milhares de bibliotecas disponíveis no PyPI, ainda temos que cada biblioteca tem diferentes versões. Sim, é isso mesmo, seja bem-vindo ao mundo de tecnologia! Tudo evolui em uma velocidade absurdamente alta que fica impossível acompanhar tudo em tempo hábil.\n",
    "\n",
    "Um exemplo é a biblioteca `numpy`. Veja no [site oficial do Numpy](https://numpy.org/news/#releases) que eles tem várias versões (2.1.1, 2.0.2, 2.1.0, etc.). Quando instalamos uma biblioteca com o `pip`, o padrão é ele sempre instalar a versão mais atual, a mais recente lançada. \n",
    "\n",
    "Porém, podemos instalar versões específicas de uma biblioteca modificando o comando de instalação. Por exemplo, para instalar a versão específica 2.1.0 do `numpy`, você deve adicionar (sem espaços em branco) dois sinais de igual `==` e a versão que você deseja instalar à frente do nome da biblioteca:\n",
    "\n",
    "```bash\n",
    "pip install numpy==2.1.0\n",
    "```\n",
    "\n",
    "```{admonition} Nota (==)\n",
    ":class: note\n",
    "Não está errado não, são dois sinais de igual `==` mesmo. Isso é uma convenção do `pip` para instalar uma versão específica de uma biblioteca. Caso você utilize um sinal só de igual `=`, o `pip` vai te mostrar essa mensagem de erro. \n",
    "\n",
    "O erro basicamente informa que você está usando `=` ao invés de `==`, e sugere a correção.\n",
    "\n",
    "```bash\n",
    "pip install numpy=2.1.0\n",
    "ERROR: Invalid requirement: 'numpy=2.1.0'\n",
    "Hint: = is not a valid operator. Did you mean == ?\n",
    "```\n",
    "\n",
    "Mas porque eu ia querer instalar uma versão específica diferente da atual? Vou tentar contextualizar com situações de projetos reais de forma simplificada. \n",
    "\n",
    "- Imagine que você está desenvolvendo um projeto e utiliza a biblioteca `numpy`. Porém, você descobre que a versão mais recente do `numpy` tem um bug que afeta diretamente o seu projeto. Sim, bugs existem, e precisamos lidar com eles!\n",
    "\n",
    "- Ou então, você está trabalhando em um projeto que foi desenvolvido há alguns anos e utiliza uma versão antiga de uma biblioteca. Se você tentar instalar a versão mais recente, pode ser que o projeto pare de funcionar, pois a nova versão pode ter mudanças que quebram a compatibilidade com o seu projeto.\n",
    "\n",
    "- E, ainda, suponha que você use as bibliotecas `selenium` e `pandas` em um projeto. Porém, em uma situação hipotética, a versão mais recente do `selenium` pode não é compatível com a versão mais recente do `pandas`. Neste caso, você precisa instalar uma versão específica do `selenium` que seja compatível com a versão do `pandas` que você está utilizando.\n",
    "\n",
    "Estas são apenas alguns exemplos de situações reais nas quais você pode precisar instalar uma versão específica de uma biblioteca.\n",
    "\n",
    "```{admonition} Nota (problemas reais do dia-a-dia)\n",
    ":class: note\n",
    "É, meu caro leitor, aqui já estamos colocando um pézinho no mundo real de projetos! Estamos falando de problemas comuns que inclusive profissionais com mais experiências enfrentam! Não acredita? Não acredite em mim mesmo não, pergunte para qualquer pessoa que trabalha com Python no LinkedIn se ela já teve problemas com conflito de dependências no dia-a-dia dela. Grandes as chances de que a resposta seja sim. E é por isso que é importante você entender esses conceitos desde já.\n",
    "```"
   ]
  },
  {
   "cell_type": "markdown",
   "metadata": {},
   "source": [
    "### Instalando várias bibliotecas de uma vez"
   ]
  },
  {
   "cell_type": "markdown",
   "metadata": {},
   "source": [
    "Uma situação bastante comum em projetos maiores é ter várias dependências de bibliotecas terceiras. Em vez de instalar uma por uma, você pode criar um arquivo chamado `requirements.txt` e listar todas as bibliotecas que você precisa. Por exemplo, o conteúdo de um arquivo `requirements.txt` pode ser (reparem novamente que são dois sinais de igual `==`):\n",
    "\n",
    "```\n",
    "numpy==1.21.2\n",
    "pandas==1.3.3\n",
    "matplotlib==3.4.3\n",
    "```\n",
    "\n",
    "Para instalar todas as bibliotecas listadas no arquivo `requirements.txt`, você pode executar o comando abaixo no terminal:\n",
    "\n",
    "```bash\n",
    "pip install -r requirements.txt\n",
    "```\n",
    "\n",
    "O `pip` vai ler o arquivo `requirements.txt` e instalar todas as bibliotecas listadas nele. Esta forma de instalação de várias bibliotecas com um único comando é muito útil para garantir que todos os desenvolvedores que trabalham em um projeto tenham as mesmas versões das bibliotecas instaladas. \n",
    "\n",
    "E é uma **boa prática** também **fixar as versões das bibliotecas usadas com == para evitar conflito de dependências**."
   ]
  },
  {
   "cell_type": "markdown",
   "metadata": {},
   "source": [
    "### Desinstalando bibliotecas"
   ]
  },
  {
   "cell_type": "markdown",
   "metadata": {},
   "source": [
    "Aqui não há muito segredo. Para desinstalar uma biblioteca, você precisa executar o comando abaixo no terminal:\n",
    "\n",
    "```bash\n",
    "pip uninstall nome-da-biblioteca\n",
    "```"
   ]
  },
  {
   "cell_type": "markdown",
   "metadata": {},
   "source": [
    "### Atualizando bibliotecas"
   ]
  },
  {
   "cell_type": "markdown",
   "metadata": {},
   "source": [
    "Para atualizar uma biblioteca, você precisa executar o comando abaixo no terminal:\n",
    "\n",
    "```bash\n",
    "pip install --upgrade nome-da-biblioteca\n",
    "```\n",
    "\n",
    "Por exemplo, para atualizar a biblioteca `numpy`, você deve executar o comando \n",
    "\n",
    "```bash\n",
    "pip install --upgrade numpy\n",
    "```"
   ]
  },
  {
   "cell_type": "markdown",
   "metadata": {},
   "source": [
    "### Listar bibliotecas instaladas"
   ]
  },
  {
   "cell_type": "markdown",
   "metadata": {},
   "source": [
    "Podemos listar todas as bibliotecas que estão instaladas em nosso ambiente Python com o comando abaixo:\n",
    "\n",
    "```bash\n",
    "pip list\n",
    "```\n",
    "\n",
    "Isso tratá uma saída parecida com a abaixo, mostrando todas as bibliotecas instaladas e suas respectivas versões:\n",
    "\n",
    "```\n",
    "Package                       Version\n",
    "----------------------------- -----------\n",
    "accessible-pygments           0.0.5\n",
    "alabaster                     0.7.16\n",
    "asttokens                     2.4.1\n",
    "attrs                         23.2.0\n",
    "...\n",
    "```"
   ]
  },
  {
   "cell_type": "markdown",
   "metadata": {},
   "source": [
    "### Mostrar detalhes de uma biblioteca específica"
   ]
  },
  {
   "cell_type": "markdown",
   "metadata": {},
   "source": [
    "É possível visualizar detalhes de uma biblioteca instalada com o comando abaixo:\n",
    "\n",
    "```bash\n",
    "pip show nome-da-biblioteca\n",
    "```\n",
    "\n",
    "Por exemplo, para visualizar detalhes da biblioteca `pandas`, você deve executar o comando \n",
    "\n",
    "```bash\n",
    "pip show pandas\n",
    "```\n",
    "\n",
    "A saída será algo similar ao texto abaixo, mostrando informações como nome, versão, descrição, página oficial, autor, e-mail do autor, licença e quais outras bibliotecas dependem dela:\n",
    "\n",
    "```\n",
    "Name: pandas\n",
    "Version: 2.2.1\n",
    "Summary: Powerful data structures for data analysis, time series, and statistics\n",
    "Home-page: https://pandas.pydata.org\n",
    "Author:\n",
    "Author-email: The Pandas Development Team <pandas-dev@python.org>\n",
    "License: BSD 3-Clause License\n",
    "Required-by: seaborn, yfinance\n",
    "```"
   ]
  },
  {
   "cell_type": "markdown",
   "metadata": {},
   "source": [
    "## Utilizando bibliotecas"
   ]
  },
  {
   "cell_type": "markdown",
   "metadata": {},
   "source": [
    "Uma vez que uma determinada biblioteca está instalada, podemos importá-la em nossos scripts Python da mesma forma que importamos módulos nativos do Python. Um exemplo de script que importa as bibliotecas `numpy` e `pandas`:\n",
    "\n",
    "```python\n",
    "import numpy as np\n",
    "import pandas as pd\n",
    "```\n",
    "\n",
    "Aqui estamos trazendo todas as funcionalidades das duas bibliotecas para o escopo do nosso script. A partir daí, podemos utilizar todas as funções e classes disponíveis nas bibliotecas `numpy` e `pandas`.\n",
    "\n",
    "```{admonition} Nota (apelido ou alias)\n",
    ":class: note\n",
    "Repare que estamos utilizando `as np` e `as pd` para criar um apelido (ou alias) para as bibliotecas `numpy` e `pandas`, respectivamente. O uso do alias é opcional e o alias em si quem escolhe é você. Porém, para estas 2 bibliotecas em específico (e algumas outras) é comum ver alias padrões adotados pela comunidade. Alias é uma convenção muito comum na comunidade Python, pois economiza tempo e evita digitar o nome completo da biblioteca toda vez que você for utilizá-la.\n",
    "\n",
    "Ao invés de usar, por exemplo, `pandas.DataFrame`, você pode usar `pd.DataFrame` chamando as funcionalidades da biblioteca pelo apelido ao invés do nome completo.\n",
    "```"
   ]
  },
  {
   "cell_type": "markdown",
   "metadata": {},
   "source": [
    "## Conclusão"
   ]
  },
  {
   "cell_type": "markdown",
   "metadata": {},
   "source": [
    "Neste capítulo você começou a entender um pouco sobre o vasto mundo de bibliotecas de terceiros disponíveis para Python. Vimos que existem bibliotecas para praticamente tudo que você imaginar, desde manipulação de dados, visualização de dados, desenvolvimento web, automação de tarefas, machine learning, desenvolvimento de jogos, e muito mais.\n",
    "\n",
    "Vimos ainda alguns conceitos como o PyPI, o `pip`, o que é *open-source*, e como instalar, desinstalar, atualizar e listar bibliotecas.\n",
    "\n",
    "Ao final, vimos como utilizar bibliotecas em nossos scripts Python, importando-as e utilizando-as em nossos projetos.\n",
    "\n",
    "Eu sei que já falei, e sim, vou repetir pra deixar isso bem claro. A ideia aqui não é ensinar cada uma das bibliotecas listadas, mas sim mostrar que elas existem e o básico para que você possa ir atrás delas e aprender a utilizá-las. Existem cursos inteiros sobre `pandas`, `tensorflow`, `django`, `selenium`, `pygame`, e por aí vai. Aqui é só o básico para você começar a se aventurar com bibliotecas externas."
   ]
  }
 ],
 "metadata": {
  "kernelspec": {
   "display_name": ".venv",
   "language": "python",
   "name": "python3"
  },
  "language_info": {
   "codemirror_mode": {
    "name": "ipython",
    "version": 3
   },
   "file_extension": ".py",
   "mimetype": "text/x-python",
   "name": "python",
   "nbconvert_exporter": "python",
   "pygments_lexer": "ipython3",
   "version": "3.12.2"
  }
 },
 "nbformat": 4,
 "nbformat_minor": 2
}
