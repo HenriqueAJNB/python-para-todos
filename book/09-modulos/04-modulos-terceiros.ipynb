{
 "cells": [
  {
   "cell_type": "markdown",
   "metadata": {},
   "source": [
    "# Bibliotecas de terceiros"
   ]
  },
  {
   "cell_type": "markdown",
   "metadata": {},
   "source": [
    "Eu vou frisar isso ao longo deste capítulo, e já falei algumas vezes ao longo dos capítulos anteriores: existe uma infinidade de módulos (bibliotecas) de terceiros que podem ser utilizados para facilitar a nossa vida como programadores e **a ideia aqui não é ensinar cada um deles individualmente**, mas sim mostrar que eles existem e o básico para que você possa ir atrás deles e aprender a utilizá-los.\n",
    "\n",
    "Antes de falar de bibliotecas, vamos alinhar alguns conceitos básicos."
   ]
  },
  {
   "cell_type": "markdown",
   "metadata": {},
   "source": [
    "## O que é ..."
   ]
  },
  {
   "cell_type": "markdown",
   "metadata": {},
   "source": [
    "### ... biblioteca?"
   ]
  },
  {
   "cell_type": "markdown",
   "metadata": {},
   "source": [
    "Na seção anterior vimos o conceito de módulo, um arquivo `.py` isolado com várias funcionalidades. Uma biblioteca é simplesmente um conjunto de módulos (vários arquivos `.py`) que alguém escreveu para resolver um problema específico, e que você pode reutilizar esse código em seu projeto. Isso economiza tempo e esforço, já que você não precisa reescrever funcionalidades que já estão prontas. Basta instalar e usar a biblioteca em seu projeto.\n",
    "\n",
    "```{admonition} Nota (sinônimos de biblioteca)\n",
    ":class: note\n",
    "É muito comum ver outras palavras que são sinônimas de bibliotecas. As vezes você pode ouvir também pacotes ou até as palavra em inglês *library* ou *framework*. Todos esses termos se referem a mesma coisa: um conjunto de módulos que você pode reutilizar em seu projeto.\n",
    "```"
   ]
  },
  {
   "cell_type": "markdown",
   "metadata": {},
   "source": [
    "### ... PyPI?"
   ]
  },
  {
   "cell_type": "markdown",
   "metadata": {},
   "source": [
    "O <a href=\"https://pypi.org/\" target=\"_blank\">PyPI</a>, abreviação de Python Package Index, é como uma grande loja online, mas em vez de oferecer produtos, ele oferece bibliotecas Python que outras pessoas criam para serem usadas em outros projetos. Essas bibliotecas são gratuitas e desenvolvidas pela comunidade e muitas delas facilitam a vida de quem está programando ao oferecer diversas funcionalidades prontas. Ao invés de criar tudo do zero, você pode usar as bibliotecas que outras pessoas já criaram.\n",
    "\n",
    "No exato momento que eu escrevo este capítulo em 01/10/2024, são:\n",
    "- 572.948 projetos\n",
    "- 6.127.605 lançamentos\n",
    "- 12.133.846 arquivos\n",
    "- 860.618 usuários\n",
    "\n",
    "Estamos falando de **mais de meio milhão de bibliotecas**! Ou seja, é uma quantidade absurda de bibliotecas disponíveis para você utilizar. Essa quantidade imensa de bibliotecas se dá por um motivo simples: literalmente qualquer pessoa pode criar uma biblioteca e disponibilizá-la no PyPI. Existem até bibliotecas que são criadas e mantidas por grandes empresas de tecnologia como Google, Meta (antigo Facebook), Microsoft, NVidia, etc.\n",
    "\n",
    "Se você optar por comprar algum curso, não se deixe enganar pelas frases *aprenda tudo sobre Python*, *curso completo de Python*, ou outras frases do gênero, acho que você já compreendeu **que isso é impossível**, certo? Python é uma linguagem extremamente vasta e em constante evolução. O que você pode fazer é aprender o básico e ir se aprofundando aos poucos, e uma das formas de fazer isso é aprendendo a utilizar bibliotecas de terceiros."
   ]
  },
  {
   "cell_type": "markdown",
   "metadata": {},
   "source": [
    "### ... `pip`?"
   ]
  },
  {
   "cell_type": "markdown",
   "metadata": {},
   "source": [
    "Ao longo deste capítulo vamos ver como instalar bibliotecas de terceiros, e a ferramenta oficial do Python para instalar bibliotecas é o `pip`, um acrônimo do inglês para <em><strong>p</strong>ackage <strong>i</strong>nstaller for <strong>p</strong>ython</em>, que ,traduzido para português, significa *instalador de pacotes do Python*.\n",
    "\n",
    "O `pip` é um gerenciador de pacotes que vem instalado por padrão quando você instala o Python. Com ele você pode instalar, atualizar e remover bibliotecas Python. O `pip` é uma ferramenta de linha de comando, ou seja, você precisa abrir o terminal para utilizá-lo. Não se preocupe, pois vamos aprender a utilizá-lo. Quero só que você entenda o que é por agora."
   ]
  },
  {
   "cell_type": "markdown",
   "metadata": {},
   "source": [
    "### ... open-source?"
   ]
  },
  {
   "cell_type": "markdown",
   "metadata": {},
   "source": [
    "*Open-source* é uma expressão em inglês muito comum na área de tecnologia e programação, que traduzida, siginifica *fonte aberta*. Significa que o código-fonte (código usado para construir um programa) de um software está disponível para qualquer pessoa ver, modificar e compartilhar. O código-fonte são as instruções que os programadores escrevem para fazer o software funcionar. Quando um software é *open-source*, qualquer pessoa pode contribuir para melhorá-lo, corrigir erros ou adaptá-lo para suas próprias necessidades. Além disso, geralmente é gratuito, e as melhorias feitas por outras pessoas podem ser compartilhadas com todos.\n",
    "\n",
    "Em resumo: *open-source* é como um projeto colaborativo, onde o código é aberto e acessível, permitindo que qualquer um participe ou use o software como quiser. Todas as bibliotecas no PyPI são *open-source*. Você pode ver e alterar o código-fonte de qualquer biblioteca que você instalar se você quiser."
   ]
  },
  {
   "cell_type": "markdown",
   "metadata": {},
   "source": [
    "## Principais bibliotecas"
   ]
  },
  {
   "cell_type": "markdown",
   "metadata": {},
   "source": [
    "Novamente, não é possível listar todas as bibliotecas disponíveis no PyPI (são mais de meio milhão de bibliotecas disponíveis), mas vou listar algumas bastante populares divididas por categorias para você entender a utilidade de cada uma delas. Abaixo as informações estarão disponíveis da seguinte forma:\n",
    "\n",
    "### Categoria (para que serve a biblioteca)\n",
    "\n",
    "- nome-da-biblioteca: descrição da biblioteca (o que ela faz)\n",
    "\n",
    "```{admonition} Nota (termos desconhecidos)\n",
    ":class: note\n",
    "A lista abaixo apresentará alguns termos que você talvez não conheça (como requisições HTTP, processamento de linguagem natural, machine learning, APIs) principalmente se você está começando agora. O que recomendo é pesquisar rapidamente o que significam os termos que você não compreendeu para que você possa entender de forma bem superficial a utilidade de cada biblioteca. Mas não se apegue a isso mesmo se você não comprrendeu exatamente o que é o termo. O objetivo é mostrar que existem bibliotecas para praticamente tudo que você imaginar.\n",
    "```\n",
    "\n",
    "```{admonition} Nota (profundidade e complexidade)\n",
    ":class: note\n",
    "Não se preocupe em entender profundamente o que cada biblioteca faz. Novamente, o objetivo é mostrar que existem bibliotecas para praticamente tudo que você imaginar. Se você se interessar por alguma delas, você pode pesquisar mais a fundo. Existem bibliotecas que são tão complexas que há livros inteiros e cursos de centenas de horas dedicados para aprender a utilizá-las.\n",
    "```"
   ]
  },
  {
   "cell_type": "markdown",
   "metadata": {},
   "source": [
    "### Manipulação de dados"
   ]
  },
  {
   "cell_type": "markdown",
   "metadata": {},
   "source": [
    "- pandas: usado para análise e manipulação de dados em tabelas.\n",
    "- numpy: ideal para trabalhar com arrays e realizar cálculos matemáticos complexos.\n",
    "- polars: alternativa ao pandas e ao numpy, mais rápida e eficiente.\n",
    "- scipy: cálculos científicos e técnicos, incluindo estatísticas, otimização e integração numérica.\n",
    "- statsmodels: biblioteca para modelagem estatística avançada."
   ]
  },
  {
   "cell_type": "markdown",
   "metadata": {},
   "source": [
    "### Visualização de dados"
   ]
  },
  {
   "cell_type": "markdown",
   "metadata": {},
   "source": [
    "- matplotlib: usado para criar gráficos e visualizações de dados.\n",
    "- seaborn: baseado no matplotlib, é mais fácil de usar e cria gráficos mais bonitos.\n",
    "- plotly: cria gráficos interativos e visualizações de dados.\n",
    "- altair: biblioteca declarativa para criação de gráficos interativos.\n",
    "- bokeh: cria gráficos interativos e visualizações de dados."
   ]
  },
  {
   "cell_type": "markdown",
   "metadata": {},
   "source": [
    "### Desenvolvimento web"
   ]
  },
  {
   "cell_type": "markdown",
   "metadata": {},
   "source": [
    "- flask: framework web minimalista para criar aplicações web.\n",
    "- django: framework web completo para criar aplicações web.\n",
    "- fastapi: framework web moderno para criar APIs web."
   ]
  },
  {
   "cell_type": "markdown",
   "metadata": {},
   "source": [
    "### Automação de tarefas"
   ]
  },
  {
   "cell_type": "markdown",
   "metadata": {},
   "source": [
    "- requests: faz requisições HTTP em Python.\n",
    "- selenium: automatiza ações em navegadores web.\n",
    "- pyautogui: automatiza ações no teclado e no mouse.\n",
    "- beautifulsoup4: extrai dados de páginas web (web scraping).\n",
    "- scrapy: framework para extração de dados de páginas web (web scraping)."
   ]
  },
  {
   "cell_type": "markdown",
   "metadata": {},
   "source": [
    "### Machine learning e inteligência artificial"
   ]
  },
  {
   "cell_type": "markdown",
   "metadata": {},
   "source": [
    "- scikit-learn: biblioteca de machine learning para Python.\n",
    "- tensorflow: biblioteca de machine learning e deep learning da Google.\n",
    "- keras: biblioteca de deep learning menos complexa que o tensorflow.\n",
    "- nltk: biblioteca para processamento de linguagem natural.\n",
    "- spacynlp: outra biblioteca para processamento de linguagem natural.\n",
    "- opencv: biblioteca com algoritmos de visão computacional."
   ]
  },
  {
   "cell_type": "markdown",
   "metadata": {},
   "source": [
    "### Desenvolvimento de jogos"
   ]
  },
  {
   "cell_type": "markdown",
   "metadata": {},
   "source": [
    "- pygame:  foco criar jogos 2D em Python, com suporte para gráficos, som e entrada do usuário.\n",
    "- arcade:  foco em criar jogos 2D com uma API fácil de usar e foco em simplicidade.\n",
    "- pyglet:  voltada para jogos e multimídia que permite criar aplicativos com gráficos e som, sem dependências externas.\n",
    "- cocos2d: desenvolvimento de jogos 2D, com suporte para sprites, efeitos e física.\n",
    "- panda3d: motor de jogo 3D poderoso e flexível, adequado para a criação de jogos e simulações complexas."
   ]
  },
  {
   "cell_type": "markdown",
   "metadata": {},
   "source": [
    "### Outras"
   ]
  },
  {
   "cell_type": "markdown",
   "metadata": {},
   "source": [
    "- openpyxl: manipula planilhas Excel.\n",
    "- pillow: manipula imagens.\n",
    "- pyqt5: cria interfaces gráficas.\n",
    "- pyinstaller: transforma programas Python em executáveis.\n",
    "- pytest: framework para testes em Python.\n",
    "- poetry: gerenciador de dependências de projetos Python.\n",
    "\n",
    "... e a lista não pára por aí."
   ]
  }
 ],
 "metadata": {
  "language_info": {
   "name": "python"
  }
 },
 "nbformat": 4,
 "nbformat_minor": 2
}
